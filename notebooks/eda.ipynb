{
 "cells": [
  {
   "cell_type": "code",
   "execution_count": 2,
   "metadata": {},
   "outputs": [],
   "source": [
    "import awswrangler as wr\n",
    "import pandas as pd"
   ]
  },
  {
   "cell_type": "code",
   "execution_count": 113,
   "metadata": {},
   "outputs": [],
   "source": [
    "pd.set_option('display.max_colwidth', 500)"
   ]
  },
  {
   "cell_type": "markdown",
   "metadata": {},
   "source": [
    "## Carga de datos"
   ]
  },
  {
   "cell_type": "code",
   "execution_count": 3,
   "metadata": {},
   "outputs": [],
   "source": [
    "df_hogar_mania = wr.s3.read_parquet(path='s3://raw-recipe-data-bucket/hogar_mania')\n",
    "df_antena3 = wr.s3.read_parquet(path='s3://raw-recipe-data-bucket/antena3')\n",
    "df_saber_vivir = wr.s3.read_parquet(path='s3://raw-recipe-data-bucket/saber_vivir')\n",
    "df_el_mundo = wr.s3.read_parquet(path='s3://raw-recipe-data-bucket/el_mundo')"
   ]
  },
  {
   "cell_type": "code",
   "execution_count": 4,
   "metadata": {},
   "outputs": [
    {
     "name": "stdout",
     "output_type": "stream",
     "text": [
      "Total recetas Hogar Mania: 7464\n",
      "Total recetas Antena3: 2022\n",
      "Total recetas Saber Vivir: 461\n",
      "Total recetas El Mundo: 388\n",
      "----------------\n",
      "Total recetas obtenidas: 10335\n"
     ]
    }
   ],
   "source": [
    "print(f\"Total recetas Hogar Mania: {df_hogar_mania.shape[0]}\")\n",
    "print(f\"Total recetas Antena3: {df_antena3.shape[0]}\")\n",
    "print(f\"Total recetas Saber Vivir: {df_saber_vivir.shape[0]}\")\n",
    "print(f\"Total recetas El Mundo: {df_el_mundo.shape[0]}\")\n",
    "print(\"----------------\")\n",
    "print(f\"Total recetas obtenidas: {df_hogar_mania.shape[0] + df_antena3.shape[0] + df_saber_vivir.shape[0] + df_el_mundo.shape[0]}\")"
   ]
  },
  {
   "cell_type": "code",
   "execution_count": 5,
   "metadata": {},
   "outputs": [
    {
     "data": {
      "text/plain": [
       "Index(['titulo', 'categoria', 'ingredientes', 'elaboracion', 'link'], dtype='object')"
      ]
     },
     "execution_count": 5,
     "metadata": {},
     "output_type": "execute_result"
    }
   ],
   "source": [
    "df_hogar_mania.columns"
   ]
  },
  {
   "cell_type": "code",
   "execution_count": 6,
   "metadata": {},
   "outputs": [
    {
     "name": "stdout",
     "output_type": "stream",
     "text": [
      "<class 'pandas.core.frame.DataFrame'>\n",
      "RangeIndex: 7464 entries, 0 to 7463\n",
      "Data columns (total 5 columns):\n",
      " #   Column        Non-Null Count  Dtype \n",
      "---  ------        --------------  ----- \n",
      " 0   titulo        7464 non-null   string\n",
      " 1   categoria     7464 non-null   string\n",
      " 2   ingredientes  7228 non-null   object\n",
      " 3   elaboracion   7464 non-null   string\n",
      " 4   link          7464 non-null   string\n",
      "dtypes: object(1), string(4)\n",
      "memory usage: 291.7+ KB\n"
     ]
    }
   ],
   "source": [
    "df_hogar_mania.info()"
   ]
  },
  {
   "cell_type": "markdown",
   "metadata": {},
   "source": [
    "### Análisis"
   ]
  },
  {
   "cell_type": "markdown",
   "metadata": {},
   "source": [
    "### Hogar Mania"
   ]
  },
  {
   "cell_type": "code",
   "execution_count": 10,
   "metadata": {},
   "outputs": [
    {
     "data": {
      "text/html": [
       "<div>\n",
       "<style scoped>\n",
       "    .dataframe tbody tr th:only-of-type {\n",
       "        vertical-align: middle;\n",
       "    }\n",
       "\n",
       "    .dataframe tbody tr th {\n",
       "        vertical-align: top;\n",
       "    }\n",
       "\n",
       "    .dataframe thead th {\n",
       "        text-align: right;\n",
       "    }\n",
       "</style>\n",
       "<table border=\"1\" class=\"dataframe\">\n",
       "  <thead>\n",
       "    <tr style=\"text-align: right;\">\n",
       "      <th></th>\n",
       "      <th>titulo</th>\n",
       "      <th>categoria</th>\n",
       "      <th>ingredientes</th>\n",
       "      <th>elaboracion</th>\n",
       "      <th>link</th>\n",
       "    </tr>\n",
       "  </thead>\n",
       "  <tbody>\n",
       "    <tr>\n",
       "      <th>0</th>\n",
       "      <td>Buñuelos de viento fáciles, la receta tradicio...</td>\n",
       "      <td>postres</td>\n",
       "      <td>[125 gr de harina, 30 gr de mantequilla, 1/4 l...</td>\n",
       "      <td>Otoño no es solo época de calabazas y castañas...</td>\n",
       "      <td>https://www.hogarmania.com//cocina/recetas/pos...</td>\n",
       "    </tr>\n",
       "    <tr>\n",
       "      <th>1</th>\n",
       "      <td>Corona de hojaldre de Navidad</td>\n",
       "      <td>postres</td>\n",
       "      <td>[2 láminas de hojaldre rectangular , 150 g de ...</td>\n",
       "      <td>Los polvorones, los turrones, los mazapanes o ...</td>\n",
       "      <td>https://www.hogarmania.com//cocina/recetas/pos...</td>\n",
       "    </tr>\n",
       "    <tr>\n",
       "      <th>2</th>\n",
       "      <td>Cafés de Navidad: Gingerbread Latte y Pumpkin ...</td>\n",
       "      <td>postres</td>\n",
       "      <td>[2 cucharadas de azúcar moreno suave, 1/2 cuch...</td>\n",
       "      <td>La temporada de invierno, junto a la época nav...</td>\n",
       "      <td>https://www.hogarmania.com//cocina/recetas/pos...</td>\n",
       "    </tr>\n",
       "    <tr>\n",
       "      <th>3</th>\n",
       "      <td>12 ideas para rellenar el roscón de Reyes</td>\n",
       "      <td>postres</td>\n",
       "      <td>None</td>\n",
       "      <td>El roscón de Reyes puede comerse solo, aunque ...</td>\n",
       "      <td>https://www.hogarmania.com//cocina/recetas/pos...</td>\n",
       "    </tr>\n",
       "    <tr>\n",
       "      <th>4</th>\n",
       "      <td>Mazapanes de Navidad</td>\n",
       "      <td>postres</td>\n",
       "      <td>[300 gr. de almendra molida , 370 gr. de leche...</td>\n",
       "      <td>Mezcla en un bol la almendra molida con la lec...</td>\n",
       "      <td>https://www.hogarmania.com//cocina/recetas/pos...</td>\n",
       "    </tr>\n",
       "  </tbody>\n",
       "</table>\n",
       "</div>"
      ],
      "text/plain": [
       "                                              titulo categoria  \\\n",
       "0  Buñuelos de viento fáciles, la receta tradicio...   postres   \n",
       "1                      Corona de hojaldre de Navidad   postres   \n",
       "2  Cafés de Navidad: Gingerbread Latte y Pumpkin ...   postres   \n",
       "3          12 ideas para rellenar el roscón de Reyes   postres   \n",
       "4                               Mazapanes de Navidad   postres   \n",
       "\n",
       "                                        ingredientes  \\\n",
       "0  [125 gr de harina, 30 gr de mantequilla, 1/4 l...   \n",
       "1  [2 láminas de hojaldre rectangular , 150 g de ...   \n",
       "2  [2 cucharadas de azúcar moreno suave, 1/2 cuch...   \n",
       "3                                               None   \n",
       "4  [300 gr. de almendra molida , 370 gr. de leche...   \n",
       "\n",
       "                                         elaboracion  \\\n",
       "0  Otoño no es solo época de calabazas y castañas...   \n",
       "1  Los polvorones, los turrones, los mazapanes o ...   \n",
       "2  La temporada de invierno, junto a la época nav...   \n",
       "3  El roscón de Reyes puede comerse solo, aunque ...   \n",
       "4  Mezcla en un bol la almendra molida con la lec...   \n",
       "\n",
       "                                                link  \n",
       "0  https://www.hogarmania.com//cocina/recetas/pos...  \n",
       "1  https://www.hogarmania.com//cocina/recetas/pos...  \n",
       "2  https://www.hogarmania.com//cocina/recetas/pos...  \n",
       "3  https://www.hogarmania.com//cocina/recetas/pos...  \n",
       "4  https://www.hogarmania.com//cocina/recetas/pos...  "
      ]
     },
     "execution_count": 10,
     "metadata": {},
     "output_type": "execute_result"
    }
   ],
   "source": [
    "df_hogar_mania.head(5)"
   ]
  },
  {
   "cell_type": "code",
   "execution_count": 13,
   "metadata": {},
   "outputs": [
    {
     "data": {
      "text/plain": [
       "titulo            0\n",
       "categoria         0\n",
       "ingredientes    236\n",
       "elaboracion       0\n",
       "link              0\n",
       "dtype: int64"
      ]
     },
     "execution_count": 13,
     "metadata": {},
     "output_type": "execute_result"
    }
   ],
   "source": [
    "df_hogar_mania.isna().sum()"
   ]
  },
  {
   "cell_type": "code",
   "execution_count": 143,
   "metadata": {},
   "outputs": [
    {
     "data": {
      "text/html": [
       "<div>\n",
       "<style scoped>\n",
       "    .dataframe tbody tr th:only-of-type {\n",
       "        vertical-align: middle;\n",
       "    }\n",
       "\n",
       "    .dataframe tbody tr th {\n",
       "        vertical-align: top;\n",
       "    }\n",
       "\n",
       "    .dataframe thead th {\n",
       "        text-align: right;\n",
       "    }\n",
       "</style>\n",
       "<table border=\"1\" class=\"dataframe\">\n",
       "  <thead>\n",
       "    <tr style=\"text-align: right;\">\n",
       "      <th></th>\n",
       "      <th>titulo</th>\n",
       "      <th>categoria</th>\n",
       "      <th>ingredientes</th>\n",
       "      <th>elaboracion</th>\n",
       "      <th>link</th>\n",
       "      <th>total_ingredientes</th>\n",
       "    </tr>\n",
       "  </thead>\n",
       "  <tbody>\n",
       "  </tbody>\n",
       "</table>\n",
       "</div>"
      ],
      "text/plain": [
       "Empty DataFrame\n",
       "Columns: [titulo, categoria, ingredientes, elaboracion, link, total_ingredientes]\n",
       "Index: []"
      ]
     },
     "execution_count": 143,
     "metadata": {},
     "output_type": "execute_result"
    }
   ],
   "source": [
    "df_hogar_mania[pd.isnull(df_hogar_mania).any(axis=1)]"
   ]
  },
  {
   "cell_type": "code",
   "execution_count": 23,
   "metadata": {},
   "outputs": [
    {
     "data": {
      "text/plain": [
       "categoria\n",
       "postres                 78\n",
       "ensaladas-verduras      49\n",
       "aperitivos              41\n",
       "pastas-pizzas           12\n",
       "sopas-cremas            12\n",
       "bebidas                  9\n",
       "pescados-mariscos        8\n",
       "carnes                   6\n",
       "huevos                   5\n",
       "arroces-cereales         4\n",
       "desayunos                4\n",
       "salsas                   3\n",
       "cocina-internacional     2\n",
       "legumbres                1\n",
       "setas-hongos             1\n",
       "cocteles                 1\n",
       "Name: count, dtype: Int64"
      ]
     },
     "execution_count": 23,
     "metadata": {},
     "output_type": "execute_result"
    }
   ],
   "source": [
    "df_hogar_mania[pd.isnull(df_hogar_mania).any(axis=1)]['categoria'].value_counts()"
   ]
  },
  {
   "cell_type": "code",
   "execution_count": 44,
   "metadata": {},
   "outputs": [],
   "source": [
    "df_hogar_mania.dropna(inplace=True)"
   ]
  },
  {
   "cell_type": "code",
   "execution_count": 8,
   "metadata": {},
   "outputs": [
    {
     "data": {
      "text/plain": [
       "categoria\n",
       "ensaladas-verduras      1457\n",
       "postres                 1319\n",
       "carnes                  1293\n",
       "pescados-mariscos       1121\n",
       "aperitivos               396\n",
       "sopas-cremas             378\n",
       "pastas-pizzas            375\n",
       "arroces-cereales         333\n",
       "legumbres                279\n",
       "huevos                   145\n",
       "salsas                   106\n",
       "recetas-pan               72\n",
       "cocteles                  48\n",
       "bebidas                   47\n",
       "setas-hongos              37\n",
       "cocina-internacional      34\n",
       "desayunos                 24\n",
       "Name: count, dtype: Int64"
      ]
     },
     "execution_count": 8,
     "metadata": {},
     "output_type": "execute_result"
    }
   ],
   "source": [
    "df_hogar_mania[\"categoria\"].value_counts()"
   ]
  },
  {
   "cell_type": "code",
   "execution_count": 61,
   "metadata": {},
   "outputs": [
    {
     "data": {
      "text/plain": [
       "total_ingredientes\n",
       "11    765\n",
       "12    740\n",
       "10    650\n",
       "9     605\n",
       "13    597\n",
       "7     534\n",
       "14    534\n",
       "8     517\n",
       "6     404\n",
       "15    356\n",
       "Name: count, dtype: int64"
      ]
     },
     "execution_count": 61,
     "metadata": {},
     "output_type": "execute_result"
    }
   ],
   "source": [
    "df_hogar_mania['total_ingredientes'] = df_hogar_mania['ingredientes'].apply(len)\n",
    "df_hogar_mania['total_ingredientes'].value_counts()[:10]"
   ]
  },
  {
   "cell_type": "code",
   "execution_count": 63,
   "metadata": {},
   "outputs": [
    {
     "data": {
      "text/plain": [
       "count    7228.000000\n",
       "mean       11.054787\n",
       "std         4.303523\n",
       "min         0.000000\n",
       "25%         8.000000\n",
       "50%        11.000000\n",
       "75%        14.000000\n",
       "max        67.000000\n",
       "Name: total_ingredientes, dtype: float64"
      ]
     },
     "execution_count": 63,
     "metadata": {},
     "output_type": "execute_result"
    }
   ],
   "source": [
    "df_hogar_mania['total_ingredientes'].describe()"
   ]
  },
  {
   "cell_type": "code",
   "execution_count": 160,
   "metadata": {},
   "outputs": [
    {
     "data": {
      "text/html": [
       "<div>\n",
       "<style scoped>\n",
       "    .dataframe tbody tr th:only-of-type {\n",
       "        vertical-align: middle;\n",
       "    }\n",
       "\n",
       "    .dataframe tbody tr th {\n",
       "        vertical-align: top;\n",
       "    }\n",
       "\n",
       "    .dataframe thead th {\n",
       "        text-align: right;\n",
       "    }\n",
       "</style>\n",
       "<table border=\"1\" class=\"dataframe\">\n",
       "  <thead>\n",
       "    <tr style=\"text-align: right;\">\n",
       "      <th></th>\n",
       "      <th>titulo</th>\n",
       "      <th>categoria</th>\n",
       "      <th>ingredientes</th>\n",
       "      <th>elaboracion</th>\n",
       "      <th>link</th>\n",
       "      <th>total_ingredientes</th>\n",
       "    </tr>\n",
       "  </thead>\n",
       "  <tbody>\n",
       "    <tr>\n",
       "      <th>110</th>\n",
       "      <td>Flan de mascarpone y leche condensada</td>\n",
       "      <td>postres</td>\n",
       "      <td>[]</td>\n",
       "      <td>Pon el azúcar en una sartén, agrega unas gotas de zumo de limón y ponlo a calentar hasta que conseguir un caramelo. Cuando empiece a tostarse, remuévelo con una cuchara. Viértelo sobre los moldes y espárcelo bien.\n",
       "Casca los huevos en un bol grande y bátelos con la batidora eléctrica de varillas. Agrega la leche entera, la leche condensada y el queso mascarpone. Sigue batiendo hasta conseguir una crema homogénea.\n",
       "Reparte la mezcla en los moldes especiales para flan. Pon un poco de agua en un ...</td>\n",
       "      <td>https://www.hogarmania.com//cocina/recetas/postres/flan-mascarpone-leche-condensada-24231.html</td>\n",
       "      <td>0</td>\n",
       "    </tr>\n",
       "    <tr>\n",
       "      <th>713</th>\n",
       "      <td>Velos de azafrán con macarrón y helado de té</td>\n",
       "      <td>postres</td>\n",
       "      <td>[]</td>\n",
       "      <td>Macarrón de almendra:\n",
       "500gr de T.P.T90gr Clara de huevo445gr de Merengue italiano\n",
       "T.P.T :\n",
       "250 gr de Azúcar glace250 gr Almendra en polvo\n",
       "Merengue italiano:\n",
       "250gr de Azúcar en grano100gr de Agua95 gr de Clara de huevo\n",
       "Mousse de naranja (Relleno del macarrón): \n",
       "30gr de mascarpone.15gr de mermelada de naranja 90gr de nata1 unid de Gelatina\n",
       "Para la Gelatina de pistilos de azafrán:\n",
       "250gr de agua0,3gr de hebras de azafrán35gr de azúcar20gr de zumo de limón0,5gr de Agar-Agar\n",
       "Para el helado de té Ea...</td>\n",
       "      <td>https://www.hogarmania.com//cocina/recetas/postres/velos-azafran-macarron-helado-42289.html</td>\n",
       "      <td>0</td>\n",
       "    </tr>\n",
       "    <tr>\n",
       "      <th>891</th>\n",
       "      <td>Crepes de chocolate y plátano</td>\n",
       "      <td>postres</td>\n",
       "      <td>[]</td>\n",
       "      <td>Coloca los huevos, la harina, la leche, la mitad de azúcar, un pizca de sal, el aceite y el aroma de vainilla en un vaso batidor. Tritúralos con una batidora hasta que queden perfectamente integrados.\n",
       "Calienta una sartén con una nuez de mantequilla. Vierte una porción de masa, extiéndela bien por toda la sartén y deja que cuaje. Dale la vuelta y deja que cuaje por el otro lado. Repite el proceso hasta terminar toda la masa. Saca los crepes a un plato y resérvalos (el primer crepe siempre se ...</td>\n",
       "      <td>https://www.hogarmania.com//cocina/recetas/postres/crepes-chocolate-platano-26540.html</td>\n",
       "      <td>0</td>\n",
       "    </tr>\n",
       "    <tr>\n",
       "      <th>1354</th>\n",
       "      <td>Gazpachuelo tibio de carabineros y rape con almendras</td>\n",
       "      <td>aperitivos</td>\n",
       "      <td>[]</td>\n",
       "      <td>Para el caldo:\n",
       "Cuece todos los ingredientes a fuego lento, espumando en su debido momento, da el punto de sal y cuela sin triturar, tras un cuarto de hora de cocción. \n",
       "Para el gazpachuelo: \n",
       "Dora el puerro picado en el aceite a fuego suave, añade la patata picada finamente y el caldo de pescado, deja que hierva lentamente añadiendo a mitad de la cocción los calabacines (la cocción completa dura unos 20 minutos). En un bol aparte, coloca la mahonesa y añade la preparación anterior poco a poco,...</td>\n",
       "      <td>https://www.hogarmania.com//cocina/recetas/aperitivos/gazpachuelo-tibio-carabineros-rape-almendras-10950.html</td>\n",
       "      <td>0</td>\n",
       "    </tr>\n",
       "    <tr>\n",
       "      <th>1433</th>\n",
       "      <td>Higos a la plancha con riñones, queso del Roncal, tocino crujiente y vinagreta de cacahuetes</td>\n",
       "      <td>aperitivos</td>\n",
       "      <td>[]</td>\n",
       "      <td>Para los riñones: \n",
       "Lamina la cebolla y pica el ajo. Pocha ambos con el aceite a fuego muy suave. Cuando esté blanda la cebolla, y sin tomar mucho color, añade el jerez, el vinagre y el caldo y deja reducir a la mitad de su volumen. Da el punto de sal. Lamina los riñones, sazónalos y pásalos por una plancha caliente con una cucharada de aceite en una sartén, vuelta y vuelta, y reserva al calor.\n",
       "Para los higos a la plancha:\n",
       "Corta los higos en dos mitades. Pon una plancha al fuego con aceite y ...</td>\n",
       "      <td>https://www.hogarmania.com//cocina/recetas/aperitivos/higos-plancha-rinones-queso-roncal-11282.html</td>\n",
       "      <td>0</td>\n",
       "    </tr>\n",
       "  </tbody>\n",
       "</table>\n",
       "</div>"
      ],
      "text/plain": [
       "                                                                                            titulo  \\\n",
       "110                                                          Flan de mascarpone y leche condensada   \n",
       "713                                                   Velos de azafrán con macarrón y helado de té   \n",
       "891                                                                  Crepes de chocolate y plátano   \n",
       "1354                                         Gazpachuelo tibio de carabineros y rape con almendras   \n",
       "1433  Higos a la plancha con riñones, queso del Roncal, tocino crujiente y vinagreta de cacahuetes   \n",
       "\n",
       "       categoria ingredientes  \\\n",
       "110      postres           []   \n",
       "713      postres           []   \n",
       "891      postres           []   \n",
       "1354  aperitivos           []   \n",
       "1433  aperitivos           []   \n",
       "\n",
       "                                                                                                                                                                                                                                                                                                                                                                                                                                                                                                              elaboracion  \\\n",
       "110   Pon el azúcar en una sartén, agrega unas gotas de zumo de limón y ponlo a calentar hasta que conseguir un caramelo. Cuando empiece a tostarse, remuévelo con una cuchara. Viértelo sobre los moldes y espárcelo bien.\n",
       "Casca los huevos en un bol grande y bátelos con la batidora eléctrica de varillas. Agrega la leche entera, la leche condensada y el queso mascarpone. Sigue batiendo hasta conseguir una crema homogénea.\n",
       "Reparte la mezcla en los moldes especiales para flan. Pon un poco de agua en un ...   \n",
       "713   Macarrón de almendra:\n",
       "500gr de T.P.T90gr Clara de huevo445gr de Merengue italiano\n",
       "T.P.T :\n",
       "250 gr de Azúcar glace250 gr Almendra en polvo\n",
       "Merengue italiano:\n",
       "250gr de Azúcar en grano100gr de Agua95 gr de Clara de huevo\n",
       "Mousse de naranja (Relleno del macarrón): \n",
       "30gr de mascarpone.15gr de mermelada de naranja 90gr de nata1 unid de Gelatina\n",
       "Para la Gelatina de pistilos de azafrán:\n",
       "250gr de agua0,3gr de hebras de azafrán35gr de azúcar20gr de zumo de limón0,5gr de Agar-Agar\n",
       "Para el helado de té Ea...   \n",
       "891   Coloca los huevos, la harina, la leche, la mitad de azúcar, un pizca de sal, el aceite y el aroma de vainilla en un vaso batidor. Tritúralos con una batidora hasta que queden perfectamente integrados.\n",
       "Calienta una sartén con una nuez de mantequilla. Vierte una porción de masa, extiéndela bien por toda la sartén y deja que cuaje. Dale la vuelta y deja que cuaje por el otro lado. Repite el proceso hasta terminar toda la masa. Saca los crepes a un plato y resérvalos (el primer crepe siempre se ...   \n",
       "1354  Para el caldo:\n",
       "Cuece todos los ingredientes a fuego lento, espumando en su debido momento, da el punto de sal y cuela sin triturar, tras un cuarto de hora de cocción. \n",
       "Para el gazpachuelo: \n",
       "Dora el puerro picado en el aceite a fuego suave, añade la patata picada finamente y el caldo de pescado, deja que hierva lentamente añadiendo a mitad de la cocción los calabacines (la cocción completa dura unos 20 minutos). En un bol aparte, coloca la mahonesa y añade la preparación anterior poco a poco,...   \n",
       "1433  Para los riñones: \n",
       "Lamina la cebolla y pica el ajo. Pocha ambos con el aceite a fuego muy suave. Cuando esté blanda la cebolla, y sin tomar mucho color, añade el jerez, el vinagre y el caldo y deja reducir a la mitad de su volumen. Da el punto de sal. Lamina los riñones, sazónalos y pásalos por una plancha caliente con una cucharada de aceite en una sartén, vuelta y vuelta, y reserva al calor.\n",
       "Para los higos a la plancha:\n",
       "Corta los higos en dos mitades. Pon una plancha al fuego con aceite y ...   \n",
       "\n",
       "                                                                                                               link  \\\n",
       "110                  https://www.hogarmania.com//cocina/recetas/postres/flan-mascarpone-leche-condensada-24231.html   \n",
       "713                     https://www.hogarmania.com//cocina/recetas/postres/velos-azafran-macarron-helado-42289.html   \n",
       "891                          https://www.hogarmania.com//cocina/recetas/postres/crepes-chocolate-platano-26540.html   \n",
       "1354  https://www.hogarmania.com//cocina/recetas/aperitivos/gazpachuelo-tibio-carabineros-rape-almendras-10950.html   \n",
       "1433            https://www.hogarmania.com//cocina/recetas/aperitivos/higos-plancha-rinones-queso-roncal-11282.html   \n",
       "\n",
       "      total_ingredientes  \n",
       "110                    0  \n",
       "713                    0  \n",
       "891                    0  \n",
       "1354                   0  \n",
       "1433                   0  "
      ]
     },
     "execution_count": 160,
     "metadata": {},
     "output_type": "execute_result"
    }
   ],
   "source": [
    "df_hogar_mania[df_hogar_mania['total_ingredientes'] == 0].head(5)"
   ]
  },
  {
   "cell_type": "code",
   "execution_count": 163,
   "metadata": {},
   "outputs": [
    {
     "data": {
      "text/plain": [
       "18"
      ]
     },
     "execution_count": 163,
     "metadata": {},
     "output_type": "execute_result"
    }
   ],
   "source": [
    "df_hogar_mania[df_hogar_mania['total_ingredientes'] == 0].shape[0]"
   ]
  },
  {
   "cell_type": "code",
   "execution_count": 200,
   "metadata": {},
   "outputs": [
    {
     "data": {
      "text/plain": [
       "154"
      ]
     },
     "execution_count": 200,
     "metadata": {},
     "output_type": "execute_result"
    }
   ],
   "source": [
    "df_hogar_mania[df_hogar_mania.duplicated(subset=['link'])].shape[0]"
   ]
  },
  {
   "cell_type": "code",
   "execution_count": 212,
   "metadata": {},
   "outputs": [],
   "source": [
    "example_duplicated_links = df_hogar_mania[df_hogar_mania.duplicated(subset=['link'])][:3]['link']"
   ]
  },
  {
   "cell_type": "code",
   "execution_count": 213,
   "metadata": {},
   "outputs": [
    {
     "data": {
      "text/html": [
       "<div>\n",
       "<style scoped>\n",
       "    .dataframe tbody tr th:only-of-type {\n",
       "        vertical-align: middle;\n",
       "    }\n",
       "\n",
       "    .dataframe tbody tr th {\n",
       "        vertical-align: top;\n",
       "    }\n",
       "\n",
       "    .dataframe thead th {\n",
       "        text-align: right;\n",
       "    }\n",
       "</style>\n",
       "<table border=\"1\" class=\"dataframe\">\n",
       "  <thead>\n",
       "    <tr style=\"text-align: right;\">\n",
       "      <th></th>\n",
       "      <th>titulo</th>\n",
       "      <th>categoria</th>\n",
       "    </tr>\n",
       "  </thead>\n",
       "  <tbody>\n",
       "    <tr>\n",
       "      <th>186</th>\n",
       "      <td>Magdalenas de chocolate y leche condensada</td>\n",
       "      <td>postres</td>\n",
       "    </tr>\n",
       "    <tr>\n",
       "      <th>209</th>\n",
       "      <td>Cómo hacer croissants o cruasanes caseros</td>\n",
       "      <td>postres</td>\n",
       "    </tr>\n",
       "    <tr>\n",
       "      <th>250</th>\n",
       "      <td>Churros con chocolate a la taza</td>\n",
       "      <td>postres</td>\n",
       "    </tr>\n",
       "    <tr>\n",
       "      <th>7089</th>\n",
       "      <td>Magdalenas de chocolate y leche condensada</td>\n",
       "      <td>desayunos</td>\n",
       "    </tr>\n",
       "    <tr>\n",
       "      <th>7090</th>\n",
       "      <td>Cómo hacer croissants o cruasanes caseros</td>\n",
       "      <td>desayunos</td>\n",
       "    </tr>\n",
       "    <tr>\n",
       "      <th>7091</th>\n",
       "      <td>Churros con chocolate a la taza</td>\n",
       "      <td>desayunos</td>\n",
       "    </tr>\n",
       "  </tbody>\n",
       "</table>\n",
       "</div>"
      ],
      "text/plain": [
       "                                          titulo  categoria\n",
       "186   Magdalenas de chocolate y leche condensada    postres\n",
       "209    Cómo hacer croissants o cruasanes caseros    postres\n",
       "250              Churros con chocolate a la taza    postres\n",
       "7089  Magdalenas de chocolate y leche condensada  desayunos\n",
       "7090   Cómo hacer croissants o cruasanes caseros  desayunos\n",
       "7091             Churros con chocolate a la taza  desayunos"
      ]
     },
     "execution_count": 213,
     "metadata": {},
     "output_type": "execute_result"
    }
   ],
   "source": [
    "df_hogar_mania[df_hogar_mania['link'].isin(example_duplicated_links)][['titulo','categoria']]"
   ]
  },
  {
   "cell_type": "code",
   "execution_count": 106,
   "metadata": {},
   "outputs": [
    {
     "name": "stdout",
     "output_type": "stream",
     "text": [
      "BUÑUELOS DE VIENTO FÁCILES, LA RECETA TRADICIONAL DE EVA ARGUIÑANO\n",
      "------\n",
      "Otoño no es solo época de calabazas y castañas, también llegan dulces típicos como los buñuelos de viento. Estas esponjosas bolas de masa elaboradas con harina, mantequilla y huevo, fritas en aceite, son un clásico en las pastelerías de España durante esta temporada.\n",
      "Como los panellets y los huesos de Santo, los buñuelos de viento forman parte de las recetas típicas del Día de Todos los Santos, festividad del 1 de Noviembre. Un postre tradicional muy popular en muchas comunidades autónomas, y también en otras fechas del año. En Cataluña y Baleares se consumen durante la cuaresma como merienda o para acompañar el café, y en Valencia como desayuno. Mientras en Madrid y Andalucía son habituales, sobre todo, en Semana Santa.\n",
      "La palabra buñuelo tiene dos posibles raíces: romana, el puñuelo, una especie de bola que los romanos amasaban con las manos; y francesa, el beignet, un dulce muy parecido al actual buñuelo. Sin embargo, parece que la primera versión de los buñuelos la trajeron los árabes que se asentaron en Andalucía, con los buñuelos de agua miel, una masa frita en aceite y bañada en miel hirviendo.\n",
      "¿Por qué se les llama buñuelos de viento? Al freír esta masa se hincha y llega a doblar su volumen, de ahí su nombre de viento, y en su forma tradicional están rellenos solo de masa. Otras versiones son los buñuelos rellenos que pueden ser dulces como los buñuelos de nata, crema pastelera o chocolate, pero también los hay salados. \n",
      "Así que si te encantan los dulces fritos, no dudes en probar los buñuelos en todas sus versiones. Como los churros, son ideales para acompañar con una taza de chocolate caliente y disfrutar en los días fríos de otoño. \n",
      "\n",
      "Pon en un cazo al fuego  el agua, la mantequilla, el azúcar, la ralladura de limón y una pizca de sal. Cuando empiece a hervir, agrega la harina y remueve hasta que la masa no se pegue a las paredes del cazo. \n",
      "Retíralo del fuego y deja enfriar. Incorpora los huevos de uno en uno y mezcla. Deja reposar la masa durante 2 horas para que coja consistencia.\n",
      "Pon una sartén con abundante aceite a fuego suave y cuando el aceite esté muy caliente, añade una cucharada de la masa. Añade más cucharadas poco a poco, teniendo en cuenta que ésta se inflará y necesitará más espacio para no pegarse con otras. Dales la vuelta para que se doren por todos los lados.\n",
      "\n",
      "Cuando estén hechos, colócalos sobre un papel absorbente para quitar el exceso de aceite.\n",
      "Coloca los buñuelos en una fuente y espolvoréalos con azúcar glas. \n",
      "\n",
      "Aunque la forma tradicional de hacer buñuelos de viento es fritos en la sartén con abundante aceite, puedes optar por una opción más ligera y hacer buñuelos de viento al horno, como los populares profiteroles de pasta choux.  \n",
      "Cubre una bandeja de horno cubierta con papel sulfurizado y coloca pequeñas porciones de masa con la manga pastelera, dejando espacio entre ellos. Hornea a 180°C durante 25 minutos, con calor arriba y abajo. Pasado este tiempo, abre ligeramente la puerta del horno y déjalos a temperatura 20 minutos antes de sacar. ¡Y listos!\n",
      "En caso de intolerancia al gluten, no hay por qué renunciar a los buñuelos, tan solo es necesario modificar la receta. Para hacer la masa de los buñuelos de viento sin gluten hay varias opciones como utilizar harina sin gluten. Eva Arguiñano nos propone sustituir la harina de trigo por harina de garbanzos, pero también puedes utilizar harina de arroz como la receta de buñuelos de arroz sin gluten que nos proponen en la Comunidad de Cocina. Una vez tengas la base de tus buñuelos de viento sin gluten, puedes rellenarlos de crema pastelera o mermelada u otros ingredientes.\n",
      "Aunque los buñuelos de viento tradicionales son sin relleno, una vez aprendas a hacer la masa frita puedes elaborar diferentes recetas de  buñuelos, tanto dulces como saladas utilizando distintos ingredientes y rellenos.\n",
      "Para los más golosos os encantarán los buñuelos dulces como los buñuelos de canela y los rellenos de crema pastelera casera,  crema de lima o crema de limón, nata, crema de chocolate o buñuelos de diferentes frutas como los buñuelos de plátano o los buñuelos de piña. ¡Bocaditos que resultan irresistibles!\n",
      "Entre las versiones saladas puedes probar diferentes recetas como los buñuelos de bacalao, los buñuelos de boniato, los buñuelos de calabaza y espinaca o los buñuelos para los amantes del queso. \n",
      "\n",
      "El Día de los Muertos en México se celebra con recetas tradicionales como el popular pan de muerto pero también con los llamados buñuelos de viento mexicanos, de aspecto similar las flores fritas manchegas. \n",
      "Los ingredientes básicos para hacer buñuelos mexicanos son similares a los españoles: harina de trigo, azúcar, huevos, sal, aunque suele añadirse canela. La masa de los buñuelos de viento mexicanos también se fríe a la sartén, pero se utiliza un utensilio especial de la cocina mexicana para dar forma de flor: la tortilladora o tortillero. Para que queden crujientes, es importante calentar primero abundante aceite en la sartén, introducir el molde de hierro y cuando esté bien caliente pasar por la masa de buñuelo y freír. ¡Deliciosos!\n"
     ]
    }
   ],
   "source": [
    "print(df_hogar_mania.iloc[0]['titulo'].upper())\n",
    "print(\"------\")\n",
    "print(df_hogar_mania.iloc[0][\"elaboracion\"])"
   ]
  },
  {
   "cell_type": "code",
   "execution_count": 176,
   "metadata": {},
   "outputs": [
    {
     "name": "stdout",
     "output_type": "stream",
     "text": [
      "Buñuelos de viento fáciles, la receta tradicional de Eva Arguiñano \n",
      "--- https://www.hogarmania.com//cocina/recetas/postres/bunuelos-13530.html\n",
      "['125 gr de harina' '30 gr de mantequilla' '1/4 l de agua'\n",
      " '40 gr de azúcar' '4 huevos' 'ralladura de medio limón' 'sal'\n",
      " 'aceite de oliva' 'azúcar glas para espolvorear'] \n",
      "--- TOTAL INGREDIENTES 9\n",
      "Corona de hojaldre de Navidad \n",
      "--- https://www.hogarmania.com//cocina/recetas/postres/corona-navidad-44985.html\n",
      "['2 láminas de hojaldre rectangular ' '150 g de chocolate negro '\n",
      " '40 g de mantequilla ' '1 huevo ' 'azúcar glas '\n",
      " '200 g de moras y frambuesas ' 'hojas de menta '] \n",
      "--- TOTAL INGREDIENTES 7\n",
      "Cafés de Navidad: Gingerbread Latte y Pumpkin Spice Latte \n",
      "--- https://www.hogarmania.com//cocina/recetas/postres/cafes-navidad-gingerbread-pumpkin-spice-latte.html\n",
      "['2 cucharadas de azúcar moreno suave'\n",
      " '1/2 cucharadita de jengibre molido '\n",
      " '1/2 cucharadita de nuez moscada molida' '1/2 cucharadita de canela '\n",
      " '600 ml. de leche entera'\n",
      " '70 ml. café recién hecho Marcilla Gran Aroma en grano'\n",
      " '1/2 cucharadita de extracto de vainilla' 'crema batida'] \n",
      "--- TOTAL INGREDIENTES 8\n",
      "Mazapanes de Navidad \n",
      "--- https://www.hogarmania.com//cocina/recetas/postres/mazapanes-navidad-17809.html\n",
      "['300 gr. de almendra molida ' '370 gr. de leche condensada ' '1 limón '\n",
      " '1 huevo ' 'agua ' 'aceite de oliva virgen extra '\n",
      " 'piñones, nueces y menta (para decorar)'] \n",
      "--- TOTAL INGREDIENTES 7\n",
      "Churros en freidora de aire, ¡más fácil imposible!  \n",
      "--- https://www.hogarmania.com//cocina/recetas/postres/churros-freidora-aire.html\n",
      "['Churros congelados' 'Aceite de oliva o girasol' 'Azúcar'] \n",
      "--- TOTAL INGREDIENTES 3\n"
     ]
    }
   ],
   "source": [
    "for _, row in df_hogar_mania.head(5).iterrows():\n",
    "    print(f\"{row['titulo']} \\n--- {row['link']}\")\n",
    "    print(f\"{row['ingredientes']} \\n--- TOTAL INGREDIENTES {row['total_ingredientes']}\")"
   ]
  },
  {
   "cell_type": "markdown",
   "metadata": {},
   "source": [
    "#### Antena3"
   ]
  },
  {
   "cell_type": "code",
   "execution_count": 115,
   "metadata": {},
   "outputs": [
    {
     "data": {
      "text/html": [
       "<div>\n",
       "<style scoped>\n",
       "    .dataframe tbody tr th:only-of-type {\n",
       "        vertical-align: middle;\n",
       "    }\n",
       "\n",
       "    .dataframe tbody tr th {\n",
       "        vertical-align: top;\n",
       "    }\n",
       "\n",
       "    .dataframe thead th {\n",
       "        text-align: right;\n",
       "    }\n",
       "</style>\n",
       "<table border=\"1\" class=\"dataframe\">\n",
       "  <thead>\n",
       "    <tr style=\"text-align: right;\">\n",
       "      <th></th>\n",
       "      <th>titulo</th>\n",
       "      <th>categoria</th>\n",
       "      <th>ingredientes</th>\n",
       "      <th>elaboracion</th>\n",
       "      <th>link</th>\n",
       "    </tr>\n",
       "  </thead>\n",
       "  <tbody>\n",
       "    <tr>\n",
       "      <th>0</th>\n",
       "      <td>Receta de alcachofas en salsa, de Karlos Arguiñano: \"Una explosión de sabores\"</td>\n",
       "      <td>ensaladas</td>\n",
       "      <td>[8 huevos de codorniz, 1 cebolla, 2 dientes de ajo, 75 ml de txakoli, 400 ml de caldo de verduras, 1 cucharada de harina, Aceite de oliva virgen extra, Sal, Perejil, Calienta 3-4 cucharadas de aceite en una cazuela. Pela los dientes de ajo, lamínalos y agrégalos. Pela la cebolla, córtala en dados e incorpórala. Sazona y rehoga las hortalizas a fuego suave-medio durante 6-8 minutos. Agrega la harina y rehógala un poco. Vierte el txakoli, mezcla bien y dale un hervor. Vierte el caldo de verdur...</td>\n",
       "      <td>Pon los huevos en una cazuela, cúbrelos con agua y cuécelos durante 5 minutos a partir del momento en que el agua empiece a hervir. Refresca, pela y resérvalos.\n",
       "Calienta agua en la olla rápida y añade unas ramas de perejil.\n",
       "Pela las alcachofas retirándoles 4-5 capas de hojas. Recórtalas por la base y por la parte superior, e introdúcelas en la olla. Sazónalas, cierra la olla y cuécelas durante 4 minutos a partir del momento en que suba la válvula. Retíralas y escúrrelas boca abajo en una fue...</td>\n",
       "      <td>https://www.antena3.com/programas/karlos-arguinano/recetas/ensaladas/alcachofas-salsa_202405076639f35dc18d400001bd4ea5.html</td>\n",
       "    </tr>\n",
       "    <tr>\n",
       "      <th>1</th>\n",
       "      <td>Una receta sencilla, sabrosa y rápida de Joseba Arguiñano: ensaladilla ibérica</td>\n",
       "      <td>ensaladas</td>\n",
       "      <td>[3 patatas, 3 zanahorias, 3 huevos, 4 lonchas de queso havarti, 150 g de fuet, 4 lonchas finas de cecina, 4 lonchas finas de jamón ibérico, 8 lonchas finas de lomo ibérico, 150 g de mahonesa, Sal, Picos de pan, Perejil]</td>\n",
       "      <td>Cuece de víspera las patatas con piel (30-35 minutos), las zanahorias peladas (20 minutos) y los huevos (10 minutos). Cuando se templen introdúcelos en el frigorífico y resérvalos para el día siguiente.\n",
       "Pela las patatas y los huevos, y rállalos (con la parte más ancha del rallador) a un bol. Ralla también las zanahorias.\n",
       " Ralla también las zanahorias | antena3.com \n",
       "Corta las lonchas de queso en daditos y añádelo. Retira la piel del fuet, córtalo en cuartos de luna finos e incorpóralo.\n",
       "Agrega...</td>\n",
       "      <td>https://www.antena3.com/programas/karlos-arguinano/recetas/ensaladas/ensaladilla-iberica_20240506662f629fc0b95c0001d10f67.html</td>\n",
       "    </tr>\n",
       "    <tr>\n",
       "      <th>2</th>\n",
       "      <td>Brócoli con champiñones y patatas, de Arguiñano: \"La receta que levanta el ánimo y ayuda al crecimiento del pelo\"</td>\n",
       "      <td>ensaladas</td>\n",
       "      <td>[6 champiñones, 2 patatas, 4 dientes de ajo, 125 g de jamón serrano (en lochas finas), Aceite de oliva virgen extra, Sal, Perejil]</td>\n",
       "      <td>Calienta agua en una sartén y sazónala. Lava los brócolis, suéltalos en ramilletes, colócalos en el accesorio para cocer al vapor y ponlo sobre la sartén. Tápalo y cuece los brócolis al vapor durante 12-15 minutos.\n",
       " Tápalo y cuece los brócolis al vapor | antena3.com \n",
       "Calienta 3 cucharadas de aceite en una sartén. Pela los ajos, lamínalos, agrégalos a la sartén y rehógalos un poco. Corta las lonchas de jamón en tiras gruesas, incorpóralas y saltéalas brevemente. Lava los champiñones, seca, la...</td>\n",
       "      <td>https://www.antena3.com/programas/karlos-arguinano/recetas/ensaladas/brocoli-champinones-patatas_20240502663214bcc0b95c0001d6e7be.html</td>\n",
       "    </tr>\n",
       "    <tr>\n",
       "      <th>3</th>\n",
       "      <td>Berenjenas a la crema, de Karlos Arguiñano: \"Una de las 100 mejores recetas del recetario español\"</td>\n",
       "      <td>ensaladas</td>\n",
       "      <td>[1 cebolla pequeña, 4 dientes de ajo, ½ l de leche, 150 ml de caldo de carne, 24 gambas, 60 g de jamón serrano (4 lonchas finas), 60 g de queso gruyere rallado, Aceite de oliva virgen extra, Harina, Sal, Perejil]</td>\n",
       "      <td>Calienta abundante aceite en una sartén grande, pela los ajos, añádelos (enteros) y fríelos a fuego medio hasta que se doren. Retíralos y tíralos.\n",
       "Pela las berenjenas, córtalas en rodajas de 1 cm, extiéndelas en una fuente y sazónalas. Pásalas por harina, introdúcelas en la sartén (a tandas) y fríelas por los 2 lados. Retíralas y escúrrelas sobre una fuente cubierta con papel absorbente de cocina.\n",
       " Pásalas por harina, introdúcelas en la sartén | antena3.com \n",
       "Cubre la base de 4 cazuelitas ind...</td>\n",
       "      <td>https://www.antena3.com/programas/karlos-arguinano/recetas/ensaladas/berenjenas-crema_20240426662b72fe8e660200018aeb79.html</td>\n",
       "    </tr>\n",
       "    <tr>\n",
       "      <th>4</th>\n",
       "      <td>Espárragos a la plancha con vinagreta de fresas y aguacate, de Karlos Arguiñano</td>\n",
       "      <td>ensaladas</td>\n",
       "      <td>[4-6 fresas (dependiendo del tamaño), ½ aguacate, 1 lima, Aceite de oliva virgen extra, Sal, Azúcar, 12 hojas de cebollino, Perejil]</td>\n",
       "      <td>Lava los espárragos, córtales la parte inferior de los tallos y pélalos.\n",
       "Calienta abundante agua en una tartera (cazuela amplia y baja). Introduce los espárragos, agrega una pizca de sal y otra de azúcar, tápalos y cuécelos durante 15 minutos.\n",
       "Escurre y sécalos.\n",
       " Introduce los espárragos | antena3.com \n",
       "Saca la pulpa del aguacate, córtala en daditos y ponla en un bol. Lava las frescas, retírales el tallo, córtalas en daditos e incorpóralas al bol.\n",
       "Lava la lima, ralla un poco de la piel sobre ...</td>\n",
       "      <td>https://www.antena3.com/programas/karlos-arguinano/recetas/ensaladas/esparragos-plancha-vinagreta-fresas-aguacate_2024042366279d9fc0b95c0001100413.html</td>\n",
       "    </tr>\n",
       "  </tbody>\n",
       "</table>\n",
       "</div>"
      ],
      "text/plain": [
       "                                                                                                              titulo  \\\n",
       "0                                     Receta de alcachofas en salsa, de Karlos Arguiñano: \"Una explosión de sabores\"   \n",
       "1                                     Una receta sencilla, sabrosa y rápida de Joseba Arguiñano: ensaladilla ibérica   \n",
       "2  Brócoli con champiñones y patatas, de Arguiñano: \"La receta que levanta el ánimo y ayuda al crecimiento del pelo\"   \n",
       "3                 Berenjenas a la crema, de Karlos Arguiñano: \"Una de las 100 mejores recetas del recetario español\"   \n",
       "4                                    Espárragos a la plancha con vinagreta de fresas y aguacate, de Karlos Arguiñano   \n",
       "\n",
       "   categoria  \\\n",
       "0  ensaladas   \n",
       "1  ensaladas   \n",
       "2  ensaladas   \n",
       "3  ensaladas   \n",
       "4  ensaladas   \n",
       "\n",
       "                                                                                                                                                                                                                                                                                                                                                                                                                                                                                                          ingredientes  \\\n",
       "0  [8 huevos de codorniz, 1 cebolla, 2 dientes de ajo, 75 ml de txakoli, 400 ml de caldo de verduras, 1 cucharada de harina, Aceite de oliva virgen extra, Sal, Perejil, Calienta 3-4 cucharadas de aceite en una cazuela. Pela los dientes de ajo, lamínalos y agrégalos. Pela la cebolla, córtala en dados e incorpórala. Sazona y rehoga las hortalizas a fuego suave-medio durante 6-8 minutos. Agrega la harina y rehógala un poco. Vierte el txakoli, mezcla bien y dale un hervor. Vierte el caldo de verdur...   \n",
       "1                                                                                                                                                                                                                                                                                          [3 patatas, 3 zanahorias, 3 huevos, 4 lonchas de queso havarti, 150 g de fuet, 4 lonchas finas de cecina, 4 lonchas finas de jamón ibérico, 8 lonchas finas de lomo ibérico, 150 g de mahonesa, Sal, Picos de pan, Perejil]   \n",
       "2                                                                                                                                                                                                                                                                                                                                                                                   [6 champiñones, 2 patatas, 4 dientes de ajo, 125 g de jamón serrano (en lochas finas), Aceite de oliva virgen extra, Sal, Perejil]   \n",
       "3                                                                                                                                                                                                                                                                                                 [1 cebolla pequeña, 4 dientes de ajo, ½ l de leche, 150 ml de caldo de carne, 24 gambas, 60 g de jamón serrano (4 lonchas finas), 60 g de queso gruyere rallado, Aceite de oliva virgen extra, Harina, Sal, Perejil]   \n",
       "4                                                                                                                                                                                                                                                                                                                                                                                 [4-6 fresas (dependiendo del tamaño), ½ aguacate, 1 lima, Aceite de oliva virgen extra, Sal, Azúcar, 12 hojas de cebollino, Perejil]   \n",
       "\n",
       "                                                                                                                                                                                                                                                                                                                                                                                                                                                                                                           elaboracion  \\\n",
       "0  Pon los huevos en una cazuela, cúbrelos con agua y cuécelos durante 5 minutos a partir del momento en que el agua empiece a hervir. Refresca, pela y resérvalos.\n",
       "Calienta agua en la olla rápida y añade unas ramas de perejil.\n",
       "Pela las alcachofas retirándoles 4-5 capas de hojas. Recórtalas por la base y por la parte superior, e introdúcelas en la olla. Sazónalas, cierra la olla y cuécelas durante 4 minutos a partir del momento en que suba la válvula. Retíralas y escúrrelas boca abajo en una fue...   \n",
       "1  Cuece de víspera las patatas con piel (30-35 minutos), las zanahorias peladas (20 minutos) y los huevos (10 minutos). Cuando se templen introdúcelos en el frigorífico y resérvalos para el día siguiente.\n",
       "Pela las patatas y los huevos, y rállalos (con la parte más ancha del rallador) a un bol. Ralla también las zanahorias.\n",
       " Ralla también las zanahorias | antena3.com \n",
       "Corta las lonchas de queso en daditos y añádelo. Retira la piel del fuet, córtalo en cuartos de luna finos e incorpóralo.\n",
       "Agrega...   \n",
       "2  Calienta agua en una sartén y sazónala. Lava los brócolis, suéltalos en ramilletes, colócalos en el accesorio para cocer al vapor y ponlo sobre la sartén. Tápalo y cuece los brócolis al vapor durante 12-15 minutos.\n",
       " Tápalo y cuece los brócolis al vapor | antena3.com \n",
       "Calienta 3 cucharadas de aceite en una sartén. Pela los ajos, lamínalos, agrégalos a la sartén y rehógalos un poco. Corta las lonchas de jamón en tiras gruesas, incorpóralas y saltéalas brevemente. Lava los champiñones, seca, la...   \n",
       "3  Calienta abundante aceite en una sartén grande, pela los ajos, añádelos (enteros) y fríelos a fuego medio hasta que se doren. Retíralos y tíralos.\n",
       "Pela las berenjenas, córtalas en rodajas de 1 cm, extiéndelas en una fuente y sazónalas. Pásalas por harina, introdúcelas en la sartén (a tandas) y fríelas por los 2 lados. Retíralas y escúrrelas sobre una fuente cubierta con papel absorbente de cocina.\n",
       " Pásalas por harina, introdúcelas en la sartén | antena3.com \n",
       "Cubre la base de 4 cazuelitas ind...   \n",
       "4  Lava los espárragos, córtales la parte inferior de los tallos y pélalos.\n",
       "Calienta abundante agua en una tartera (cazuela amplia y baja). Introduce los espárragos, agrega una pizca de sal y otra de azúcar, tápalos y cuécelos durante 15 minutos.\n",
       "Escurre y sécalos.\n",
       " Introduce los espárragos | antena3.com \n",
       "Saca la pulpa del aguacate, córtala en daditos y ponla en un bol. Lava las frescas, retírales el tallo, córtalas en daditos e incorpóralas al bol.\n",
       "Lava la lima, ralla un poco de la piel sobre ...   \n",
       "\n",
       "                                                                                                                                                      link  \n",
       "0                              https://www.antena3.com/programas/karlos-arguinano/recetas/ensaladas/alcachofas-salsa_202405076639f35dc18d400001bd4ea5.html  \n",
       "1                           https://www.antena3.com/programas/karlos-arguinano/recetas/ensaladas/ensaladilla-iberica_20240506662f629fc0b95c0001d10f67.html  \n",
       "2                   https://www.antena3.com/programas/karlos-arguinano/recetas/ensaladas/brocoli-champinones-patatas_20240502663214bcc0b95c0001d6e7be.html  \n",
       "3                              https://www.antena3.com/programas/karlos-arguinano/recetas/ensaladas/berenjenas-crema_20240426662b72fe8e660200018aeb79.html  \n",
       "4  https://www.antena3.com/programas/karlos-arguinano/recetas/ensaladas/esparragos-plancha-vinagreta-fresas-aguacate_2024042366279d9fc0b95c0001100413.html  "
      ]
     },
     "execution_count": 115,
     "metadata": {},
     "output_type": "execute_result"
    }
   ],
   "source": [
    "df_antena3.head(5)"
   ]
  },
  {
   "cell_type": "code",
   "execution_count": 125,
   "metadata": {},
   "outputs": [
    {
     "data": {
      "text/plain": [
       "titulo                0\n",
       "categoria             0\n",
       "ingredientes          0\n",
       "elaboracion           0\n",
       "link                  0\n",
       "total_ingredientes    0\n",
       "dtype: int64"
      ]
     },
     "execution_count": 125,
     "metadata": {},
     "output_type": "execute_result"
    }
   ],
   "source": [
    "df_antena3.isna().sum()"
   ]
  },
  {
   "cell_type": "code",
   "execution_count": 121,
   "metadata": {},
   "outputs": [
    {
     "data": {
      "text/plain": [
       "categoria\n",
       "ensaladas    494\n",
       "pescado      336\n",
       "carnes       317\n",
       "postres      317\n",
       "huevos       205\n",
       "entrantes    130\n",
       "pasta        113\n",
       "guisos        80\n",
       "arroces       30\n",
       "Name: count, dtype: Int64"
      ]
     },
     "execution_count": 121,
     "metadata": {},
     "output_type": "execute_result"
    }
   ],
   "source": [
    "df_antena3[\"categoria\"].value_counts()"
   ]
  },
  {
   "cell_type": "code",
   "execution_count": 122,
   "metadata": {},
   "outputs": [
    {
     "data": {
      "text/plain": [
       "total_ingredientes\n",
       "11    185\n",
       "10    174\n",
       "8     174\n",
       "7     173\n",
       "9     161\n",
       "12    160\n",
       "13    127\n",
       "14    103\n",
       "0      98\n",
       "15     84\n",
       "Name: count, dtype: int64"
      ]
     },
     "execution_count": 122,
     "metadata": {},
     "output_type": "execute_result"
    }
   ],
   "source": [
    "df_antena3['total_ingredientes'] = df_antena3['ingredientes'].apply(len)\n",
    "df_antena3['total_ingredientes'].value_counts()[:10]"
   ]
  },
  {
   "cell_type": "code",
   "execution_count": 138,
   "metadata": {},
   "outputs": [
    {
     "data": {
      "text/plain": [
       "count    2022.000000\n",
       "mean       12.241345\n",
       "std         8.403253\n",
       "min         0.000000\n",
       "25%         8.000000\n",
       "50%        11.000000\n",
       "75%        15.000000\n",
       "max       137.000000\n",
       "Name: total_ingredientes, dtype: float64"
      ]
     },
     "execution_count": 138,
     "metadata": {},
     "output_type": "execute_result"
    }
   ],
   "source": [
    "df_antena3['total_ingredientes'].describe()"
   ]
  },
  {
   "cell_type": "code",
   "execution_count": 129,
   "metadata": {},
   "outputs": [
    {
     "data": {
      "text/plain": [
       "categoria\n",
       "huevos       23\n",
       "ensaladas    21\n",
       "postres      20\n",
       "pasta        11\n",
       "pescado       9\n",
       "carnes        9\n",
       "entrantes     3\n",
       "guisos        2\n",
       "Name: count, dtype: Int64"
      ]
     },
     "execution_count": 129,
     "metadata": {},
     "output_type": "execute_result"
    }
   ],
   "source": [
    "df_antena3[df_antena3['total_ingredientes'] == 0]['categoria'].value_counts()"
   ]
  },
  {
   "cell_type": "code",
   "execution_count": 144,
   "metadata": {},
   "outputs": [
    {
     "data": {
      "text/html": [
       "<div>\n",
       "<style scoped>\n",
       "    .dataframe tbody tr th:only-of-type {\n",
       "        vertical-align: middle;\n",
       "    }\n",
       "\n",
       "    .dataframe tbody tr th {\n",
       "        vertical-align: top;\n",
       "    }\n",
       "\n",
       "    .dataframe thead th {\n",
       "        text-align: right;\n",
       "    }\n",
       "</style>\n",
       "<table border=\"1\" class=\"dataframe\">\n",
       "  <thead>\n",
       "    <tr style=\"text-align: right;\">\n",
       "      <th></th>\n",
       "      <th>titulo</th>\n",
       "      <th>categoria</th>\n",
       "      <th>ingredientes</th>\n",
       "      <th>elaboracion</th>\n",
       "      <th>link</th>\n",
       "      <th>total_ingredientes</th>\n",
       "    </tr>\n",
       "  </thead>\n",
       "  <tbody>\n",
       "    <tr>\n",
       "      <th>5</th>\n",
       "      <td>Karlos Arguiñano: \"Esta es la forma más sencilla de hacer alcachofas\"</td>\n",
       "      <td>ensaladas</td>\n",
       "      <td>[]</td>\n",
       "      <td></td>\n",
       "      <td>https://www.antena3.com/programas/karlos-arguinano/recetas/ensaladas/forma-mas-sencilla-hacer-alcachofas_202404216620c75cc0b95c0001023a3c.html</td>\n",
       "      <td>0</td>\n",
       "    </tr>\n",
       "    <tr>\n",
       "      <th>69</th>\n",
       "      <td>La ensalada exótica de Arguiñano: de escarola, fresas, aguacate y un aliño especial</td>\n",
       "      <td>ensaladas</td>\n",
       "      <td>[]</td>\n",
       "      <td></td>\n",
       "      <td>https://www.antena3.com/programas/karlos-arguinano/recetas/ensaladas/escarola-fresas-aguacate-alino_20230524646df87c910a1b0001d95a8a.html</td>\n",
       "      <td>0</td>\n",
       "    </tr>\n",
       "    <tr>\n",
       "      <th>77</th>\n",
       "      <td>Karlos Arguiñano sorprende con una ensalada de escarola, fresa y aguacate</td>\n",
       "      <td>ensaladas</td>\n",
       "      <td>[]</td>\n",
       "      <td></td>\n",
       "      <td>https://www.antena3.com/programas/karlos-arguinano/recetas/ensaladas/ensalada-escarola-fresa-aguacate_2023032964242122a1e0b90001dd3ccd.html</td>\n",
       "      <td>0</td>\n",
       "    </tr>\n",
       "    <tr>\n",
       "      <th>130</th>\n",
       "      <td>Karlos Arguiñano: Las formas más variadas y saludables de elaborar unos cogollos refrescantes</td>\n",
       "      <td>ensaladas</td>\n",
       "      <td>[]</td>\n",
       "      <td></td>\n",
       "      <td>https://www.antena3.com/programas/karlos-arguinano/recetas/ensaladas/variadas-saludables-elaborar-cogollos_2022071462cff57b98b3200001cfc1ef.html</td>\n",
       "      <td>0</td>\n",
       "    </tr>\n",
       "    <tr>\n",
       "      <th>158</th>\n",
       "      <td>¿Te apasionan las berenjenas? Disfruta de las recetas más ricas, rápidas y fáciles de Arguiñano</td>\n",
       "      <td>ensaladas</td>\n",
       "      <td>[]</td>\n",
       "      <td></td>\n",
       "      <td>https://www.antena3.com/programas/karlos-arguinano/recetas/ensaladas/apasionan-berenjenas-disfruta-recetas-mas-ricas-rapidas-faciles_202203296242cb5043a63f0001cc438f.html</td>\n",
       "      <td>0</td>\n",
       "    </tr>\n",
       "    <tr>\n",
       "      <th>...</th>\n",
       "      <td>...</td>\n",
       "      <td>...</td>\n",
       "      <td>...</td>\n",
       "      <td>...</td>\n",
       "      <td>...</td>\n",
       "      <td>...</td>\n",
       "    </tr>\n",
       "    <tr>\n",
       "      <th>1974</th>\n",
       "      <td>El juego por el Día de la Lasaña: ¿Cuál ha sido la receta de lasaña más vista de Karlos Arguiñano?</td>\n",
       "      <td>pasta</td>\n",
       "      <td>[]</td>\n",
       "      <td></td>\n",
       "      <td>https://www.antena3.com/programas/karlos-arguinano/recetas/pasta/juego-dia-lasana-cual-sido-receta-mas-vista_202007295f21431b6cf6da000157a0e1.html</td>\n",
       "      <td>0</td>\n",
       "    </tr>\n",
       "    <tr>\n",
       "      <th>1990</th>\n",
       "      <td>Cazuela de arroz, achicoria y huevo cocido</td>\n",
       "      <td>pasta</td>\n",
       "      <td>[]</td>\n",
       "      <td></td>\n",
       "      <td>https://www.antena3.com/programas/karlos-arguinano/recetas/pasta/cazuela-de-arroz-achicoria-y-huevo-cocido_202001225e283cca0cf2ac911f7577b2.html</td>\n",
       "      <td>0</td>\n",
       "    </tr>\n",
       "    <tr>\n",
       "      <th>1999</th>\n",
       "      <td>Receta de Fideos con verduras y pollo</td>\n",
       "      <td>pasta</td>\n",
       "      <td>[]</td>\n",
       "      <td></td>\n",
       "      <td>https://www.antena3.com/programas/karlos-arguinano/recetas/pasta/receta-de-fideos-con-verduras-y-pollo_201909305d91eda40cf2ebc7f5a3b176.html</td>\n",
       "      <td>0</td>\n",
       "    </tr>\n",
       "    <tr>\n",
       "      <th>2000</th>\n",
       "      <td>Receta de Macarrones con compota de tomate y champiñones</td>\n",
       "      <td>pasta</td>\n",
       "      <td>[]</td>\n",
       "      <td></td>\n",
       "      <td>https://www.antena3.com/programas/karlos-arguinano/recetas/pasta/receta-de-macarrones-con-compota-de-tomate-y-champinones_201909245d89f69a0cf20dcdcc48908c.html</td>\n",
       "      <td>0</td>\n",
       "    </tr>\n",
       "    <tr>\n",
       "      <th>2012</th>\n",
       "      <td>Pincho de ravioli de queso y calabaza</td>\n",
       "      <td>pasta</td>\n",
       "      <td>[]</td>\n",
       "      <td></td>\n",
       "      <td>https://www.antena3.com/programas/karlos-arguinano/recetas/pasta/video-pincho-ravioli-queso-calabaza_201903185c8f96fe0cf21910dc9c8db7.html</td>\n",
       "      <td>0</td>\n",
       "    </tr>\n",
       "  </tbody>\n",
       "</table>\n",
       "<p>98 rows × 6 columns</p>\n",
       "</div>"
      ],
      "text/plain": [
       "                                                                                                  titulo  \\\n",
       "5                                  Karlos Arguiñano: \"Esta es la forma más sencilla de hacer alcachofas\"   \n",
       "69                   La ensalada exótica de Arguiñano: de escarola, fresas, aguacate y un aliño especial   \n",
       "77                             Karlos Arguiñano sorprende con una ensalada de escarola, fresa y aguacate   \n",
       "130        Karlos Arguiñano: Las formas más variadas y saludables de elaborar unos cogollos refrescantes   \n",
       "158      ¿Te apasionan las berenjenas? Disfruta de las recetas más ricas, rápidas y fáciles de Arguiñano   \n",
       "...                                                                                                  ...   \n",
       "1974  El juego por el Día de la Lasaña: ¿Cuál ha sido la receta de lasaña más vista de Karlos Arguiñano?   \n",
       "1990                                                          Cazuela de arroz, achicoria y huevo cocido   \n",
       "1999                                                               Receta de Fideos con verduras y pollo   \n",
       "2000                                            Receta de Macarrones con compota de tomate y champiñones   \n",
       "2012                                                               Pincho de ravioli de queso y calabaza   \n",
       "\n",
       "      categoria ingredientes elaboracion  \\\n",
       "5     ensaladas           []               \n",
       "69    ensaladas           []               \n",
       "77    ensaladas           []               \n",
       "130   ensaladas           []               \n",
       "158   ensaladas           []               \n",
       "...         ...          ...         ...   \n",
       "1974      pasta           []               \n",
       "1990      pasta           []               \n",
       "1999      pasta           []               \n",
       "2000      pasta           []               \n",
       "2012      pasta           []               \n",
       "\n",
       "                                                                                                                                                                            link  \\\n",
       "5                                 https://www.antena3.com/programas/karlos-arguinano/recetas/ensaladas/forma-mas-sencilla-hacer-alcachofas_202404216620c75cc0b95c0001023a3c.html   \n",
       "69                                     https://www.antena3.com/programas/karlos-arguinano/recetas/ensaladas/escarola-fresas-aguacate-alino_20230524646df87c910a1b0001d95a8a.html   \n",
       "77                                   https://www.antena3.com/programas/karlos-arguinano/recetas/ensaladas/ensalada-escarola-fresa-aguacate_2023032964242122a1e0b90001dd3ccd.html   \n",
       "130                             https://www.antena3.com/programas/karlos-arguinano/recetas/ensaladas/variadas-saludables-elaborar-cogollos_2022071462cff57b98b3200001cfc1ef.html   \n",
       "158   https://www.antena3.com/programas/karlos-arguinano/recetas/ensaladas/apasionan-berenjenas-disfruta-recetas-mas-ricas-rapidas-faciles_202203296242cb5043a63f0001cc438f.html   \n",
       "...                                                                                                                                                                          ...   \n",
       "1974                          https://www.antena3.com/programas/karlos-arguinano/recetas/pasta/juego-dia-lasana-cual-sido-receta-mas-vista_202007295f21431b6cf6da000157a0e1.html   \n",
       "1990                            https://www.antena3.com/programas/karlos-arguinano/recetas/pasta/cazuela-de-arroz-achicoria-y-huevo-cocido_202001225e283cca0cf2ac911f7577b2.html   \n",
       "1999                                https://www.antena3.com/programas/karlos-arguinano/recetas/pasta/receta-de-fideos-con-verduras-y-pollo_201909305d91eda40cf2ebc7f5a3b176.html   \n",
       "2000             https://www.antena3.com/programas/karlos-arguinano/recetas/pasta/receta-de-macarrones-con-compota-de-tomate-y-champinones_201909245d89f69a0cf20dcdcc48908c.html   \n",
       "2012                                  https://www.antena3.com/programas/karlos-arguinano/recetas/pasta/video-pincho-ravioli-queso-calabaza_201903185c8f96fe0cf21910dc9c8db7.html   \n",
       "\n",
       "      total_ingredientes  \n",
       "5                      0  \n",
       "69                     0  \n",
       "77                     0  \n",
       "130                    0  \n",
       "158                    0  \n",
       "...                  ...  \n",
       "1974                   0  \n",
       "1990                   0  \n",
       "1999                   0  \n",
       "2000                   0  \n",
       "2012                   0  \n",
       "\n",
       "[98 rows x 6 columns]"
      ]
     },
     "execution_count": 144,
     "metadata": {},
     "output_type": "execute_result"
    }
   ],
   "source": [
    "df_antena3[df_antena3['total_ingredientes'] == 0]"
   ]
  },
  {
   "cell_type": "code",
   "execution_count": 153,
   "metadata": {},
   "outputs": [
    {
     "data": {
      "text/html": [
       "<div>\n",
       "<style scoped>\n",
       "    .dataframe tbody tr th:only-of-type {\n",
       "        vertical-align: middle;\n",
       "    }\n",
       "\n",
       "    .dataframe tbody tr th {\n",
       "        vertical-align: top;\n",
       "    }\n",
       "\n",
       "    .dataframe thead th {\n",
       "        text-align: right;\n",
       "    }\n",
       "</style>\n",
       "<table border=\"1\" class=\"dataframe\">\n",
       "  <thead>\n",
       "    <tr style=\"text-align: right;\">\n",
       "      <th></th>\n",
       "      <th>titulo</th>\n",
       "      <th>categoria</th>\n",
       "      <th>ingredientes</th>\n",
       "      <th>elaboracion</th>\n",
       "      <th>link</th>\n",
       "      <th>total_ingredientes</th>\n",
       "    </tr>\n",
       "  </thead>\n",
       "  <tbody>\n",
       "    <tr>\n",
       "      <th>5</th>\n",
       "      <td>Karlos Arguiñano: \"Esta es la forma más sencilla de hacer alcachofas\"</td>\n",
       "      <td>ensaladas</td>\n",
       "      <td>[]</td>\n",
       "      <td></td>\n",
       "      <td>https://www.antena3.com/programas/karlos-arguinano/recetas/ensaladas/forma-mas-sencilla-hacer-alcachofas_202404216620c75cc0b95c0001023a3c.html</td>\n",
       "      <td>0</td>\n",
       "    </tr>\n",
       "    <tr>\n",
       "      <th>69</th>\n",
       "      <td>La ensalada exótica de Arguiñano: de escarola, fresas, aguacate y un aliño especial</td>\n",
       "      <td>ensaladas</td>\n",
       "      <td>[]</td>\n",
       "      <td></td>\n",
       "      <td>https://www.antena3.com/programas/karlos-arguinano/recetas/ensaladas/escarola-fresas-aguacate-alino_20230524646df87c910a1b0001d95a8a.html</td>\n",
       "      <td>0</td>\n",
       "    </tr>\n",
       "    <tr>\n",
       "      <th>77</th>\n",
       "      <td>Karlos Arguiñano sorprende con una ensalada de escarola, fresa y aguacate</td>\n",
       "      <td>ensaladas</td>\n",
       "      <td>[]</td>\n",
       "      <td></td>\n",
       "      <td>https://www.antena3.com/programas/karlos-arguinano/recetas/ensaladas/ensalada-escarola-fresa-aguacate_2023032964242122a1e0b90001dd3ccd.html</td>\n",
       "      <td>0</td>\n",
       "    </tr>\n",
       "    <tr>\n",
       "      <th>130</th>\n",
       "      <td>Karlos Arguiñano: Las formas más variadas y saludables de elaborar unos cogollos refrescantes</td>\n",
       "      <td>ensaladas</td>\n",
       "      <td>[]</td>\n",
       "      <td></td>\n",
       "      <td>https://www.antena3.com/programas/karlos-arguinano/recetas/ensaladas/variadas-saludables-elaborar-cogollos_2022071462cff57b98b3200001cfc1ef.html</td>\n",
       "      <td>0</td>\n",
       "    </tr>\n",
       "    <tr>\n",
       "      <th>158</th>\n",
       "      <td>¿Te apasionan las berenjenas? Disfruta de las recetas más ricas, rápidas y fáciles de Arguiñano</td>\n",
       "      <td>ensaladas</td>\n",
       "      <td>[]</td>\n",
       "      <td></td>\n",
       "      <td>https://www.antena3.com/programas/karlos-arguinano/recetas/ensaladas/apasionan-berenjenas-disfruta-recetas-mas-ricas-rapidas-faciles_202203296242cb5043a63f0001cc438f.html</td>\n",
       "      <td>0</td>\n",
       "    </tr>\n",
       "    <tr>\n",
       "      <th>...</th>\n",
       "      <td>...</td>\n",
       "      <td>...</td>\n",
       "      <td>...</td>\n",
       "      <td>...</td>\n",
       "      <td>...</td>\n",
       "      <td>...</td>\n",
       "    </tr>\n",
       "    <tr>\n",
       "      <th>1974</th>\n",
       "      <td>El juego por el Día de la Lasaña: ¿Cuál ha sido la receta de lasaña más vista de Karlos Arguiñano?</td>\n",
       "      <td>pasta</td>\n",
       "      <td>[]</td>\n",
       "      <td></td>\n",
       "      <td>https://www.antena3.com/programas/karlos-arguinano/recetas/pasta/juego-dia-lasana-cual-sido-receta-mas-vista_202007295f21431b6cf6da000157a0e1.html</td>\n",
       "      <td>0</td>\n",
       "    </tr>\n",
       "    <tr>\n",
       "      <th>1990</th>\n",
       "      <td>Cazuela de arroz, achicoria y huevo cocido</td>\n",
       "      <td>pasta</td>\n",
       "      <td>[]</td>\n",
       "      <td></td>\n",
       "      <td>https://www.antena3.com/programas/karlos-arguinano/recetas/pasta/cazuela-de-arroz-achicoria-y-huevo-cocido_202001225e283cca0cf2ac911f7577b2.html</td>\n",
       "      <td>0</td>\n",
       "    </tr>\n",
       "    <tr>\n",
       "      <th>1999</th>\n",
       "      <td>Receta de Fideos con verduras y pollo</td>\n",
       "      <td>pasta</td>\n",
       "      <td>[]</td>\n",
       "      <td></td>\n",
       "      <td>https://www.antena3.com/programas/karlos-arguinano/recetas/pasta/receta-de-fideos-con-verduras-y-pollo_201909305d91eda40cf2ebc7f5a3b176.html</td>\n",
       "      <td>0</td>\n",
       "    </tr>\n",
       "    <tr>\n",
       "      <th>2000</th>\n",
       "      <td>Receta de Macarrones con compota de tomate y champiñones</td>\n",
       "      <td>pasta</td>\n",
       "      <td>[]</td>\n",
       "      <td></td>\n",
       "      <td>https://www.antena3.com/programas/karlos-arguinano/recetas/pasta/receta-de-macarrones-con-compota-de-tomate-y-champinones_201909245d89f69a0cf20dcdcc48908c.html</td>\n",
       "      <td>0</td>\n",
       "    </tr>\n",
       "    <tr>\n",
       "      <th>2012</th>\n",
       "      <td>Pincho de ravioli de queso y calabaza</td>\n",
       "      <td>pasta</td>\n",
       "      <td>[]</td>\n",
       "      <td></td>\n",
       "      <td>https://www.antena3.com/programas/karlos-arguinano/recetas/pasta/video-pincho-ravioli-queso-calabaza_201903185c8f96fe0cf21910dc9c8db7.html</td>\n",
       "      <td>0</td>\n",
       "    </tr>\n",
       "  </tbody>\n",
       "</table>\n",
       "<p>86 rows × 6 columns</p>\n",
       "</div>"
      ],
      "text/plain": [
       "                                                                                                  titulo  \\\n",
       "5                                  Karlos Arguiñano: \"Esta es la forma más sencilla de hacer alcachofas\"   \n",
       "69                   La ensalada exótica de Arguiñano: de escarola, fresas, aguacate y un aliño especial   \n",
       "77                             Karlos Arguiñano sorprende con una ensalada de escarola, fresa y aguacate   \n",
       "130        Karlos Arguiñano: Las formas más variadas y saludables de elaborar unos cogollos refrescantes   \n",
       "158      ¿Te apasionan las berenjenas? Disfruta de las recetas más ricas, rápidas y fáciles de Arguiñano   \n",
       "...                                                                                                  ...   \n",
       "1974  El juego por el Día de la Lasaña: ¿Cuál ha sido la receta de lasaña más vista de Karlos Arguiñano?   \n",
       "1990                                                          Cazuela de arroz, achicoria y huevo cocido   \n",
       "1999                                                               Receta de Fideos con verduras y pollo   \n",
       "2000                                            Receta de Macarrones con compota de tomate y champiñones   \n",
       "2012                                                               Pincho de ravioli de queso y calabaza   \n",
       "\n",
       "      categoria ingredientes elaboracion  \\\n",
       "5     ensaladas           []               \n",
       "69    ensaladas           []               \n",
       "77    ensaladas           []               \n",
       "130   ensaladas           []               \n",
       "158   ensaladas           []               \n",
       "...         ...          ...         ...   \n",
       "1974      pasta           []               \n",
       "1990      pasta           []               \n",
       "1999      pasta           []               \n",
       "2000      pasta           []               \n",
       "2012      pasta           []               \n",
       "\n",
       "                                                                                                                                                                            link  \\\n",
       "5                                 https://www.antena3.com/programas/karlos-arguinano/recetas/ensaladas/forma-mas-sencilla-hacer-alcachofas_202404216620c75cc0b95c0001023a3c.html   \n",
       "69                                     https://www.antena3.com/programas/karlos-arguinano/recetas/ensaladas/escarola-fresas-aguacate-alino_20230524646df87c910a1b0001d95a8a.html   \n",
       "77                                   https://www.antena3.com/programas/karlos-arguinano/recetas/ensaladas/ensalada-escarola-fresa-aguacate_2023032964242122a1e0b90001dd3ccd.html   \n",
       "130                             https://www.antena3.com/programas/karlos-arguinano/recetas/ensaladas/variadas-saludables-elaborar-cogollos_2022071462cff57b98b3200001cfc1ef.html   \n",
       "158   https://www.antena3.com/programas/karlos-arguinano/recetas/ensaladas/apasionan-berenjenas-disfruta-recetas-mas-ricas-rapidas-faciles_202203296242cb5043a63f0001cc438f.html   \n",
       "...                                                                                                                                                                          ...   \n",
       "1974                          https://www.antena3.com/programas/karlos-arguinano/recetas/pasta/juego-dia-lasana-cual-sido-receta-mas-vista_202007295f21431b6cf6da000157a0e1.html   \n",
       "1990                            https://www.antena3.com/programas/karlos-arguinano/recetas/pasta/cazuela-de-arroz-achicoria-y-huevo-cocido_202001225e283cca0cf2ac911f7577b2.html   \n",
       "1999                                https://www.antena3.com/programas/karlos-arguinano/recetas/pasta/receta-de-fideos-con-verduras-y-pollo_201909305d91eda40cf2ebc7f5a3b176.html   \n",
       "2000             https://www.antena3.com/programas/karlos-arguinano/recetas/pasta/receta-de-macarrones-con-compota-de-tomate-y-champinones_201909245d89f69a0cf20dcdcc48908c.html   \n",
       "2012                                  https://www.antena3.com/programas/karlos-arguinano/recetas/pasta/video-pincho-ravioli-queso-calabaza_201903185c8f96fe0cf21910dc9c8db7.html   \n",
       "\n",
       "      total_ingredientes  \n",
       "5                      0  \n",
       "69                     0  \n",
       "77                     0  \n",
       "130                    0  \n",
       "158                    0  \n",
       "...                  ...  \n",
       "1974                   0  \n",
       "1990                   0  \n",
       "1999                   0  \n",
       "2000                   0  \n",
       "2012                   0  \n",
       "\n",
       "[86 rows x 6 columns]"
      ]
     },
     "execution_count": 153,
     "metadata": {},
     "output_type": "execute_result"
    }
   ],
   "source": [
    "df_antena3[(df_antena3['elaboracion'].str.len() == 0) & (df_antena3['total_ingredientes'] == 0)]"
   ]
  },
  {
   "cell_type": "code",
   "execution_count": 154,
   "metadata": {},
   "outputs": [
    {
     "data": {
      "text/html": [
       "<div>\n",
       "<style scoped>\n",
       "    .dataframe tbody tr th:only-of-type {\n",
       "        vertical-align: middle;\n",
       "    }\n",
       "\n",
       "    .dataframe tbody tr th {\n",
       "        vertical-align: top;\n",
       "    }\n",
       "\n",
       "    .dataframe thead th {\n",
       "        text-align: right;\n",
       "    }\n",
       "</style>\n",
       "<table border=\"1\" class=\"dataframe\">\n",
       "  <thead>\n",
       "    <tr style=\"text-align: right;\">\n",
       "      <th></th>\n",
       "      <th>titulo</th>\n",
       "      <th>categoria</th>\n",
       "      <th>ingredientes</th>\n",
       "      <th>elaboracion</th>\n",
       "      <th>link</th>\n",
       "      <th>total_ingredientes</th>\n",
       "    </tr>\n",
       "  </thead>\n",
       "  <tbody>\n",
       "    <tr>\n",
       "      <th>14</th>\n",
       "      <td>Arguiñano, sobre la ensalada de endibias asadas y cremoso de gorgonzola: \"¡Qué ganas tengo de hincarle el diente!\"</td>\n",
       "      <td>ensaladas</td>\n",
       "      <td>[8 endibias, Sal, 40 g de mantequilla, Para las salsas:, 225 g de queso gorgonzola, 100 ml de aceite de girasol aromatizado con ajo, 150 g de nueces peladas, 150 ml de aceite de oliva virgen extra, Sal, Perejil, Pon el queso gorgonzola en un vaso americano, vierte la mitad del aceite aromatizado con ajo y tritura bien con una batidora eléctrica. Vierte el resto del aceite (ajos incluidos) y sigue triturando hasta que los ingredientes queden bien integrados., Calienta una sartén con la mitad ...</td>\n",
       "      <td></td>\n",
       "      <td>https://www.antena3.com/programas/karlos-arguinano/recetas/ensaladas/ensalada-endibias-asadas-cremoso-gorgonzola_2024030465e5a59129d8140001716cf6.html</td>\n",
       "      <td>15</td>\n",
       "    </tr>\n",
       "    <tr>\n",
       "      <th>15</th>\n",
       "      <td>Receta de cogollos de lechuga a la plancha con atún, de Karlos Arguiñano</td>\n",
       "      <td>ensaladas</td>\n",
       "      <td>[6 cogollos de lechuga, 200 g de atún en aceite, 1 cebolla roja pequeña, 10 g de pistachos pelados, 10 g de avellanas peladas, 1 cucharada de arándanos deshidratados, 1 cucharada de miel, Aceite de oliva virgen extra, Vinagre de manzana, Sal, Perejil, Para hacer la vinagreta, mezcla en un bol la miel con 2 cucharadas de vinagre y 100 ml de aceite. Bate los ingredientes con una varilla de mano., Pica los pistachos, las avellanas y los arándanos, y agrégalos al bol. Remueve los ingredientes y ...</td>\n",
       "      <td></td>\n",
       "      <td>https://www.antena3.com/programas/karlos-arguinano/recetas/ensaladas/cogollos-lechuga-plancha-atun_2024022665dc7690344c980001c04730.html</td>\n",
       "      <td>16</td>\n",
       "    </tr>\n",
       "    <tr>\n",
       "      <th>16</th>\n",
       "      <td>Ensalada de repollo y zanahoria con manzana y mostaza, de Arguiñano</td>\n",
       "      <td>ensaladas</td>\n",
       "      <td>[½ repollo morado, 3 zanahorias, 1 manzana Granny Smith, Zumo de 1 limón, 2 cucharadas de vinagre de manzana, 1 cucharada de semillas de hinojo, 2 cucharadas de mostaza de Dijon, 150 g de mahonesa, Sal, Perejil, Pon el zumo del limón en un bol grande. Añade el vinagre, las semillas de hinojo, la mostaza y la mahonesa. Mezcla los ingredientes y remuévelos con una varilla manual hasta que queden bien integrados. Reserva el aliño., Corta los repollos en juliana fina y ponlos en un bol grande., ...</td>\n",
       "      <td></td>\n",
       "      <td>https://www.antena3.com/programas/karlos-arguinano/recetas/ensaladas/ensalada-repollo-zanahoria-manzana-mostaza_2024022265d739514129260001ceec3b.html</td>\n",
       "      <td>15</td>\n",
       "    </tr>\n",
       "    <tr>\n",
       "      <th>101</th>\n",
       "      <td>Un entrante de gala de Arguiñano: endibias con queso azul y nueces</td>\n",
       "      <td>ensaladas</td>\n",
       "      <td>[2-3 endibias, 150 g de queso azul, 12 nueces peladas, 6 orejones de albaricoque, 1 pera, 1 cucharada de miel, Aceite de oliva virgen extra, vinagre, perejil, Pon la miel en un bote de cristal, vierte 1 cucharada de vinagre y 2-3 cucharadas de aceite. Tapa el bote y bate los ingredientes. Reserva el aliño., Corta la base de las endibias, separa las hojas exteriores (las más grandes) y ponlas en una fuente. Pica finamente las hojas centrales y ponlas en un bol. Pica los orejones en daditos y ...</td>\n",
       "      <td></td>\n",
       "      <td>https://www.antena3.com/programas/karlos-arguinano/recetas/ensaladas/endibias-queso-azul-nueces_2022122263a4416e3a2bb40001322545.html</td>\n",
       "      <td>12</td>\n",
       "    </tr>\n",
       "    <tr>\n",
       "      <th>106</th>\n",
       "      <td>¡Boniato a todas horas! El protagonista en las recetas de invierno de Karlos Arguiñano</td>\n",
       "      <td>ensaladas</td>\n",
       "      <td>[Recuerda que las cremas son una buena opción para introducir en la dieta de los más pequeños un sinfín de hortalizas que de otra manera se negarían a comer.]</td>\n",
       "      <td></td>\n",
       "      <td>https://www.antena3.com/programas/karlos-arguinano/recetas/ensaladas/boniato-protagonista-invierno_2022111763762351bbdbfb0001b0a32a.html</td>\n",
       "      <td>1</td>\n",
       "    </tr>\n",
       "    <tr>\n",
       "      <th>...</th>\n",
       "      <td>...</td>\n",
       "      <td>...</td>\n",
       "      <td>...</td>\n",
       "      <td>...</td>\n",
       "      <td>...</td>\n",
       "      <td>...</td>\n",
       "    </tr>\n",
       "    <tr>\n",
       "      <th>1950</th>\n",
       "      <td>Receta de fideos marineros, de Karlos Arguiñano</td>\n",
       "      <td>pasta</td>\n",
       "      <td>[225 g de fideo nº 2, 1 calamar mediano limpio, 1 rape mediano limpio (con huesos y cabeza), 12 almejas, 12 mejillones, 1 pimiento verde, ½ pimiento rojo, 3 dientes de ajo, 1 ñora, 1 huevo, aceite de oliva virgen extra, vinagre, sal, 1 cucharadita de pimentón, 10 hebras de azafrán, perejil, Calienta abundante agua en una cazuela. Agrega los huesos y cabeza del rape, unas ramas de perejil y una pizca de sal. Cuece los ingredientes durante 15 minutos (retira la espuma que sube a la superficie)...</td>\n",
       "      <td></td>\n",
       "      <td>https://www.antena3.com/programas/karlos-arguinano/recetas/pasta/fideos-marineros_2021122261c30d10bda5150001b0f5e2.html</td>\n",
       "      <td>25</td>\n",
       "    </tr>\n",
       "    <tr>\n",
       "      <th>1975</th>\n",
       "      <td>Las mejores recetas de arroz de Karlos Arguiñano</td>\n",
       "      <td>pasta</td>\n",
       "      <td>[Arroz con costilla y secreto ibérico]</td>\n",
       "      <td></td>\n",
       "      <td>https://www.antena3.com/programas/karlos-arguinano/recetas/pasta/mejores-recetas-arroz-karlos-arguinano_202006285ef85d923c943200016721a4.html</td>\n",
       "      <td>1</td>\n",
       "    </tr>\n",
       "    <tr>\n",
       "      <th>1981</th>\n",
       "      <td>La receta de arroz marinero con aprovechamiento, de Karlos Arguiñano</td>\n",
       "      <td>pasta</td>\n",
       "      <td>[300 g de arroz , 1 cabeza de gallo, 1 rodaja de salmón, 12 mejillones, 200 g de aros de calamar, 12 langostinos  , 1 pimiento verde, 1 zanahoria, 1 puerro , 3 dientes de ajo, 1 cebolleta, 100 ml de vino blanco, aceite de oliva virgen extra, sal, pimienta, perejil, Calienta un poco de aceite en una cazuela grande, agrega las cabezas de los langostinos y del gallo, la parte verde del puerro (bien limpia), 2 dientes de ajo aplastados (con piel) y unas ramas de perejil. Rehoga y cubre todo con ...</td>\n",
       "      <td></td>\n",
       "      <td>https://www.antena3.com/programas/karlos-arguinano/recetas/pasta/arroz-marinero-de-karlos-arguinano_202004305eaabee580205c0001f74883.html</td>\n",
       "      <td>26</td>\n",
       "    </tr>\n",
       "    <tr>\n",
       "      <th>1989</th>\n",
       "      <td>Canelón de tuétano y ostra con pulpo</td>\n",
       "      <td>pasta</td>\n",
       "      <td>[Para el relleno del canelón:, Picar todos los ingredientes y mezclar., Poner a punto de sal y pimienta., Para el acabado del canelón:, Colocar el relleno dentro del carpaccio y montar el canelón. Es importante que cuando este enrollado, se corte una parte del papel de horno haciendo así que el canelón se quede en la esquina y sea mas fácil su colocación en el plato., Para la limpieza del pulpo:, Con el pulpo descongelado, previamente 24h y con ayuda de un cepillo, limpiar bien todas las ven...</td>\n",
       "      <td></td>\n",
       "      <td>https://www.antena3.com/programas/karlos-arguinano/recetas/pasta/canelon-de-tuetano-y-ostra-con-pulpo_202001315e340ec20cf2c51a166482c5.html</td>\n",
       "      <td>30</td>\n",
       "    </tr>\n",
       "    <tr>\n",
       "      <th>1995</th>\n",
       "      <td>Receta de tallarines frescos con hongos de Karlos Arguiñano</td>\n",
       "      <td>pasta</td>\n",
       "      <td>[300 g de harina, 3 huevos, 600 g de hongos (boletus), 24 ajos frescos, 1 cebolleta, 75 ml de vino, 250 ml de salsa de tomate, 100 g de queso parmesano, Aceite de oliva virgen extra, Sal, Pimienta negra, Perejil, Mezcla en un bol, la harina, los huevos, una pizca de sal y 2 cucharadas de aceite. Al principio mezcla los ingredientes con la batidora eléctrica de varillas y después amásala con las manos. Haz una bola y deja reposar durante 1 hora., Divide la masa en 8 trozos, redondéalos y estí...</td>\n",
       "      <td></td>\n",
       "      <td>https://www.antena3.com/programas/karlos-arguinano/recetas/pasta/tallarines-frescos-hongos_201911185dd264fe0cf2d1a8f19f7d18.html</td>\n",
       "      <td>19</td>\n",
       "    </tr>\n",
       "  </tbody>\n",
       "</table>\n",
       "<p>163 rows × 6 columns</p>\n",
       "</div>"
      ],
      "text/plain": [
       "                                                                                                                  titulo  \\\n",
       "14    Arguiñano, sobre la ensalada de endibias asadas y cremoso de gorgonzola: \"¡Qué ganas tengo de hincarle el diente!\"   \n",
       "15                                              Receta de cogollos de lechuga a la plancha con atún, de Karlos Arguiñano   \n",
       "16                                                   Ensalada de repollo y zanahoria con manzana y mostaza, de Arguiñano   \n",
       "101                                                   Un entrante de gala de Arguiñano: endibias con queso azul y nueces   \n",
       "106                               ¡Boniato a todas horas! El protagonista en las recetas de invierno de Karlos Arguiñano   \n",
       "...                                                                                                                  ...   \n",
       "1950                                                                     Receta de fideos marineros, de Karlos Arguiñano   \n",
       "1975                                                                    Las mejores recetas de arroz de Karlos Arguiñano   \n",
       "1981                                                La receta de arroz marinero con aprovechamiento, de Karlos Arguiñano   \n",
       "1989                                                                                Canelón de tuétano y ostra con pulpo   \n",
       "1995                                                         Receta de tallarines frescos con hongos de Karlos Arguiñano   \n",
       "\n",
       "      categoria  \\\n",
       "14    ensaladas   \n",
       "15    ensaladas   \n",
       "16    ensaladas   \n",
       "101   ensaladas   \n",
       "106   ensaladas   \n",
       "...         ...   \n",
       "1950      pasta   \n",
       "1975      pasta   \n",
       "1981      pasta   \n",
       "1989      pasta   \n",
       "1995      pasta   \n",
       "\n",
       "                                                                                                                                                                                                                                                                                                                                                                                                                                                                                                             ingredientes  \\\n",
       "14    [8 endibias, Sal, 40 g de mantequilla, Para las salsas:, 225 g de queso gorgonzola, 100 ml de aceite de girasol aromatizado con ajo, 150 g de nueces peladas, 150 ml de aceite de oliva virgen extra, Sal, Perejil, Pon el queso gorgonzola en un vaso americano, vierte la mitad del aceite aromatizado con ajo y tritura bien con una batidora eléctrica. Vierte el resto del aceite (ajos incluidos) y sigue triturando hasta que los ingredientes queden bien integrados., Calienta una sartén con la mitad ...   \n",
       "15    [6 cogollos de lechuga, 200 g de atún en aceite, 1 cebolla roja pequeña, 10 g de pistachos pelados, 10 g de avellanas peladas, 1 cucharada de arándanos deshidratados, 1 cucharada de miel, Aceite de oliva virgen extra, Vinagre de manzana, Sal, Perejil, Para hacer la vinagreta, mezcla en un bol la miel con 2 cucharadas de vinagre y 100 ml de aceite. Bate los ingredientes con una varilla de mano., Pica los pistachos, las avellanas y los arándanos, y agrégalos al bol. Remueve los ingredientes y ...   \n",
       "16    [½ repollo morado, 3 zanahorias, 1 manzana Granny Smith, Zumo de 1 limón, 2 cucharadas de vinagre de manzana, 1 cucharada de semillas de hinojo, 2 cucharadas de mostaza de Dijon, 150 g de mahonesa, Sal, Perejil, Pon el zumo del limón en un bol grande. Añade el vinagre, las semillas de hinojo, la mostaza y la mahonesa. Mezcla los ingredientes y remuévelos con una varilla manual hasta que queden bien integrados. Reserva el aliño., Corta los repollos en juliana fina y ponlos en un bol grande., ...   \n",
       "101   [2-3 endibias, 150 g de queso azul, 12 nueces peladas, 6 orejones de albaricoque, 1 pera, 1 cucharada de miel, Aceite de oliva virgen extra, vinagre, perejil, Pon la miel en un bote de cristal, vierte 1 cucharada de vinagre y 2-3 cucharadas de aceite. Tapa el bote y bate los ingredientes. Reserva el aliño., Corta la base de las endibias, separa las hojas exteriores (las más grandes) y ponlas en una fuente. Pica finamente las hojas centrales y ponlas en un bol. Pica los orejones en daditos y ...   \n",
       "106                                                                                                                                                                                                                                                                                                                                                        [Recuerda que las cremas son una buena opción para introducir en la dieta de los más pequeños un sinfín de hortalizas que de otra manera se negarían a comer.]   \n",
       "...                                                                                                                                                                                                                                                                                                                                                                                                                                                                                                                   ...   \n",
       "1950  [225 g de fideo nº 2, 1 calamar mediano limpio, 1 rape mediano limpio (con huesos y cabeza), 12 almejas, 12 mejillones, 1 pimiento verde, ½ pimiento rojo, 3 dientes de ajo, 1 ñora, 1 huevo, aceite de oliva virgen extra, vinagre, sal, 1 cucharadita de pimentón, 10 hebras de azafrán, perejil, Calienta abundante agua en una cazuela. Agrega los huesos y cabeza del rape, unas ramas de perejil y una pizca de sal. Cuece los ingredientes durante 15 minutos (retira la espuma que sube a la superficie)...   \n",
       "1975                                                                                                                                                                                                                                                                                                                                                                                                                                                                               [Arroz con costilla y secreto ibérico]   \n",
       "1981  [300 g de arroz , 1 cabeza de gallo, 1 rodaja de salmón, 12 mejillones, 200 g de aros de calamar, 12 langostinos  , 1 pimiento verde, 1 zanahoria, 1 puerro , 3 dientes de ajo, 1 cebolleta, 100 ml de vino blanco, aceite de oliva virgen extra, sal, pimienta, perejil, Calienta un poco de aceite en una cazuela grande, agrega las cabezas de los langostinos y del gallo, la parte verde del puerro (bien limpia), 2 dientes de ajo aplastados (con piel) y unas ramas de perejil. Rehoga y cubre todo con ...   \n",
       "1989  [Para el relleno del canelón:, Picar todos los ingredientes y mezclar., Poner a punto de sal y pimienta., Para el acabado del canelón:, Colocar el relleno dentro del carpaccio y montar el canelón. Es importante que cuando este enrollado, se corte una parte del papel de horno haciendo así que el canelón se quede en la esquina y sea mas fácil su colocación en el plato., Para la limpieza del pulpo:, Con el pulpo descongelado, previamente 24h y con ayuda de un cepillo, limpiar bien todas las ven...   \n",
       "1995  [300 g de harina, 3 huevos, 600 g de hongos (boletus), 24 ajos frescos, 1 cebolleta, 75 ml de vino, 250 ml de salsa de tomate, 100 g de queso parmesano, Aceite de oliva virgen extra, Sal, Pimienta negra, Perejil, Mezcla en un bol, la harina, los huevos, una pizca de sal y 2 cucharadas de aceite. Al principio mezcla los ingredientes con la batidora eléctrica de varillas y después amásala con las manos. Haz una bola y deja reposar durante 1 hora., Divide la masa en 8 trozos, redondéalos y estí...   \n",
       "\n",
       "     elaboracion  \\\n",
       "14                 \n",
       "15                 \n",
       "16                 \n",
       "101                \n",
       "106                \n",
       "...          ...   \n",
       "1950               \n",
       "1975               \n",
       "1981               \n",
       "1989               \n",
       "1995               \n",
       "\n",
       "                                                                                                                                                        link  \\\n",
       "14    https://www.antena3.com/programas/karlos-arguinano/recetas/ensaladas/ensalada-endibias-asadas-cremoso-gorgonzola_2024030465e5a59129d8140001716cf6.html   \n",
       "15                  https://www.antena3.com/programas/karlos-arguinano/recetas/ensaladas/cogollos-lechuga-plancha-atun_2024022665dc7690344c980001c04730.html   \n",
       "16     https://www.antena3.com/programas/karlos-arguinano/recetas/ensaladas/ensalada-repollo-zanahoria-manzana-mostaza_2024022265d739514129260001ceec3b.html   \n",
       "101                    https://www.antena3.com/programas/karlos-arguinano/recetas/ensaladas/endibias-queso-azul-nueces_2022122263a4416e3a2bb40001322545.html   \n",
       "106                 https://www.antena3.com/programas/karlos-arguinano/recetas/ensaladas/boniato-protagonista-invierno_2022111763762351bbdbfb0001b0a32a.html   \n",
       "...                                                                                                                                                      ...   \n",
       "1950                                 https://www.antena3.com/programas/karlos-arguinano/recetas/pasta/fideos-marineros_2021122261c30d10bda5150001b0f5e2.html   \n",
       "1975           https://www.antena3.com/programas/karlos-arguinano/recetas/pasta/mejores-recetas-arroz-karlos-arguinano_202006285ef85d923c943200016721a4.html   \n",
       "1981               https://www.antena3.com/programas/karlos-arguinano/recetas/pasta/arroz-marinero-de-karlos-arguinano_202004305eaabee580205c0001f74883.html   \n",
       "1989             https://www.antena3.com/programas/karlos-arguinano/recetas/pasta/canelon-de-tuetano-y-ostra-con-pulpo_202001315e340ec20cf2c51a166482c5.html   \n",
       "1995                        https://www.antena3.com/programas/karlos-arguinano/recetas/pasta/tallarines-frescos-hongos_201911185dd264fe0cf2d1a8f19f7d18.html   \n",
       "\n",
       "      total_ingredientes  \n",
       "14                    15  \n",
       "15                    16  \n",
       "16                    15  \n",
       "101                   12  \n",
       "106                    1  \n",
       "...                  ...  \n",
       "1950                  25  \n",
       "1975                   1  \n",
       "1981                  26  \n",
       "1989                  30  \n",
       "1995                  19  \n",
       "\n",
       "[163 rows x 6 columns]"
      ]
     },
     "execution_count": 154,
     "metadata": {},
     "output_type": "execute_result"
    }
   ],
   "source": [
    "df_antena3[(df_antena3['elaboracion'].str.len() == 0) & (df_antena3['total_ingredientes'] > 0)]"
   ]
  },
  {
   "cell_type": "code",
   "execution_count": 199,
   "metadata": {},
   "outputs": [
    {
     "data": {
      "text/plain": [
       "0"
      ]
     },
     "execution_count": 199,
     "metadata": {},
     "output_type": "execute_result"
    }
   ],
   "source": [
    "df_antena3[df_antena3.duplicated(subset=['link'])].shape[0]"
   ]
  },
  {
   "cell_type": "code",
   "execution_count": 173,
   "metadata": {},
   "outputs": [
    {
     "name": "stdout",
     "output_type": "stream",
     "text": [
      "Receta de alcachofas en salsa, de Karlos Arguiñano: \"Una explosión de sabores\" \n",
      "--- https://www.antena3.com/programas/karlos-arguinano/recetas/ensaladas/alcachofas-salsa_202405076639f35dc18d400001bd4ea5.html\n",
      "['8 huevos de codorniz' '1 cebolla' '2 dientes de ajo' '75 ml de txakoli'\n",
      " '400 ml de caldo de verduras' '1 cucharada de harina'\n",
      " 'Aceite de oliva virgen extra' 'Sal' 'Perejil'\n",
      " 'Calienta 3-4 cucharadas de aceite en una cazuela. Pela los dientes de ajo, lamínalos y agrégalos. Pela la cebolla, córtala en dados e incorpórala. Sazona y rehoga las hortalizas a fuego suave-medio durante 6-8 minutos. Agrega la harina y rehógala un poco. Vierte el txakoli, mezcla bien y dale un hervor. Vierte el caldo de verdura y cocina la salsa a fuego suave durante 10 minutos y pásala a una jarra. Tritura los ingredientes con una batidora eléctrica hasta conseguir una salsa homogénea.'\n",
      " 'Pon las alcachofas en una tartera (cazuela amplia y baja), viérteles la salsa por encima y cocínalas en la salsa durante 3-4 minutos. Corta los huevos por la mitad.'\n",
      " 'Reparte las alcachofas y los huevos en 4 platos, espolvoréalos con un poco de perejil picado y decóralos con unas hojas de perejil.'] \n",
      "--- TOTAL INGREDIENTES 12\n",
      "Una receta sencilla, sabrosa y rápida de Joseba Arguiñano: ensaladilla ibérica \n",
      "--- https://www.antena3.com/programas/karlos-arguinano/recetas/ensaladas/ensaladilla-iberica_20240506662f629fc0b95c0001d10f67.html\n",
      "['3 patatas' '3 zanahorias' '3 huevos' '4 lonchas de queso havarti'\n",
      " '150 g de fuet' '4 lonchas finas de cecina'\n",
      " '4 lonchas finas de jamón ibérico' '8 lonchas finas de lomo ibérico'\n",
      " '150 g de mahonesa' 'Sal' 'Picos de pan' 'Perejil'] \n",
      "--- TOTAL INGREDIENTES 12\n",
      "Brócoli con champiñones y patatas, de Arguiñano: \"La receta que levanta el ánimo y ayuda al crecimiento del pelo\" \n",
      "--- https://www.antena3.com/programas/karlos-arguinano/recetas/ensaladas/brocoli-champinones-patatas_20240502663214bcc0b95c0001d6e7be.html\n",
      "['6 champiñones' '2 patatas' '4 dientes de ajo'\n",
      " '125 g de jamón serrano (en lochas finas)' 'Aceite de oliva virgen extra'\n",
      " 'Sal' 'Perejil'] \n",
      "--- TOTAL INGREDIENTES 7\n"
     ]
    }
   ],
   "source": [
    "for _, row in df_antena3.head(3).iterrows():\n",
    "    print(f\"{row['titulo']} \\n--- {row['link']}\")\n",
    "    print(f\"{row['ingredientes']} \\n--- TOTAL INGREDIENTES {row['total_ingredientes']}\")"
   ]
  },
  {
   "cell_type": "code",
   "execution_count": 222,
   "metadata": {},
   "outputs": [
    {
     "name": "stdout",
     "output_type": "stream",
     "text": [
      "RECETA DE ALCACHOFAS EN SALSA, DE KARLOS ARGUIÑANO: \"UNA EXPLOSIÓN DE SABORES\"\n",
      "------\n",
      "Pon los huevos en una cazuela, cúbrelos con agua y cuécelos durante 5 minutos a partir del momento en que el agua empiece a hervir. Refresca, pela y resérvalos.\n",
      "Calienta agua en la olla rápida y añade unas ramas de perejil.\n",
      "Pela las alcachofas retirándoles 4-5 capas de hojas. Recórtalas por la base y por la parte superior, e introdúcelas en la olla. Sazónalas, cierra la olla y cuécelas durante 4 minutos a partir del momento en que suba la válvula. Retíralas y escúrrelas boca abajo en una fuente grande. Córtalas por la mitad y resérvalas.\n",
      " Sazónalas, cierra la olla y cuécelas durante 4 minutos | antena3.com \n"
     ]
    }
   ],
   "source": [
    "print(df_antena3.iloc[0]['titulo'].upper())\n",
    "print(\"------\")\n",
    "print(df_antena3.iloc[0][\"elaboracion\"])"
   ]
  },
  {
   "cell_type": "markdown",
   "metadata": {},
   "source": [
    "#### Saber Vivir"
   ]
  },
  {
   "cell_type": "code",
   "execution_count": 165,
   "metadata": {},
   "outputs": [
    {
     "data": {
      "text/html": [
       "<div>\n",
       "<style scoped>\n",
       "    .dataframe tbody tr th:only-of-type {\n",
       "        vertical-align: middle;\n",
       "    }\n",
       "\n",
       "    .dataframe tbody tr th {\n",
       "        vertical-align: top;\n",
       "    }\n",
       "\n",
       "    .dataframe thead th {\n",
       "        text-align: right;\n",
       "    }\n",
       "</style>\n",
       "<table border=\"1\" class=\"dataframe\">\n",
       "  <thead>\n",
       "    <tr style=\"text-align: right;\">\n",
       "      <th></th>\n",
       "      <th>titulo</th>\n",
       "      <th>categoria</th>\n",
       "      <th>ingredientes</th>\n",
       "      <th>elaboracion</th>\n",
       "      <th>link</th>\n",
       "    </tr>\n",
       "  </thead>\n",
       "  <tbody>\n",
       "    <tr>\n",
       "      <th>0</th>\n",
       "      <td>Crema de calabaza</td>\n",
       "      <td>Caldos y cremas</td>\n",
       "      <td>[1 puerro pequeño, Media cebolla, 1 zanahoria, Medio tomate, 2 patatas, Medio kilo de calabaza, 1 brick de nata líquida, 1 pastilla de caldo (opcional), 2 vasos de agua, Aceite de oliva y sal]</td>\n",
       "      <td>Pon un chorrito de aceite en una cacerola. Pica el puerro y la cebolla y ponlos a pochar.\n",
       "Cuando esté dorada la cebolla, añade las patatas peladas y cortadas en cuadraditos y dóralas.\n",
       "A continuación, añade la zanahoria cortada en rodajas, el medio tomate y la calabaza cortada en cuadraditos. Remueve y rehoga todo bien.\n",
       "Luego, añade los dos vasos de agua, la pastilla de caldo y sal al gusto. Déjalo cocer hasta que la verdura se ablande bien.\n",
       "Pasa la verdura por la batidora, quitando las hebra...</td>\n",
       "      <td>https://www.sabervivir.es//nutricion-y-cocina/recetas-de-cocina/crema-de-calabaza</td>\n",
       "    </tr>\n",
       "    <tr>\n",
       "      <th>1</th>\n",
       "      <td>Crema de champiñones y queso</td>\n",
       "      <td>Caldos y cremas</td>\n",
       "      <td>[600 gr. champiñones, 4 vasos leche, 2 vaso de caldo ave, 4 quesitos, 2 patatas, 50 gr. setas, 2 lonchas jamón cocido, 3 cucharadas aceite, 4 cucharadas harina, Sal, pimienta blanca]</td>\n",
       "      <td>Limpiar los champiñones de arenilla, hervirlos en agua con sal y zumo de limón durante 10 minutos.\n",
       "Aparte pocharemos las patatas peladas y cortadas en láminas finas en un recipiente con algo de aceite, cuando empiecen a ablandarse añadiremos los champiñones cocidos, los quesitos y algo de harina, rehogar todo unos minutos.\n",
       "Cubrir con el caldo de ave, la leche y el caldo de la cocción de los champiñones, cocer todo durante 25 minutos, triturar con la batidora y salpimentar.\n",
       "Servir bien calien...</td>\n",
       "      <td>https://www.sabervivir.es//nutricion-y-cocina/recetas-de-cocina/crema-de-champinones-y-queso</td>\n",
       "    </tr>\n",
       "    <tr>\n",
       "      <th>2</th>\n",
       "      <td>Crema de coles de Bruselas con jamón</td>\n",
       "      <td>Caldos y cremas</td>\n",
       "      <td>[12 coles de Bruselas, 5 patatas medianas, Aceite de oliva, Pimienta blanca molida, 1 taza de caldo de verduras, 1 cebolla mediana, 2 dientes de ajo, Sal, Media taza de nata líquida]</td>\n",
       "      <td>Pelar, lavar y picar las patatas, la cebolla y los dientes de ajo. Lavar las coles y quitar las hojas exteriores.\n",
       "Calentar el aceite en una sartén amplia y rehogar la cebolla y los ajos durante 10 minutos. Incorporar la patata y las coles.\n",
       "Cubrir con caldo o agua, salpimentar y cocer durante 25-30 minutos, hasta que todo esté tierno.\n",
       "Triturar con la batidora y pasar por el pasapuré.\n",
       "Calentar de nuevo, añadir la nata, rectificar de sal y pimienta. Servir caliente.</td>\n",
       "      <td>https://www.sabervivir.es//nutricion-y-cocina/recetas-de-cocina/crema-de-coles-de-bruselas-con-jamon</td>\n",
       "    </tr>\n",
       "    <tr>\n",
       "      <th>3</th>\n",
       "      <td>Crema de espárragos con caviar</td>\n",
       "      <td>Caldos y cremas</td>\n",
       "      <td>[1 manojo de espárragos verdes, 1 litro de caldo de verduras, 1 lata pequeña de caviar de mújol, unas hojas de cilantro fresco, 1 cucharada de pimienta roja machacada, 50 ml. vino blanco seco, 100 ml. nata líquida, Sal y pimienta, Aceite de oliva virgen extra]</td>\n",
       "      <td>Cocer durante 30 minutos las puntas en el caldo de verduras junto con el vino blanco.\n",
       "Añadir la nata líquida y pasar por la túrmix hasta conseguir una crema homogénea.\n",
       "Colar, salpimentar y reservar en la nevera hasta que se enfríe. Este proceso durará unas 3 horas.\n",
       "En el momento de llevar a la mesa, asegúrate bien de repartir la crema en los platos. Después, distribuye el caviar por encima de cada plato.\n",
       "Empieza a espolvorear con cilantro muy picado y con una pizca de pimienta roja, que adem...</td>\n",
       "      <td>https://www.sabervivir.es//nutricion-y-cocina/recetas-de-cocina/crema-de-esparragos-con-caviar</td>\n",
       "    </tr>\n",
       "    <tr>\n",
       "      <th>4</th>\n",
       "      <td>Crema de espinacas</td>\n",
       "      <td>Caldos y cremas</td>\n",
       "      <td>[2 dientes de ajo picados, 1 vaso de arroz cocido, 1 litro de caldo, 1 cebolla picada, 4 clavos de olor, 200 cc. nata líquida, Cominos molidos, 800 gr. espinacas, 2 vasos de leche, 3 cucharadas de mantequilla, Nuez moscada, sal y pimienta]</td>\n",
       "      <td>Cocer las espinacas en agua hirviendo con sal durante un minuto. Enfriarlas bajo agua y escurrirlas. Derretir la mantequilla en una sartén. Añadir la cebolla y el ajo y sofreír a fuego lento unos 15 minutos.\n",
       "Sacar la sartén del fuego y echar las especias. Con un batidor de brazo, echar la cebolla y lo demás junto con la mitad del caldo, el arroz y las espinacas.\n",
       "Triturar hasta formar un puré fino. Ligar el puré con el resto del caldo, la leche y la nata líquida. Salpimentar y servir.</td>\n",
       "      <td>https://www.sabervivir.es//nutricion-y-cocina/recetas-de-cocina/crema-de-espinacas</td>\n",
       "    </tr>\n",
       "  </tbody>\n",
       "</table>\n",
       "</div>"
      ],
      "text/plain": [
       "                                 titulo        categoria  \\\n",
       "0                     Crema de calabaza  Caldos y cremas   \n",
       "1          Crema de champiñones y queso  Caldos y cremas   \n",
       "2  Crema de coles de Bruselas con jamón  Caldos y cremas   \n",
       "3        Crema de espárragos con caviar  Caldos y cremas   \n",
       "4                    Crema de espinacas  Caldos y cremas   \n",
       "\n",
       "                                                                                                                                                                                                                                                           ingredientes  \\\n",
       "0                                                                      [1 puerro pequeño, Media cebolla, 1 zanahoria, Medio tomate, 2 patatas, Medio kilo de calabaza, 1 brick de nata líquida, 1 pastilla de caldo (opcional), 2 vasos de agua, Aceite de oliva y sal]   \n",
       "1                                                                                [600 gr. champiñones, 4 vasos leche, 2 vaso de caldo ave, 4 quesitos, 2 patatas, 50 gr. setas, 2 lonchas jamón cocido, 3 cucharadas aceite, 4 cucharadas harina, Sal, pimienta blanca]   \n",
       "2                                                                                [12 coles de Bruselas, 5 patatas medianas, Aceite de oliva, Pimienta blanca molida, 1 taza de caldo de verduras, 1 cebolla mediana, 2 dientes de ajo, Sal, Media taza de nata líquida]   \n",
       "3  [1 manojo de espárragos verdes, 1 litro de caldo de verduras, 1 lata pequeña de caviar de mújol, unas hojas de cilantro fresco, 1 cucharada de pimienta roja machacada, 50 ml. vino blanco seco, 100 ml. nata líquida, Sal y pimienta, Aceite de oliva virgen extra]   \n",
       "4                       [2 dientes de ajo picados, 1 vaso de arroz cocido, 1 litro de caldo, 1 cebolla picada, 4 clavos de olor, 200 cc. nata líquida, Cominos molidos, 800 gr. espinacas, 2 vasos de leche, 3 cucharadas de mantequilla, Nuez moscada, sal y pimienta]   \n",
       "\n",
       "                                                                                                                                                                                                                                                                                                                                                                                                                                                                                                           elaboracion  \\\n",
       "0  Pon un chorrito de aceite en una cacerola. Pica el puerro y la cebolla y ponlos a pochar.\n",
       "Cuando esté dorada la cebolla, añade las patatas peladas y cortadas en cuadraditos y dóralas.\n",
       "A continuación, añade la zanahoria cortada en rodajas, el medio tomate y la calabaza cortada en cuadraditos. Remueve y rehoga todo bien.\n",
       "Luego, añade los dos vasos de agua, la pastilla de caldo y sal al gusto. Déjalo cocer hasta que la verdura se ablande bien.\n",
       "Pasa la verdura por la batidora, quitando las hebra...   \n",
       "1  Limpiar los champiñones de arenilla, hervirlos en agua con sal y zumo de limón durante 10 minutos.\n",
       "Aparte pocharemos las patatas peladas y cortadas en láminas finas en un recipiente con algo de aceite, cuando empiecen a ablandarse añadiremos los champiñones cocidos, los quesitos y algo de harina, rehogar todo unos minutos.\n",
       "Cubrir con el caldo de ave, la leche y el caldo de la cocción de los champiñones, cocer todo durante 25 minutos, triturar con la batidora y salpimentar.\n",
       "Servir bien calien...   \n",
       "2                                  Pelar, lavar y picar las patatas, la cebolla y los dientes de ajo. Lavar las coles y quitar las hojas exteriores.\n",
       "Calentar el aceite en una sartén amplia y rehogar la cebolla y los ajos durante 10 minutos. Incorporar la patata y las coles.\n",
       "Cubrir con caldo o agua, salpimentar y cocer durante 25-30 minutos, hasta que todo esté tierno.\n",
       "Triturar con la batidora y pasar por el pasapuré.\n",
       "Calentar de nuevo, añadir la nata, rectificar de sal y pimienta. Servir caliente.   \n",
       "3  Cocer durante 30 minutos las puntas en el caldo de verduras junto con el vino blanco.\n",
       "Añadir la nata líquida y pasar por la túrmix hasta conseguir una crema homogénea.\n",
       "Colar, salpimentar y reservar en la nevera hasta que se enfríe. Este proceso durará unas 3 horas.\n",
       "En el momento de llevar a la mesa, asegúrate bien de repartir la crema en los platos. Después, distribuye el caviar por encima de cada plato.\n",
       "Empieza a espolvorear con cilantro muy picado y con una pizca de pimienta roja, que adem...   \n",
       "4             Cocer las espinacas en agua hirviendo con sal durante un minuto. Enfriarlas bajo agua y escurrirlas. Derretir la mantequilla en una sartén. Añadir la cebolla y el ajo y sofreír a fuego lento unos 15 minutos.\n",
       "Sacar la sartén del fuego y echar las especias. Con un batidor de brazo, echar la cebolla y lo demás junto con la mitad del caldo, el arroz y las espinacas.\n",
       "Triturar hasta formar un puré fino. Ligar el puré con el resto del caldo, la leche y la nata líquida. Salpimentar y servir.   \n",
       "\n",
       "                                                                                                   link  \n",
       "0                     https://www.sabervivir.es//nutricion-y-cocina/recetas-de-cocina/crema-de-calabaza  \n",
       "1          https://www.sabervivir.es//nutricion-y-cocina/recetas-de-cocina/crema-de-champinones-y-queso  \n",
       "2  https://www.sabervivir.es//nutricion-y-cocina/recetas-de-cocina/crema-de-coles-de-bruselas-con-jamon  \n",
       "3        https://www.sabervivir.es//nutricion-y-cocina/recetas-de-cocina/crema-de-esparragos-con-caviar  \n",
       "4                    https://www.sabervivir.es//nutricion-y-cocina/recetas-de-cocina/crema-de-espinacas  "
      ]
     },
     "execution_count": 165,
     "metadata": {},
     "output_type": "execute_result"
    }
   ],
   "source": [
    "df_saber_vivir.head(5)"
   ]
  },
  {
   "cell_type": "code",
   "execution_count": 166,
   "metadata": {},
   "outputs": [
    {
     "data": {
      "text/plain": [
       "titulo          0\n",
       "categoria       0\n",
       "ingredientes    0\n",
       "elaboracion     0\n",
       "link            0\n",
       "dtype: int64"
      ]
     },
     "execution_count": 166,
     "metadata": {},
     "output_type": "execute_result"
    }
   ],
   "source": [
    "df_saber_vivir.isna().sum()"
   ]
  },
  {
   "cell_type": "code",
   "execution_count": 167,
   "metadata": {},
   "outputs": [
    {
     "data": {
      "text/plain": [
       "categoria\n",
       "Postres y dulces        141\n",
       "Ensaladas y verduras     49\n",
       "Pastas y pizzas          46\n",
       "Pescados y Mariscos      45\n",
       "Celebraciones            39\n",
       "Pasteles salados         37\n",
       "Carnes                   35\n",
       "Caldos y cremas          34\n",
       "Legumbres                20\n",
       "Arroces                  15\n",
       "Name: count, dtype: Int64"
      ]
     },
     "execution_count": 167,
     "metadata": {},
     "output_type": "execute_result"
    }
   ],
   "source": [
    "df_saber_vivir[\"categoria\"].value_counts()"
   ]
  },
  {
   "cell_type": "code",
   "execution_count": 183,
   "metadata": {},
   "outputs": [
    {
     "data": {
      "text/plain": [
       "count    461.000000\n",
       "mean       8.661605\n",
       "std        2.600673\n",
       "min        3.000000\n",
       "25%        7.000000\n",
       "50%        9.000000\n",
       "75%       11.000000\n",
       "max       17.000000\n",
       "Name: total_ingredientes, dtype: float64"
      ]
     },
     "execution_count": 183,
     "metadata": {},
     "output_type": "execute_result"
    }
   ],
   "source": [
    "df_saber_vivir['total_ingredientes'] = df_saber_vivir['ingredientes'].apply(len)\n",
    "df_saber_vivir['total_ingredientes'].describe()"
   ]
  },
  {
   "cell_type": "code",
   "execution_count": 184,
   "metadata": {},
   "outputs": [
    {
     "data": {
      "text/plain": [
       "total_ingredientes\n",
       "9     69\n",
       "8     66\n",
       "7     62\n",
       "11    57\n",
       "10    48\n",
       "6     41\n",
       "5     31\n",
       "12    30\n",
       "4     17\n",
       "13    15\n",
       "14    14\n",
       "3      7\n",
       "15     3\n",
       "17     1\n",
       "Name: count, dtype: int64"
      ]
     },
     "execution_count": 184,
     "metadata": {},
     "output_type": "execute_result"
    }
   ],
   "source": [
    "df_saber_vivir['total_ingredientes'].value_counts()"
   ]
  },
  {
   "cell_type": "code",
   "execution_count": 189,
   "metadata": {},
   "outputs": [
    {
     "data": {
      "text/plain": [
       "0"
      ]
     },
     "execution_count": 189,
     "metadata": {},
     "output_type": "execute_result"
    }
   ],
   "source": [
    "df_saber_vivir[(df_saber_vivir['elaboracion'].str.len() == 0)].shape[0]"
   ]
  },
  {
   "cell_type": "code",
   "execution_count": 198,
   "metadata": {},
   "outputs": [
    {
     "data": {
      "text/plain": [
       "0"
      ]
     },
     "execution_count": 198,
     "metadata": {},
     "output_type": "execute_result"
    }
   ],
   "source": [
    "df_saber_vivir[df_saber_vivir.duplicated(subset=['link'])].shape[0]"
   ]
  },
  {
   "cell_type": "code",
   "execution_count": 172,
   "metadata": {},
   "outputs": [
    {
     "name": "stdout",
     "output_type": "stream",
     "text": [
      "Crema de calabaza \n",
      "--- https://www.sabervivir.es//nutricion-y-cocina/recetas-de-cocina/crema-de-calabaza\n",
      "['1 puerro pequeño' 'Media cebolla' '1 zanahoria' 'Medio tomate'\n",
      " '2 patatas' 'Medio kilo de calabaza' '1 brick de nata líquida'\n",
      " '1 pastilla de caldo (opcional)' '2 vasos de agua'\n",
      " 'Aceite de oliva y sal'] \n",
      "--- TOTAL INGREDIENTES 10\n",
      "Crema de champiñones y queso \n",
      "--- https://www.sabervivir.es//nutricion-y-cocina/recetas-de-cocina/crema-de-champinones-y-queso\n",
      "['600 gr. champiñones' '4 vasos leche' '2 vaso de caldo ave' '4 quesitos'\n",
      " '2 patatas' '50 gr. setas' '2 lonchas jamón cocido' '3 cucharadas aceite'\n",
      " '4 cucharadas harina' 'Sal, pimienta blanca'] \n",
      "--- TOTAL INGREDIENTES 10\n",
      "Crema de coles de Bruselas con jamón \n",
      "--- https://www.sabervivir.es//nutricion-y-cocina/recetas-de-cocina/crema-de-coles-de-bruselas-con-jamon\n",
      "['12 coles de Bruselas' '5 patatas medianas' 'Aceite de oliva'\n",
      " 'Pimienta blanca molida' '1 taza de caldo de verduras'\n",
      " '1 cebolla mediana' '2 dientes de ajo' 'Sal' 'Media taza de nata líquida'] \n",
      "--- TOTAL INGREDIENTES 9\n"
     ]
    }
   ],
   "source": [
    "for _, row in df_saber_vivir.head(3).iterrows():\n",
    "    print(f\"{row['titulo']} \\n--- {row['link']}\")\n",
    "    print(f\"{row['ingredientes']} \\n--- TOTAL INGREDIENTES {row['total_ingredientes']}\")"
   ]
  },
  {
   "cell_type": "code",
   "execution_count": 221,
   "metadata": {},
   "outputs": [
    {
     "name": "stdout",
     "output_type": "stream",
     "text": [
      "CREMA DE CALABAZA\n",
      "------\n",
      "Pon un chorrito de aceite en una cacerola. Pica el puerro y la cebolla y ponlos a pochar.\n",
      "Cuando esté dorada la cebolla, añade las patatas peladas y cortadas en cuadraditos y dóralas.\n",
      "A continuación, añade la zanahoria cortada en rodajas, el medio tomate y la calabaza cortada en cuadraditos. Remueve y rehoga todo bien.\n",
      "Luego, añade los dos vasos de agua, la pastilla de caldo y sal al gusto. Déjalo cocer hasta que la verdura se ablande bien.\n",
      "Pasa la verdura por la batidora, quitando las hebras más grandes que hayan quedado.\n",
      "Añade nata líquida al gusto y vuelve a batir.\n"
     ]
    }
   ],
   "source": [
    "print(df_saber_vivir.iloc[0]['titulo'].upper())\n",
    "print(\"------\")\n",
    "print(df_saber_vivir.iloc[0][\"elaboracion\"])"
   ]
  },
  {
   "cell_type": "markdown",
   "metadata": {},
   "source": [
    "#### El Mundo"
   ]
  },
  {
   "cell_type": "code",
   "execution_count": 177,
   "metadata": {},
   "outputs": [
    {
     "data": {
      "text/html": [
       "<div>\n",
       "<style scoped>\n",
       "    .dataframe tbody tr th:only-of-type {\n",
       "        vertical-align: middle;\n",
       "    }\n",
       "\n",
       "    .dataframe tbody tr th {\n",
       "        vertical-align: top;\n",
       "    }\n",
       "\n",
       "    .dataframe thead th {\n",
       "        text-align: right;\n",
       "    }\n",
       "</style>\n",
       "<table border=\"1\" class=\"dataframe\">\n",
       "  <thead>\n",
       "    <tr style=\"text-align: right;\">\n",
       "      <th></th>\n",
       "      <th>titulo</th>\n",
       "      <th>categoria</th>\n",
       "      <th>ingredientes</th>\n",
       "      <th>elaboracion</th>\n",
       "      <th>link</th>\n",
       "    </tr>\n",
       "  </thead>\n",
       "  <tbody>\n",
       "    <tr>\n",
       "      <th>0</th>\n",
       "      <td>Tarta de queso al horno cremosa, receta casera y fácil</td>\n",
       "      <td>postres</td>\n",
       "      <td>[Molde de tarta de 28 cm, 200 gramos de galletas maría, 120 gramos de mantequilla, 800 ml de nata, 800 gramos de queso crema (tipo philadelphia), 250 gramos de queso fresco, 8 huevos, 300 gramos de azúcar]</td>\n",
       "      <td>1.- En un vaso de batidora, trituramos las galletas maría.\n",
       "2.- Seguidamente agregamos la mantequilla pomada o derretida y seguimos mezclando. Con esto haremos la pequeña base de galleta de la tarta.\n",
       "3.- Colocamos la mezcla en la base del molde.\n",
       "\n",
       "4.- En el mismo vaso de batidora. Colocamos los huevos, la nata, el azúcar y los quesos. trituramos bien. Podemos hacerlo en Thermomix o también a mano. Como mejor os venga o mejores utensilios tengáis.\n",
       "\n",
       "5.- Precalentamos el horno a 180º e introducim...</td>\n",
       "      <td>https://recetasdecocina.elmundo.es/2018/12/tarta-queso-horno-receta-cremosa.html</td>\n",
       "    </tr>\n",
       "    <tr>\n",
       "      <th>1</th>\n",
       "      <td>Crema catalana, receta fácil y casera</td>\n",
       "      <td>postres</td>\n",
       "      <td>[8 huevos, 200 gramos de azúcar, 1 litro de leche, 40 gramos de maicena, 1 rama de canela, 1 corteza de limón, 1 vaina de vainilla]</td>\n",
       "      <td>1.- Por una parte mezclamos muy bien el azúcar con las yemas de huevo.\n",
       "2.- En un cazo ponemos a calentar la leche con la piel de limón, la canela y la vaina de vainilla. Debe solo calentarse para poder infusionar, no debe hervir.\n",
       "3.- En un vaso mezclamos la maicena con un poco de leche y agregamos esta mezcla a la leche inicial.\n",
       "4.- Vamos moviendo hasta que este con el espesor que deseemos a fuego lento. Este es el punto de crear una crema pastelera perfecta.\n",
       "5.- Ahora mezclamos la leche inf...</td>\n",
       "      <td>https://recetasdecocina.elmundo.es/2015/08/crema-catalana-receta-casera.html</td>\n",
       "    </tr>\n",
       "    <tr>\n",
       "      <th>2</th>\n",
       "      <td>Cómo hacer tiramisú, el mejor postre italiano</td>\n",
       "      <td>postres</td>\n",
       "      <td>[120 gramos de azúcar, 4 huevos, 400 gramos de bizcochos de soletilla o Savoidardi italianos, 400 ml de café + 100 ml de agua, 500 gramos de queso Mascarpone, Cacao amargo en polvo, 1 chorrito de licor de naranja (opcional, se lo añadiremos al agua y el café)]</td>\n",
       "      <td>1.- Para hacer la crema de Mascarpone vamos a utilizar dos recipientes ya que se hace en dos partes y luego se mezclan.2.- En el primer recipiente montamos las yemas con el azúcar (con solo la mitad, 60 gramos) lo mezclamos con una varilla hasta que tengamos una mezcla homogénea, después añadimos el queso Mascarpone hasta que no quede ningún grumo.\n",
       "3.- En el segundo bol introducimos las claras de los huevos y el azúcar restante y lo ponemos a punto de nieve. Podemos incorporar una pizca de s...</td>\n",
       "      <td>https://recetasdecocina.elmundo.es/2012/09/tiramisu-como-hacer-su-receta-original.html</td>\n",
       "    </tr>\n",
       "    <tr>\n",
       "      <th>3</th>\n",
       "      <td>Pasta de arroz con pollo y verduras, receta fácil y san</td>\n",
       "      <td>pasta</td>\n",
       "      <td>[200 gramos de pasta de arroz, 1 ceboleta, Medio pimiento verde, Media pechuga de pollo, 1 chorrito de salsa de soja, 1 chorrito de salsa teriyaki]</td>\n",
       "      <td>1.- Comenzamos en un wok salteando las verduras. Yo he usado cebolleta y pimiento verde pero podéis ponerle las que más os gusten, o lo que tenéis en la nevera.\n",
       "2.- A los 5 minutos de saltear las verduras, añadimos el pollo cortado en tiras. Cocinamos. \n",
       "3.- Los fideos de arroz normalmente se hacen poniéndolo unos minutos en agua caliente, no suele hacer falta cocerlos. \n",
       "4.- Ahora una vez estén listos, los añadimos al wok y salteamos con las verduras y el pollo. En este punto añadimos las sal...</td>\n",
       "      <td>https://recetasdecocina.elmundo.es/2024/05/pasta-de-arroz-con-pollo-y-verduras-receta-facil-y-san.html</td>\n",
       "    </tr>\n",
       "    <tr>\n",
       "      <th>4</th>\n",
       "      <td>Pasta e fagioli, receta fácil y casera</td>\n",
       "      <td>pasta</td>\n",
       "      <td>[1 bote de judías pintas cocidas, 200 gramos de pasta corta pequeña, 1 cebolla, 1 apio, 1 zanahoria, 1 pimiento rojo, 1 cucharada de pimentón de la vera, 1 cucharada de concentrado de tomate o 2 cucharadas de tomate frito. , Caldo de pollo]</td>\n",
       "      <td>1.- Comenzamos haciendo un buen sofrito de verduras. Yo he usado las que he citado pero podéis poner las que dispongáis en ese momento, eso si, recomiendo el apio que le da muy buen sabor y es una verduras que se usa mucho en Italia. Pochamos unos 10 minutos.\n",
       "2.- Cuando esté bien pochadito, agregamos una cucharada de pimentón y el tomate. Cocinamos otro par de minutos. \n",
       "3.- Ahora agregamos las judías escurridas y la pasta. Tradicionalmente se usa este judía pinta y la pasta que veis, pero po...</td>\n",
       "      <td>https://recetasdecocina.elmundo.es/2024/04/pasta-e-fagioli-receta-facil-casera.html</td>\n",
       "    </tr>\n",
       "  </tbody>\n",
       "</table>\n",
       "</div>"
      ],
      "text/plain": [
       "                                                    titulo categoria  \\\n",
       "0   Tarta de queso al horno cremosa, receta casera y fácil   postres   \n",
       "1                    Crema catalana, receta fácil y casera   postres   \n",
       "2            Cómo hacer tiramisú, el mejor postre italiano   postres   \n",
       "3  Pasta de arroz con pollo y verduras, receta fácil y san     pasta   \n",
       "4                   Pasta e fagioli, receta fácil y casera     pasta   \n",
       "\n",
       "                                                                                                                                                                                                                                                           ingredientes  \\\n",
       "0                                                         [Molde de tarta de 28 cm, 200 gramos de galletas maría, 120 gramos de mantequilla, 800 ml de nata, 800 gramos de queso crema (tipo philadelphia), 250 gramos de queso fresco, 8 huevos, 300 gramos de azúcar]   \n",
       "1                                                                                                                                   [8 huevos, 200 gramos de azúcar, 1 litro de leche, 40 gramos de maicena, 1 rama de canela, 1 corteza de limón, 1 vaina de vainilla]   \n",
       "2  [120 gramos de azúcar, 4 huevos, 400 gramos de bizcochos de soletilla o Savoidardi italianos, 400 ml de café + 100 ml de agua, 500 gramos de queso Mascarpone, Cacao amargo en polvo, 1 chorrito de licor de naranja (opcional, se lo añadiremos al agua y el café)]   \n",
       "3                                                                                                                   [200 gramos de pasta de arroz, 1 ceboleta, Medio pimiento verde, Media pechuga de pollo, 1 chorrito de salsa de soja, 1 chorrito de salsa teriyaki]   \n",
       "4                      [1 bote de judías pintas cocidas, 200 gramos de pasta corta pequeña, 1 cebolla, 1 apio, 1 zanahoria, 1 pimiento rojo, 1 cucharada de pimentón de la vera, 1 cucharada de concentrado de tomate o 2 cucharadas de tomate frito. , Caldo de pollo]   \n",
       "\n",
       "                                                                                                                                                                                                                                                                                                                                                                                                                                                                                                           elaboracion  \\\n",
       "0  1.- En un vaso de batidora, trituramos las galletas maría.\n",
       "2.- Seguidamente agregamos la mantequilla pomada o derretida y seguimos mezclando. Con esto haremos la pequeña base de galleta de la tarta.\n",
       "3.- Colocamos la mezcla en la base del molde.\n",
       "\n",
       "4.- En el mismo vaso de batidora. Colocamos los huevos, la nata, el azúcar y los quesos. trituramos bien. Podemos hacerlo en Thermomix o también a mano. Como mejor os venga o mejores utensilios tengáis.\n",
       "\n",
       "5.- Precalentamos el horno a 180º e introducim...   \n",
       "1  1.- Por una parte mezclamos muy bien el azúcar con las yemas de huevo.\n",
       "2.- En un cazo ponemos a calentar la leche con la piel de limón, la canela y la vaina de vainilla. Debe solo calentarse para poder infusionar, no debe hervir.\n",
       "3.- En un vaso mezclamos la maicena con un poco de leche y agregamos esta mezcla a la leche inicial.\n",
       "4.- Vamos moviendo hasta que este con el espesor que deseemos a fuego lento. Este es el punto de crear una crema pastelera perfecta.\n",
       "5.- Ahora mezclamos la leche inf...   \n",
       "2  1.- Para hacer la crema de Mascarpone vamos a utilizar dos recipientes ya que se hace en dos partes y luego se mezclan.2.- En el primer recipiente montamos las yemas con el azúcar (con solo la mitad, 60 gramos) lo mezclamos con una varilla hasta que tengamos una mezcla homogénea, después añadimos el queso Mascarpone hasta que no quede ningún grumo.\n",
       "3.- En el segundo bol introducimos las claras de los huevos y el azúcar restante y lo ponemos a punto de nieve. Podemos incorporar una pizca de s...   \n",
       "3  1.- Comenzamos en un wok salteando las verduras. Yo he usado cebolleta y pimiento verde pero podéis ponerle las que más os gusten, o lo que tenéis en la nevera.\n",
       "2.- A los 5 minutos de saltear las verduras, añadimos el pollo cortado en tiras. Cocinamos. \n",
       "3.- Los fideos de arroz normalmente se hacen poniéndolo unos minutos en agua caliente, no suele hacer falta cocerlos. \n",
       "4.- Ahora una vez estén listos, los añadimos al wok y salteamos con las verduras y el pollo. En este punto añadimos las sal...   \n",
       "4  1.- Comenzamos haciendo un buen sofrito de verduras. Yo he usado las que he citado pero podéis poner las que dispongáis en ese momento, eso si, recomiendo el apio que le da muy buen sabor y es una verduras que se usa mucho en Italia. Pochamos unos 10 minutos.\n",
       "2.- Cuando esté bien pochadito, agregamos una cucharada de pimentón y el tomate. Cocinamos otro par de minutos. \n",
       "3.- Ahora agregamos las judías escurridas y la pasta. Tradicionalmente se usa este judía pinta y la pasta que veis, pero po...   \n",
       "\n",
       "                                                                                                     link  \n",
       "0                        https://recetasdecocina.elmundo.es/2018/12/tarta-queso-horno-receta-cremosa.html  \n",
       "1                            https://recetasdecocina.elmundo.es/2015/08/crema-catalana-receta-casera.html  \n",
       "2                  https://recetasdecocina.elmundo.es/2012/09/tiramisu-como-hacer-su-receta-original.html  \n",
       "3  https://recetasdecocina.elmundo.es/2024/05/pasta-de-arroz-con-pollo-y-verduras-receta-facil-y-san.html  \n",
       "4                     https://recetasdecocina.elmundo.es/2024/04/pasta-e-fagioli-receta-facil-casera.html  "
      ]
     },
     "execution_count": 177,
     "metadata": {},
     "output_type": "execute_result"
    }
   ],
   "source": [
    "df_el_mundo.head(5)"
   ]
  },
  {
   "cell_type": "code",
   "execution_count": 178,
   "metadata": {},
   "outputs": [
    {
     "data": {
      "text/plain": [
       "titulo          0\n",
       "categoria       0\n",
       "ingredientes    0\n",
       "elaboracion     0\n",
       "link            0\n",
       "dtype: int64"
      ]
     },
     "execution_count": 178,
     "metadata": {},
     "output_type": "execute_result"
    }
   ],
   "source": [
    "df_el_mundo.isna().sum()"
   ]
  },
  {
   "cell_type": "code",
   "execution_count": 179,
   "metadata": {},
   "outputs": [
    {
     "data": {
      "text/plain": [
       "categoria\n",
       "sanas-faciles               112\n",
       "aperitivos-faciles           38\n",
       "carne                        29\n",
       "verduras                     29\n",
       "guisos                       26\n",
       "pescados                     26\n",
       "recetas-mariscos             22\n",
       "pasta                        17\n",
       "pollo                        13\n",
       "patatas-huevos-tortillas     11\n",
       "arroz                        11\n",
       "salsas                       11\n",
       "sopas-caldos                 10\n",
       "legumbres                     7\n",
       "bizcochos                     6\n",
       "masas-panes                   6\n",
       "orientales                    5\n",
       "vegetarianas                  3\n",
       "cremas                        3\n",
       "postres                       3\n",
       "Name: count, dtype: Int64"
      ]
     },
     "execution_count": 179,
     "metadata": {},
     "output_type": "execute_result"
    }
   ],
   "source": [
    "df_el_mundo[\"categoria\"].value_counts()"
   ]
  },
  {
   "cell_type": "code",
   "execution_count": 181,
   "metadata": {},
   "outputs": [
    {
     "data": {
      "text/plain": [
       "count    388.000000\n",
       "mean       8.067010\n",
       "std        3.119604\n",
       "min        2.000000\n",
       "25%        6.000000\n",
       "50%        8.000000\n",
       "75%       10.000000\n",
       "max       18.000000\n",
       "Name: total_ingredientes, dtype: float64"
      ]
     },
     "execution_count": 181,
     "metadata": {},
     "output_type": "execute_result"
    }
   ],
   "source": [
    "df_el_mundo['total_ingredientes'] = df_el_mundo['ingredientes'].apply(len)\n",
    "df_el_mundo['total_ingredientes'].describe()"
   ]
  },
  {
   "cell_type": "code",
   "execution_count": 182,
   "metadata": {},
   "outputs": [
    {
     "data": {
      "text/plain": [
       "total_ingredientes\n",
       "9     55\n",
       "8     47\n",
       "6     42\n",
       "5     42\n",
       "7     41\n",
       "4     38\n",
       "10    29\n",
       "11    28\n",
       "12    21\n",
       "13    14\n",
       "14     9\n",
       "3      8\n",
       "18     6\n",
       "15     4\n",
       "2      4\n",
       "Name: count, dtype: int64"
      ]
     },
     "execution_count": 182,
     "metadata": {},
     "output_type": "execute_result"
    }
   ],
   "source": [
    "df_el_mundo['total_ingredientes'].value_counts()"
   ]
  },
  {
   "cell_type": "code",
   "execution_count": 190,
   "metadata": {},
   "outputs": [
    {
     "data": {
      "text/plain": [
       "2"
      ]
     },
     "execution_count": 190,
     "metadata": {},
     "output_type": "execute_result"
    }
   ],
   "source": [
    "df_el_mundo[(df_el_mundo['elaboracion'].str.len() == 0)].shape[0]"
   ]
  },
  {
   "cell_type": "code",
   "execution_count": 191,
   "metadata": {},
   "outputs": [
    {
     "data": {
      "text/html": [
       "<div>\n",
       "<style scoped>\n",
       "    .dataframe tbody tr th:only-of-type {\n",
       "        vertical-align: middle;\n",
       "    }\n",
       "\n",
       "    .dataframe tbody tr th {\n",
       "        vertical-align: top;\n",
       "    }\n",
       "\n",
       "    .dataframe thead th {\n",
       "        text-align: right;\n",
       "    }\n",
       "</style>\n",
       "<table border=\"1\" class=\"dataframe\">\n",
       "  <thead>\n",
       "    <tr style=\"text-align: right;\">\n",
       "      <th></th>\n",
       "      <th>titulo</th>\n",
       "      <th>categoria</th>\n",
       "      <th>ingredientes</th>\n",
       "      <th>elaboracion</th>\n",
       "      <th>link</th>\n",
       "      <th>total_ingredientes</th>\n",
       "    </tr>\n",
       "  </thead>\n",
       "  <tbody>\n",
       "    <tr>\n",
       "      <th>142</th>\n",
       "      <td>Berenjenas a la plancha, receta fácil y casera</td>\n",
       "      <td>verduras</td>\n",
       "      <td>[2 berenjenas pequeñas, Leche, Sal, Un poco de aceite de oliva]</td>\n",
       "      <td></td>\n",
       "      <td>https://recetasdecocina.elmundo.es/2023/05/berenjenas-a-la-plancha-receta-facil-casera.html</td>\n",
       "      <td>4</td>\n",
       "    </tr>\n",
       "    <tr>\n",
       "      <th>354</th>\n",
       "      <td>Berenjenas a la plancha, receta fácil y casera</td>\n",
       "      <td>sanas-faciles</td>\n",
       "      <td>[2 berenjenas pequeñas, Leche, Sal, Un poco de aceite de oliva]</td>\n",
       "      <td></td>\n",
       "      <td>https://recetasdecocina.elmundo.es/2023/05/berenjenas-a-la-plancha-receta-facil-casera.html</td>\n",
       "      <td>4</td>\n",
       "    </tr>\n",
       "  </tbody>\n",
       "</table>\n",
       "</div>"
      ],
      "text/plain": [
       "                                             titulo      categoria  \\\n",
       "142  Berenjenas a la plancha, receta fácil y casera       verduras   \n",
       "354  Berenjenas a la plancha, receta fácil y casera  sanas-faciles   \n",
       "\n",
       "                                                        ingredientes  \\\n",
       "142  [2 berenjenas pequeñas, Leche, Sal, Un poco de aceite de oliva]   \n",
       "354  [2 berenjenas pequeñas, Leche, Sal, Un poco de aceite de oliva]   \n",
       "\n",
       "    elaboracion  \\\n",
       "142               \n",
       "354               \n",
       "\n",
       "                                                                                            link  \\\n",
       "142  https://recetasdecocina.elmundo.es/2023/05/berenjenas-a-la-plancha-receta-facil-casera.html   \n",
       "354  https://recetasdecocina.elmundo.es/2023/05/berenjenas-a-la-plancha-receta-facil-casera.html   \n",
       "\n",
       "     total_ingredientes  \n",
       "142                   4  \n",
       "354                   4  "
      ]
     },
     "execution_count": 191,
     "metadata": {},
     "output_type": "execute_result"
    }
   ],
   "source": [
    "df_el_mundo[(df_el_mundo['elaboracion'].str.len() == 0)]"
   ]
  },
  {
   "cell_type": "code",
   "execution_count": 195,
   "metadata": {},
   "outputs": [
    {
     "data": {
      "text/plain": [
       "(178, 6)"
      ]
     },
     "execution_count": 195,
     "metadata": {},
     "output_type": "execute_result"
    }
   ],
   "source": [
    "df_el_mundo[df_el_mundo.duplicated(subset=['link'])].shape"
   ]
  },
  {
   "cell_type": "code",
   "execution_count": 216,
   "metadata": {},
   "outputs": [],
   "source": [
    "example_duplicated_links = df_el_mundo[df_el_mundo.duplicated(subset=['link'])][:3]['link']"
   ]
  },
  {
   "cell_type": "code",
   "execution_count": 217,
   "metadata": {},
   "outputs": [
    {
     "data": {
      "text/html": [
       "<div>\n",
       "<style scoped>\n",
       "    .dataframe tbody tr th:only-of-type {\n",
       "        vertical-align: middle;\n",
       "    }\n",
       "\n",
       "    .dataframe tbody tr th {\n",
       "        vertical-align: top;\n",
       "    }\n",
       "\n",
       "    .dataframe thead th {\n",
       "        text-align: right;\n",
       "    }\n",
       "</style>\n",
       "<table border=\"1\" class=\"dataframe\">\n",
       "  <thead>\n",
       "    <tr style=\"text-align: right;\">\n",
       "      <th></th>\n",
       "      <th>titulo</th>\n",
       "      <th>categoria</th>\n",
       "    </tr>\n",
       "  </thead>\n",
       "  <tbody>\n",
       "    <tr>\n",
       "      <th>21</th>\n",
       "      <td>Sopa de arroz, receta tradicional y fácil</td>\n",
       "      <td>arroz</td>\n",
       "    </tr>\n",
       "    <tr>\n",
       "      <th>28</th>\n",
       "      <td>Arroz con rebozuelos y pollo</td>\n",
       "      <td>arroz</td>\n",
       "    </tr>\n",
       "    <tr>\n",
       "      <th>37</th>\n",
       "      <td>Caldo de Navidad, receta fácil y casera</td>\n",
       "      <td>pollo</td>\n",
       "    </tr>\n",
       "    <tr>\n",
       "      <th>42</th>\n",
       "      <td>Arroz con rebozuelos y pollo</td>\n",
       "      <td>pollo</td>\n",
       "    </tr>\n",
       "    <tr>\n",
       "      <th>46</th>\n",
       "      <td>Sopa de arroz, receta tradicional y fácil</td>\n",
       "      <td>sopas-caldos</td>\n",
       "    </tr>\n",
       "    <tr>\n",
       "      <th>48</th>\n",
       "      <td>Caldo de Navidad, receta fácil y casera</td>\n",
       "      <td>sopas-caldos</td>\n",
       "    </tr>\n",
       "    <tr>\n",
       "      <th>305</th>\n",
       "      <td>Sopa de arroz, receta tradicional y fácil</td>\n",
       "      <td>sanas-faciles</td>\n",
       "    </tr>\n",
       "    <tr>\n",
       "      <th>329</th>\n",
       "      <td>Caldo de Navidad, receta fácil y casera</td>\n",
       "      <td>sanas-faciles</td>\n",
       "    </tr>\n",
       "  </tbody>\n",
       "</table>\n",
       "</div>"
      ],
      "text/plain": [
       "                                        titulo      categoria\n",
       "21   Sopa de arroz, receta tradicional y fácil          arroz\n",
       "28                Arroz con rebozuelos y pollo          arroz\n",
       "37     Caldo de Navidad, receta fácil y casera          pollo\n",
       "42                Arroz con rebozuelos y pollo          pollo\n",
       "46   Sopa de arroz, receta tradicional y fácil   sopas-caldos\n",
       "48     Caldo de Navidad, receta fácil y casera   sopas-caldos\n",
       "305  Sopa de arroz, receta tradicional y fácil  sanas-faciles\n",
       "329    Caldo de Navidad, receta fácil y casera  sanas-faciles"
      ]
     },
     "execution_count": 217,
     "metadata": {},
     "output_type": "execute_result"
    }
   ],
   "source": [
    "df_el_mundo[df_el_mundo['link'].isin(example_duplicated_links)][['titulo','categoria']]"
   ]
  },
  {
   "cell_type": "code",
   "execution_count": 187,
   "metadata": {},
   "outputs": [
    {
     "name": "stdout",
     "output_type": "stream",
     "text": [
      "Tarta de queso al horno cremosa, receta casera y fácil \n",
      "--- https://recetasdecocina.elmundo.es/2018/12/tarta-queso-horno-receta-cremosa.html\n",
      "['Molde de tarta de 28 cm' '200 gramos de galletas maría'\n",
      " '120 gramos de mantequilla' '800 ml de nata'\n",
      " '800 gramos de queso crema (tipo philadelphia)'\n",
      " '250 gramos de queso fresco' '8 huevos' '300 gramos de azúcar'] \n",
      "--- TOTAL INGREDIENTES 8\n",
      "Crema catalana, receta fácil y casera \n",
      "--- https://recetasdecocina.elmundo.es/2015/08/crema-catalana-receta-casera.html\n",
      "['8 huevos' '200 gramos de azúcar' '1 litro de leche'\n",
      " '40 gramos de maicena' '1 rama de canela' '1 corteza de limón'\n",
      " '1 vaina de vainilla'] \n",
      "--- TOTAL INGREDIENTES 7\n",
      "Cómo hacer tiramisú, el mejor postre italiano \n",
      "--- https://recetasdecocina.elmundo.es/2012/09/tiramisu-como-hacer-su-receta-original.html\n",
      "['120 gramos de azúcar' '4 huevos'\n",
      " '400 gramos de bizcochos de soletilla o Savoidardi italianos'\n",
      " '400 ml de café + 100 ml de agua' '500 gramos de queso Mascarpone'\n",
      " 'Cacao amargo en polvo'\n",
      " '1 chorrito de licor de naranja (opcional, se lo añadiremos al agua y el café)'] \n",
      "--- TOTAL INGREDIENTES 7\n"
     ]
    }
   ],
   "source": [
    "for _, row in df_el_mundo.head(3).iterrows():\n",
    "    print(f\"{row['titulo']} \\n--- {row['link']}\")\n",
    "    print(f\"{row['ingredientes']} \\n--- TOTAL INGREDIENTES {row['total_ingredientes']}\")"
   ]
  },
  {
   "cell_type": "code",
   "execution_count": 218,
   "metadata": {},
   "outputs": [
    {
     "name": "stdout",
     "output_type": "stream",
     "text": [
      "TARTA DE QUESO AL HORNO CREMOSA, RECETA CASERA Y FÁCIL\n",
      "------\n",
      "1.- En un vaso de batidora, trituramos las galletas maría.\n",
      "2.- Seguidamente agregamos la mantequilla pomada o derretida y seguimos mezclando. Con esto haremos la pequeña base de galleta de la tarta.\n",
      "3.- Colocamos la mezcla en la base del molde.\n",
      "\n",
      "4.- En el mismo vaso de batidora. Colocamos los huevos, la nata, el azúcar y los quesos. trituramos bien. Podemos hacerlo en Thermomix o también a mano. Como mejor os venga o mejores utensilios tengáis.\n",
      "\n",
      "5.- Precalentamos el horno a 180º e introducimos durante 40 minutos con el calor arriba abajo. No os asustéis si cuando la saquéis está totalmente líquida. Dejamos enfriar la tarta y la introducimos en la nevera unas horas para que se enfríe. Cuando la partáis cuidado porque la parte interior debe quedar cremosa y así estará si seguís la receta al pie de la letra.\n",
      "Lo podéis presentar con una bola de helado de vainilla que le va genial.\n"
     ]
    }
   ],
   "source": [
    "print(df_el_mundo.iloc[0]['titulo'].upper())\n",
    "print(\"------\")\n",
    "print(df_el_mundo.iloc[0][\"elaboracion\"])"
   ]
  }
 ],
 "metadata": {
  "kernelspec": {
   "display_name": ".venv",
   "language": "python",
   "name": "python3"
  },
  "language_info": {
   "codemirror_mode": {
    "name": "ipython",
    "version": 3
   },
   "file_extension": ".py",
   "mimetype": "text/x-python",
   "name": "python",
   "nbconvert_exporter": "python",
   "pygments_lexer": "ipython3",
   "version": "3.12.3"
  }
 },
 "nbformat": 4,
 "nbformat_minor": 2
}
