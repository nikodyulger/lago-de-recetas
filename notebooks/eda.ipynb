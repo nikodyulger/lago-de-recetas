{
 "cells": [
  {
   "cell_type": "code",
   "execution_count": 2,
   "metadata": {},
   "outputs": [],
   "source": [
    "import awswrangler as wr\n",
    "import pandas as pd"
   ]
  },
  {
   "cell_type": "markdown",
   "metadata": {},
   "source": [
    "## Carga de datos"
   ]
  },
  {
   "cell_type": "code",
   "execution_count": 3,
   "metadata": {},
   "outputs": [],
   "source": [
    "df_hogar_mania = wr.s3.read_parquet(path='s3://raw-recipe-data-bucket/hogar_mania')\n",
    "df_antena3 = wr.s3.read_parquet(path='s3://raw-recipe-data-bucket/antena3')\n",
    "df_saber_vivir = wr.s3.read_parquet(path='s3://raw-recipe-data-bucket/saber_vivir')\n",
    "df_el_mundo = wr.s3.read_parquet(path='s3://raw-recipe-data-bucket/el_mundo')"
   ]
  },
  {
   "cell_type": "code",
   "execution_count": 4,
   "metadata": {},
   "outputs": [
    {
     "name": "stdout",
     "output_type": "stream",
     "text": [
      "Total recetas Hogar Mania: 7464\n",
      "Total recetas Antena3: 2022\n",
      "Total recetas Saber Vivir: 461\n",
      "Total recetas El Mundo: 388\n",
      "----------------\n",
      "Total recetas obtenidas: 10335\n"
     ]
    }
   ],
   "source": [
    "print(f\"Total recetas Hogar Mania: {df_hogar_mania.shape[0]}\")\n",
    "print(f\"Total recetas Antena3: {df_antena3.shape[0]}\")\n",
    "print(f\"Total recetas Saber Vivir: {df_saber_vivir.shape[0]}\")\n",
    "print(f\"Total recetas El Mundo: {df_el_mundo.shape[0]}\")\n",
    "print(\"----------------\")\n",
    "print(f\"Total recetas obtenidas: {df_hogar_mania.shape[0] + df_antena3.shape[0] + df_saber_vivir.shape[0] + df_el_mundo.shape[0]}\")"
   ]
  },
  {
   "cell_type": "code",
   "execution_count": 5,
   "metadata": {},
   "outputs": [
    {
     "data": {
      "text/plain": [
       "Index(['titulo', 'categoria', 'ingredientes', 'elaboracion', 'link'], dtype='object')"
      ]
     },
     "execution_count": 5,
     "metadata": {},
     "output_type": "execute_result"
    }
   ],
   "source": [
    "df_hogar_mania.columns"
   ]
  },
  {
   "cell_type": "code",
   "execution_count": 6,
   "metadata": {},
   "outputs": [
    {
     "name": "stdout",
     "output_type": "stream",
     "text": [
      "<class 'pandas.core.frame.DataFrame'>\n",
      "RangeIndex: 7464 entries, 0 to 7463\n",
      "Data columns (total 5 columns):\n",
      " #   Column        Non-Null Count  Dtype \n",
      "---  ------        --------------  ----- \n",
      " 0   titulo        7464 non-null   string\n",
      " 1   categoria     7464 non-null   string\n",
      " 2   ingredientes  7228 non-null   object\n",
      " 3   elaboracion   7464 non-null   string\n",
      " 4   link          7464 non-null   string\n",
      "dtypes: object(1), string(4)\n",
      "memory usage: 291.7+ KB\n"
     ]
    }
   ],
   "source": [
    "df_hogar_mania.info()"
   ]
  },
  {
   "cell_type": "markdown",
   "metadata": {},
   "source": [
    "### Análisis"
   ]
  },
  {
   "cell_type": "markdown",
   "metadata": {},
   "source": [
    "### Hogar Mania"
   ]
  },
  {
   "cell_type": "code",
   "execution_count": 10,
   "metadata": {},
   "outputs": [
    {
     "data": {
      "text/html": [
       "<div>\n",
       "<style scoped>\n",
       "    .dataframe tbody tr th:only-of-type {\n",
       "        vertical-align: middle;\n",
       "    }\n",
       "\n",
       "    .dataframe tbody tr th {\n",
       "        vertical-align: top;\n",
       "    }\n",
       "\n",
       "    .dataframe thead th {\n",
       "        text-align: right;\n",
       "    }\n",
       "</style>\n",
       "<table border=\"1\" class=\"dataframe\">\n",
       "  <thead>\n",
       "    <tr style=\"text-align: right;\">\n",
       "      <th></th>\n",
       "      <th>titulo</th>\n",
       "      <th>categoria</th>\n",
       "      <th>ingredientes</th>\n",
       "      <th>elaboracion</th>\n",
       "      <th>link</th>\n",
       "    </tr>\n",
       "  </thead>\n",
       "  <tbody>\n",
       "    <tr>\n",
       "      <th>0</th>\n",
       "      <td>Buñuelos de viento fáciles, la receta tradicio...</td>\n",
       "      <td>postres</td>\n",
       "      <td>[125 gr de harina, 30 gr de mantequilla, 1/4 l...</td>\n",
       "      <td>Otoño no es solo época de calabazas y castañas...</td>\n",
       "      <td>https://www.hogarmania.com//cocina/recetas/pos...</td>\n",
       "    </tr>\n",
       "    <tr>\n",
       "      <th>1</th>\n",
       "      <td>Corona de hojaldre de Navidad</td>\n",
       "      <td>postres</td>\n",
       "      <td>[2 láminas de hojaldre rectangular , 150 g de ...</td>\n",
       "      <td>Los polvorones, los turrones, los mazapanes o ...</td>\n",
       "      <td>https://www.hogarmania.com//cocina/recetas/pos...</td>\n",
       "    </tr>\n",
       "    <tr>\n",
       "      <th>2</th>\n",
       "      <td>Cafés de Navidad: Gingerbread Latte y Pumpkin ...</td>\n",
       "      <td>postres</td>\n",
       "      <td>[2 cucharadas de azúcar moreno suave, 1/2 cuch...</td>\n",
       "      <td>La temporada de invierno, junto a la época nav...</td>\n",
       "      <td>https://www.hogarmania.com//cocina/recetas/pos...</td>\n",
       "    </tr>\n",
       "    <tr>\n",
       "      <th>3</th>\n",
       "      <td>12 ideas para rellenar el roscón de Reyes</td>\n",
       "      <td>postres</td>\n",
       "      <td>None</td>\n",
       "      <td>El roscón de Reyes puede comerse solo, aunque ...</td>\n",
       "      <td>https://www.hogarmania.com//cocina/recetas/pos...</td>\n",
       "    </tr>\n",
       "    <tr>\n",
       "      <th>4</th>\n",
       "      <td>Mazapanes de Navidad</td>\n",
       "      <td>postres</td>\n",
       "      <td>[300 gr. de almendra molida , 370 gr. de leche...</td>\n",
       "      <td>Mezcla en un bol la almendra molida con la lec...</td>\n",
       "      <td>https://www.hogarmania.com//cocina/recetas/pos...</td>\n",
       "    </tr>\n",
       "  </tbody>\n",
       "</table>\n",
       "</div>"
      ],
      "text/plain": [
       "                                              titulo categoria  \\\n",
       "0  Buñuelos de viento fáciles, la receta tradicio...   postres   \n",
       "1                      Corona de hojaldre de Navidad   postres   \n",
       "2  Cafés de Navidad: Gingerbread Latte y Pumpkin ...   postres   \n",
       "3          12 ideas para rellenar el roscón de Reyes   postres   \n",
       "4                               Mazapanes de Navidad   postres   \n",
       "\n",
       "                                        ingredientes  \\\n",
       "0  [125 gr de harina, 30 gr de mantequilla, 1/4 l...   \n",
       "1  [2 láminas de hojaldre rectangular , 150 g de ...   \n",
       "2  [2 cucharadas de azúcar moreno suave, 1/2 cuch...   \n",
       "3                                               None   \n",
       "4  [300 gr. de almendra molida , 370 gr. de leche...   \n",
       "\n",
       "                                         elaboracion  \\\n",
       "0  Otoño no es solo época de calabazas y castañas...   \n",
       "1  Los polvorones, los turrones, los mazapanes o ...   \n",
       "2  La temporada de invierno, junto a la época nav...   \n",
       "3  El roscón de Reyes puede comerse solo, aunque ...   \n",
       "4  Mezcla en un bol la almendra molida con la lec...   \n",
       "\n",
       "                                                link  \n",
       "0  https://www.hogarmania.com//cocina/recetas/pos...  \n",
       "1  https://www.hogarmania.com//cocina/recetas/pos...  \n",
       "2  https://www.hogarmania.com//cocina/recetas/pos...  \n",
       "3  https://www.hogarmania.com//cocina/recetas/pos...  \n",
       "4  https://www.hogarmania.com//cocina/recetas/pos...  "
      ]
     },
     "execution_count": 10,
     "metadata": {},
     "output_type": "execute_result"
    }
   ],
   "source": [
    "df_hogar_mania.head(5)"
   ]
  },
  {
   "cell_type": "code",
   "execution_count": 13,
   "metadata": {},
   "outputs": [
    {
     "data": {
      "text/plain": [
       "titulo            0\n",
       "categoria         0\n",
       "ingredientes    236\n",
       "elaboracion       0\n",
       "link              0\n",
       "dtype: int64"
      ]
     },
     "execution_count": 13,
     "metadata": {},
     "output_type": "execute_result"
    }
   ],
   "source": [
    "df_hogar_mania.isna().sum()"
   ]
  },
  {
   "cell_type": "code",
   "execution_count": 18,
   "metadata": {},
   "outputs": [
    {
     "data": {
      "text/html": [
       "<div>\n",
       "<style scoped>\n",
       "    .dataframe tbody tr th:only-of-type {\n",
       "        vertical-align: middle;\n",
       "    }\n",
       "\n",
       "    .dataframe tbody tr th {\n",
       "        vertical-align: top;\n",
       "    }\n",
       "\n",
       "    .dataframe thead th {\n",
       "        text-align: right;\n",
       "    }\n",
       "</style>\n",
       "<table border=\"1\" class=\"dataframe\">\n",
       "  <thead>\n",
       "    <tr style=\"text-align: right;\">\n",
       "      <th></th>\n",
       "      <th>titulo</th>\n",
       "      <th>categoria</th>\n",
       "      <th>ingredientes</th>\n",
       "      <th>elaboracion</th>\n",
       "      <th>link</th>\n",
       "    </tr>\n",
       "  </thead>\n",
       "  <tbody>\n",
       "    <tr>\n",
       "      <th>3</th>\n",
       "      <td>12 ideas para rellenar el roscón de Reyes</td>\n",
       "      <td>postres</td>\n",
       "      <td>None</td>\n",
       "      <td>El roscón de Reyes puede comerse solo, aunque ...</td>\n",
       "      <td>https://www.hogarmania.com//cocina/recetas/pos...</td>\n",
       "    </tr>\n",
       "    <tr>\n",
       "      <th>5</th>\n",
       "      <td>15 postres con calabaza ¡fáciles, deliciosos e...</td>\n",
       "      <td>postres</td>\n",
       "      <td>None</td>\n",
       "      <td>La calabaza es una de las protagonistas del ot...</td>\n",
       "      <td>https://www.hogarmania.com//cocina/recetas/pos...</td>\n",
       "    </tr>\n",
       "    <tr>\n",
       "      <th>57</th>\n",
       "      <td>Recetas de higos</td>\n",
       "      <td>postres</td>\n",
       "      <td>None</td>\n",
       "      <td>Se dice que los mejores higos son los de septi...</td>\n",
       "      <td>https://www.hogarmania.com//cocina/recetas/pos...</td>\n",
       "    </tr>\n",
       "    <tr>\n",
       "      <th>58</th>\n",
       "      <td>11 postres para disfrutar de los higos frescos</td>\n",
       "      <td>postres</td>\n",
       "      <td>None</td>\n",
       "      <td>El higo tiene muchas propiedades beneficiosas ...</td>\n",
       "      <td>https://www.hogarmania.com//cocina/recetas/pos...</td>\n",
       "    </tr>\n",
       "    <tr>\n",
       "      <th>59</th>\n",
       "      <td>20 recetas de postres con café</td>\n",
       "      <td>postres</td>\n",
       "      <td>None</td>\n",
       "      <td>El café es una de las bebidas más consumidas e...</td>\n",
       "      <td>https://www.hogarmania.com//cocina/recetas/pos...</td>\n",
       "    </tr>\n",
       "    <tr>\n",
       "      <th>...</th>\n",
       "      <td>...</td>\n",
       "      <td>...</td>\n",
       "      <td>...</td>\n",
       "      <td>...</td>\n",
       "      <td>...</td>\n",
       "    </tr>\n",
       "    <tr>\n",
       "      <th>7293</th>\n",
       "      <td>La vuelta al mundo en 25 postres</td>\n",
       "      <td>cocina-internacional</td>\n",
       "      <td>None</td>\n",
       "      <td>Os proponemos un viaje muy dulce a lo largo de...</td>\n",
       "      <td>https://www.hogarmania.com//cocina/recetas/pos...</td>\n",
       "    </tr>\n",
       "    <tr>\n",
       "      <th>7329</th>\n",
       "      <td>25 postres y tartas irresistibles para triunfa...</td>\n",
       "      <td>postres</td>\n",
       "      <td>None</td>\n",
       "      <td>El Día de San Valentín o Día de los Enamorados...</td>\n",
       "      <td>https://www.hogarmania.com//cocina/recetas/pos...</td>\n",
       "    </tr>\n",
       "    <tr>\n",
       "      <th>7361</th>\n",
       "      <td>25 postres fáciles para convertirte en el anfi...</td>\n",
       "      <td>postres</td>\n",
       "      <td>None</td>\n",
       "      <td>El postre es la guinda perfecta para una comid...</td>\n",
       "      <td>https://www.hogarmania.com//cocina/recetas/pos...</td>\n",
       "    </tr>\n",
       "    <tr>\n",
       "      <th>7404</th>\n",
       "      <td>25 postres y tartas irresistibles para triunfa...</td>\n",
       "      <td>postres</td>\n",
       "      <td>None</td>\n",
       "      <td>El Día de San Valentín o Día de los Enamorados...</td>\n",
       "      <td>https://www.hogarmania.com//cocina/recetas/pos...</td>\n",
       "    </tr>\n",
       "    <tr>\n",
       "      <th>7436</th>\n",
       "      <td>25 postres fáciles para convertirte en el anfi...</td>\n",
       "      <td>postres</td>\n",
       "      <td>None</td>\n",
       "      <td>El postre es la guinda perfecta para una comid...</td>\n",
       "      <td>https://www.hogarmania.com//cocina/recetas/pos...</td>\n",
       "    </tr>\n",
       "  </tbody>\n",
       "</table>\n",
       "<p>236 rows × 5 columns</p>\n",
       "</div>"
      ],
      "text/plain": [
       "                                                 titulo             categoria  \\\n",
       "3             12 ideas para rellenar el roscón de Reyes               postres   \n",
       "5     15 postres con calabaza ¡fáciles, deliciosos e...               postres   \n",
       "57                                     Recetas de higos               postres   \n",
       "58       11 postres para disfrutar de los higos frescos               postres   \n",
       "59                       20 recetas de postres con café               postres   \n",
       "...                                                 ...                   ...   \n",
       "7293                   La vuelta al mundo en 25 postres  cocina-internacional   \n",
       "7329  25 postres y tartas irresistibles para triunfa...               postres   \n",
       "7361  25 postres fáciles para convertirte en el anfi...               postres   \n",
       "7404  25 postres y tartas irresistibles para triunfa...               postres   \n",
       "7436  25 postres fáciles para convertirte en el anfi...               postres   \n",
       "\n",
       "     ingredientes                                        elaboracion  \\\n",
       "3            None  El roscón de Reyes puede comerse solo, aunque ...   \n",
       "5            None  La calabaza es una de las protagonistas del ot...   \n",
       "57           None  Se dice que los mejores higos son los de septi...   \n",
       "58           None  El higo tiene muchas propiedades beneficiosas ...   \n",
       "59           None  El café es una de las bebidas más consumidas e...   \n",
       "...           ...                                                ...   \n",
       "7293         None  Os proponemos un viaje muy dulce a lo largo de...   \n",
       "7329         None  El Día de San Valentín o Día de los Enamorados...   \n",
       "7361         None  El postre es la guinda perfecta para una comid...   \n",
       "7404         None  El Día de San Valentín o Día de los Enamorados...   \n",
       "7436         None  El postre es la guinda perfecta para una comid...   \n",
       "\n",
       "                                                   link  \n",
       "3     https://www.hogarmania.com//cocina/recetas/pos...  \n",
       "5     https://www.hogarmania.com//cocina/recetas/pos...  \n",
       "57    https://www.hogarmania.com//cocina/recetas/pos...  \n",
       "58    https://www.hogarmania.com//cocina/recetas/pos...  \n",
       "59    https://www.hogarmania.com//cocina/recetas/pos...  \n",
       "...                                                 ...  \n",
       "7293  https://www.hogarmania.com//cocina/recetas/pos...  \n",
       "7329  https://www.hogarmania.com//cocina/recetas/pos...  \n",
       "7361  https://www.hogarmania.com//cocina/recetas/pos...  \n",
       "7404  https://www.hogarmania.com//cocina/recetas/pos...  \n",
       "7436  https://www.hogarmania.com//cocina/recetas/pos...  \n",
       "\n",
       "[236 rows x 5 columns]"
      ]
     },
     "execution_count": 18,
     "metadata": {},
     "output_type": "execute_result"
    }
   ],
   "source": [
    "df_hogar_mania[pd.isnull(df_hogar_mania).any(axis=1)]"
   ]
  },
  {
   "cell_type": "code",
   "execution_count": 23,
   "metadata": {},
   "outputs": [
    {
     "data": {
      "text/plain": [
       "categoria\n",
       "postres                 78\n",
       "ensaladas-verduras      49\n",
       "aperitivos              41\n",
       "pastas-pizzas           12\n",
       "sopas-cremas            12\n",
       "bebidas                  9\n",
       "pescados-mariscos        8\n",
       "carnes                   6\n",
       "huevos                   5\n",
       "arroces-cereales         4\n",
       "desayunos                4\n",
       "salsas                   3\n",
       "cocina-internacional     2\n",
       "legumbres                1\n",
       "setas-hongos             1\n",
       "cocteles                 1\n",
       "Name: count, dtype: Int64"
      ]
     },
     "execution_count": 23,
     "metadata": {},
     "output_type": "execute_result"
    }
   ],
   "source": [
    "df_hogar_mania[pd.isnull(df_hogar_mania).any(axis=1)]['categoria'].value_counts()"
   ]
  },
  {
   "cell_type": "code",
   "execution_count": 44,
   "metadata": {},
   "outputs": [],
   "source": [
    "df_hogar_mania.dropna(inplace=True)"
   ]
  },
  {
   "cell_type": "code",
   "execution_count": 8,
   "metadata": {},
   "outputs": [
    {
     "data": {
      "text/plain": [
       "categoria\n",
       "ensaladas-verduras      1457\n",
       "postres                 1319\n",
       "carnes                  1293\n",
       "pescados-mariscos       1121\n",
       "aperitivos               396\n",
       "sopas-cremas             378\n",
       "pastas-pizzas            375\n",
       "arroces-cereales         333\n",
       "legumbres                279\n",
       "huevos                   145\n",
       "salsas                   106\n",
       "recetas-pan               72\n",
       "cocteles                  48\n",
       "bebidas                   47\n",
       "setas-hongos              37\n",
       "cocina-internacional      34\n",
       "desayunos                 24\n",
       "Name: count, dtype: Int64"
      ]
     },
     "execution_count": 8,
     "metadata": {},
     "output_type": "execute_result"
    }
   ],
   "source": [
    "df_hogar_mania[\"categoria\"].value_counts()"
   ]
  },
  {
   "cell_type": "code",
   "execution_count": 64,
   "metadata": {},
   "outputs": [
    {
     "name": "stdout",
     "output_type": "stream",
     "text": [
      "Buñuelos de viento fáciles, la receta tradicional de Eva Arguiñano --- https://www.hogarmania.com//cocina/recetas/postres/bunuelos-13530.html\n",
      "['125 gr de harina' '30 gr de mantequilla' '1/4 l de agua'\n",
      " '40 gr de azúcar' '4 huevos' 'ralladura de medio limón' 'sal'\n",
      " 'aceite de oliva' 'azúcar glas para espolvorear'] --- TOTAL INGREDIENTES 9\n",
      "Corona de hojaldre de Navidad --- https://www.hogarmania.com//cocina/recetas/postres/corona-navidad-44985.html\n",
      "['2 láminas de hojaldre rectangular ' '150 g de chocolate negro '\n",
      " '40 g de mantequilla ' '1 huevo ' 'azúcar glas '\n",
      " '200 g de moras y frambuesas ' 'hojas de menta '] --- TOTAL INGREDIENTES 7\n",
      "Cafés de Navidad: Gingerbread Latte y Pumpkin Spice Latte --- https://www.hogarmania.com//cocina/recetas/postres/cafes-navidad-gingerbread-pumpkin-spice-latte.html\n",
      "['2 cucharadas de azúcar moreno suave'\n",
      " '1/2 cucharadita de jengibre molido '\n",
      " '1/2 cucharadita de nuez moscada molida' '1/2 cucharadita de canela '\n",
      " '600 ml. de leche entera'\n",
      " '70 ml. café recién hecho Marcilla Gran Aroma en grano'\n",
      " '1/2 cucharadita de extracto de vainilla' 'crema batida'] --- TOTAL INGREDIENTES 8\n",
      "Mazapanes de Navidad --- https://www.hogarmania.com//cocina/recetas/postres/mazapanes-navidad-17809.html\n",
      "['300 gr. de almendra molida ' '370 gr. de leche condensada ' '1 limón '\n",
      " '1 huevo ' 'agua ' 'aceite de oliva virgen extra '\n",
      " 'piñones, nueces y menta (para decorar)'] --- TOTAL INGREDIENTES 7\n",
      "Churros en freidora de aire, ¡más fácil imposible!  --- https://www.hogarmania.com//cocina/recetas/postres/churros-freidora-aire.html\n",
      "['Churros congelados' 'Aceite de oliva o girasol' 'Azúcar'] --- TOTAL INGREDIENTES 3\n"
     ]
    }
   ],
   "source": [
    "for _, row in df_hogar_mania.head(5).iterrows():\n",
    "    print(f\"{row['titulo']} --- {row['link']}\")\n",
    "    print(f\"{row['ingredientes']} --- TOTAL INGREDIENTES {len(row['ingredientes'])}\")"
   ]
  },
  {
   "cell_type": "code",
   "execution_count": 61,
   "metadata": {},
   "outputs": [
    {
     "data": {
      "text/plain": [
       "total_ingredientes\n",
       "11    765\n",
       "12    740\n",
       "10    650\n",
       "9     605\n",
       "13    597\n",
       "7     534\n",
       "14    534\n",
       "8     517\n",
       "6     404\n",
       "15    356\n",
       "Name: count, dtype: int64"
      ]
     },
     "execution_count": 61,
     "metadata": {},
     "output_type": "execute_result"
    }
   ],
   "source": [
    "df_hogar_mania['total_ingredientes'] = df_hogar_mania['ingredientes'].apply(len)\n",
    "df_hogar_mania['total_ingredientes'].value_counts()[:10]"
   ]
  },
  {
   "cell_type": "code",
   "execution_count": 63,
   "metadata": {},
   "outputs": [
    {
     "data": {
      "text/plain": [
       "count    7228.000000\n",
       "mean       11.054787\n",
       "std         4.303523\n",
       "min         0.000000\n",
       "25%         8.000000\n",
       "50%        11.000000\n",
       "75%        14.000000\n",
       "max        67.000000\n",
       "Name: total_ingredientes, dtype: float64"
      ]
     },
     "execution_count": 63,
     "metadata": {},
     "output_type": "execute_result"
    }
   ],
   "source": [
    "df_hogar_mania['total_ingredientes'].describe()"
   ]
  },
  {
   "cell_type": "code",
   "execution_count": 68,
   "metadata": {},
   "outputs": [
    {
     "data": {
      "text/plain": [
       "<StringArray>\n",
       "['Otoño no es solo época de calabazas y castañas, también llegan dulces típicos como los buñuelos de viento. Estas esponjosas bolas de masa elaboradas con harina, mantequilla y huevo, fritas en aceite, son un clásico en las pastelerías de España durante esta temporada.\\nComo los panellets y los huesos de Santo, los buñuelos de viento forman parte de las recetas típicas del Día de Todos los Santos, festividad del 1 de Noviembre. Un postre tradicional muy popular en muchas comunidades autónomas, y también en otras fechas del año. En Cataluña y Baleares se consumen durante la cuaresma como merienda o para acompañar el café, y en Valencia como desayuno. Mientras en Madrid y Andalucía son habituales, sobre todo, en Semana Santa.\\nLa palabra buñuelo tiene dos posibles raíces: romana, el puñuelo, una especie de bola que los romanos amasaban con las manos; y francesa, el beignet, un dulce muy parecido al actual buñuelo. Sin embargo, parece que la primera versión de los buñuelos la trajeron los árabes que se asentaron en Andalucía, con los buñuelos de agua miel, una masa frita en aceite y bañada en miel hirviendo.\\n¿Por qué se les llama buñuelos de viento? Al freír esta masa se hincha y llega a doblar su volumen, de ahí su nombre de viento, y en su forma tradicional están rellenos solo de masa. Otras versiones son los buñuelos rellenos que pueden ser dulces como los buñuelos de nata, crema pastelera o chocolate, pero también los hay salados. \\nAsí que si te encantan los dulces fritos, no dudes en probar los buñuelos en todas sus versiones. Como los churros, son ideales para acompañar con una taza de chocolate caliente y disfrutar en los días fríos de otoño. \\n\\nPon en un cazo al fuego  el agua, la mantequilla, el azúcar, la ralladura de limón y una pizca de sal. Cuando empiece a hervir, agrega la harina y remueve hasta que la masa no se pegue a las paredes del cazo. \\nRetíralo del fuego y deja enfriar. Incorpora los huevos de uno en uno y mezcla. Deja reposar la masa durante 2 horas para que coja consistencia.\\nPon una sartén con abundante aceite a fuego suave y cuando el aceite esté muy caliente, añade una cucharada de la masa. Añade más cucharadas poco a poco, teniendo en cuenta que ésta se inflará y necesitará más espacio para no pegarse con otras. Dales la vuelta para que se doren por todos los lados.\\n\\nCuando estén hechos, colócalos sobre un papel absorbente para quitar el exceso de aceite.\\nColoca los buñuelos en una fuente y espolvoréalos con azúcar glas. \\n\\nAunque la forma tradicional de hacer buñuelos de viento es fritos en la sartén con abundante aceite, puedes optar por una opción más ligera y hacer buñuelos de viento al horno, como los populares profiteroles de pasta choux.  \\nCubre una bandeja de horno cubierta con papel sulfurizado y coloca pequeñas porciones de masa con la manga pastelera, dejando espacio entre ellos. Hornea a 180°C durante 25 minutos, con calor arriba y abajo. Pasado este tiempo, abre ligeramente la puerta del horno y déjalos a temperatura 20 minutos antes de sacar. ¡Y listos!\\nEn caso de intolerancia al gluten, no hay por qué renunciar a los buñuelos, tan solo es necesario modificar la receta. Para hacer la masa de los buñuelos de viento sin gluten hay varias opciones como utilizar harina sin gluten. Eva Arguiñano nos propone sustituir la harina de trigo por harina de garbanzos, pero también puedes utilizar harina de arroz como la receta de buñuelos de arroz sin gluten que nos proponen en la Comunidad de Cocina. Una vez tengas la base de tus buñuelos de viento sin gluten, puedes rellenarlos de crema pastelera o mermelada u otros ingredientes.\\nAunque los buñuelos de viento tradicionales son sin relleno, una vez aprendas a hacer la masa frita puedes elaborar diferentes recetas de  buñuelos, tanto dulces como saladas utilizando distintos ingredientes y rellenos.\\nPara los más golosos os encantarán los buñuelos dulces como los buñuelos de canela y los rellenos de crema pastelera casera,  crema de lima o crema de limón, nata, crema de chocolate o buñuelos de diferentes frutas como los buñuelos de plátano o los buñuelos de piña. ¡Bocaditos que resultan irresistibles!\\nEntre las versiones saladas puedes probar diferentes recetas como los buñuelos de bacalao, los buñuelos de boniato, los buñuelos de calabaza y espinaca o los buñuelos para los amantes del queso. \\n\\nEl Día de los Muertos en México se celebra con recetas tradicionales como el popular pan de muerto pero también con los llamados buñuelos de viento mexicanos, de aspecto similar las flores fritas manchegas. \\nLos ingredientes básicos para hacer buñuelos mexicanos son similares a los españoles: harina de trigo, azúcar, huevos, sal, aunque suele añadirse canela. La masa de los buñuelos de viento mexicanos también se fríe a la sartén, pero se utiliza un utensilio especial de la cocina mexicana para dar forma de flor: la tortilladora o tortillero. Para que queden crujientes, es importante calentar primero abundante aceite en la sartén, introducir el molde de hierro y cuando esté bien caliente pasar por la masa de buñuelo y freír. ¡Deliciosos!']\n",
       "Length: 1, dtype: string"
      ]
     },
     "execution_count": 68,
     "metadata": {},
     "output_type": "execute_result"
    }
   ],
   "source": [
    "df_hogar_mania.head(1)['elaboracion'].values"
   ]
  },
  {
   "cell_type": "code",
   "execution_count": 80,
   "metadata": {},
   "outputs": [
    {
     "data": {
      "text/plain": [
       "'Otoño no es solo época de calabazas y castañas, también llegan dulces típicos como los buñuelos de viento. Estas esponjosas bolas de masa elaboradas con harina, mantequilla y huevo, fritas en aceite, son un clásico en las pastelerías de España durante esta temporada.\\nComo los panellets y los huesos de Santo, los buñuelos de viento forman parte de las recetas típicas del Día de Todos los Santos, festividad del 1 de Noviembre. Un postre tradicional muy popular en muchas comunidades autónomas, y también en otras fechas del año. En Cataluña y Baleares se consumen durante la cuaresma como merienda o para acompañar el café, y en Valencia como desayuno. Mientras en Madrid y Andalucía son habituales, sobre todo, en Semana Santa.\\nLa palabra buñuelo tiene dos posibles raíces: romana, el puñuelo, una especie de bola que los romanos amasaban con las manos; y francesa, el beignet, un dulce muy parecido al actual buñuelo. Sin embargo, parece que la primera versión de los buñuelos la trajeron los árabes que se asentaron en Andalucía, con los buñuelos de agua miel, una masa frita en aceite y bañada en miel hirviendo.\\n¿Por qué se les llama buñuelos de viento? Al freír esta masa se hincha y llega a doblar su volumen, de ahí su nombre de viento, y en su forma tradicional están rellenos solo de masa. Otras versiones son los buñuelos rellenos que pueden ser dulces como los buñuelos de nata, crema pastelera o chocolate, pero también los hay salados. \\nAsí que si te encantan los dulces fritos, no dudes en probar los buñuelos en todas sus versiones. Como los churros, son ideales para acompañar con una taza de chocolate caliente y disfrutar en los días fríos de otoño. \\n\\nPon en un cazo al fuego  el agua, la mantequilla, el azúcar, la ralladura de limón y una pizca de sal. Cuando empiece a hervir, agrega la harina y remueve hasta que la masa no se pegue a las paredes del cazo. \\nRetíralo del fuego y deja enfriar. Incorpora los huevos de uno en uno y mezcla. Deja reposar la masa durante 2 horas para que coja consistencia.\\nPon una sartén con abundante aceite a fuego suave y cuando el aceite esté muy caliente, añade una cucharada de la masa. Añade más cucharadas poco a poco, teniendo en cuenta que ésta se inflará y necesitará más espacio para no pegarse con otras. Dales la vuelta para que se doren por todos los lados.\\n\\nCuando estén hechos, colócalos sobre un papel absorbente para quitar el exceso de aceite.\\nColoca los buñuelos en una fuente y espolvoréalos con azúcar glas. \\n\\nAunque la forma tradicional de hacer buñuelos de viento es fritos en la sartén con abundante aceite, puedes optar por una opción más ligera y hacer buñuelos de viento al horno, como los populares profiteroles de pasta choux.  \\nCubre una bandeja de horno cubierta con papel sulfurizado y coloca pequeñas porciones de masa con la manga pastelera, dejando espacio entre ellos. Hornea a 180°C durante 25 minutos, con calor arriba y abajo. Pasado este tiempo, abre ligeramente la puerta del horno y déjalos a temperatura 20 minutos antes de sacar. ¡Y listos!\\nEn caso de intolerancia al gluten, no hay por qué renunciar a los buñuelos, tan solo es necesario modificar la receta. Para hacer la masa de los buñuelos de viento sin gluten hay varias opciones como utilizar harina sin gluten. Eva Arguiñano nos propone sustituir la harina de trigo por harina de garbanzos, pero también puedes utilizar harina de arroz como la receta de buñuelos de arroz sin gluten que nos proponen en la Comunidad de Cocina. Una vez tengas la base de tus buñuelos de viento sin gluten, puedes rellenarlos de crema pastelera o mermelada u otros ingredientes.\\nAunque los buñuelos de viento tradicionales son sin relleno, una vez aprendas a hacer la masa frita puedes elaborar diferentes recetas de  buñuelos, tanto dulces como saladas utilizando distintos ingredientes y rellenos.\\nPara los más golosos os encantarán los buñuelos dulces como los buñuelos de canela y los rellenos de crema pastelera casera,  crema de lima o crema de limón, nata, crema de chocolate o buñuelos de diferentes frutas como los buñuelos de plátano o los buñuelos de piña. ¡Bocaditos que resultan irresistibles!\\nEntre las versiones saladas puedes probar diferentes recetas como los buñuelos de bacalao, los buñuelos de boniato, los buñuelos de calabaza y espinaca o los buñuelos para los amantes del queso. \\n\\nEl Día de los Muertos en México se celebra con recetas tradicionales como el popular pan de muerto pero también con los llamados buñuelos de viento mexicanos, de aspecto similar las flores fritas manchegas. \\nLos ingredientes básicos para hacer buñuelos mexicanos son similares a los españoles: harina de trigo, azúcar, huevos, sal, aunque suele añadirse canela. La masa de los buñuelos de viento mexicanos también se fríe a la sartén, pero se utiliza un utensilio especial de la cocina mexicana para dar forma de flor: la tortilladora o tortillero. Para que queden crujientes, es importante calentar primero abundante aceite en la sartén, introducir el molde de hierro y cuando esté bien caliente pasar por la masa de buñuelo y freír. ¡Deliciosos!'"
      ]
     },
     "execution_count": 80,
     "metadata": {},
     "output_type": "execute_result"
    }
   ],
   "source": [
    "df_hogar_mania.iloc[0]['elaboracion']"
   ]
  },
  {
   "cell_type": "code",
   "execution_count": 106,
   "metadata": {},
   "outputs": [
    {
     "name": "stdout",
     "output_type": "stream",
     "text": [
      "BUÑUELOS DE VIENTO FÁCILES, LA RECETA TRADICIONAL DE EVA ARGUIÑANO\n",
      "------\n",
      "Otoño no es solo época de calabazas y castañas, también llegan dulces típicos como los buñuelos de viento. Estas esponjosas bolas de masa elaboradas con harina, mantequilla y huevo, fritas en aceite, son un clásico en las pastelerías de España durante esta temporada.\n",
      "Como los panellets y los huesos de Santo, los buñuelos de viento forman parte de las recetas típicas del Día de Todos los Santos, festividad del 1 de Noviembre. Un postre tradicional muy popular en muchas comunidades autónomas, y también en otras fechas del año. En Cataluña y Baleares se consumen durante la cuaresma como merienda o para acompañar el café, y en Valencia como desayuno. Mientras en Madrid y Andalucía son habituales, sobre todo, en Semana Santa.\n",
      "La palabra buñuelo tiene dos posibles raíces: romana, el puñuelo, una especie de bola que los romanos amasaban con las manos; y francesa, el beignet, un dulce muy parecido al actual buñuelo. Sin embargo, parece que la primera versión de los buñuelos la trajeron los árabes que se asentaron en Andalucía, con los buñuelos de agua miel, una masa frita en aceite y bañada en miel hirviendo.\n",
      "¿Por qué se les llama buñuelos de viento? Al freír esta masa se hincha y llega a doblar su volumen, de ahí su nombre de viento, y en su forma tradicional están rellenos solo de masa. Otras versiones son los buñuelos rellenos que pueden ser dulces como los buñuelos de nata, crema pastelera o chocolate, pero también los hay salados. \n",
      "Así que si te encantan los dulces fritos, no dudes en probar los buñuelos en todas sus versiones. Como los churros, son ideales para acompañar con una taza de chocolate caliente y disfrutar en los días fríos de otoño. \n",
      "\n",
      "Pon en un cazo al fuego  el agua, la mantequilla, el azúcar, la ralladura de limón y una pizca de sal. Cuando empiece a hervir, agrega la harina y remueve hasta que la masa no se pegue a las paredes del cazo. \n",
      "Retíralo del fuego y deja enfriar. Incorpora los huevos de uno en uno y mezcla. Deja reposar la masa durante 2 horas para que coja consistencia.\n",
      "Pon una sartén con abundante aceite a fuego suave y cuando el aceite esté muy caliente, añade una cucharada de la masa. Añade más cucharadas poco a poco, teniendo en cuenta que ésta se inflará y necesitará más espacio para no pegarse con otras. Dales la vuelta para que se doren por todos los lados.\n",
      "\n",
      "Cuando estén hechos, colócalos sobre un papel absorbente para quitar el exceso de aceite.\n",
      "Coloca los buñuelos en una fuente y espolvoréalos con azúcar glas. \n",
      "\n",
      "Aunque la forma tradicional de hacer buñuelos de viento es fritos en la sartén con abundante aceite, puedes optar por una opción más ligera y hacer buñuelos de viento al horno, como los populares profiteroles de pasta choux.  \n",
      "Cubre una bandeja de horno cubierta con papel sulfurizado y coloca pequeñas porciones de masa con la manga pastelera, dejando espacio entre ellos. Hornea a 180°C durante 25 minutos, con calor arriba y abajo. Pasado este tiempo, abre ligeramente la puerta del horno y déjalos a temperatura 20 minutos antes de sacar. ¡Y listos!\n",
      "En caso de intolerancia al gluten, no hay por qué renunciar a los buñuelos, tan solo es necesario modificar la receta. Para hacer la masa de los buñuelos de viento sin gluten hay varias opciones como utilizar harina sin gluten. Eva Arguiñano nos propone sustituir la harina de trigo por harina de garbanzos, pero también puedes utilizar harina de arroz como la receta de buñuelos de arroz sin gluten que nos proponen en la Comunidad de Cocina. Una vez tengas la base de tus buñuelos de viento sin gluten, puedes rellenarlos de crema pastelera o mermelada u otros ingredientes.\n",
      "Aunque los buñuelos de viento tradicionales son sin relleno, una vez aprendas a hacer la masa frita puedes elaborar diferentes recetas de  buñuelos, tanto dulces como saladas utilizando distintos ingredientes y rellenos.\n",
      "Para los más golosos os encantarán los buñuelos dulces como los buñuelos de canela y los rellenos de crema pastelera casera,  crema de lima o crema de limón, nata, crema de chocolate o buñuelos de diferentes frutas como los buñuelos de plátano o los buñuelos de piña. ¡Bocaditos que resultan irresistibles!\n",
      "Entre las versiones saladas puedes probar diferentes recetas como los buñuelos de bacalao, los buñuelos de boniato, los buñuelos de calabaza y espinaca o los buñuelos para los amantes del queso. \n",
      "\n",
      "El Día de los Muertos en México se celebra con recetas tradicionales como el popular pan de muerto pero también con los llamados buñuelos de viento mexicanos, de aspecto similar las flores fritas manchegas. \n",
      "Los ingredientes básicos para hacer buñuelos mexicanos son similares a los españoles: harina de trigo, azúcar, huevos, sal, aunque suele añadirse canela. La masa de los buñuelos de viento mexicanos también se fríe a la sartén, pero se utiliza un utensilio especial de la cocina mexicana para dar forma de flor: la tortilladora o tortillero. Para que queden crujientes, es importante calentar primero abundante aceite en la sartén, introducir el molde de hierro y cuando esté bien caliente pasar por la masa de buñuelo y freír. ¡Deliciosos!\n"
     ]
    }
   ],
   "source": [
    "print(df_hogar_mania.iloc[0]['titulo'].upper())\n",
    "print(\"------\")\n",
    "print(df_hogar_mania.iloc[0][\"elaboracion\"])"
   ]
  },
  {
   "cell_type": "markdown",
   "metadata": {},
   "source": [
    "#### Antena3"
   ]
  },
  {
   "cell_type": "code",
   "execution_count": null,
   "metadata": {},
   "outputs": [],
   "source": []
  },
  {
   "cell_type": "markdown",
   "metadata": {},
   "source": [
    "#### Saber Vivir"
   ]
  },
  {
   "cell_type": "markdown",
   "metadata": {},
   "source": [
    "#### El Mundo"
   ]
  }
 ],
 "metadata": {
  "kernelspec": {
   "display_name": ".venv",
   "language": "python",
   "name": "python3"
  },
  "language_info": {
   "codemirror_mode": {
    "name": "ipython",
    "version": 3
   },
   "file_extension": ".py",
   "mimetype": "text/x-python",
   "name": "python",
   "nbconvert_exporter": "python",
   "pygments_lexer": "ipython3",
   "version": "3.12.3"
  }
 },
 "nbformat": 4,
 "nbformat_minor": 2
}
