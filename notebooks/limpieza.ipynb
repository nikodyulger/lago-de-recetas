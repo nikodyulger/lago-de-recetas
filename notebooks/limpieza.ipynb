{
 "cells": [
  {
   "cell_type": "code",
   "execution_count": 63,
   "metadata": {},
   "outputs": [
    {
     "name": "stdout",
     "output_type": "stream",
     "text": [
      "Collecting es-core-news-sm==3.7.0\n",
      "  Downloading https://github.com/explosion/spacy-models/releases/download/es_core_news_sm-3.7.0/es_core_news_sm-3.7.0-py3-none-any.whl (12.9 MB)\n",
      "\u001b[2K     \u001b[90m━━━━━━━━━━━━━━━━━━━━━━━━━━━━━━━━━━━━━━━━\u001b[0m \u001b[32m12.9/12.9 MB\u001b[0m \u001b[31m46.8 MB/s\u001b[0m eta \u001b[36m0:00:00\u001b[0m00:01\u001b[0m00:01\u001b[0m\n",
      "\u001b[?25hRequirement already satisfied: spacy<3.8.0,>=3.7.0 in /Users/nikodyulger/Documents/GitHub/CIDAEN/lago-de-recetas/.venv/lib/python3.12/site-packages (from es-core-news-sm==3.7.0) (3.7.5)\n",
      "Requirement already satisfied: spacy-legacy<3.1.0,>=3.0.11 in /Users/nikodyulger/Documents/GitHub/CIDAEN/lago-de-recetas/.venv/lib/python3.12/site-packages (from spacy<3.8.0,>=3.7.0->es-core-news-sm==3.7.0) (3.0.12)\n",
      "Requirement already satisfied: spacy-loggers<2.0.0,>=1.0.0 in /Users/nikodyulger/Documents/GitHub/CIDAEN/lago-de-recetas/.venv/lib/python3.12/site-packages (from spacy<3.8.0,>=3.7.0->es-core-news-sm==3.7.0) (1.0.5)\n",
      "Requirement already satisfied: murmurhash<1.1.0,>=0.28.0 in /Users/nikodyulger/Documents/GitHub/CIDAEN/lago-de-recetas/.venv/lib/python3.12/site-packages (from spacy<3.8.0,>=3.7.0->es-core-news-sm==3.7.0) (1.0.10)\n",
      "Requirement already satisfied: cymem<2.1.0,>=2.0.2 in /Users/nikodyulger/Documents/GitHub/CIDAEN/lago-de-recetas/.venv/lib/python3.12/site-packages (from spacy<3.8.0,>=3.7.0->es-core-news-sm==3.7.0) (2.0.8)\n",
      "Requirement already satisfied: preshed<3.1.0,>=3.0.2 in /Users/nikodyulger/Documents/GitHub/CIDAEN/lago-de-recetas/.venv/lib/python3.12/site-packages (from spacy<3.8.0,>=3.7.0->es-core-news-sm==3.7.0) (3.0.9)\n",
      "Requirement already satisfied: thinc<8.3.0,>=8.2.2 in /Users/nikodyulger/Documents/GitHub/CIDAEN/lago-de-recetas/.venv/lib/python3.12/site-packages (from spacy<3.8.0,>=3.7.0->es-core-news-sm==3.7.0) (8.2.5)\n",
      "Requirement already satisfied: wasabi<1.2.0,>=0.9.1 in /Users/nikodyulger/Documents/GitHub/CIDAEN/lago-de-recetas/.venv/lib/python3.12/site-packages (from spacy<3.8.0,>=3.7.0->es-core-news-sm==3.7.0) (1.1.3)\n",
      "Requirement already satisfied: srsly<3.0.0,>=2.4.3 in /Users/nikodyulger/Documents/GitHub/CIDAEN/lago-de-recetas/.venv/lib/python3.12/site-packages (from spacy<3.8.0,>=3.7.0->es-core-news-sm==3.7.0) (2.4.8)\n",
      "Requirement already satisfied: catalogue<2.1.0,>=2.0.6 in /Users/nikodyulger/Documents/GitHub/CIDAEN/lago-de-recetas/.venv/lib/python3.12/site-packages (from spacy<3.8.0,>=3.7.0->es-core-news-sm==3.7.0) (2.0.10)\n",
      "Requirement already satisfied: weasel<0.5.0,>=0.1.0 in /Users/nikodyulger/Documents/GitHub/CIDAEN/lago-de-recetas/.venv/lib/python3.12/site-packages (from spacy<3.8.0,>=3.7.0->es-core-news-sm==3.7.0) (0.4.1)\n",
      "Requirement already satisfied: typer<1.0.0,>=0.3.0 in /Users/nikodyulger/Documents/GitHub/CIDAEN/lago-de-recetas/.venv/lib/python3.12/site-packages (from spacy<3.8.0,>=3.7.0->es-core-news-sm==3.7.0) (0.12.3)\n",
      "Requirement already satisfied: tqdm<5.0.0,>=4.38.0 in /Users/nikodyulger/Documents/GitHub/CIDAEN/lago-de-recetas/.venv/lib/python3.12/site-packages (from spacy<3.8.0,>=3.7.0->es-core-news-sm==3.7.0) (4.66.4)\n",
      "Requirement already satisfied: requests<3.0.0,>=2.13.0 in /Users/nikodyulger/Documents/GitHub/CIDAEN/lago-de-recetas/.venv/lib/python3.12/site-packages (from spacy<3.8.0,>=3.7.0->es-core-news-sm==3.7.0) (2.32.3)\n",
      "Requirement already satisfied: pydantic!=1.8,!=1.8.1,<3.0.0,>=1.7.4 in /Users/nikodyulger/Documents/GitHub/CIDAEN/lago-de-recetas/.venv/lib/python3.12/site-packages (from spacy<3.8.0,>=3.7.0->es-core-news-sm==3.7.0) (2.7.4)\n",
      "Requirement already satisfied: jinja2 in /Users/nikodyulger/Documents/GitHub/CIDAEN/lago-de-recetas/.venv/lib/python3.12/site-packages (from spacy<3.8.0,>=3.7.0->es-core-news-sm==3.7.0) (3.1.4)\n",
      "Requirement already satisfied: setuptools in /Users/nikodyulger/Documents/GitHub/CIDAEN/lago-de-recetas/.venv/lib/python3.12/site-packages (from spacy<3.8.0,>=3.7.0->es-core-news-sm==3.7.0) (69.5.1)\n",
      "Requirement already satisfied: packaging>=20.0 in /Users/nikodyulger/Documents/GitHub/CIDAEN/lago-de-recetas/.venv/lib/python3.12/site-packages (from spacy<3.8.0,>=3.7.0->es-core-news-sm==3.7.0) (24.0)\n",
      "Requirement already satisfied: langcodes<4.0.0,>=3.2.0 in /Users/nikodyulger/Documents/GitHub/CIDAEN/lago-de-recetas/.venv/lib/python3.12/site-packages (from spacy<3.8.0,>=3.7.0->es-core-news-sm==3.7.0) (3.4.0)\n",
      "Requirement already satisfied: numpy>=1.19.0 in /Users/nikodyulger/Documents/GitHub/CIDAEN/lago-de-recetas/.venv/lib/python3.12/site-packages (from spacy<3.8.0,>=3.7.0->es-core-news-sm==3.7.0) (1.26.4)\n",
      "Requirement already satisfied: language-data>=1.2 in /Users/nikodyulger/Documents/GitHub/CIDAEN/lago-de-recetas/.venv/lib/python3.12/site-packages (from langcodes<4.0.0,>=3.2.0->spacy<3.8.0,>=3.7.0->es-core-news-sm==3.7.0) (1.2.0)\n",
      "Requirement already satisfied: annotated-types>=0.4.0 in /Users/nikodyulger/Documents/GitHub/CIDAEN/lago-de-recetas/.venv/lib/python3.12/site-packages (from pydantic!=1.8,!=1.8.1,<3.0.0,>=1.7.4->spacy<3.8.0,>=3.7.0->es-core-news-sm==3.7.0) (0.7.0)\n",
      "Requirement already satisfied: pydantic-core==2.18.4 in /Users/nikodyulger/Documents/GitHub/CIDAEN/lago-de-recetas/.venv/lib/python3.12/site-packages (from pydantic!=1.8,!=1.8.1,<3.0.0,>=1.7.4->spacy<3.8.0,>=3.7.0->es-core-news-sm==3.7.0) (2.18.4)\n",
      "Requirement already satisfied: typing-extensions>=4.6.1 in /Users/nikodyulger/Documents/GitHub/CIDAEN/lago-de-recetas/.venv/lib/python3.12/site-packages (from pydantic!=1.8,!=1.8.1,<3.0.0,>=1.7.4->spacy<3.8.0,>=3.7.0->es-core-news-sm==3.7.0) (4.11.0)\n",
      "Requirement already satisfied: charset-normalizer<4,>=2 in /Users/nikodyulger/Documents/GitHub/CIDAEN/lago-de-recetas/.venv/lib/python3.12/site-packages (from requests<3.0.0,>=2.13.0->spacy<3.8.0,>=3.7.0->es-core-news-sm==3.7.0) (3.3.2)\n",
      "Requirement already satisfied: idna<4,>=2.5 in /Users/nikodyulger/Documents/GitHub/CIDAEN/lago-de-recetas/.venv/lib/python3.12/site-packages (from requests<3.0.0,>=2.13.0->spacy<3.8.0,>=3.7.0->es-core-news-sm==3.7.0) (3.7)\n",
      "Requirement already satisfied: urllib3<3,>=1.21.1 in /Users/nikodyulger/Documents/GitHub/CIDAEN/lago-de-recetas/.venv/lib/python3.12/site-packages (from requests<3.0.0,>=2.13.0->spacy<3.8.0,>=3.7.0->es-core-news-sm==3.7.0) (2.2.1)\n",
      "Requirement already satisfied: certifi>=2017.4.17 in /Users/nikodyulger/Documents/GitHub/CIDAEN/lago-de-recetas/.venv/lib/python3.12/site-packages (from requests<3.0.0,>=2.13.0->spacy<3.8.0,>=3.7.0->es-core-news-sm==3.7.0) (2024.2.2)\n",
      "Requirement already satisfied: blis<0.8.0,>=0.7.8 in /Users/nikodyulger/Documents/GitHub/CIDAEN/lago-de-recetas/.venv/lib/python3.12/site-packages (from thinc<8.3.0,>=8.2.2->spacy<3.8.0,>=3.7.0->es-core-news-sm==3.7.0) (0.7.11)\n",
      "Requirement already satisfied: confection<1.0.0,>=0.0.1 in /Users/nikodyulger/Documents/GitHub/CIDAEN/lago-de-recetas/.venv/lib/python3.12/site-packages (from thinc<8.3.0,>=8.2.2->spacy<3.8.0,>=3.7.0->es-core-news-sm==3.7.0) (0.1.5)\n",
      "Requirement already satisfied: click>=8.0.0 in /Users/nikodyulger/Documents/GitHub/CIDAEN/lago-de-recetas/.venv/lib/python3.12/site-packages (from typer<1.0.0,>=0.3.0->spacy<3.8.0,>=3.7.0->es-core-news-sm==3.7.0) (8.1.7)\n",
      "Requirement already satisfied: shellingham>=1.3.0 in /Users/nikodyulger/Documents/GitHub/CIDAEN/lago-de-recetas/.venv/lib/python3.12/site-packages (from typer<1.0.0,>=0.3.0->spacy<3.8.0,>=3.7.0->es-core-news-sm==3.7.0) (1.5.4)\n",
      "Requirement already satisfied: rich>=10.11.0 in /Users/nikodyulger/Documents/GitHub/CIDAEN/lago-de-recetas/.venv/lib/python3.12/site-packages (from typer<1.0.0,>=0.3.0->spacy<3.8.0,>=3.7.0->es-core-news-sm==3.7.0) (13.7.1)\n",
      "Requirement already satisfied: cloudpathlib<1.0.0,>=0.7.0 in /Users/nikodyulger/Documents/GitHub/CIDAEN/lago-de-recetas/.venv/lib/python3.12/site-packages (from weasel<0.5.0,>=0.1.0->spacy<3.8.0,>=3.7.0->es-core-news-sm==3.7.0) (0.18.1)\n",
      "Requirement already satisfied: smart-open<8.0.0,>=5.2.1 in /Users/nikodyulger/Documents/GitHub/CIDAEN/lago-de-recetas/.venv/lib/python3.12/site-packages (from weasel<0.5.0,>=0.1.0->spacy<3.8.0,>=3.7.0->es-core-news-sm==3.7.0) (7.0.4)\n",
      "Requirement already satisfied: MarkupSafe>=2.0 in /Users/nikodyulger/Documents/GitHub/CIDAEN/lago-de-recetas/.venv/lib/python3.12/site-packages (from jinja2->spacy<3.8.0,>=3.7.0->es-core-news-sm==3.7.0) (2.1.5)\n",
      "Requirement already satisfied: marisa-trie>=0.7.7 in /Users/nikodyulger/Documents/GitHub/CIDAEN/lago-de-recetas/.venv/lib/python3.12/site-packages (from language-data>=1.2->langcodes<4.0.0,>=3.2.0->spacy<3.8.0,>=3.7.0->es-core-news-sm==3.7.0) (1.2.0)\n",
      "Requirement already satisfied: markdown-it-py>=2.2.0 in /Users/nikodyulger/Documents/GitHub/CIDAEN/lago-de-recetas/.venv/lib/python3.12/site-packages (from rich>=10.11.0->typer<1.0.0,>=0.3.0->spacy<3.8.0,>=3.7.0->es-core-news-sm==3.7.0) (3.0.0)\n",
      "Requirement already satisfied: pygments<3.0.0,>=2.13.0 in /Users/nikodyulger/Documents/GitHub/CIDAEN/lago-de-recetas/.venv/lib/python3.12/site-packages (from rich>=10.11.0->typer<1.0.0,>=0.3.0->spacy<3.8.0,>=3.7.0->es-core-news-sm==3.7.0) (2.18.0)\n",
      "Requirement already satisfied: wrapt in /Users/nikodyulger/Documents/GitHub/CIDAEN/lago-de-recetas/.venv/lib/python3.12/site-packages (from smart-open<8.0.0,>=5.2.1->weasel<0.5.0,>=0.1.0->spacy<3.8.0,>=3.7.0->es-core-news-sm==3.7.0) (1.16.0)\n",
      "Requirement already satisfied: mdurl~=0.1 in /Users/nikodyulger/Documents/GitHub/CIDAEN/lago-de-recetas/.venv/lib/python3.12/site-packages (from markdown-it-py>=2.2.0->rich>=10.11.0->typer<1.0.0,>=0.3.0->spacy<3.8.0,>=3.7.0->es-core-news-sm==3.7.0) (0.1.2)\n",
      "Installing collected packages: es-core-news-sm\n",
      "Successfully installed es-core-news-sm-3.7.0\n",
      "\n",
      "\u001b[1m[\u001b[0m\u001b[34;49mnotice\u001b[0m\u001b[1;39;49m]\u001b[0m\u001b[39;49m A new release of pip is available: \u001b[0m\u001b[31;49m24.0\u001b[0m\u001b[39;49m -> \u001b[0m\u001b[32;49m24.1\u001b[0m\n",
      "\u001b[1m[\u001b[0m\u001b[34;49mnotice\u001b[0m\u001b[1;39;49m]\u001b[0m\u001b[39;49m To update, run: \u001b[0m\u001b[32;49mpip install --upgrade pip\u001b[0m\n",
      "\u001b[38;5;2m✔ Download and installation successful\u001b[0m\n",
      "You can now load the package via spacy.load('es_core_news_sm')\n"
     ]
    }
   ],
   "source": [
    "# !python -m spacy download es_core_news_sm"
   ]
  },
  {
   "cell_type": "code",
   "execution_count": 64,
   "metadata": {},
   "outputs": [],
   "source": [
    "import os\n",
    "import re\n",
    "import spacy\n",
    "import awswrangler as wr\n",
    "import pandas as pd"
   ]
  },
  {
   "cell_type": "markdown",
   "metadata": {},
   "source": [
    "## Carga de datos"
   ]
  },
  {
   "cell_type": "code",
   "execution_count": 32,
   "metadata": {},
   "outputs": [],
   "source": [
    "df_hogar_mania = wr.s3.read_parquet(path='s3://raw-recipe-data-bucket/hogar_mania')\n",
    "df_antena3 = wr.s3.read_parquet(path='s3://raw-recipe-data-bucket/antena3')\n",
    "df_saber_vivir = wr.s3.read_parquet(path='s3://raw-recipe-data-bucket/saber_vivir')\n",
    "df_el_mundo = wr.s3.read_parquet(path='s3://raw-recipe-data-bucket/el_mundo')"
   ]
  },
  {
   "cell_type": "markdown",
   "metadata": {},
   "source": [
    "### Hogar Mania"
   ]
  },
  {
   "cell_type": "code",
   "execution_count": 33,
   "metadata": {},
   "outputs": [
    {
     "data": {
      "text/plain": [
       "<StringArray>\n",
       "[             'postres',           'aperitivos',   'ensaladas-verduras',\n",
       "     'arroces-cereales',        'pastas-pizzas',         'sopas-cremas',\n",
       "            'legumbres',               'carnes',    'pescados-mariscos',\n",
       "         'setas-hongos',               'huevos',               'salsas',\n",
       "            'desayunos',          'recetas-pan',              'bebidas',\n",
       "             'cocteles', 'cocina-internacional']\n",
       "Length: 17, dtype: string"
      ]
     },
     "execution_count": 33,
     "metadata": {},
     "output_type": "execute_result"
    }
   ],
   "source": [
    "categorias_hogar_mania = df_hogar_mania['categoria'].unique()\n",
    "categorias_hogar_mania"
   ]
  },
  {
   "cell_type": "code",
   "execution_count": 34,
   "metadata": {},
   "outputs": [
    {
     "data": {
      "text/plain": [
       "(7464, 5)"
      ]
     },
     "execution_count": 34,
     "metadata": {},
     "output_type": "execute_result"
    }
   ],
   "source": [
    "df_hogar_mania.shape"
   ]
  },
  {
   "cell_type": "code",
   "execution_count": 35,
   "metadata": {},
   "outputs": [],
   "source": [
    "df_hogar_mania.dropna(subset=[\"ingredientes\"], inplace=True)"
   ]
  },
  {
   "cell_type": "code",
   "execution_count": 36,
   "metadata": {},
   "outputs": [
    {
     "data": {
      "text/plain": [
       "(7228, 5)"
      ]
     },
     "execution_count": 36,
     "metadata": {},
     "output_type": "execute_result"
    }
   ],
   "source": [
    "df_hogar_mania.shape"
   ]
  },
  {
   "cell_type": "code",
   "execution_count": 37,
   "metadata": {},
   "outputs": [
    {
     "data": {
      "text/plain": [
       "(18, 6)"
      ]
     },
     "execution_count": 37,
     "metadata": {},
     "output_type": "execute_result"
    }
   ],
   "source": [
    "df_hogar_mania['total_ingredientes'] = df_hogar_mania['ingredientes'].apply(len)\n",
    "df_hogar_mania[df_hogar_mania['total_ingredientes'] == 0].shape"
   ]
  },
  {
   "cell_type": "code",
   "execution_count": 38,
   "metadata": {},
   "outputs": [],
   "source": [
    "df_hogar_mania = df_hogar_mania[df_hogar_mania['total_ingredientes'] != 0]"
   ]
  },
  {
   "cell_type": "code",
   "execution_count": 39,
   "metadata": {},
   "outputs": [
    {
     "data": {
      "text/plain": [
       "<StringArray>\n",
       "[             'postres',           'aperitivos',   'ensaladas-verduras',\n",
       "     'arroces-cereales',        'pastas-pizzas',         'sopas-cremas',\n",
       "            'legumbres',               'carnes',    'pescados-mariscos',\n",
       "               'huevos',            'desayunos',          'recetas-pan',\n",
       "              'bebidas',             'cocteles', 'cocina-internacional']\n",
       "Length: 15, dtype: string"
      ]
     },
     "execution_count": 39,
     "metadata": {},
     "output_type": "execute_result"
    }
   ],
   "source": [
    "df_hogar_mania[df_hogar_mania.duplicated(subset=['link'], keep=False)]['categoria'].unique()"
   ]
  },
  {
   "cell_type": "code",
   "execution_count": 40,
   "metadata": {},
   "outputs": [
    {
     "data": {
      "text/plain": [
       "link\n",
       "https://www.hogarmania.com//cocina/recetas/aperitivos/desayuno-real-cereal-37095.html                                        [aperitivos, desayunos]\n",
       "https://www.hogarmania.com//cocina/recetas/aperitivos/jocoque-10518.html                                          [aperitivos, cocina-internacional]\n",
       "https://www.hogarmania.com//cocina/recetas/aperitivos/molletes-mexicana-36967.html                                           [aperitivos, desayunos]\n",
       "https://www.hogarmania.com//cocina/recetas/aperitivos/zumo-papaya-naranja-pomelo-25672.html                                    [aperitivos, bebidas]\n",
       "https://www.hogarmania.com//cocina/recetas/arroces-cereales/arroz-colores-salsa-agridulce-asia-2684.html    [arroces-cereales, cocina-internacional]\n",
       "                                                                                                                              ...                   \n",
       "https://www.hogarmania.com//cocina/recetas/recetas-pan/bagels-rosquillas-18773.html                                         [desayunos, recetas-pan]\n",
       "https://www.hogarmania.com//cocina/recetas/recetas-pan/bollos-parker-house-parker-house-18807.html                          [desayunos, recetas-pan]\n",
       "https://www.hogarmania.com//cocina/recetas/recetas-pan/jamon-venezolano-38382.html                               [recetas-pan, cocina-internacional]\n",
       "https://www.hogarmania.com//cocina/recetas/sopas-cremas/sopa-rusa-repollo-2417.html                             [sopas-cremas, cocina-internacional]\n",
       "https://www.hogarmania.com//cocina/recetas/sopas-cremas/sopa-turca-1398.html                                    [sopas-cremas, cocina-internacional]\n",
       "Name: categoria, Length: 153, dtype: object"
      ]
     },
     "execution_count": 40,
     "metadata": {},
     "output_type": "execute_result"
    }
   ],
   "source": [
    "df_hogar_mania_double = df_hogar_mania[df_hogar_mania.duplicated(subset=['link'], keep=False)]\n",
    "df_hogar_mania_double.groupby(by='link')['categoria'].apply(list)"
   ]
  },
  {
   "cell_type": "code",
   "execution_count": 41,
   "metadata": {},
   "outputs": [],
   "source": [
    "df_hogar_mania.drop_duplicates(subset=['link'], keep='first', inplace=True)"
   ]
  },
  {
   "cell_type": "code",
   "execution_count": 42,
   "metadata": {},
   "outputs": [
    {
     "data": {
      "text/plain": [
       "(7056, 6)"
      ]
     },
     "execution_count": 42,
     "metadata": {},
     "output_type": "execute_result"
    }
   ],
   "source": [
    "df_hogar_mania.shape"
   ]
  },
  {
   "cell_type": "code",
   "execution_count": null,
   "metadata": {},
   "outputs": [],
   "source": [
    "def extract_words(text):\n",
    "    words = re.findall(r'\\b[a-zA-Z]+\\b', text)\n",
    "    return ' '.join(words)"
   ]
  },
  {
   "cell_type": "code",
   "execution_count": 60,
   "metadata": {},
   "outputs": [
    {
     "data": {
      "text/html": [
       "<div>\n",
       "<style scoped>\n",
       "    .dataframe tbody tr th:only-of-type {\n",
       "        vertical-align: middle;\n",
       "    }\n",
       "\n",
       "    .dataframe tbody tr th {\n",
       "        vertical-align: top;\n",
       "    }\n",
       "\n",
       "    .dataframe thead th {\n",
       "        text-align: right;\n",
       "    }\n",
       "</style>\n",
       "<table border=\"1\" class=\"dataframe\">\n",
       "  <thead>\n",
       "    <tr style=\"text-align: right;\">\n",
       "      <th></th>\n",
       "      <th>titulo</th>\n",
       "      <th>titulo_link</th>\n",
       "    </tr>\n",
       "  </thead>\n",
       "  <tbody>\n",
       "    <tr>\n",
       "      <th>0</th>\n",
       "      <td>Buñuelos de viento fáciles, la receta tradicio...</td>\n",
       "      <td>bunuelos</td>\n",
       "    </tr>\n",
       "    <tr>\n",
       "      <th>1</th>\n",
       "      <td>Corona de hojaldre de Navidad</td>\n",
       "      <td>corona navidad</td>\n",
       "    </tr>\n",
       "    <tr>\n",
       "      <th>2</th>\n",
       "      <td>Cafés de Navidad: Gingerbread Latte y Pumpkin ...</td>\n",
       "      <td>cafes navidad gingerbread pumpkin spice latte</td>\n",
       "    </tr>\n",
       "    <tr>\n",
       "      <th>4</th>\n",
       "      <td>Mazapanes de Navidad</td>\n",
       "      <td>mazapanes navidad</td>\n",
       "    </tr>\n",
       "    <tr>\n",
       "      <th>6</th>\n",
       "      <td>Churros en freidora de aire, ¡más fácil imposi...</td>\n",
       "      <td>churros freidora aire</td>\n",
       "    </tr>\n",
       "    <tr>\n",
       "      <th>...</th>\n",
       "      <td>...</td>\n",
       "      <td>...</td>\n",
       "    </tr>\n",
       "    <tr>\n",
       "      <th>7384</th>\n",
       "      <td>Tarta fría de limón de Eva Arguiñano, la más c...</td>\n",
       "      <td>tarta fria limon</td>\n",
       "    </tr>\n",
       "    <tr>\n",
       "      <th>7385</th>\n",
       "      <td>Receta de mochis japoneses caseros</td>\n",
       "      <td>receta mochis japoneses caseros</td>\n",
       "    </tr>\n",
       "    <tr>\n",
       "      <th>7386</th>\n",
       "      <td>Receta de helado de pistacho, paso a paso</td>\n",
       "      <td>helado pistacho casero</td>\n",
       "    </tr>\n",
       "    <tr>\n",
       "      <th>7387</th>\n",
       "      <td>Cómo hacer gachas dulces con los pasos de Karl...</td>\n",
       "      <td>gachas dulces</td>\n",
       "    </tr>\n",
       "    <tr>\n",
       "      <th>7388</th>\n",
       "      <td>¿Cómo hacer brochetas de chuches?</td>\n",
       "      <td>brocheta de chuches</td>\n",
       "    </tr>\n",
       "  </tbody>\n",
       "</table>\n",
       "<p>7056 rows × 2 columns</p>\n",
       "</div>"
      ],
      "text/plain": [
       "                                                 titulo  \\\n",
       "0     Buñuelos de viento fáciles, la receta tradicio...   \n",
       "1                         Corona de hojaldre de Navidad   \n",
       "2     Cafés de Navidad: Gingerbread Latte y Pumpkin ...   \n",
       "4                                  Mazapanes de Navidad   \n",
       "6     Churros en freidora de aire, ¡más fácil imposi...   \n",
       "...                                                 ...   \n",
       "7384  Tarta fría de limón de Eva Arguiñano, la más c...   \n",
       "7385                 Receta de mochis japoneses caseros   \n",
       "7386          Receta de helado de pistacho, paso a paso   \n",
       "7387  Cómo hacer gachas dulces con los pasos de Karl...   \n",
       "7388                  ¿Cómo hacer brochetas de chuches?   \n",
       "\n",
       "                                        titulo_link  \n",
       "0                                          bunuelos  \n",
       "1                                    corona navidad  \n",
       "2     cafes navidad gingerbread pumpkin spice latte  \n",
       "4                                 mazapanes navidad  \n",
       "6                             churros freidora aire  \n",
       "...                                             ...  \n",
       "7384                               tarta fria limon  \n",
       "7385                receta mochis japoneses caseros  \n",
       "7386                         helado pistacho casero  \n",
       "7387                                  gachas dulces  \n",
       "7388                            brocheta de chuches  \n",
       "\n",
       "[7056 rows x 2 columns]"
      ]
     },
     "execution_count": 60,
     "metadata": {},
     "output_type": "execute_result"
    }
   ],
   "source": [
    "df_hogar_mania['titulo_link'] = (\n",
    "    df_hogar_mania['link']\n",
    "    .apply(os.path.basename)\n",
    "    .apply(os.path.splitext)\n",
    "    .apply(lambda text: text[0])\n",
    "    .apply(extract_words)\n",
    ")\n",
    "df_hogar_mania[['titulo', 'titulo_link']]"
   ]
  },
  {
   "cell_type": "code",
   "execution_count": 65,
   "metadata": {},
   "outputs": [],
   "source": [
    "nlp = spacy.load('es_core_news_sm')"
   ]
  },
  {
   "cell_type": "code",
   "execution_count": 216,
   "metadata": {},
   "outputs": [],
   "source": [
    "def extract_ingredients(text):\n",
    "    doc = nlp(text.lower())\n",
    "    unnecessary_bow = [\n",
    "        \"gr\",\n",
    "        \"g\",\n",
    "        \"kg\",\n",
    "        \"ml\",\n",
    "        \"l\",\n",
    "        \"oz\",\n",
    "        \"lb\",\n",
    "        \"gr.\",\n",
    "        \"g.\",\n",
    "        \"kg.\",\n",
    "        \"ml.\",\n",
    "        \"l.\",\n",
    "        \"oz.\",\n",
    "        \"lb.\",\n",
    "        \"kilo\",\n",
    "        \"litro\",\n",
    "        \"gramo\",\n",
    "        \"vaso\",\n",
    "        \"vasos\",\n",
    "        \"taza\",\n",
    "        \"tazón\",\n",
    "        \"pizca\",\n",
    "        \"cucharada\",\n",
    "        \"cucharadas\",\n",
    "        \"cucharadita\",\n",
    "        \"ralladura\",\n",
    "    ]\n",
    "    admitted_class_words = [\"NOUN\", \"PROPN\", \"PRON\", \"ADJ\"] # 220 gr. azúcar | 1 cebolla => lo identifica como VERB ?!\n",
    "    filtered_tokens = [\n",
    "        token.text\n",
    "        for token in doc\n",
    "        if not token.like_num\n",
    "        and not token.is_stop\n",
    "        and not token.is_punct\n",
    "        and token.pos_ in admitted_class_words\n",
    "        and token.text not in unnecessary_bow\n",
    "    ]\n",
    "    return \" \".join(filtered_tokens) # TODO do not join empty tokens"
   ]
  },
  {
   "cell_type": "code",
   "execution_count": 177,
   "metadata": {},
   "outputs": [
    {
     "data": {
      "text/plain": [
       "0       [harina, mantequilla, agua, azúcar, huevos, li...\n",
       "1       [láminas hojaldre, chocolate negro, mantequill...\n",
       "2       [azúcar moreno suave, jengibre molido, nuez mo...\n",
       "4       [almendra molida, leche condensada, limón, , a...\n",
       "6       [churros congelados, aceite oliva girasol, azú...\n",
       "                              ...                        \n",
       "7384                      [galletas, mantequilla fundida]\n",
       "7385    [harina arroz glutinoso, agua, azúcar recetas ...\n",
       "7386    [g. pasta pistachos comercial casera, g. pista...\n",
       "7387    [leche, harina, azúcar, semillas anís, , limón...\n",
       "7388    [variedad chuches gusto botes kilo euros, palo...\n",
       "Name: ingredientes, Length: 7056, dtype: object"
      ]
     },
     "execution_count": 177,
     "metadata": {},
     "output_type": "execute_result"
    }
   ],
   "source": [
    "df_hogar_mania['ingredientes_limpios'] = df_hogar_mania['ingredientes'].apply(lambda ingrs: [extract_ingredients(ingr) for ingr in ingrs])"
   ]
  },
  {
   "cell_type": "markdown",
   "metadata": {},
   "source": [
    "### Antena3"
   ]
  },
  {
   "cell_type": "code",
   "execution_count": 208,
   "metadata": {},
   "outputs": [
    {
     "data": {
      "text/plain": [
       "<StringArray>\n",
       "['ensaladas', 'entrantes',   'arroces',   'pescado',    'carnes',   'postres',\n",
       "    'guisos',    'huevos',     'pasta']\n",
       "Length: 9, dtype: string"
      ]
     },
     "execution_count": 208,
     "metadata": {},
     "output_type": "execute_result"
    }
   ],
   "source": [
    "categorias_antena3 = df_antena3['categoria'].unique()\n",
    "categorias_antena3"
   ]
  },
  {
   "cell_type": "code",
   "execution_count": 196,
   "metadata": {},
   "outputs": [
    {
     "data": {
      "text/plain": [
       "(2022, 5)"
      ]
     },
     "execution_count": 196,
     "metadata": {},
     "output_type": "execute_result"
    }
   ],
   "source": [
    "df_antena3.shape"
   ]
  },
  {
   "cell_type": "code",
   "execution_count": 197,
   "metadata": {},
   "outputs": [],
   "source": [
    "df_antena3['total_ingredientes'] = df_antena3['ingredientes'].apply(len)"
   ]
  },
  {
   "cell_type": "code",
   "execution_count": 198,
   "metadata": {},
   "outputs": [],
   "source": [
    "df_antena3 = df_antena3[df_antena3['total_ingredientes'] != 0]\n",
    "df_antena3 = df_antena3[(df_antena3['elaboracion'].str.len() != 0)]"
   ]
  },
  {
   "cell_type": "code",
   "execution_count": 199,
   "metadata": {},
   "outputs": [
    {
     "data": {
      "text/plain": [
       "(1761, 6)"
      ]
     },
     "execution_count": 199,
     "metadata": {},
     "output_type": "execute_result"
    }
   ],
   "source": [
    "df_antena3.shape"
   ]
  },
  {
   "cell_type": "code",
   "execution_count": 202,
   "metadata": {},
   "outputs": [
    {
     "data": {
      "text/plain": [
       "(428, 6)"
      ]
     },
     "execution_count": 202,
     "metadata": {},
     "output_type": "execute_result"
    }
   ],
   "source": [
    "df_antena3[df_antena3['total_ingredientes'] > 14].shape"
   ]
  },
  {
   "cell_type": "code",
   "execution_count": 203,
   "metadata": {},
   "outputs": [],
   "source": [
    "df_antena3['ingredientes'] = (\n",
    "    df_antena3\n",
    "    ['ingredientes']\n",
    "    .apply(lambda ingrs: ingrs[:14] if len(ingrs) > 14 else ingrs)\n",
    ")"
   ]
  },
  {
   "cell_type": "code",
   "execution_count": 204,
   "metadata": {},
   "outputs": [
    {
     "data": {
      "text/plain": [
       "count    1761.000000\n",
       "mean       10.781374\n",
       "std         2.838336\n",
       "min         2.000000\n",
       "25%         8.000000\n",
       "50%        11.000000\n",
       "75%        14.000000\n",
       "max        14.000000\n",
       "Name: total_ingredientes, dtype: float64"
      ]
     },
     "execution_count": 204,
     "metadata": {},
     "output_type": "execute_result"
    }
   ],
   "source": [
    "df_antena3['total_ingredientes'] = df_antena3['ingredientes'].apply(len)\n",
    "df_antena3['total_ingredientes'].describe()"
   ]
  },
  {
   "cell_type": "code",
   "execution_count": 205,
   "metadata": {},
   "outputs": [
    {
     "data": {
      "text/html": [
       "<div>\n",
       "<style scoped>\n",
       "    .dataframe tbody tr th:only-of-type {\n",
       "        vertical-align: middle;\n",
       "    }\n",
       "\n",
       "    .dataframe tbody tr th {\n",
       "        vertical-align: top;\n",
       "    }\n",
       "\n",
       "    .dataframe thead th {\n",
       "        text-align: right;\n",
       "    }\n",
       "</style>\n",
       "<table border=\"1\" class=\"dataframe\">\n",
       "  <thead>\n",
       "    <tr style=\"text-align: right;\">\n",
       "      <th></th>\n",
       "      <th>titulo</th>\n",
       "      <th>titulo_link</th>\n",
       "    </tr>\n",
       "  </thead>\n",
       "  <tbody>\n",
       "    <tr>\n",
       "      <th>0</th>\n",
       "      <td>Receta de alcachofas en salsa, de Karlos Argui...</td>\n",
       "      <td>alcachofas</td>\n",
       "    </tr>\n",
       "    <tr>\n",
       "      <th>1</th>\n",
       "      <td>Una receta sencilla, sabrosa y rápida de Joseb...</td>\n",
       "      <td>ensaladilla</td>\n",
       "    </tr>\n",
       "    <tr>\n",
       "      <th>2</th>\n",
       "      <td>Brócoli con champiñones y patatas, de Arguiñan...</td>\n",
       "      <td>brocoli champinones</td>\n",
       "    </tr>\n",
       "    <tr>\n",
       "      <th>3</th>\n",
       "      <td>Berenjenas a la crema, de Karlos Arguiñano: \"U...</td>\n",
       "      <td>berenjenas</td>\n",
       "    </tr>\n",
       "    <tr>\n",
       "      <th>4</th>\n",
       "      <td>Espárragos a la plancha con vinagreta de fresa...</td>\n",
       "      <td>esparragos plancha vinagreta fresas</td>\n",
       "    </tr>\n",
       "    <tr>\n",
       "      <th>...</th>\n",
       "      <td>...</td>\n",
       "      <td>...</td>\n",
       "    </tr>\n",
       "    <tr>\n",
       "      <th>2017</th>\n",
       "      <td>Arroz con verduras y conejo al azafrán</td>\n",
       "      <td>video arroz con verduras y</td>\n",
       "    </tr>\n",
       "    <tr>\n",
       "      <th>2018</th>\n",
       "      <td>La deliciosa receta de canelones de cocido de ...</td>\n",
       "      <td>la deliciosa receta de canelones de cocido de ...</td>\n",
       "    </tr>\n",
       "    <tr>\n",
       "      <th>2019</th>\n",
       "      <td>Macarrones con crema de calabaza y queso</td>\n",
       "      <td>macarrones crema calabaza</td>\n",
       "    </tr>\n",
       "    <tr>\n",
       "      <th>2020</th>\n",
       "      <td>Canelones de verduras y jamón cocido</td>\n",
       "      <td>canelones de verduras y jamon</td>\n",
       "    </tr>\n",
       "    <tr>\n",
       "      <th>2021</th>\n",
       "      <td>La deliciosa receta de arroz cremoso de boletu...</td>\n",
       "      <td>la deliciosa receta de arroz cremoso de boletus y</td>\n",
       "    </tr>\n",
       "  </tbody>\n",
       "</table>\n",
       "<p>1761 rows × 2 columns</p>\n",
       "</div>"
      ],
      "text/plain": [
       "                                                 titulo  \\\n",
       "0     Receta de alcachofas en salsa, de Karlos Argui...   \n",
       "1     Una receta sencilla, sabrosa y rápida de Joseb...   \n",
       "2     Brócoli con champiñones y patatas, de Arguiñan...   \n",
       "3     Berenjenas a la crema, de Karlos Arguiñano: \"U...   \n",
       "4     Espárragos a la plancha con vinagreta de fresa...   \n",
       "...                                                 ...   \n",
       "2017            Arroz con verduras y conejo al azafrán    \n",
       "2018  La deliciosa receta de canelones de cocido de ...   \n",
       "2019           Macarrones con crema de calabaza y queso   \n",
       "2020               Canelones de verduras y jamón cocido   \n",
       "2021  La deliciosa receta de arroz cremoso de boletu...   \n",
       "\n",
       "                                            titulo_link  \n",
       "0                                            alcachofas  \n",
       "1                                           ensaladilla  \n",
       "2                                   brocoli champinones  \n",
       "3                                            berenjenas  \n",
       "4                   esparragos plancha vinagreta fresas  \n",
       "...                                                 ...  \n",
       "2017                         video arroz con verduras y  \n",
       "2018  la deliciosa receta de canelones de cocido de ...  \n",
       "2019                          macarrones crema calabaza  \n",
       "2020                      canelones de verduras y jamon  \n",
       "2021  la deliciosa receta de arroz cremoso de boletus y  \n",
       "\n",
       "[1761 rows x 2 columns]"
      ]
     },
     "execution_count": 205,
     "metadata": {},
     "output_type": "execute_result"
    }
   ],
   "source": [
    "df_antena3['titulo_link'] = (\n",
    "    df_antena3['link']\n",
    "    .apply(os.path.basename)\n",
    "    .apply(os.path.splitext)\n",
    "    .apply(lambda text: text[0])\n",
    "    .apply(extract_words)\n",
    ")\n",
    "df_antena3[['titulo', 'titulo_link']]"
   ]
  },
  {
   "cell_type": "code",
   "execution_count": 206,
   "metadata": {},
   "outputs": [
    {
     "data": {
      "text/html": [
       "<div>\n",
       "<style scoped>\n",
       "    .dataframe tbody tr th:only-of-type {\n",
       "        vertical-align: middle;\n",
       "    }\n",
       "\n",
       "    .dataframe tbody tr th {\n",
       "        vertical-align: top;\n",
       "    }\n",
       "\n",
       "    .dataframe thead th {\n",
       "        text-align: right;\n",
       "    }\n",
       "</style>\n",
       "<table border=\"1\" class=\"dataframe\">\n",
       "  <thead>\n",
       "    <tr style=\"text-align: right;\">\n",
       "      <th></th>\n",
       "      <th>ingredientes</th>\n",
       "      <th>ingredientes_limpios</th>\n",
       "    </tr>\n",
       "  </thead>\n",
       "  <tbody>\n",
       "    <tr>\n",
       "      <th>0</th>\n",
       "      <td>[8 huevos de codorniz, 1 cebolla, 2 dientes de...</td>\n",
       "      <td>[huevos, , dientes ajo, txakoli, caldo verdura...</td>\n",
       "    </tr>\n",
       "    <tr>\n",
       "      <th>1</th>\n",
       "      <td>[3 patatas, 3 zanahorias, 3 huevos, 4 lonchas ...</td>\n",
       "      <td>[patatas, zanahorias, huevos, lonchas queso ha...</td>\n",
       "    </tr>\n",
       "    <tr>\n",
       "      <th>2</th>\n",
       "      <td>[6 champiñones, 2 patatas, 4 dientes de ajo, 1...</td>\n",
       "      <td>[champiñones, patatas, dientes ajo, jamón serr...</td>\n",
       "    </tr>\n",
       "    <tr>\n",
       "      <th>3</th>\n",
       "      <td>[1 cebolla pequeña, 4 dientes de ajo, ½ l de l...</td>\n",
       "      <td>[cebolla pequeña, dientes ajo, leche, caldo ca...</td>\n",
       "    </tr>\n",
       "    <tr>\n",
       "      <th>4</th>\n",
       "      <td>[4-6 fresas (dependiendo del tamaño), ½ aguaca...</td>\n",
       "      <td>[fresas tamaño, aguacate, lima, aceite oliva v...</td>\n",
       "    </tr>\n",
       "    <tr>\n",
       "      <th>...</th>\n",
       "      <td>...</td>\n",
       "      <td>...</td>\n",
       "    </tr>\n",
       "    <tr>\n",
       "      <th>2017</th>\n",
       "      <td>[300 g de arroz, 2 muslos de conejo, 1 cebolle...</td>\n",
       "      <td>[arroz, muslos conejo, , espárragos verdes, di...</td>\n",
       "    </tr>\n",
       "    <tr>\n",
       "      <th>2018</th>\n",
       "      <td>[24 láminas de canelón, 1 muslo de gallina (co...</td>\n",
       "      <td>[láminas canelón, muslo gallina cocido, trozos...</td>\n",
       "    </tr>\n",
       "    <tr>\n",
       "      <th>2019</th>\n",
       "      <td>[300 g de macarrones, 400 g de calabaza (potim...</td>\n",
       "      <td>[macarrones, calabaza potimarrón, , puerro, qu...</td>\n",
       "    </tr>\n",
       "    <tr>\n",
       "      <th>2020</th>\n",
       "      <td>[20 láminas de canelones, 200 g de espinacas, ...</td>\n",
       "      <td>[láminas canelones, espinacas, , zanahorias, d...</td>\n",
       "    </tr>\n",
       "    <tr>\n",
       "      <th>2021</th>\n",
       "      <td>[400 g de arroz, 1 cebolleta, 1 puerro, 300 g ...</td>\n",
       "      <td>[arroz, , puerro, calabaza, boletus hongos, di...</td>\n",
       "    </tr>\n",
       "  </tbody>\n",
       "</table>\n",
       "<p>1761 rows × 2 columns</p>\n",
       "</div>"
      ],
      "text/plain": [
       "                                           ingredientes  \\\n",
       "0     [8 huevos de codorniz, 1 cebolla, 2 dientes de...   \n",
       "1     [3 patatas, 3 zanahorias, 3 huevos, 4 lonchas ...   \n",
       "2     [6 champiñones, 2 patatas, 4 dientes de ajo, 1...   \n",
       "3     [1 cebolla pequeña, 4 dientes de ajo, ½ l de l...   \n",
       "4     [4-6 fresas (dependiendo del tamaño), ½ aguaca...   \n",
       "...                                                 ...   \n",
       "2017  [300 g de arroz, 2 muslos de conejo, 1 cebolle...   \n",
       "2018  [24 láminas de canelón, 1 muslo de gallina (co...   \n",
       "2019  [300 g de macarrones, 400 g de calabaza (potim...   \n",
       "2020  [20 láminas de canelones, 200 g de espinacas, ...   \n",
       "2021  [400 g de arroz, 1 cebolleta, 1 puerro, 300 g ...   \n",
       "\n",
       "                                   ingredientes_limpios  \n",
       "0     [huevos, , dientes ajo, txakoli, caldo verdura...  \n",
       "1     [patatas, zanahorias, huevos, lonchas queso ha...  \n",
       "2     [champiñones, patatas, dientes ajo, jamón serr...  \n",
       "3     [cebolla pequeña, dientes ajo, leche, caldo ca...  \n",
       "4     [fresas tamaño, aguacate, lima, aceite oliva v...  \n",
       "...                                                 ...  \n",
       "2017  [arroz, muslos conejo, , espárragos verdes, di...  \n",
       "2018  [láminas canelón, muslo gallina cocido, trozos...  \n",
       "2019  [macarrones, calabaza potimarrón, , puerro, qu...  \n",
       "2020  [láminas canelones, espinacas, , zanahorias, d...  \n",
       "2021  [arroz, , puerro, calabaza, boletus hongos, di...  \n",
       "\n",
       "[1761 rows x 2 columns]"
      ]
     },
     "execution_count": 206,
     "metadata": {},
     "output_type": "execute_result"
    }
   ],
   "source": [
    "df_antena3['ingredientes_limpios'] = df_antena3['ingredientes'].apply(lambda ingrs: [extract_ingredients(ingr) for ingr in ingrs])\n",
    "df_antena3[['ingredientes','ingredientes_limpios']]"
   ]
  },
  {
   "cell_type": "markdown",
   "metadata": {},
   "source": [
    "### Saber Vivir"
   ]
  },
  {
   "cell_type": "code",
   "execution_count": 213,
   "metadata": {},
   "outputs": [
    {
     "data": {
      "text/plain": [
       "['caldos y cremas',\n",
       " 'postres y dulces',\n",
       " 'celebraciones',\n",
       " 'pasteles salados',\n",
       " 'pastas y pizzas',\n",
       " 'pescados y mariscos',\n",
       " 'ensaladas y verduras',\n",
       " 'legumbres',\n",
       " 'carnes',\n",
       " 'arroces']"
      ]
     },
     "execution_count": 213,
     "metadata": {},
     "output_type": "execute_result"
    }
   ],
   "source": [
    "categorias_saber_vivir = df_saber_vivir['categoria'].unique()\n",
    "categorias_saber_vivir =[categoria.lower() for categoria in categorias_saber_vivir]\n",
    "categorias_saber_vivir"
   ]
  },
  {
   "cell_type": "code",
   "execution_count": 207,
   "metadata": {},
   "outputs": [
    {
     "data": {
      "text/plain": [
       "(461, 5)"
      ]
     },
     "execution_count": 207,
     "metadata": {},
     "output_type": "execute_result"
    }
   ],
   "source": [
    "df_saber_vivir.shape"
   ]
  },
  {
   "cell_type": "code",
   "execution_count": 214,
   "metadata": {},
   "outputs": [],
   "source": [
    "df_saber_vivir['total_ingredientes'] = df_saber_vivir['ingredientes'].apply(len)"
   ]
  },
  {
   "cell_type": "code",
   "execution_count": 215,
   "metadata": {},
   "outputs": [
    {
     "data": {
      "text/html": [
       "<div>\n",
       "<style scoped>\n",
       "    .dataframe tbody tr th:only-of-type {\n",
       "        vertical-align: middle;\n",
       "    }\n",
       "\n",
       "    .dataframe tbody tr th {\n",
       "        vertical-align: top;\n",
       "    }\n",
       "\n",
       "    .dataframe thead th {\n",
       "        text-align: right;\n",
       "    }\n",
       "</style>\n",
       "<table border=\"1\" class=\"dataframe\">\n",
       "  <thead>\n",
       "    <tr style=\"text-align: right;\">\n",
       "      <th></th>\n",
       "      <th>titulo</th>\n",
       "      <th>titulo_link</th>\n",
       "    </tr>\n",
       "  </thead>\n",
       "  <tbody>\n",
       "    <tr>\n",
       "      <th>0</th>\n",
       "      <td>Crema de calabaza</td>\n",
       "      <td>crema de calabaza</td>\n",
       "    </tr>\n",
       "    <tr>\n",
       "      <th>1</th>\n",
       "      <td>Crema de champiñones y queso</td>\n",
       "      <td>crema de champinones y queso</td>\n",
       "    </tr>\n",
       "    <tr>\n",
       "      <th>2</th>\n",
       "      <td>Crema de coles de Bruselas con jamón</td>\n",
       "      <td>crema de coles de bruselas con jamon</td>\n",
       "    </tr>\n",
       "    <tr>\n",
       "      <th>3</th>\n",
       "      <td>Crema de espárragos con caviar</td>\n",
       "      <td>crema de esparragos con caviar</td>\n",
       "    </tr>\n",
       "    <tr>\n",
       "      <th>4</th>\n",
       "      <td>Crema de espinacas</td>\n",
       "      <td>crema de espinacas</td>\n",
       "    </tr>\n",
       "    <tr>\n",
       "      <th>...</th>\n",
       "      <td>...</td>\n",
       "      <td>...</td>\n",
       "    </tr>\n",
       "    <tr>\n",
       "      <th>456</th>\n",
       "      <td>Crema castellana con huevo</td>\n",
       "      <td>crema castellana con huevo</td>\n",
       "    </tr>\n",
       "    <tr>\n",
       "      <th>457</th>\n",
       "      <td>Crema catalana a los tres cítricos</td>\n",
       "      <td>crema catalana a los tres citricos</td>\n",
       "    </tr>\n",
       "    <tr>\n",
       "      <th>458</th>\n",
       "      <td>Crema catalana con hierbaluisa</td>\n",
       "      <td>crema catalana con hierbaluisa</td>\n",
       "    </tr>\n",
       "    <tr>\n",
       "      <th>459</th>\n",
       "      <td>Crema de boletus, castañas y berenjenas</td>\n",
       "      <td>crema de boletus castanas y berenjenas</td>\n",
       "    </tr>\n",
       "    <tr>\n",
       "      <th>460</th>\n",
       "      <td>Crema de calabacín con salmón</td>\n",
       "      <td>crema de calabacin con salmon</td>\n",
       "    </tr>\n",
       "  </tbody>\n",
       "</table>\n",
       "<p>461 rows × 2 columns</p>\n",
       "</div>"
      ],
      "text/plain": [
       "                                      titulo  \\\n",
       "0                          Crema de calabaza   \n",
       "1               Crema de champiñones y queso   \n",
       "2       Crema de coles de Bruselas con jamón   \n",
       "3             Crema de espárragos con caviar   \n",
       "4                         Crema de espinacas   \n",
       "..                                       ...   \n",
       "456               Crema castellana con huevo   \n",
       "457       Crema catalana a los tres cítricos   \n",
       "458           Crema catalana con hierbaluisa   \n",
       "459  Crema de boletus, castañas y berenjenas   \n",
       "460            Crema de calabacín con salmón   \n",
       "\n",
       "                                titulo_link  \n",
       "0                         crema de calabaza  \n",
       "1              crema de champinones y queso  \n",
       "2      crema de coles de bruselas con jamon  \n",
       "3            crema de esparragos con caviar  \n",
       "4                        crema de espinacas  \n",
       "..                                      ...  \n",
       "456              crema castellana con huevo  \n",
       "457      crema catalana a los tres citricos  \n",
       "458          crema catalana con hierbaluisa  \n",
       "459  crema de boletus castanas y berenjenas  \n",
       "460           crema de calabacin con salmon  \n",
       "\n",
       "[461 rows x 2 columns]"
      ]
     },
     "execution_count": 215,
     "metadata": {},
     "output_type": "execute_result"
    }
   ],
   "source": [
    "df_saber_vivir['titulo_link'] = (\n",
    "    df_saber_vivir['link']\n",
    "    .apply(os.path.basename)\n",
    "    .apply(os.path.splitext)\n",
    "    .apply(lambda text: text[0])\n",
    "    .apply(extract_words)\n",
    ")\n",
    "df_saber_vivir[['titulo', 'titulo_link']]"
   ]
  },
  {
   "cell_type": "code",
   "execution_count": 217,
   "metadata": {},
   "outputs": [
    {
     "data": {
      "text/html": [
       "<div>\n",
       "<style scoped>\n",
       "    .dataframe tbody tr th:only-of-type {\n",
       "        vertical-align: middle;\n",
       "    }\n",
       "\n",
       "    .dataframe tbody tr th {\n",
       "        vertical-align: top;\n",
       "    }\n",
       "\n",
       "    .dataframe thead th {\n",
       "        text-align: right;\n",
       "    }\n",
       "</style>\n",
       "<table border=\"1\" class=\"dataframe\">\n",
       "  <thead>\n",
       "    <tr style=\"text-align: right;\">\n",
       "      <th></th>\n",
       "      <th>ingredientes</th>\n",
       "      <th>ingredientes_limpios</th>\n",
       "    </tr>\n",
       "  </thead>\n",
       "  <tbody>\n",
       "    <tr>\n",
       "      <th>0</th>\n",
       "      <td>[1 puerro pequeño, Media cebolla, 1 zanahoria,...</td>\n",
       "      <td>[puerro pequeño, cebolla, , tomate, patatas, c...</td>\n",
       "    </tr>\n",
       "    <tr>\n",
       "      <th>1</th>\n",
       "      <td>[600 gr. champiñones, 4 vasos leche, 2 vaso de...</td>\n",
       "      <td>[champiñones, leche, caldo ave, quesitos, pata...</td>\n",
       "    </tr>\n",
       "    <tr>\n",
       "      <th>2</th>\n",
       "      <td>[12 coles de Bruselas, 5 patatas medianas, Ace...</td>\n",
       "      <td>[coles bruselas, patatas medianas, aceite oliv...</td>\n",
       "    </tr>\n",
       "    <tr>\n",
       "      <th>3</th>\n",
       "      <td>[1 manojo de espárragos verdes, 1 litro de cal...</td>\n",
       "      <td>[manojo espárragos verdes, caldo verduras, lat...</td>\n",
       "    </tr>\n",
       "    <tr>\n",
       "      <th>4</th>\n",
       "      <td>[2 dientes de ajo picados, 1 vaso de arroz coc...</td>\n",
       "      <td>[dientes ajo picados, arroz cocido, caldo, pic...</td>\n",
       "    </tr>\n",
       "    <tr>\n",
       "      <th>...</th>\n",
       "      <td>...</td>\n",
       "      <td>...</td>\n",
       "    </tr>\n",
       "    <tr>\n",
       "      <th>456</th>\n",
       "      <td>[8 dientes de ajo, 4 huevos, 100 gr. pan, 100 ...</td>\n",
       "      <td>[dientes ajo, huevos, pan, chorizo, caldo ave,...</td>\n",
       "    </tr>\n",
       "    <tr>\n",
       "      <th>457</th>\n",
       "      <td>[1 litro leche, 220 gr. azúcar, 40 gr. harina ...</td>\n",
       "      <td>[leche, , harina maíz refinada, yemas huevo, l...</td>\n",
       "    </tr>\n",
       "    <tr>\n",
       "      <th>458</th>\n",
       "      <td>[2 cucharadas de azúcar, 2 cucharadas de nata,...</td>\n",
       "      <td>[azúcar, nata, mantequilla, chocolate negro fo...</td>\n",
       "    </tr>\n",
       "    <tr>\n",
       "      <th>459</th>\n",
       "      <td>[100 gr. boletus, 100 gr. setas shiitake, 80 g...</td>\n",
       "      <td>[boletus, setas shiitake, castañas, , brandy, ...</td>\n",
       "    </tr>\n",
       "    <tr>\n",
       "      <th>460</th>\n",
       "      <td>[1 cebolla, 2 dientes de ajo, 2 calabacines, 2...</td>\n",
       "      <td>[, dientes ajo, calabacines, patatas, mantequi...</td>\n",
       "    </tr>\n",
       "  </tbody>\n",
       "</table>\n",
       "<p>461 rows × 2 columns</p>\n",
       "</div>"
      ],
      "text/plain": [
       "                                          ingredientes  \\\n",
       "0    [1 puerro pequeño, Media cebolla, 1 zanahoria,...   \n",
       "1    [600 gr. champiñones, 4 vasos leche, 2 vaso de...   \n",
       "2    [12 coles de Bruselas, 5 patatas medianas, Ace...   \n",
       "3    [1 manojo de espárragos verdes, 1 litro de cal...   \n",
       "4    [2 dientes de ajo picados, 1 vaso de arroz coc...   \n",
       "..                                                 ...   \n",
       "456  [8 dientes de ajo, 4 huevos, 100 gr. pan, 100 ...   \n",
       "457  [1 litro leche, 220 gr. azúcar, 40 gr. harina ...   \n",
       "458  [2 cucharadas de azúcar, 2 cucharadas de nata,...   \n",
       "459  [100 gr. boletus, 100 gr. setas shiitake, 80 g...   \n",
       "460  [1 cebolla, 2 dientes de ajo, 2 calabacines, 2...   \n",
       "\n",
       "                                  ingredientes_limpios  \n",
       "0    [puerro pequeño, cebolla, , tomate, patatas, c...  \n",
       "1    [champiñones, leche, caldo ave, quesitos, pata...  \n",
       "2    [coles bruselas, patatas medianas, aceite oliv...  \n",
       "3    [manojo espárragos verdes, caldo verduras, lat...  \n",
       "4    [dientes ajo picados, arroz cocido, caldo, pic...  \n",
       "..                                                 ...  \n",
       "456  [dientes ajo, huevos, pan, chorizo, caldo ave,...  \n",
       "457  [leche, , harina maíz refinada, yemas huevo, l...  \n",
       "458  [azúcar, nata, mantequilla, chocolate negro fo...  \n",
       "459  [boletus, setas shiitake, castañas, , brandy, ...  \n",
       "460  [, dientes ajo, calabacines, patatas, mantequi...  \n",
       "\n",
       "[461 rows x 2 columns]"
      ]
     },
     "execution_count": 217,
     "metadata": {},
     "output_type": "execute_result"
    }
   ],
   "source": [
    "df_saber_vivir['ingredientes_limpios'] = df_saber_vivir['ingredientes'].apply(lambda ingrs: [extract_ingredients(ingr) for ingr in ingrs])\n",
    "df_saber_vivir[['ingredientes','ingredientes_limpios']]"
   ]
  },
  {
   "cell_type": "markdown",
   "metadata": {},
   "source": [
    "### El Mundo"
   ]
  },
  {
   "cell_type": "code",
   "execution_count": 222,
   "metadata": {},
   "outputs": [
    {
     "data": {
      "text/plain": [
       "<StringArray>\n",
       "[                 'postres',                    'pasta',\n",
       "                    'arroz',                    'pollo',\n",
       "             'sopas-caldos',                'bizcochos',\n",
       "                    'carne',                   'guisos',\n",
       "                'legumbres',                 'verduras',\n",
       "                   'salsas',              'masas-panes',\n",
       "                   'cremas', 'patatas-huevos-tortillas',\n",
       "       'aperitivos-faciles',                 'pescados',\n",
       "         'recetas-mariscos',             'vegetarianas',\n",
       "            'sanas-faciles',               'orientales']\n",
       "Length: 20, dtype: string"
      ]
     },
     "execution_count": 222,
     "metadata": {},
     "output_type": "execute_result"
    }
   ],
   "source": [
    "categorias_el_mundo = df_el_mundo['categoria'].unique()\n",
    "categorias_el_mundo"
   ]
  },
  {
   "cell_type": "code",
   "execution_count": 223,
   "metadata": {},
   "outputs": [
    {
     "data": {
      "text/plain": [
       "(388, 5)"
      ]
     },
     "execution_count": 223,
     "metadata": {},
     "output_type": "execute_result"
    }
   ],
   "source": [
    "df_el_mundo.shape"
   ]
  },
  {
   "cell_type": "code",
   "execution_count": null,
   "metadata": {},
   "outputs": [],
   "source": []
  }
 ],
 "metadata": {
  "kernelspec": {
   "display_name": ".venv",
   "language": "python",
   "name": "python3"
  },
  "language_info": {
   "codemirror_mode": {
    "name": "ipython",
    "version": 3
   },
   "file_extension": ".py",
   "mimetype": "text/x-python",
   "name": "python",
   "nbconvert_exporter": "python",
   "pygments_lexer": "ipython3",
   "version": "3.12.3"
  }
 },
 "nbformat": 4,
 "nbformat_minor": 2
}
