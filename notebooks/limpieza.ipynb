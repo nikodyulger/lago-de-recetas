{
 "cells": [
  {
   "cell_type": "code",
   "execution_count": 1,
   "metadata": {},
   "outputs": [],
   "source": [
    "# !python -m spacy download es_core_news_sm"
   ]
  },
  {
   "cell_type": "code",
   "execution_count": 1,
   "metadata": {},
   "outputs": [],
   "source": [
    "import os\n",
    "import re\n",
    "import spacy\n",
    "import awswrangler as wr\n",
    "import pandas as pd"
   ]
  },
  {
   "cell_type": "markdown",
   "metadata": {},
   "source": [
    "## Carga de datos"
   ]
  },
  {
   "cell_type": "code",
   "execution_count": 2,
   "metadata": {},
   "outputs": [],
   "source": [
    "df_hogar_mania = wr.s3.read_parquet(path='s3://raw-recipe-data-bucket/hogar_mania')\n",
    "df_antena3 = wr.s3.read_parquet(path='s3://raw-recipe-data-bucket/antena3')\n",
    "df_saber_vivir = wr.s3.read_parquet(path='s3://raw-recipe-data-bucket/saber_vivir')\n",
    "df_el_mundo = wr.s3.read_parquet(path='s3://raw-recipe-data-bucket/el_mundo')"
   ]
  },
  {
   "cell_type": "markdown",
   "metadata": {},
   "source": [
    "### Hogar Mania"
   ]
  },
  {
   "cell_type": "code",
   "execution_count": 3,
   "metadata": {},
   "outputs": [
    {
     "data": {
      "text/plain": [
       "{'aperitivos',\n",
       " 'arroces-cereales',\n",
       " 'bebidas',\n",
       " 'carnes',\n",
       " 'cocina-internacional',\n",
       " 'cocteles',\n",
       " 'desayunos',\n",
       " 'ensaladas-verduras',\n",
       " 'huevos',\n",
       " 'legumbres',\n",
       " 'pastas-pizzas',\n",
       " 'pescados-mariscos',\n",
       " 'postres',\n",
       " 'recetas-pan',\n",
       " 'salsas',\n",
       " 'setas-hongos',\n",
       " 'sopas-cremas'}"
      ]
     },
     "execution_count": 3,
     "metadata": {},
     "output_type": "execute_result"
    }
   ],
   "source": [
    "categorias_hogar_mania = set(df_hogar_mania['categoria'].unique())\n",
    "categorias_hogar_mania"
   ]
  },
  {
   "cell_type": "markdown",
   "metadata": {},
   "source": [
    "Guardamos todas las categorías porque nos harán falta más tarde para unificarlas con el resto de conjunto de datos"
   ]
  },
  {
   "cell_type": "code",
   "execution_count": 4,
   "metadata": {},
   "outputs": [
    {
     "data": {
      "text/plain": [
       "(7464, 5)"
      ]
     },
     "execution_count": 4,
     "metadata": {},
     "output_type": "execute_result"
    }
   ],
   "source": [
    "df_hogar_mania.shape"
   ]
  },
  {
   "cell_type": "markdown",
   "metadata": {},
   "source": [
    "Eliminamos los recetas con ingredientes nulos porque no son una cantidad representativa, ni tampoco tenemos manera de imputar sus valores"
   ]
  },
  {
   "cell_type": "code",
   "execution_count": 4,
   "metadata": {},
   "outputs": [],
   "source": [
    "df_hogar_mania.dropna(subset=[\"ingredientes\"], inplace=True)"
   ]
  },
  {
   "cell_type": "code",
   "execution_count": 5,
   "metadata": {},
   "outputs": [
    {
     "data": {
      "text/plain": [
       "(7228, 5)"
      ]
     },
     "execution_count": 5,
     "metadata": {},
     "output_type": "execute_result"
    }
   ],
   "source": [
    "df_hogar_mania.shape"
   ]
  },
  {
   "cell_type": "code",
   "execution_count": 6,
   "metadata": {},
   "outputs": [
    {
     "data": {
      "text/plain": [
       "(18, 6)"
      ]
     },
     "execution_count": 6,
     "metadata": {},
     "output_type": "execute_result"
    }
   ],
   "source": [
    "df_hogar_mania['total_ingredientes'] = df_hogar_mania['ingredientes'].apply(len)\n",
    "df_hogar_mania[df_hogar_mania['total_ingredientes'] == 0].shape"
   ]
  },
  {
   "cell_type": "code",
   "execution_count": 7,
   "metadata": {},
   "outputs": [],
   "source": [
    "df_hogar_mania = df_hogar_mania[df_hogar_mania['total_ingredientes'] != 0]"
   ]
  },
  {
   "cell_type": "markdown",
   "metadata": {},
   "source": [
    "Inspeccionamos las recetas con múltiple categoría para ver si hay alguna manera de elegir con cual quedarnos"
   ]
  },
  {
   "cell_type": "code",
   "execution_count": 9,
   "metadata": {},
   "outputs": [
    {
     "data": {
      "text/plain": [
       "<StringArray>\n",
       "[             'postres',           'aperitivos',   'ensaladas-verduras',\n",
       "     'arroces-cereales',        'pastas-pizzas',         'sopas-cremas',\n",
       "            'legumbres',               'carnes',    'pescados-mariscos',\n",
       "               'huevos',            'desayunos',          'recetas-pan',\n",
       "              'bebidas',             'cocteles', 'cocina-internacional']\n",
       "Length: 15, dtype: string"
      ]
     },
     "execution_count": 9,
     "metadata": {},
     "output_type": "execute_result"
    }
   ],
   "source": [
    "df_hogar_mania[df_hogar_mania.duplicated(subset=['link'], keep=False)]['categoria'].unique()"
   ]
  },
  {
   "cell_type": "code",
   "execution_count": 10,
   "metadata": {},
   "outputs": [
    {
     "data": {
      "text/plain": [
       "link\n",
       "https://www.hogarmania.com//cocina/recetas/aperitivos/desayuno-real-cereal-37095.html                                        [aperitivos, desayunos]\n",
       "https://www.hogarmania.com//cocina/recetas/aperitivos/jocoque-10518.html                                          [aperitivos, cocina-internacional]\n",
       "https://www.hogarmania.com//cocina/recetas/aperitivos/molletes-mexicana-36967.html                                           [aperitivos, desayunos]\n",
       "https://www.hogarmania.com//cocina/recetas/aperitivos/zumo-papaya-naranja-pomelo-25672.html                                    [aperitivos, bebidas]\n",
       "https://www.hogarmania.com//cocina/recetas/arroces-cereales/arroz-colores-salsa-agridulce-asia-2684.html    [arroces-cereales, cocina-internacional]\n",
       "                                                                                                                              ...                   \n",
       "https://www.hogarmania.com//cocina/recetas/recetas-pan/bagels-rosquillas-18773.html                                         [desayunos, recetas-pan]\n",
       "https://www.hogarmania.com//cocina/recetas/recetas-pan/bollos-parker-house-parker-house-18807.html                          [desayunos, recetas-pan]\n",
       "https://www.hogarmania.com//cocina/recetas/recetas-pan/jamon-venezolano-38382.html                               [recetas-pan, cocina-internacional]\n",
       "https://www.hogarmania.com//cocina/recetas/sopas-cremas/sopa-rusa-repollo-2417.html                             [sopas-cremas, cocina-internacional]\n",
       "https://www.hogarmania.com//cocina/recetas/sopas-cremas/sopa-turca-1398.html                                    [sopas-cremas, cocina-internacional]\n",
       "Name: categoria, Length: 153, dtype: object"
      ]
     },
     "execution_count": 10,
     "metadata": {},
     "output_type": "execute_result"
    }
   ],
   "source": [
    "df_hogar_mania_double = df_hogar_mania[df_hogar_mania.duplicated(subset=['link'], keep=False)]\n",
    "df_hogar_mania_double.groupby(by='link')['categoria'].apply(list)"
   ]
  },
  {
   "cell_type": "markdown",
   "metadata": {},
   "source": [
    "Vemos que no hay un criterio que podamos seguir, así que nos decantamos por quedarnos con la primera categoría que se encuentre en el conjunto de datos"
   ]
  },
  {
   "cell_type": "code",
   "execution_count": 8,
   "metadata": {},
   "outputs": [],
   "source": [
    "df_hogar_mania.drop_duplicates(subset=['link'], keep='first', inplace=True)"
   ]
  },
  {
   "cell_type": "code",
   "execution_count": 9,
   "metadata": {},
   "outputs": [
    {
     "data": {
      "text/plain": [
       "(7056, 6)"
      ]
     },
     "execution_count": 9,
     "metadata": {},
     "output_type": "execute_result"
    }
   ],
   "source": [
    "df_hogar_mania.shape"
   ]
  },
  {
   "cell_type": "code",
   "execution_count": 10,
   "metadata": {},
   "outputs": [],
   "source": [
    "def extract_words(text):\n",
    "    words = re.findall(r'\\b[a-zA-Z]+\\b', text)\n",
    "    return ' '.join(words)"
   ]
  },
  {
   "cell_type": "code",
   "execution_count": 11,
   "metadata": {},
   "outputs": [
    {
     "data": {
      "text/html": [
       "<div>\n",
       "<style scoped>\n",
       "    .dataframe tbody tr th:only-of-type {\n",
       "        vertical-align: middle;\n",
       "    }\n",
       "\n",
       "    .dataframe tbody tr th {\n",
       "        vertical-align: top;\n",
       "    }\n",
       "\n",
       "    .dataframe thead th {\n",
       "        text-align: right;\n",
       "    }\n",
       "</style>\n",
       "<table border=\"1\" class=\"dataframe\">\n",
       "  <thead>\n",
       "    <tr style=\"text-align: right;\">\n",
       "      <th></th>\n",
       "      <th>titulo</th>\n",
       "      <th>titulo_link</th>\n",
       "    </tr>\n",
       "  </thead>\n",
       "  <tbody>\n",
       "    <tr>\n",
       "      <th>0</th>\n",
       "      <td>Buñuelos de viento fáciles, la receta tradicio...</td>\n",
       "      <td>bunuelos</td>\n",
       "    </tr>\n",
       "    <tr>\n",
       "      <th>1</th>\n",
       "      <td>Corona de hojaldre de Navidad</td>\n",
       "      <td>corona navidad</td>\n",
       "    </tr>\n",
       "    <tr>\n",
       "      <th>2</th>\n",
       "      <td>Cafés de Navidad: Gingerbread Latte y Pumpkin ...</td>\n",
       "      <td>cafes navidad gingerbread pumpkin spice latte</td>\n",
       "    </tr>\n",
       "    <tr>\n",
       "      <th>4</th>\n",
       "      <td>Mazapanes de Navidad</td>\n",
       "      <td>mazapanes navidad</td>\n",
       "    </tr>\n",
       "    <tr>\n",
       "      <th>6</th>\n",
       "      <td>Churros en freidora de aire, ¡más fácil imposi...</td>\n",
       "      <td>churros freidora aire</td>\n",
       "    </tr>\n",
       "    <tr>\n",
       "      <th>...</th>\n",
       "      <td>...</td>\n",
       "      <td>...</td>\n",
       "    </tr>\n",
       "    <tr>\n",
       "      <th>7384</th>\n",
       "      <td>Tarta fría de limón de Eva Arguiñano, la más c...</td>\n",
       "      <td>tarta fria limon</td>\n",
       "    </tr>\n",
       "    <tr>\n",
       "      <th>7385</th>\n",
       "      <td>Receta de mochis japoneses caseros</td>\n",
       "      <td>receta mochis japoneses caseros</td>\n",
       "    </tr>\n",
       "    <tr>\n",
       "      <th>7386</th>\n",
       "      <td>Receta de helado de pistacho, paso a paso</td>\n",
       "      <td>helado pistacho casero</td>\n",
       "    </tr>\n",
       "    <tr>\n",
       "      <th>7387</th>\n",
       "      <td>Cómo hacer gachas dulces con los pasos de Karl...</td>\n",
       "      <td>gachas dulces</td>\n",
       "    </tr>\n",
       "    <tr>\n",
       "      <th>7388</th>\n",
       "      <td>¿Cómo hacer brochetas de chuches?</td>\n",
       "      <td>brocheta de chuches</td>\n",
       "    </tr>\n",
       "  </tbody>\n",
       "</table>\n",
       "<p>7056 rows × 2 columns</p>\n",
       "</div>"
      ],
      "text/plain": [
       "                                                 titulo  \\\n",
       "0     Buñuelos de viento fáciles, la receta tradicio...   \n",
       "1                         Corona de hojaldre de Navidad   \n",
       "2     Cafés de Navidad: Gingerbread Latte y Pumpkin ...   \n",
       "4                                  Mazapanes de Navidad   \n",
       "6     Churros en freidora de aire, ¡más fácil imposi...   \n",
       "...                                                 ...   \n",
       "7384  Tarta fría de limón de Eva Arguiñano, la más c...   \n",
       "7385                 Receta de mochis japoneses caseros   \n",
       "7386          Receta de helado de pistacho, paso a paso   \n",
       "7387  Cómo hacer gachas dulces con los pasos de Karl...   \n",
       "7388                  ¿Cómo hacer brochetas de chuches?   \n",
       "\n",
       "                                        titulo_link  \n",
       "0                                          bunuelos  \n",
       "1                                    corona navidad  \n",
       "2     cafes navidad gingerbread pumpkin spice latte  \n",
       "4                                 mazapanes navidad  \n",
       "6                             churros freidora aire  \n",
       "...                                             ...  \n",
       "7384                               tarta fria limon  \n",
       "7385                receta mochis japoneses caseros  \n",
       "7386                         helado pistacho casero  \n",
       "7387                                  gachas dulces  \n",
       "7388                            brocheta de chuches  \n",
       "\n",
       "[7056 rows x 2 columns]"
      ]
     },
     "execution_count": 11,
     "metadata": {},
     "output_type": "execute_result"
    }
   ],
   "source": [
    "df_hogar_mania['titulo_link'] = (\n",
    "    df_hogar_mania['link']\n",
    "    .apply(os.path.basename)\n",
    "    .apply(os.path.splitext)\n",
    "    .apply(lambda text: text[0])\n",
    "    .apply(extract_words)\n",
    ")\n",
    "df_hogar_mania[['titulo', 'titulo_link']]"
   ]
  },
  {
   "cell_type": "markdown",
   "metadata": {},
   "source": [
    "Construimos una nueva columna dado que los títulos tienen bastante ruido, en cambio si nos fijamos en el link los titulos son mas concisos y directos"
   ]
  },
  {
   "cell_type": "code",
   "execution_count": 12,
   "metadata": {},
   "outputs": [],
   "source": [
    "nlp = spacy.load('es_core_news_sm')"
   ]
  },
  {
   "cell_type": "code",
   "execution_count": 14,
   "metadata": {},
   "outputs": [],
   "source": [
    "def extract_ingredients(ingrs):\n",
    "    unnecessary_bow = [\n",
    "        \"gr\",\n",
    "        \"g\",\n",
    "        \"kg\",\n",
    "        \"ml\",\n",
    "        \"l\",\n",
    "        \"oz\",\n",
    "        \"lb\",\n",
    "        \"gr.\",\n",
    "        \"g.\",\n",
    "        \"kg.\",\n",
    "        \"ml.\",\n",
    "        \"l.\",\n",
    "        \"oz.\",\n",
    "        \"lb.\",\n",
    "        \"cm\",\n",
    "        \"kilo\",\n",
    "        \"litro\",\n",
    "        \"gramo\",\n",
    "        \"gramos\",\n",
    "        \"vaso\",\n",
    "        \"vasos\",\n",
    "        \"taza\",\n",
    "        \"tazón\",\n",
    "        \"pizca\",\n",
    "        \"cucharada\",\n",
    "        \"cucharadas\",\n",
    "        \"cucharadita\",\n",
    "        \"ralladura\",\n",
    "        \"chorrito\"\n",
    "    ]\n",
    "    admitted_class_words = [\"NOUN\", \"PROPN\", \"PRON\"] # 220 gr. azúcar | 1 cebolla => lo identifica como VERB ?!\n",
    "    filtered_tokens = []\n",
    "    for ing in ingrs: \n",
    "        doc = nlp(ing.lower())\n",
    "        filtered_tokens += [\n",
    "            token.text\n",
    "            for token in doc\n",
    "            if not token.like_num\n",
    "            and not token.is_stop\n",
    "            and not token.is_punct\n",
    "            and token.pos_ in admitted_class_words\n",
    "            and token.text not in unnecessary_bow\n",
    "        ]\n",
    "    return \" \".join(filtered_tokens)"
   ]
  },
  {
   "cell_type": "markdown",
   "metadata": {},
   "source": [
    "Construimos una funcion para la tokenización de los ingredientes:\n",
    "1. Bolsa de palabras \"innecesarias\" o que no añaden valor, sobre todo relacionadas con medidas en la cocina\n",
    "2. Eliminación de palabras vacías, números o signos de puntuación\n",
    "3. Nos quedamos con los tokens que son sustantivos o pronombres"
   ]
  },
  {
   "cell_type": "code",
   "execution_count": 15,
   "metadata": {},
   "outputs": [
    {
     "data": {
      "text/html": [
       "<div>\n",
       "<style scoped>\n",
       "    .dataframe tbody tr th:only-of-type {\n",
       "        vertical-align: middle;\n",
       "    }\n",
       "\n",
       "    .dataframe tbody tr th {\n",
       "        vertical-align: top;\n",
       "    }\n",
       "\n",
       "    .dataframe thead th {\n",
       "        text-align: right;\n",
       "    }\n",
       "</style>\n",
       "<table border=\"1\" class=\"dataframe\">\n",
       "  <thead>\n",
       "    <tr style=\"text-align: right;\">\n",
       "      <th></th>\n",
       "      <th>titulo</th>\n",
       "      <th>categoria</th>\n",
       "      <th>ingredientes</th>\n",
       "      <th>elaboracion</th>\n",
       "      <th>link</th>\n",
       "      <th>total_ingredientes</th>\n",
       "      <th>titulo_link</th>\n",
       "      <th>ingredientes_limpios</th>\n",
       "    </tr>\n",
       "  </thead>\n",
       "  <tbody>\n",
       "    <tr>\n",
       "      <th>0</th>\n",
       "      <td>Buñuelos de viento fáciles, la receta tradicio...</td>\n",
       "      <td>postres</td>\n",
       "      <td>[125 gr de harina, 30 gr de mantequilla, 1/4 l...</td>\n",
       "      <td>Otoño no es solo época de calabazas y castañas...</td>\n",
       "      <td>https://www.hogarmania.com//cocina/recetas/pos...</td>\n",
       "      <td>9</td>\n",
       "      <td>bunuelos</td>\n",
       "      <td>harina mantequilla agua azúcar huevos limón ac...</td>\n",
       "    </tr>\n",
       "    <tr>\n",
       "      <th>1</th>\n",
       "      <td>Corona de hojaldre de Navidad</td>\n",
       "      <td>postres</td>\n",
       "      <td>[2 láminas de hojaldre rectangular , 150 g de ...</td>\n",
       "      <td>Los polvorones, los turrones, los mazapanes o ...</td>\n",
       "      <td>https://www.hogarmania.com//cocina/recetas/pos...</td>\n",
       "      <td>7</td>\n",
       "      <td>corona navidad</td>\n",
       "      <td>láminas hojaldre chocolate mantequilla glas mo...</td>\n",
       "    </tr>\n",
       "    <tr>\n",
       "      <th>2</th>\n",
       "      <td>Cafés de Navidad: Gingerbread Latte y Pumpkin ...</td>\n",
       "      <td>postres</td>\n",
       "      <td>[2 cucharadas de azúcar moreno suave, 1/2 cuch...</td>\n",
       "      <td>La temporada de invierno, junto a la época nav...</td>\n",
       "      <td>https://www.hogarmania.com//cocina/recetas/pos...</td>\n",
       "      <td>8</td>\n",
       "      <td>cafes navidad gingerbread pumpkin spice latte</td>\n",
       "      <td>azúcar jengibre nuez moscada canela leche café...</td>\n",
       "    </tr>\n",
       "    <tr>\n",
       "      <th>4</th>\n",
       "      <td>Mazapanes de Navidad</td>\n",
       "      <td>postres</td>\n",
       "      <td>[300 gr. de almendra molida , 370 gr. de leche...</td>\n",
       "      <td>Mezcla en un bol la almendra molida con la lec...</td>\n",
       "      <td>https://www.hogarmania.com//cocina/recetas/pos...</td>\n",
       "      <td>7</td>\n",
       "      <td>mazapanes navidad</td>\n",
       "      <td>almendra leche limón agua aceite oliva virgen ...</td>\n",
       "    </tr>\n",
       "    <tr>\n",
       "      <th>6</th>\n",
       "      <td>Churros en freidora de aire, ¡más fácil imposi...</td>\n",
       "      <td>postres</td>\n",
       "      <td>[Churros congelados, Aceite de oliva o girasol...</td>\n",
       "      <td>Comienza por precalentar la freidora de aire. ...</td>\n",
       "      <td>https://www.hogarmania.com//cocina/recetas/pos...</td>\n",
       "      <td>3</td>\n",
       "      <td>churros freidora aire</td>\n",
       "      <td>churros aceite oliva girasol azúcar</td>\n",
       "    </tr>\n",
       "  </tbody>\n",
       "</table>\n",
       "</div>"
      ],
      "text/plain": [
       "                                              titulo categoria  \\\n",
       "0  Buñuelos de viento fáciles, la receta tradicio...   postres   \n",
       "1                      Corona de hojaldre de Navidad   postres   \n",
       "2  Cafés de Navidad: Gingerbread Latte y Pumpkin ...   postres   \n",
       "4                               Mazapanes de Navidad   postres   \n",
       "6  Churros en freidora de aire, ¡más fácil imposi...   postres   \n",
       "\n",
       "                                        ingredientes  \\\n",
       "0  [125 gr de harina, 30 gr de mantequilla, 1/4 l...   \n",
       "1  [2 láminas de hojaldre rectangular , 150 g de ...   \n",
       "2  [2 cucharadas de azúcar moreno suave, 1/2 cuch...   \n",
       "4  [300 gr. de almendra molida , 370 gr. de leche...   \n",
       "6  [Churros congelados, Aceite de oliva o girasol...   \n",
       "\n",
       "                                         elaboracion  \\\n",
       "0  Otoño no es solo época de calabazas y castañas...   \n",
       "1  Los polvorones, los turrones, los mazapanes o ...   \n",
       "2  La temporada de invierno, junto a la época nav...   \n",
       "4  Mezcla en un bol la almendra molida con la lec...   \n",
       "6  Comienza por precalentar la freidora de aire. ...   \n",
       "\n",
       "                                                link  total_ingredientes  \\\n",
       "0  https://www.hogarmania.com//cocina/recetas/pos...                   9   \n",
       "1  https://www.hogarmania.com//cocina/recetas/pos...                   7   \n",
       "2  https://www.hogarmania.com//cocina/recetas/pos...                   8   \n",
       "4  https://www.hogarmania.com//cocina/recetas/pos...                   7   \n",
       "6  https://www.hogarmania.com//cocina/recetas/pos...                   3   \n",
       "\n",
       "                                     titulo_link  \\\n",
       "0                                       bunuelos   \n",
       "1                                 corona navidad   \n",
       "2  cafes navidad gingerbread pumpkin spice latte   \n",
       "4                              mazapanes navidad   \n",
       "6                          churros freidora aire   \n",
       "\n",
       "                                ingredientes_limpios  \n",
       "0  harina mantequilla agua azúcar huevos limón ac...  \n",
       "1  láminas hojaldre chocolate mantequilla glas mo...  \n",
       "2  azúcar jengibre nuez moscada canela leche café...  \n",
       "4  almendra leche limón agua aceite oliva virgen ...  \n",
       "6                churros aceite oliva girasol azúcar  "
      ]
     },
     "execution_count": 15,
     "metadata": {},
     "output_type": "execute_result"
    }
   ],
   "source": [
    "df_hogar_mania['ingredientes_limpios'] = df_hogar_mania['ingredientes'].apply(extract_ingredients)\n",
    "df_hogar_mania.head(5)"
   ]
  },
  {
   "cell_type": "markdown",
   "metadata": {},
   "source": [
    "### Antena3"
   ]
  },
  {
   "cell_type": "code",
   "execution_count": 17,
   "metadata": {},
   "outputs": [
    {
     "data": {
      "text/plain": [
       "{'arroces',\n",
       " 'carnes',\n",
       " 'ensaladas',\n",
       " 'entrantes',\n",
       " 'guisos',\n",
       " 'huevos',\n",
       " 'pasta',\n",
       " 'pescado',\n",
       " 'postres'}"
      ]
     },
     "execution_count": 17,
     "metadata": {},
     "output_type": "execute_result"
    }
   ],
   "source": [
    "categorias_antena3 = set(df_antena3['categoria'].unique())\n",
    "categorias_antena3"
   ]
  },
  {
   "cell_type": "markdown",
   "metadata": {},
   "source": [
    "Volvemos a quedarnos con las categorías para más tarde"
   ]
  },
  {
   "cell_type": "code",
   "execution_count": 18,
   "metadata": {},
   "outputs": [
    {
     "data": {
      "text/plain": [
       "(2022, 5)"
      ]
     },
     "execution_count": 18,
     "metadata": {},
     "output_type": "execute_result"
    }
   ],
   "source": [
    "df_antena3.shape"
   ]
  },
  {
   "cell_type": "code",
   "execution_count": 19,
   "metadata": {},
   "outputs": [],
   "source": [
    "df_antena3['total_ingredientes'] = df_antena3['ingredientes'].apply(len)"
   ]
  },
  {
   "cell_type": "markdown",
   "metadata": {},
   "source": [
    "Eliminamos las recetas sin ingredientes o elaboracion"
   ]
  },
  {
   "cell_type": "code",
   "execution_count": 20,
   "metadata": {},
   "outputs": [],
   "source": [
    "df_antena3 = df_antena3[df_antena3['total_ingredientes'] != 0]\n",
    "df_antena3 = df_antena3[(df_antena3['elaboracion'].str.len() != 0)]"
   ]
  },
  {
   "cell_type": "code",
   "execution_count": 21,
   "metadata": {},
   "outputs": [
    {
     "data": {
      "text/plain": [
       "(1761, 6)"
      ]
     },
     "execution_count": 21,
     "metadata": {},
     "output_type": "execute_result"
    }
   ],
   "source": [
    "df_antena3.shape"
   ]
  },
  {
   "cell_type": "code",
   "execution_count": 22,
   "metadata": {},
   "outputs": [
    {
     "data": {
      "text/plain": [
       "(428, 6)"
      ]
     },
     "execution_count": 22,
     "metadata": {},
     "output_type": "execute_result"
    }
   ],
   "source": [
    "df_antena3[df_antena3['total_ingredientes'] > 14].shape"
   ]
  },
  {
   "cell_type": "markdown",
   "metadata": {},
   "source": [
    "Recortamos las recetas con más de 14 ingredientes debido al ruido que se observo en la exploración"
   ]
  },
  {
   "cell_type": "code",
   "execution_count": 23,
   "metadata": {},
   "outputs": [],
   "source": [
    "df_antena3['ingredientes'] = (\n",
    "    df_antena3\n",
    "    ['ingredientes']\n",
    "    .apply(lambda ingrs: ingrs[:14] if len(ingrs) > 14 else ingrs)\n",
    ")"
   ]
  },
  {
   "cell_type": "code",
   "execution_count": 24,
   "metadata": {},
   "outputs": [
    {
     "data": {
      "text/plain": [
       "count    1761.000000\n",
       "mean       10.781374\n",
       "std         2.838336\n",
       "min         2.000000\n",
       "25%         8.000000\n",
       "50%        11.000000\n",
       "75%        14.000000\n",
       "max        14.000000\n",
       "Name: total_ingredientes, dtype: float64"
      ]
     },
     "execution_count": 24,
     "metadata": {},
     "output_type": "execute_result"
    }
   ],
   "source": [
    "df_antena3['total_ingredientes'] = df_antena3['ingredientes'].apply(len)\n",
    "df_antena3['total_ingredientes'].describe()"
   ]
  },
  {
   "cell_type": "code",
   "execution_count": 25,
   "metadata": {},
   "outputs": [
    {
     "data": {
      "text/html": [
       "<div>\n",
       "<style scoped>\n",
       "    .dataframe tbody tr th:only-of-type {\n",
       "        vertical-align: middle;\n",
       "    }\n",
       "\n",
       "    .dataframe tbody tr th {\n",
       "        vertical-align: top;\n",
       "    }\n",
       "\n",
       "    .dataframe thead th {\n",
       "        text-align: right;\n",
       "    }\n",
       "</style>\n",
       "<table border=\"1\" class=\"dataframe\">\n",
       "  <thead>\n",
       "    <tr style=\"text-align: right;\">\n",
       "      <th></th>\n",
       "      <th>titulo</th>\n",
       "      <th>titulo_link</th>\n",
       "    </tr>\n",
       "  </thead>\n",
       "  <tbody>\n",
       "    <tr>\n",
       "      <th>0</th>\n",
       "      <td>Receta de alcachofas en salsa, de Karlos Argui...</td>\n",
       "      <td>alcachofas</td>\n",
       "    </tr>\n",
       "    <tr>\n",
       "      <th>1</th>\n",
       "      <td>Una receta sencilla, sabrosa y rápida de Joseb...</td>\n",
       "      <td>ensaladilla</td>\n",
       "    </tr>\n",
       "    <tr>\n",
       "      <th>2</th>\n",
       "      <td>Brócoli con champiñones y patatas, de Arguiñan...</td>\n",
       "      <td>brocoli champinones</td>\n",
       "    </tr>\n",
       "    <tr>\n",
       "      <th>3</th>\n",
       "      <td>Berenjenas a la crema, de Karlos Arguiñano: \"U...</td>\n",
       "      <td>berenjenas</td>\n",
       "    </tr>\n",
       "    <tr>\n",
       "      <th>4</th>\n",
       "      <td>Espárragos a la plancha con vinagreta de fresa...</td>\n",
       "      <td>esparragos plancha vinagreta fresas</td>\n",
       "    </tr>\n",
       "    <tr>\n",
       "      <th>...</th>\n",
       "      <td>...</td>\n",
       "      <td>...</td>\n",
       "    </tr>\n",
       "    <tr>\n",
       "      <th>2017</th>\n",
       "      <td>Arroz con verduras y conejo al azafrán</td>\n",
       "      <td>video arroz con verduras y</td>\n",
       "    </tr>\n",
       "    <tr>\n",
       "      <th>2018</th>\n",
       "      <td>La deliciosa receta de canelones de cocido de ...</td>\n",
       "      <td>la deliciosa receta de canelones de cocido de ...</td>\n",
       "    </tr>\n",
       "    <tr>\n",
       "      <th>2019</th>\n",
       "      <td>Macarrones con crema de calabaza y queso</td>\n",
       "      <td>macarrones crema calabaza</td>\n",
       "    </tr>\n",
       "    <tr>\n",
       "      <th>2020</th>\n",
       "      <td>Canelones de verduras y jamón cocido</td>\n",
       "      <td>canelones de verduras y jamon</td>\n",
       "    </tr>\n",
       "    <tr>\n",
       "      <th>2021</th>\n",
       "      <td>La deliciosa receta de arroz cremoso de boletu...</td>\n",
       "      <td>la deliciosa receta de arroz cremoso de boletus y</td>\n",
       "    </tr>\n",
       "  </tbody>\n",
       "</table>\n",
       "<p>1761 rows × 2 columns</p>\n",
       "</div>"
      ],
      "text/plain": [
       "                                                 titulo  \\\n",
       "0     Receta de alcachofas en salsa, de Karlos Argui...   \n",
       "1     Una receta sencilla, sabrosa y rápida de Joseb...   \n",
       "2     Brócoli con champiñones y patatas, de Arguiñan...   \n",
       "3     Berenjenas a la crema, de Karlos Arguiñano: \"U...   \n",
       "4     Espárragos a la plancha con vinagreta de fresa...   \n",
       "...                                                 ...   \n",
       "2017            Arroz con verduras y conejo al azafrán    \n",
       "2018  La deliciosa receta de canelones de cocido de ...   \n",
       "2019           Macarrones con crema de calabaza y queso   \n",
       "2020               Canelones de verduras y jamón cocido   \n",
       "2021  La deliciosa receta de arroz cremoso de boletu...   \n",
       "\n",
       "                                            titulo_link  \n",
       "0                                            alcachofas  \n",
       "1                                           ensaladilla  \n",
       "2                                   brocoli champinones  \n",
       "3                                            berenjenas  \n",
       "4                   esparragos plancha vinagreta fresas  \n",
       "...                                                 ...  \n",
       "2017                         video arroz con verduras y  \n",
       "2018  la deliciosa receta de canelones de cocido de ...  \n",
       "2019                          macarrones crema calabaza  \n",
       "2020                      canelones de verduras y jamon  \n",
       "2021  la deliciosa receta de arroz cremoso de boletus y  \n",
       "\n",
       "[1761 rows x 2 columns]"
      ]
     },
     "execution_count": 25,
     "metadata": {},
     "output_type": "execute_result"
    }
   ],
   "source": [
    "df_antena3['titulo_link'] = (\n",
    "    df_antena3['link']\n",
    "    .apply(os.path.basename)\n",
    "    .apply(os.path.splitext)\n",
    "    .apply(lambda text: text[0])\n",
    "    .apply(extract_words)\n",
    ")\n",
    "df_antena3[['titulo', 'titulo_link']]"
   ]
  },
  {
   "cell_type": "markdown",
   "metadata": {},
   "source": [
    "Misma operacion con los titulos y tambien la tokenización de los ingredientes"
   ]
  },
  {
   "cell_type": "code",
   "execution_count": 26,
   "metadata": {},
   "outputs": [
    {
     "data": {
      "text/html": [
       "<div>\n",
       "<style scoped>\n",
       "    .dataframe tbody tr th:only-of-type {\n",
       "        vertical-align: middle;\n",
       "    }\n",
       "\n",
       "    .dataframe tbody tr th {\n",
       "        vertical-align: top;\n",
       "    }\n",
       "\n",
       "    .dataframe thead th {\n",
       "        text-align: right;\n",
       "    }\n",
       "</style>\n",
       "<table border=\"1\" class=\"dataframe\">\n",
       "  <thead>\n",
       "    <tr style=\"text-align: right;\">\n",
       "      <th></th>\n",
       "      <th>ingredientes</th>\n",
       "      <th>ingredientes_limpios</th>\n",
       "    </tr>\n",
       "  </thead>\n",
       "  <tbody>\n",
       "    <tr>\n",
       "      <th>0</th>\n",
       "      <td>[8 huevos de codorniz, 1 cebolla, 2 dientes de...</td>\n",
       "      <td>huevos dientes ajo txakoli caldo verduras hari...</td>\n",
       "    </tr>\n",
       "    <tr>\n",
       "      <th>1</th>\n",
       "      <td>[3 patatas, 3 zanahorias, 3 huevos, 4 lonchas ...</td>\n",
       "      <td>patatas zanahorias huevos lonchas queso havart...</td>\n",
       "    </tr>\n",
       "    <tr>\n",
       "      <th>2</th>\n",
       "      <td>[6 champiñones, 2 patatas, 4 dientes de ajo, 1...</td>\n",
       "      <td>champiñones patatas dientes ajo jamón lochas f...</td>\n",
       "    </tr>\n",
       "    <tr>\n",
       "      <th>3</th>\n",
       "      <td>[1 cebolla pequeña, 4 dientes de ajo, ½ l de l...</td>\n",
       "      <td>cebolla dientes ajo leche caldo carne gambas j...</td>\n",
       "    </tr>\n",
       "    <tr>\n",
       "      <th>4</th>\n",
       "      <td>[4-6 fresas (dependiendo del tamaño), ½ aguaca...</td>\n",
       "      <td>fresas tamaño aguacate lima aceite oliva virge...</td>\n",
       "    </tr>\n",
       "    <tr>\n",
       "      <th>...</th>\n",
       "      <td>...</td>\n",
       "      <td>...</td>\n",
       "    </tr>\n",
       "    <tr>\n",
       "      <th>2017</th>\n",
       "      <td>[300 g de arroz, 2 muslos de conejo, 1 cebolle...</td>\n",
       "      <td>arroz muslos conejo espárragos dientes ajo alc...</td>\n",
       "    </tr>\n",
       "    <tr>\n",
       "      <th>2018</th>\n",
       "      <td>[24 láminas de canelón, 1 muslo de gallina (co...</td>\n",
       "      <td>láminas canelón muslo gallina trozos rabo tern...</td>\n",
       "    </tr>\n",
       "    <tr>\n",
       "      <th>2019</th>\n",
       "      <td>[300 g de macarrones, 400 g de calabaza (potim...</td>\n",
       "      <td>macarrones calabaza potimarrón puerro queso na...</td>\n",
       "    </tr>\n",
       "    <tr>\n",
       "      <th>2020</th>\n",
       "      <td>[20 láminas de canelones, 200 g de espinacas, ...</td>\n",
       "      <td>láminas canelones espinacas zanahorias dientes...</td>\n",
       "    </tr>\n",
       "    <tr>\n",
       "      <th>2021</th>\n",
       "      <td>[400 g de arroz, 1 cebolleta, 1 puerro, 300 g ...</td>\n",
       "      <td>arroz puerro calabaza boletus hongos dientes a...</td>\n",
       "    </tr>\n",
       "  </tbody>\n",
       "</table>\n",
       "<p>1761 rows × 2 columns</p>\n",
       "</div>"
      ],
      "text/plain": [
       "                                           ingredientes  \\\n",
       "0     [8 huevos de codorniz, 1 cebolla, 2 dientes de...   \n",
       "1     [3 patatas, 3 zanahorias, 3 huevos, 4 lonchas ...   \n",
       "2     [6 champiñones, 2 patatas, 4 dientes de ajo, 1...   \n",
       "3     [1 cebolla pequeña, 4 dientes de ajo, ½ l de l...   \n",
       "4     [4-6 fresas (dependiendo del tamaño), ½ aguaca...   \n",
       "...                                                 ...   \n",
       "2017  [300 g de arroz, 2 muslos de conejo, 1 cebolle...   \n",
       "2018  [24 láminas de canelón, 1 muslo de gallina (co...   \n",
       "2019  [300 g de macarrones, 400 g de calabaza (potim...   \n",
       "2020  [20 láminas de canelones, 200 g de espinacas, ...   \n",
       "2021  [400 g de arroz, 1 cebolleta, 1 puerro, 300 g ...   \n",
       "\n",
       "                                   ingredientes_limpios  \n",
       "0     huevos dientes ajo txakoli caldo verduras hari...  \n",
       "1     patatas zanahorias huevos lonchas queso havart...  \n",
       "2     champiñones patatas dientes ajo jamón lochas f...  \n",
       "3     cebolla dientes ajo leche caldo carne gambas j...  \n",
       "4     fresas tamaño aguacate lima aceite oliva virge...  \n",
       "...                                                 ...  \n",
       "2017  arroz muslos conejo espárragos dientes ajo alc...  \n",
       "2018  láminas canelón muslo gallina trozos rabo tern...  \n",
       "2019  macarrones calabaza potimarrón puerro queso na...  \n",
       "2020  láminas canelones espinacas zanahorias dientes...  \n",
       "2021  arroz puerro calabaza boletus hongos dientes a...  \n",
       "\n",
       "[1761 rows x 2 columns]"
      ]
     },
     "execution_count": 26,
     "metadata": {},
     "output_type": "execute_result"
    }
   ],
   "source": [
    "df_antena3['ingredientes_limpios'] = df_antena3['ingredientes'].apply(extract_ingredients)\n",
    "df_antena3[['ingredientes','ingredientes_limpios']]"
   ]
  },
  {
   "cell_type": "markdown",
   "metadata": {},
   "source": [
    "### Saber Vivir"
   ]
  },
  {
   "cell_type": "markdown",
   "metadata": {},
   "source": [
    "Seguiremos el mismos pasos que antes"
   ]
  },
  {
   "cell_type": "code",
   "execution_count": 27,
   "metadata": {},
   "outputs": [
    {
     "data": {
      "text/plain": [
       "{'arroces',\n",
       " 'caldos y cremas',\n",
       " 'carnes',\n",
       " 'celebraciones',\n",
       " 'ensaladas y verduras',\n",
       " 'legumbres',\n",
       " 'pastas y pizzas',\n",
       " 'pasteles salados',\n",
       " 'pescados y mariscos',\n",
       " 'postres y dulces'}"
      ]
     },
     "execution_count": 27,
     "metadata": {},
     "output_type": "execute_result"
    }
   ],
   "source": [
    "categorias_saber_vivir = set(df_saber_vivir['categoria'].unique())\n",
    "categorias_saber_vivir_low = set([categoria.lower() for categoria in categorias_saber_vivir])\n",
    "categorias_saber_vivir_low"
   ]
  },
  {
   "cell_type": "code",
   "execution_count": 28,
   "metadata": {},
   "outputs": [
    {
     "data": {
      "text/plain": [
       "(461, 5)"
      ]
     },
     "execution_count": 28,
     "metadata": {},
     "output_type": "execute_result"
    }
   ],
   "source": [
    "df_saber_vivir.shape"
   ]
  },
  {
   "cell_type": "code",
   "execution_count": 29,
   "metadata": {},
   "outputs": [],
   "source": [
    "df_saber_vivir['total_ingredientes'] = df_saber_vivir['ingredientes'].apply(len)"
   ]
  },
  {
   "cell_type": "code",
   "execution_count": 30,
   "metadata": {},
   "outputs": [
    {
     "data": {
      "text/html": [
       "<div>\n",
       "<style scoped>\n",
       "    .dataframe tbody tr th:only-of-type {\n",
       "        vertical-align: middle;\n",
       "    }\n",
       "\n",
       "    .dataframe tbody tr th {\n",
       "        vertical-align: top;\n",
       "    }\n",
       "\n",
       "    .dataframe thead th {\n",
       "        text-align: right;\n",
       "    }\n",
       "</style>\n",
       "<table border=\"1\" class=\"dataframe\">\n",
       "  <thead>\n",
       "    <tr style=\"text-align: right;\">\n",
       "      <th></th>\n",
       "      <th>titulo</th>\n",
       "      <th>titulo_link</th>\n",
       "    </tr>\n",
       "  </thead>\n",
       "  <tbody>\n",
       "    <tr>\n",
       "      <th>0</th>\n",
       "      <td>Crema de calabaza</td>\n",
       "      <td>crema de calabaza</td>\n",
       "    </tr>\n",
       "    <tr>\n",
       "      <th>1</th>\n",
       "      <td>Crema de champiñones y queso</td>\n",
       "      <td>crema de champinones y queso</td>\n",
       "    </tr>\n",
       "    <tr>\n",
       "      <th>2</th>\n",
       "      <td>Crema de coles de Bruselas con jamón</td>\n",
       "      <td>crema de coles de bruselas con jamon</td>\n",
       "    </tr>\n",
       "    <tr>\n",
       "      <th>3</th>\n",
       "      <td>Crema de espárragos con caviar</td>\n",
       "      <td>crema de esparragos con caviar</td>\n",
       "    </tr>\n",
       "    <tr>\n",
       "      <th>4</th>\n",
       "      <td>Crema de espinacas</td>\n",
       "      <td>crema de espinacas</td>\n",
       "    </tr>\n",
       "    <tr>\n",
       "      <th>...</th>\n",
       "      <td>...</td>\n",
       "      <td>...</td>\n",
       "    </tr>\n",
       "    <tr>\n",
       "      <th>456</th>\n",
       "      <td>Crema castellana con huevo</td>\n",
       "      <td>crema castellana con huevo</td>\n",
       "    </tr>\n",
       "    <tr>\n",
       "      <th>457</th>\n",
       "      <td>Crema catalana a los tres cítricos</td>\n",
       "      <td>crema catalana a los tres citricos</td>\n",
       "    </tr>\n",
       "    <tr>\n",
       "      <th>458</th>\n",
       "      <td>Crema catalana con hierbaluisa</td>\n",
       "      <td>crema catalana con hierbaluisa</td>\n",
       "    </tr>\n",
       "    <tr>\n",
       "      <th>459</th>\n",
       "      <td>Crema de boletus, castañas y berenjenas</td>\n",
       "      <td>crema de boletus castanas y berenjenas</td>\n",
       "    </tr>\n",
       "    <tr>\n",
       "      <th>460</th>\n",
       "      <td>Crema de calabacín con salmón</td>\n",
       "      <td>crema de calabacin con salmon</td>\n",
       "    </tr>\n",
       "  </tbody>\n",
       "</table>\n",
       "<p>461 rows × 2 columns</p>\n",
       "</div>"
      ],
      "text/plain": [
       "                                      titulo  \\\n",
       "0                          Crema de calabaza   \n",
       "1               Crema de champiñones y queso   \n",
       "2       Crema de coles de Bruselas con jamón   \n",
       "3             Crema de espárragos con caviar   \n",
       "4                         Crema de espinacas   \n",
       "..                                       ...   \n",
       "456               Crema castellana con huevo   \n",
       "457       Crema catalana a los tres cítricos   \n",
       "458           Crema catalana con hierbaluisa   \n",
       "459  Crema de boletus, castañas y berenjenas   \n",
       "460            Crema de calabacín con salmón   \n",
       "\n",
       "                                titulo_link  \n",
       "0                         crema de calabaza  \n",
       "1              crema de champinones y queso  \n",
       "2      crema de coles de bruselas con jamon  \n",
       "3            crema de esparragos con caviar  \n",
       "4                        crema de espinacas  \n",
       "..                                      ...  \n",
       "456              crema castellana con huevo  \n",
       "457      crema catalana a los tres citricos  \n",
       "458          crema catalana con hierbaluisa  \n",
       "459  crema de boletus castanas y berenjenas  \n",
       "460           crema de calabacin con salmon  \n",
       "\n",
       "[461 rows x 2 columns]"
      ]
     },
     "execution_count": 30,
     "metadata": {},
     "output_type": "execute_result"
    }
   ],
   "source": [
    "df_saber_vivir['titulo_link'] = (\n",
    "    df_saber_vivir['link']\n",
    "    .apply(os.path.basename)\n",
    "    .apply(os.path.splitext)\n",
    "    .apply(lambda text: text[0])\n",
    "    .apply(extract_words)\n",
    ")\n",
    "df_saber_vivir[['titulo', 'titulo_link']]"
   ]
  },
  {
   "cell_type": "code",
   "execution_count": 31,
   "metadata": {},
   "outputs": [
    {
     "data": {
      "text/html": [
       "<div>\n",
       "<style scoped>\n",
       "    .dataframe tbody tr th:only-of-type {\n",
       "        vertical-align: middle;\n",
       "    }\n",
       "\n",
       "    .dataframe tbody tr th {\n",
       "        vertical-align: top;\n",
       "    }\n",
       "\n",
       "    .dataframe thead th {\n",
       "        text-align: right;\n",
       "    }\n",
       "</style>\n",
       "<table border=\"1\" class=\"dataframe\">\n",
       "  <thead>\n",
       "    <tr style=\"text-align: right;\">\n",
       "      <th></th>\n",
       "      <th>ingredientes</th>\n",
       "      <th>ingredientes_limpios</th>\n",
       "    </tr>\n",
       "  </thead>\n",
       "  <tbody>\n",
       "    <tr>\n",
       "      <th>0</th>\n",
       "      <td>[1 puerro pequeño, Media cebolla, 1 zanahoria,...</td>\n",
       "      <td>puerro cebolla tomate patatas calabaza brick n...</td>\n",
       "    </tr>\n",
       "    <tr>\n",
       "      <th>1</th>\n",
       "      <td>[600 gr. champiñones, 4 vasos leche, 2 vaso de...</td>\n",
       "      <td>champiñones leche ave quesitos patatas setas l...</td>\n",
       "    </tr>\n",
       "    <tr>\n",
       "      <th>2</th>\n",
       "      <td>[12 coles de Bruselas, 5 patatas medianas, Ace...</td>\n",
       "      <td>coles bruselas patatas aceite oliva blanca cal...</td>\n",
       "    </tr>\n",
       "    <tr>\n",
       "      <th>3</th>\n",
       "      <td>[1 manojo de espárragos verdes, 1 litro de cal...</td>\n",
       "      <td>manojo espárragos caldo verduras lata mújol ho...</td>\n",
       "    </tr>\n",
       "    <tr>\n",
       "      <th>4</th>\n",
       "      <td>[2 dientes de ajo picados, 1 vaso de arroz coc...</td>\n",
       "      <td>dientes ajo arroz caldo clavos olor cominos es...</td>\n",
       "    </tr>\n",
       "    <tr>\n",
       "      <th>...</th>\n",
       "      <td>...</td>\n",
       "      <td>...</td>\n",
       "    </tr>\n",
       "    <tr>\n",
       "      <th>456</th>\n",
       "      <td>[8 dientes de ajo, 4 huevos, 100 gr. pan, 100 ...</td>\n",
       "      <td>dientes ajo huevos pan chorizo caldo ave aceit...</td>\n",
       "    </tr>\n",
       "    <tr>\n",
       "      <th>457</th>\n",
       "      <td>[1 litro leche, 220 gr. azúcar, 40 gr. harina ...</td>\n",
       "      <td>leche harina maíz yemas huevo lima limón</td>\n",
       "    </tr>\n",
       "    <tr>\n",
       "      <th>458</th>\n",
       "      <td>[2 cucharadas de azúcar, 2 cucharadas de nata,...</td>\n",
       "      <td>azúcar nata mantequilla chocolate fondant</td>\n",
       "    </tr>\n",
       "    <tr>\n",
       "      <th>459</th>\n",
       "      <td>[100 gr. boletus, 100 gr. setas shiitake, 80 g...</td>\n",
       "      <td>boletus setas shiitake castañas brandy litros ...</td>\n",
       "    </tr>\n",
       "    <tr>\n",
       "      <th>460</th>\n",
       "      <td>[1 cebolla, 2 dientes de ajo, 2 calabacines, 2...</td>\n",
       "      <td>dientes ajo calabacines patatas mantequilla ca...</td>\n",
       "    </tr>\n",
       "  </tbody>\n",
       "</table>\n",
       "<p>461 rows × 2 columns</p>\n",
       "</div>"
      ],
      "text/plain": [
       "                                          ingredientes  \\\n",
       "0    [1 puerro pequeño, Media cebolla, 1 zanahoria,...   \n",
       "1    [600 gr. champiñones, 4 vasos leche, 2 vaso de...   \n",
       "2    [12 coles de Bruselas, 5 patatas medianas, Ace...   \n",
       "3    [1 manojo de espárragos verdes, 1 litro de cal...   \n",
       "4    [2 dientes de ajo picados, 1 vaso de arroz coc...   \n",
       "..                                                 ...   \n",
       "456  [8 dientes de ajo, 4 huevos, 100 gr. pan, 100 ...   \n",
       "457  [1 litro leche, 220 gr. azúcar, 40 gr. harina ...   \n",
       "458  [2 cucharadas de azúcar, 2 cucharadas de nata,...   \n",
       "459  [100 gr. boletus, 100 gr. setas shiitake, 80 g...   \n",
       "460  [1 cebolla, 2 dientes de ajo, 2 calabacines, 2...   \n",
       "\n",
       "                                  ingredientes_limpios  \n",
       "0    puerro cebolla tomate patatas calabaza brick n...  \n",
       "1    champiñones leche ave quesitos patatas setas l...  \n",
       "2    coles bruselas patatas aceite oliva blanca cal...  \n",
       "3    manojo espárragos caldo verduras lata mújol ho...  \n",
       "4    dientes ajo arroz caldo clavos olor cominos es...  \n",
       "..                                                 ...  \n",
       "456  dientes ajo huevos pan chorizo caldo ave aceit...  \n",
       "457           leche harina maíz yemas huevo lima limón  \n",
       "458          azúcar nata mantequilla chocolate fondant  \n",
       "459  boletus setas shiitake castañas brandy litros ...  \n",
       "460  dientes ajo calabacines patatas mantequilla ca...  \n",
       "\n",
       "[461 rows x 2 columns]"
      ]
     },
     "execution_count": 31,
     "metadata": {},
     "output_type": "execute_result"
    }
   ],
   "source": [
    "df_saber_vivir['ingredientes_limpios'] = df_saber_vivir['ingredientes'].apply(extract_ingredients)\n",
    "df_saber_vivir[['ingredientes','ingredientes_limpios']]"
   ]
  },
  {
   "cell_type": "markdown",
   "metadata": {},
   "source": [
    "### El Mundo"
   ]
  },
  {
   "cell_type": "code",
   "execution_count": 32,
   "metadata": {},
   "outputs": [
    {
     "data": {
      "text/plain": [
       "{'aperitivos-faciles',\n",
       " 'arroz',\n",
       " 'bizcochos',\n",
       " 'carne',\n",
       " 'cremas',\n",
       " 'guisos',\n",
       " 'legumbres',\n",
       " 'masas-panes',\n",
       " 'orientales',\n",
       " 'pasta',\n",
       " 'patatas-huevos-tortillas',\n",
       " 'pescados',\n",
       " 'pollo',\n",
       " 'postres',\n",
       " 'recetas-mariscos',\n",
       " 'salsas',\n",
       " 'sanas-faciles',\n",
       " 'sopas-caldos',\n",
       " 'vegetarianas',\n",
       " 'verduras'}"
      ]
     },
     "execution_count": 32,
     "metadata": {},
     "output_type": "execute_result"
    }
   ],
   "source": [
    "categorias_el_mundo = set(df_el_mundo['categoria'].unique())\n",
    "categorias_el_mundo"
   ]
  },
  {
   "cell_type": "code",
   "execution_count": 33,
   "metadata": {},
   "outputs": [
    {
     "data": {
      "text/plain": [
       "(388, 5)"
      ]
     },
     "execution_count": 33,
     "metadata": {},
     "output_type": "execute_result"
    }
   ],
   "source": [
    "df_el_mundo.shape"
   ]
  },
  {
   "cell_type": "code",
   "execution_count": 34,
   "metadata": {},
   "outputs": [
    {
     "data": {
      "text/plain": [
       "link\n",
       "https://recetasdecocina.elmundo.es/2013/12/salpicon-marisco-receta-facil.html                              [aperitivos-faciles, recetas-mariscos]\n",
       "https://recetasdecocina.elmundo.es/2014/05/arroz-con-champinones-receta-sencilla-eficaz.html                 [arroz, vegetarianas, sanas-faciles]\n",
       "https://recetasdecocina.elmundo.es/2015/03/besugo-al-horno-receta-facil.html                                            [pescados, sanas-faciles]\n",
       "https://recetasdecocina.elmundo.es/2015/08/pisto-manchego-receta-facil-casera.html                        [verduras, vegetarianas, sanas-faciles]\n",
       "https://recetasdecocina.elmundo.es/2016/02/pollo-curry-receta-facil-hindu.html                                        [pollo, guisos, orientales]\n",
       "https://recetasdecocina.elmundo.es/2016/11/masa-pizza-casera-receta-facil.html                                       [masas-panes, sanas-faciles]\n",
       "https://recetasdecocina.elmundo.es/2017/05/callos-madrilena-receta-casera.html                                                    [carne, guisos]\n",
       "https://recetasdecocina.elmundo.es/2017/08/arroz-negro-calamares-receta.html                                                [arroz, vegetarianas]\n",
       "https://recetasdecocina.elmundo.es/2018/11/sopa-pescado-receta-casera.html                      [sopas-caldos, pescados, recetas-mariscos, san...\n",
       "https://recetasdecocina.elmundo.es/2019/03/pad-thai-receta-tradicional.html                                    [pasta, sanas-faciles, orientales]\n",
       "Name: categoria, dtype: object"
      ]
     },
     "execution_count": 34,
     "metadata": {},
     "output_type": "execute_result"
    }
   ],
   "source": [
    "df_el_mundo_double = df_el_mundo[df_el_mundo.duplicated(subset=['link'], keep=False)]\n",
    "df_el_mundo_double.groupby(by='link')['categoria'].apply(list).head(10)"
   ]
  },
  {
   "cell_type": "code",
   "execution_count": 35,
   "metadata": {},
   "outputs": [
    {
     "data": {
      "text/plain": [
       "(315, 5)"
      ]
     },
     "execution_count": 35,
     "metadata": {},
     "output_type": "execute_result"
    }
   ],
   "source": [
    "df_el_mundo_double.shape"
   ]
  },
  {
   "cell_type": "markdown",
   "metadata": {},
   "source": [
    "Eliminamos duplicados y recetas sin elaboración detectadas en la exploración de datos"
   ]
  },
  {
   "cell_type": "code",
   "execution_count": 36,
   "metadata": {},
   "outputs": [],
   "source": [
    "df_el_mundo = df_el_mundo[(df_el_mundo['elaboracion'].str.len() != 0)]\n",
    "df_el_mundo = df_el_mundo.drop_duplicates(subset=['link'])"
   ]
  },
  {
   "cell_type": "code",
   "execution_count": 37,
   "metadata": {},
   "outputs": [
    {
     "data": {
      "text/plain": [
       "(209, 5)"
      ]
     },
     "execution_count": 37,
     "metadata": {},
     "output_type": "execute_result"
    }
   ],
   "source": [
    "df_el_mundo.shape"
   ]
  },
  {
   "cell_type": "markdown",
   "metadata": {},
   "source": [
    "Y al igual que antes realizamos la tokenización de los ingredientes"
   ]
  },
  {
   "cell_type": "code",
   "execution_count": 38,
   "metadata": {},
   "outputs": [
    {
     "data": {
      "text/html": [
       "<div>\n",
       "<style scoped>\n",
       "    .dataframe tbody tr th:only-of-type {\n",
       "        vertical-align: middle;\n",
       "    }\n",
       "\n",
       "    .dataframe tbody tr th {\n",
       "        vertical-align: top;\n",
       "    }\n",
       "\n",
       "    .dataframe thead th {\n",
       "        text-align: right;\n",
       "    }\n",
       "</style>\n",
       "<table border=\"1\" class=\"dataframe\">\n",
       "  <thead>\n",
       "    <tr style=\"text-align: right;\">\n",
       "      <th></th>\n",
       "      <th>ingredientes</th>\n",
       "      <th>ingredientes_limpios</th>\n",
       "    </tr>\n",
       "  </thead>\n",
       "  <tbody>\n",
       "    <tr>\n",
       "      <th>0</th>\n",
       "      <td>[Molde de tarta de 28 cm, 200 gramos de gallet...</td>\n",
       "      <td>molde tarta galletas maría mantequilla nata qu...</td>\n",
       "    </tr>\n",
       "    <tr>\n",
       "      <th>1</th>\n",
       "      <td>[8 huevos, 200 gramos de azúcar, 1 litro de le...</td>\n",
       "      <td>huevos azúcar leche maicena canela corteza lim...</td>\n",
       "    </tr>\n",
       "    <tr>\n",
       "      <th>2</th>\n",
       "      <td>[120 gramos de azúcar, 4 huevos, 400 gramos de...</td>\n",
       "      <td>azúcar huevos bizcochos soletilla café + agua ...</td>\n",
       "    </tr>\n",
       "    <tr>\n",
       "      <th>3</th>\n",
       "      <td>[200 gramos de pasta de arroz, 1 ceboleta, Med...</td>\n",
       "      <td>pasta arroz ceboleta pimiento pechuga pollo sa...</td>\n",
       "    </tr>\n",
       "    <tr>\n",
       "      <th>4</th>\n",
       "      <td>[1 bote de judías pintas cocidas, 200 gramos d...</td>\n",
       "      <td>bote judías pintas pasta pimiento pimentón ver...</td>\n",
       "    </tr>\n",
       "    <tr>\n",
       "      <th>...</th>\n",
       "      <td>...</td>\n",
       "      <td>...</td>\n",
       "    </tr>\n",
       "    <tr>\n",
       "      <th>314</th>\n",
       "      <td>[2 rebanadas de pan de molde, 2 cucharadas de ...</td>\n",
       "      <td>rebanadas pan molde mayonesa salsa lata atún a...</td>\n",
       "    </tr>\n",
       "    <tr>\n",
       "      <th>319</th>\n",
       "      <td>[100 gramos de copos de avena, 40 gramos de az...</td>\n",
       "      <td>copos avena azúcar avena harina trigo canela p...</td>\n",
       "    </tr>\n",
       "    <tr>\n",
       "      <th>323</th>\n",
       "      <td>[1 kilo de calamares limpios, 2 cebollas, 1 di...</td>\n",
       "      <td>calamares cebollas ajo vino tomate</td>\n",
       "    </tr>\n",
       "    <tr>\n",
       "      <th>363</th>\n",
       "      <td>[Lechuga de hoja grande tipo iceberg, 1 manzan...</td>\n",
       "      <td>hoja tipo manzana granny ramas apio nueces ará...</td>\n",
       "    </tr>\n",
       "    <tr>\n",
       "      <th>378</th>\n",
       "      <td>[2 contramuslos de gallina, 1 par de huesos de...</td>\n",
       "      <td>contramuslos gallina par huesos rodilla trozo ...</td>\n",
       "    </tr>\n",
       "  </tbody>\n",
       "</table>\n",
       "<p>209 rows × 2 columns</p>\n",
       "</div>"
      ],
      "text/plain": [
       "                                          ingredientes  \\\n",
       "0    [Molde de tarta de 28 cm, 200 gramos de gallet...   \n",
       "1    [8 huevos, 200 gramos de azúcar, 1 litro de le...   \n",
       "2    [120 gramos de azúcar, 4 huevos, 400 gramos de...   \n",
       "3    [200 gramos de pasta de arroz, 1 ceboleta, Med...   \n",
       "4    [1 bote de judías pintas cocidas, 200 gramos d...   \n",
       "..                                                 ...   \n",
       "314  [2 rebanadas de pan de molde, 2 cucharadas de ...   \n",
       "319  [100 gramos de copos de avena, 40 gramos de az...   \n",
       "323  [1 kilo de calamares limpios, 2 cebollas, 1 di...   \n",
       "363  [Lechuga de hoja grande tipo iceberg, 1 manzan...   \n",
       "378  [2 contramuslos de gallina, 1 par de huesos de...   \n",
       "\n",
       "                                  ingredientes_limpios  \n",
       "0    molde tarta galletas maría mantequilla nata qu...  \n",
       "1    huevos azúcar leche maicena canela corteza lim...  \n",
       "2    azúcar huevos bizcochos soletilla café + agua ...  \n",
       "3    pasta arroz ceboleta pimiento pechuga pollo sa...  \n",
       "4    bote judías pintas pasta pimiento pimentón ver...  \n",
       "..                                                 ...  \n",
       "314  rebanadas pan molde mayonesa salsa lata atún a...  \n",
       "319  copos avena azúcar avena harina trigo canela p...  \n",
       "323                 calamares cebollas ajo vino tomate  \n",
       "363  hoja tipo manzana granny ramas apio nueces ará...  \n",
       "378  contramuslos gallina par huesos rodilla trozo ...  \n",
       "\n",
       "[209 rows x 2 columns]"
      ]
     },
     "execution_count": 38,
     "metadata": {},
     "output_type": "execute_result"
    }
   ],
   "source": [
    "df_el_mundo['ingredientes_limpios'] = df_el_mundo['ingredientes'].apply(extract_ingredients)\n",
    "df_el_mundo[['ingredientes','ingredientes_limpios']]"
   ]
  },
  {
   "cell_type": "markdown",
   "metadata": {},
   "source": [
    "## Exportar datos limpios"
   ]
  },
  {
   "cell_type": "markdown",
   "metadata": {},
   "source": [
    "No existe una intersección de categorías entre los cuatro conjuntos de datos, aunque esto tiene truco. Sabemos que algunas semánticamente son iguales, aunque están representadas de forma diferente"
   ]
  },
  {
   "cell_type": "code",
   "execution_count": 39,
   "metadata": {},
   "outputs": [
    {
     "data": {
      "text/plain": [
       "set()"
      ]
     },
     "execution_count": 39,
     "metadata": {},
     "output_type": "execute_result"
    }
   ],
   "source": [
    "set.intersection(categorias_hogar_mania, categorias_antena3, categorias_saber_vivir_low, categorias_el_mundo)"
   ]
  },
  {
   "cell_type": "code",
   "execution_count": 40,
   "metadata": {},
   "outputs": [
    {
     "name": "stdout",
     "output_type": "stream",
     "text": [
      "45\n",
      "['aperitivos', 'aperitivos-faciles', 'arroces', 'arroces-cereales', 'arroz', 'bebidas', 'bizcochos', 'caldos y cremas', 'carne', 'carnes', 'celebraciones', 'cocina-internacional', 'cocteles', 'cremas', 'desayunos', 'ensaladas', 'ensaladas y verduras', 'ensaladas-verduras', 'entrantes', 'guisos', 'huevos', 'legumbres', 'masas-panes', 'orientales', 'pasta', 'pastas y pizzas', 'pastas-pizzas', 'pasteles salados', 'patatas-huevos-tortillas', 'pescado', 'pescados', 'pescados y mariscos', 'pescados-mariscos', 'pollo', 'postres', 'postres y dulces', 'recetas-mariscos', 'recetas-pan', 'salsas', 'sanas-faciles', 'setas-hongos', 'sopas-caldos', 'sopas-cremas', 'vegetarianas', 'verduras']\n"
     ]
    }
   ],
   "source": [
    "all_categories = {*categorias_hogar_mania, *categorias_antena3, *categorias_saber_vivir_low, *categorias_el_mundo}\n",
    "print(len(all_categories))\n",
    "print(sorted(all_categories))"
   ]
  },
  {
   "cell_type": "markdown",
   "metadata": {},
   "source": [
    "Reducimos el número de categorías, dado que no nos va a aportar valor significativo contar con 45"
   ]
  },
  {
   "cell_type": "code",
   "execution_count": 41,
   "metadata": {},
   "outputs": [],
   "source": [
    "definitive_categories = {\n",
    "    \"arroces\",\n",
    "    \"bebidas\",\n",
    "    \"carnes\",\n",
    "    \"desayunos\",\n",
    "    \"entrantes\",\n",
    "    \"ensaladas\",\n",
    "    \"huevos\",\n",
    "    \"pastas-pizzas\",\n",
    "    \"panes\",\n",
    "    \"pescados-mariscos\",\n",
    "    \"postres\",\n",
    "    \"sopas-cremas\",\n",
    "    \"segundos-platos\",\n",
    "    \"otros\"\n",
    "}"
   ]
  },
  {
   "cell_type": "markdown",
   "metadata": {},
   "source": [
    "Se realizan los *mappings* de las categorías de cada conjunto con las seleccionadas. Algunas son evidentes y otras quizás se imputan con cierta subjetividad"
   ]
  },
  {
   "cell_type": "code",
   "execution_count": 42,
   "metadata": {},
   "outputs": [],
   "source": [
    "hogar_mania_cat_map = {\n",
    "    \"postres\": \"postres\",\n",
    "    \"aperitivos\": \"entrantes\",\n",
    "    \"arroces-cereales\": \"arroces\",\n",
    "    \"ensaladas-verduras\": \"ensaladas\",\n",
    "    \"pastas-pizzas\": \"pastas-pizzas\",\n",
    "    \"sopas-cremas\": \"sopas-cremas\",\n",
    "    \"legumbres\": \"segundos-platos\", # ? !\n",
    "    \"carnes\": \"carnes\",\n",
    "    \"pescados-mariscos\": \"pescados-mariscos\",\n",
    "    \"setas-hongos\": \"segundos-platos\", # ? !\n",
    "    \"huevos\": \"huevos\",\n",
    "    \"salsas\": \"entrantes\", # ? !\n",
    "    \"desayunos\": \"desayunos\",\n",
    "    \"recetas-pan\": \"panes\",\n",
    "    \"bebidas\": \"bebidas\",\n",
    "    \"cocteles\": \"bebidas\",\n",
    "    \"cocina-internacional\": \"otros\" # ? !\n",
    "}"
   ]
  },
  {
   "cell_type": "code",
   "execution_count": 43,
   "metadata": {},
   "outputs": [],
   "source": [
    "antena3_cat_map = {\n",
    "    \"ensaladas\": \"ensaladas\",\n",
    "    \"entrantes\": \"entrantes\",\n",
    "    \"arroces\": \"arroces\",\n",
    "    \"pescado\": \"pescados-mariscos\",\n",
    "    \"carnes\": \"carnes\",\n",
    "    \"postres\": \"postres\",\n",
    "    \"guisos\": \"segundos-platos\", # ? !\n",
    "    \"huevos\": \"huevos\",\n",
    "    \"pasta\": \"pastas-pizzas\"\n",
    "}"
   ]
  },
  {
   "cell_type": "code",
   "execution_count": 44,
   "metadata": {},
   "outputs": [],
   "source": [
    "saber_vivir_cat_map = {\n",
    "    \"Arroces\": \"arroces\",\n",
    "    \"Caldos y cremas\": \"sopas-cremas\",\n",
    "    \"Carnes\": \"carnes\",\n",
    "    \"Celebraciones\": \"otros\", # ? !\n",
    "    \"Ensaladas y verduras\": \"ensaladas\",\n",
    "    \"Legumbres\": \"segundos-platos\",\n",
    "    \"Pastas y pizzas\": \"pastas-pizzas\",\n",
    "    \"Pasteles salados\": \"otros\", # ? !\n",
    "    \"Pescados y Mariscos\": \"pescados-mariscos\",\n",
    "    \"Postres y dulces\": \"postres\"\n",
    "}"
   ]
  },
  {
   "cell_type": "code",
   "execution_count": 45,
   "metadata": {},
   "outputs": [],
   "source": [
    "el_mundo_cat_map = {\n",
    "    \"postres\": 'postres',            \n",
    "    \"pasta\": \"pastas-pizzas\",\n",
    "    \"arroz\": \"arroces\",   \n",
    "    \"pollo\": \"segundos-platos\",\n",
    "    \"sopas-caldos\": \"sopas-cremas\",            \n",
    "    \"bizcochos\": \"postres\",\n",
    "    \"carne\": \"carnes\",                   \n",
    "    \"guisos\": \"segundos-platos\",\n",
    "    \"legumbres\": \"segundos-platos\", \n",
    "    \"verduras\": \"segundos-platos\", # ? !\n",
    "    \"salsas\": \"otros\",   # ? !        \n",
    "    \"masas-panes\": \"panes\",\n",
    "    \"cremas\": \"sopas-cremas\",\n",
    "    \"patatas-huevos-tortillas\": \"huevos\",\n",
    "    \"aperitivos-faciles\": \"entrantes\",          \n",
    "    \"pescados\": \"pescados-mariscos\",\n",
    "    \"recetas-mariscos\": \"pescados-mariscos\",          \n",
    "    \"vegetarianas\": \"otros\", # ? !\n",
    "    \"sanas-faciles\": \"otros\",  # ? !            \n",
    "    \"orientales\": \"otros\" # ? !\n",
    "}"
   ]
  },
  {
   "cell_type": "code",
   "execution_count": 46,
   "metadata": {},
   "outputs": [
    {
     "data": {
      "text/plain": [
       "True"
      ]
     },
     "execution_count": 46,
     "metadata": {},
     "output_type": "execute_result"
    }
   ],
   "source": [
    "(\n",
    "    all([cat in definitive_categories for cat in hogar_mania_cat_map.values()]) &\n",
    "    all([cat in definitive_categories for cat in antena3_cat_map.values()]) &\n",
    "    all([cat in definitive_categories for cat in saber_vivir_cat_map.values()]) &\n",
    "    all([cat in definitive_categories for cat in el_mundo_cat_map.values()])\n",
    ")"
   ]
  },
  {
   "cell_type": "code",
   "execution_count": 47,
   "metadata": {},
   "outputs": [
    {
     "data": {
      "text/plain": [
       "array(['postres', 'entrantes', 'ensaladas', 'arroces', 'pastas-pizzas',\n",
       "       'sopas-cremas', 'segundos-platos', 'carnes', 'pescados-mariscos',\n",
       "       'huevos', 'desayunos', 'panes', 'bebidas'], dtype=object)"
      ]
     },
     "execution_count": 47,
     "metadata": {},
     "output_type": "execute_result"
    }
   ],
   "source": [
    "df_hogar_mania['categoria'] = df_hogar_mania['categoria'].map(hogar_mania_cat_map)\n",
    "df_hogar_mania['categoria'].unique()"
   ]
  },
  {
   "cell_type": "code",
   "execution_count": 48,
   "metadata": {},
   "outputs": [
    {
     "data": {
      "text/plain": [
       "array(['ensaladas', 'entrantes', 'arroces', 'pescados-mariscos', 'carnes',\n",
       "       'postres', 'segundos-platos', 'huevos', 'pastas-pizzas'],\n",
       "      dtype=object)"
      ]
     },
     "execution_count": 48,
     "metadata": {},
     "output_type": "execute_result"
    }
   ],
   "source": [
    "df_antena3['categoria'] = df_antena3['categoria'].map(antena3_cat_map)\n",
    "df_antena3['categoria'].unique()"
   ]
  },
  {
   "cell_type": "code",
   "execution_count": 49,
   "metadata": {},
   "outputs": [
    {
     "data": {
      "text/plain": [
       "array(['sopas-cremas', 'postres', 'otros', 'pastas-pizzas',\n",
       "       'pescados-mariscos', 'ensaladas', 'segundos-platos', 'carnes',\n",
       "       'arroces'], dtype=object)"
      ]
     },
     "execution_count": 49,
     "metadata": {},
     "output_type": "execute_result"
    }
   ],
   "source": [
    "df_saber_vivir['categoria'] = df_saber_vivir['categoria'].map(saber_vivir_cat_map)\n",
    "df_saber_vivir['categoria'].unique()"
   ]
  },
  {
   "cell_type": "code",
   "execution_count": 50,
   "metadata": {},
   "outputs": [
    {
     "data": {
      "text/plain": [
       "array(['postres', 'pastas-pizzas', 'arroces', 'segundos-platos',\n",
       "       'sopas-cremas', 'carnes', 'otros', 'panes', 'huevos', 'entrantes',\n",
       "       'pescados-mariscos'], dtype=object)"
      ]
     },
     "execution_count": 50,
     "metadata": {},
     "output_type": "execute_result"
    }
   ],
   "source": [
    "df_el_mundo['categoria'] = df_el_mundo['categoria'].map(el_mundo_cat_map)\n",
    "df_el_mundo['categoria'].unique()"
   ]
  },
  {
   "cell_type": "code",
   "execution_count": 51,
   "metadata": {},
   "outputs": [
    {
     "data": {
      "text/plain": [
       "(9487, 8)"
      ]
     },
     "execution_count": 51,
     "metadata": {},
     "output_type": "execute_result"
    }
   ],
   "source": [
    "list_dataframes = [df_hogar_mania, df_antena3, df_saber_vivir, df_el_mundo]\n",
    "df_recipes = pd.concat(list_dataframes)\n",
    "df_recipes.shape"
   ]
  },
  {
   "cell_type": "code",
   "execution_count": 52,
   "metadata": {},
   "outputs": [
    {
     "data": {
      "text/plain": [
       "categoria\n",
       "ensaladas            1910\n",
       "carnes               1647\n",
       "postres              1560\n",
       "pescados-mariscos    1482\n",
       "entrantes             572\n",
       "pastas-pizzas         517\n",
       "segundos-platos       457\n",
       "sopas-cremas          408\n",
       "arroces               384\n",
       "huevos                318\n",
       "otros                 100\n",
       "panes                  74\n",
       "bebidas                56\n",
       "desayunos               2\n",
       "Name: count, dtype: int64"
      ]
     },
     "execution_count": 52,
     "metadata": {},
     "output_type": "execute_result"
    }
   ],
   "source": [
    "df_recipes['categoria'].value_counts()"
   ]
  },
  {
   "cell_type": "markdown",
   "metadata": {},
   "source": [
    "El desbalance de categorías es más que evidente, por lo que se va a prescindir de algunas de ellas porque los registros que existen son muy pocos."
   ]
  },
  {
   "cell_type": "code",
   "execution_count": 53,
   "metadata": {},
   "outputs": [
    {
     "data": {
      "text/plain": [
       "(9255, 8)"
      ]
     },
     "execution_count": 53,
     "metadata": {},
     "output_type": "execute_result"
    }
   ],
   "source": [
    "df_recipes = df_recipes[~df_recipes['categoria'].isin(['otros','panes', 'bebidas', 'desayunos'])]\n",
    "df_recipes.shape"
   ]
  },
  {
   "cell_type": "markdown",
   "metadata": {},
   "source": [
    "Finalmente se exportan los datos limpios al bucket para luego utilizarse en el entrenamiento de modelos"
   ]
  },
  {
   "cell_type": "code",
   "execution_count": 54,
   "metadata": {},
   "outputs": [
    {
     "data": {
      "text/plain": [
       "{'paths': ['s3://recipes-data-models-sagemaker-bucket/data/cleaned_recipes.csv'],\n",
       " 'partitions_values': {}}"
      ]
     },
     "execution_count": 54,
     "metadata": {},
     "output_type": "execute_result"
    }
   ],
   "source": [
    "wr.s3.to_csv(\n",
    "    df=df_recipes,\n",
    "    path=\"s3://recipes-data-models-sagemaker-bucket/data/cleaned_recipes.csv\",\n",
    "    index=False\n",
    ")"
   ]
  }
 ],
 "metadata": {
  "kernelspec": {
   "display_name": ".venv",
   "language": "python",
   "name": "python3"
  },
  "language_info": {
   "codemirror_mode": {
    "name": "ipython",
    "version": 3
   },
   "file_extension": ".py",
   "mimetype": "text/x-python",
   "name": "python",
   "nbconvert_exporter": "python",
   "pygments_lexer": "ipython3",
   "version": "3.12.3"
  }
 },
 "nbformat": 4,
 "nbformat_minor": 2
}
