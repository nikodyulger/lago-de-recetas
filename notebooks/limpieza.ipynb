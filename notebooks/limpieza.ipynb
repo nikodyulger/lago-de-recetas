{
 "cells": [
  {
   "cell_type": "code",
   "execution_count": 63,
   "metadata": {},
   "outputs": [
    {
     "name": "stdout",
     "output_type": "stream",
     "text": [
      "Collecting es-core-news-sm==3.7.0\n",
      "  Downloading https://github.com/explosion/spacy-models/releases/download/es_core_news_sm-3.7.0/es_core_news_sm-3.7.0-py3-none-any.whl (12.9 MB)\n",
      "\u001b[2K     \u001b[90m━━━━━━━━━━━━━━━━━━━━━━━━━━━━━━━━━━━━━━━━\u001b[0m \u001b[32m12.9/12.9 MB\u001b[0m \u001b[31m46.8 MB/s\u001b[0m eta \u001b[36m0:00:00\u001b[0m00:01\u001b[0m00:01\u001b[0m\n",
      "\u001b[?25hRequirement already satisfied: spacy<3.8.0,>=3.7.0 in /Users/nikodyulger/Documents/GitHub/CIDAEN/lago-de-recetas/.venv/lib/python3.12/site-packages (from es-core-news-sm==3.7.0) (3.7.5)\n",
      "Requirement already satisfied: spacy-legacy<3.1.0,>=3.0.11 in /Users/nikodyulger/Documents/GitHub/CIDAEN/lago-de-recetas/.venv/lib/python3.12/site-packages (from spacy<3.8.0,>=3.7.0->es-core-news-sm==3.7.0) (3.0.12)\n",
      "Requirement already satisfied: spacy-loggers<2.0.0,>=1.0.0 in /Users/nikodyulger/Documents/GitHub/CIDAEN/lago-de-recetas/.venv/lib/python3.12/site-packages (from spacy<3.8.0,>=3.7.0->es-core-news-sm==3.7.0) (1.0.5)\n",
      "Requirement already satisfied: murmurhash<1.1.0,>=0.28.0 in /Users/nikodyulger/Documents/GitHub/CIDAEN/lago-de-recetas/.venv/lib/python3.12/site-packages (from spacy<3.8.0,>=3.7.0->es-core-news-sm==3.7.0) (1.0.10)\n",
      "Requirement already satisfied: cymem<2.1.0,>=2.0.2 in /Users/nikodyulger/Documents/GitHub/CIDAEN/lago-de-recetas/.venv/lib/python3.12/site-packages (from spacy<3.8.0,>=3.7.0->es-core-news-sm==3.7.0) (2.0.8)\n",
      "Requirement already satisfied: preshed<3.1.0,>=3.0.2 in /Users/nikodyulger/Documents/GitHub/CIDAEN/lago-de-recetas/.venv/lib/python3.12/site-packages (from spacy<3.8.0,>=3.7.0->es-core-news-sm==3.7.0) (3.0.9)\n",
      "Requirement already satisfied: thinc<8.3.0,>=8.2.2 in /Users/nikodyulger/Documents/GitHub/CIDAEN/lago-de-recetas/.venv/lib/python3.12/site-packages (from spacy<3.8.0,>=3.7.0->es-core-news-sm==3.7.0) (8.2.5)\n",
      "Requirement already satisfied: wasabi<1.2.0,>=0.9.1 in /Users/nikodyulger/Documents/GitHub/CIDAEN/lago-de-recetas/.venv/lib/python3.12/site-packages (from spacy<3.8.0,>=3.7.0->es-core-news-sm==3.7.0) (1.1.3)\n",
      "Requirement already satisfied: srsly<3.0.0,>=2.4.3 in /Users/nikodyulger/Documents/GitHub/CIDAEN/lago-de-recetas/.venv/lib/python3.12/site-packages (from spacy<3.8.0,>=3.7.0->es-core-news-sm==3.7.0) (2.4.8)\n",
      "Requirement already satisfied: catalogue<2.1.0,>=2.0.6 in /Users/nikodyulger/Documents/GitHub/CIDAEN/lago-de-recetas/.venv/lib/python3.12/site-packages (from spacy<3.8.0,>=3.7.0->es-core-news-sm==3.7.0) (2.0.10)\n",
      "Requirement already satisfied: weasel<0.5.0,>=0.1.0 in /Users/nikodyulger/Documents/GitHub/CIDAEN/lago-de-recetas/.venv/lib/python3.12/site-packages (from spacy<3.8.0,>=3.7.0->es-core-news-sm==3.7.0) (0.4.1)\n",
      "Requirement already satisfied: typer<1.0.0,>=0.3.0 in /Users/nikodyulger/Documents/GitHub/CIDAEN/lago-de-recetas/.venv/lib/python3.12/site-packages (from spacy<3.8.0,>=3.7.0->es-core-news-sm==3.7.0) (0.12.3)\n",
      "Requirement already satisfied: tqdm<5.0.0,>=4.38.0 in /Users/nikodyulger/Documents/GitHub/CIDAEN/lago-de-recetas/.venv/lib/python3.12/site-packages (from spacy<3.8.0,>=3.7.0->es-core-news-sm==3.7.0) (4.66.4)\n",
      "Requirement already satisfied: requests<3.0.0,>=2.13.0 in /Users/nikodyulger/Documents/GitHub/CIDAEN/lago-de-recetas/.venv/lib/python3.12/site-packages (from spacy<3.8.0,>=3.7.0->es-core-news-sm==3.7.0) (2.32.3)\n",
      "Requirement already satisfied: pydantic!=1.8,!=1.8.1,<3.0.0,>=1.7.4 in /Users/nikodyulger/Documents/GitHub/CIDAEN/lago-de-recetas/.venv/lib/python3.12/site-packages (from spacy<3.8.0,>=3.7.0->es-core-news-sm==3.7.0) (2.7.4)\n",
      "Requirement already satisfied: jinja2 in /Users/nikodyulger/Documents/GitHub/CIDAEN/lago-de-recetas/.venv/lib/python3.12/site-packages (from spacy<3.8.0,>=3.7.0->es-core-news-sm==3.7.0) (3.1.4)\n",
      "Requirement already satisfied: setuptools in /Users/nikodyulger/Documents/GitHub/CIDAEN/lago-de-recetas/.venv/lib/python3.12/site-packages (from spacy<3.8.0,>=3.7.0->es-core-news-sm==3.7.0) (69.5.1)\n",
      "Requirement already satisfied: packaging>=20.0 in /Users/nikodyulger/Documents/GitHub/CIDAEN/lago-de-recetas/.venv/lib/python3.12/site-packages (from spacy<3.8.0,>=3.7.0->es-core-news-sm==3.7.0) (24.0)\n",
      "Requirement already satisfied: langcodes<4.0.0,>=3.2.0 in /Users/nikodyulger/Documents/GitHub/CIDAEN/lago-de-recetas/.venv/lib/python3.12/site-packages (from spacy<3.8.0,>=3.7.0->es-core-news-sm==3.7.0) (3.4.0)\n",
      "Requirement already satisfied: numpy>=1.19.0 in /Users/nikodyulger/Documents/GitHub/CIDAEN/lago-de-recetas/.venv/lib/python3.12/site-packages (from spacy<3.8.0,>=3.7.0->es-core-news-sm==3.7.0) (1.26.4)\n",
      "Requirement already satisfied: language-data>=1.2 in /Users/nikodyulger/Documents/GitHub/CIDAEN/lago-de-recetas/.venv/lib/python3.12/site-packages (from langcodes<4.0.0,>=3.2.0->spacy<3.8.0,>=3.7.0->es-core-news-sm==3.7.0) (1.2.0)\n",
      "Requirement already satisfied: annotated-types>=0.4.0 in /Users/nikodyulger/Documents/GitHub/CIDAEN/lago-de-recetas/.venv/lib/python3.12/site-packages (from pydantic!=1.8,!=1.8.1,<3.0.0,>=1.7.4->spacy<3.8.0,>=3.7.0->es-core-news-sm==3.7.0) (0.7.0)\n",
      "Requirement already satisfied: pydantic-core==2.18.4 in /Users/nikodyulger/Documents/GitHub/CIDAEN/lago-de-recetas/.venv/lib/python3.12/site-packages (from pydantic!=1.8,!=1.8.1,<3.0.0,>=1.7.4->spacy<3.8.0,>=3.7.0->es-core-news-sm==3.7.0) (2.18.4)\n",
      "Requirement already satisfied: typing-extensions>=4.6.1 in /Users/nikodyulger/Documents/GitHub/CIDAEN/lago-de-recetas/.venv/lib/python3.12/site-packages (from pydantic!=1.8,!=1.8.1,<3.0.0,>=1.7.4->spacy<3.8.0,>=3.7.0->es-core-news-sm==3.7.0) (4.11.0)\n",
      "Requirement already satisfied: charset-normalizer<4,>=2 in /Users/nikodyulger/Documents/GitHub/CIDAEN/lago-de-recetas/.venv/lib/python3.12/site-packages (from requests<3.0.0,>=2.13.0->spacy<3.8.0,>=3.7.0->es-core-news-sm==3.7.0) (3.3.2)\n",
      "Requirement already satisfied: idna<4,>=2.5 in /Users/nikodyulger/Documents/GitHub/CIDAEN/lago-de-recetas/.venv/lib/python3.12/site-packages (from requests<3.0.0,>=2.13.0->spacy<3.8.0,>=3.7.0->es-core-news-sm==3.7.0) (3.7)\n",
      "Requirement already satisfied: urllib3<3,>=1.21.1 in /Users/nikodyulger/Documents/GitHub/CIDAEN/lago-de-recetas/.venv/lib/python3.12/site-packages (from requests<3.0.0,>=2.13.0->spacy<3.8.0,>=3.7.0->es-core-news-sm==3.7.0) (2.2.1)\n",
      "Requirement already satisfied: certifi>=2017.4.17 in /Users/nikodyulger/Documents/GitHub/CIDAEN/lago-de-recetas/.venv/lib/python3.12/site-packages (from requests<3.0.0,>=2.13.0->spacy<3.8.0,>=3.7.0->es-core-news-sm==3.7.0) (2024.2.2)\n",
      "Requirement already satisfied: blis<0.8.0,>=0.7.8 in /Users/nikodyulger/Documents/GitHub/CIDAEN/lago-de-recetas/.venv/lib/python3.12/site-packages (from thinc<8.3.0,>=8.2.2->spacy<3.8.0,>=3.7.0->es-core-news-sm==3.7.0) (0.7.11)\n",
      "Requirement already satisfied: confection<1.0.0,>=0.0.1 in /Users/nikodyulger/Documents/GitHub/CIDAEN/lago-de-recetas/.venv/lib/python3.12/site-packages (from thinc<8.3.0,>=8.2.2->spacy<3.8.0,>=3.7.0->es-core-news-sm==3.7.0) (0.1.5)\n",
      "Requirement already satisfied: click>=8.0.0 in /Users/nikodyulger/Documents/GitHub/CIDAEN/lago-de-recetas/.venv/lib/python3.12/site-packages (from typer<1.0.0,>=0.3.0->spacy<3.8.0,>=3.7.0->es-core-news-sm==3.7.0) (8.1.7)\n",
      "Requirement already satisfied: shellingham>=1.3.0 in /Users/nikodyulger/Documents/GitHub/CIDAEN/lago-de-recetas/.venv/lib/python3.12/site-packages (from typer<1.0.0,>=0.3.0->spacy<3.8.0,>=3.7.0->es-core-news-sm==3.7.0) (1.5.4)\n",
      "Requirement already satisfied: rich>=10.11.0 in /Users/nikodyulger/Documents/GitHub/CIDAEN/lago-de-recetas/.venv/lib/python3.12/site-packages (from typer<1.0.0,>=0.3.0->spacy<3.8.0,>=3.7.0->es-core-news-sm==3.7.0) (13.7.1)\n",
      "Requirement already satisfied: cloudpathlib<1.0.0,>=0.7.0 in /Users/nikodyulger/Documents/GitHub/CIDAEN/lago-de-recetas/.venv/lib/python3.12/site-packages (from weasel<0.5.0,>=0.1.0->spacy<3.8.0,>=3.7.0->es-core-news-sm==3.7.0) (0.18.1)\n",
      "Requirement already satisfied: smart-open<8.0.0,>=5.2.1 in /Users/nikodyulger/Documents/GitHub/CIDAEN/lago-de-recetas/.venv/lib/python3.12/site-packages (from weasel<0.5.0,>=0.1.0->spacy<3.8.0,>=3.7.0->es-core-news-sm==3.7.0) (7.0.4)\n",
      "Requirement already satisfied: MarkupSafe>=2.0 in /Users/nikodyulger/Documents/GitHub/CIDAEN/lago-de-recetas/.venv/lib/python3.12/site-packages (from jinja2->spacy<3.8.0,>=3.7.0->es-core-news-sm==3.7.0) (2.1.5)\n",
      "Requirement already satisfied: marisa-trie>=0.7.7 in /Users/nikodyulger/Documents/GitHub/CIDAEN/lago-de-recetas/.venv/lib/python3.12/site-packages (from language-data>=1.2->langcodes<4.0.0,>=3.2.0->spacy<3.8.0,>=3.7.0->es-core-news-sm==3.7.0) (1.2.0)\n",
      "Requirement already satisfied: markdown-it-py>=2.2.0 in /Users/nikodyulger/Documents/GitHub/CIDAEN/lago-de-recetas/.venv/lib/python3.12/site-packages (from rich>=10.11.0->typer<1.0.0,>=0.3.0->spacy<3.8.0,>=3.7.0->es-core-news-sm==3.7.0) (3.0.0)\n",
      "Requirement already satisfied: pygments<3.0.0,>=2.13.0 in /Users/nikodyulger/Documents/GitHub/CIDAEN/lago-de-recetas/.venv/lib/python3.12/site-packages (from rich>=10.11.0->typer<1.0.0,>=0.3.0->spacy<3.8.0,>=3.7.0->es-core-news-sm==3.7.0) (2.18.0)\n",
      "Requirement already satisfied: wrapt in /Users/nikodyulger/Documents/GitHub/CIDAEN/lago-de-recetas/.venv/lib/python3.12/site-packages (from smart-open<8.0.0,>=5.2.1->weasel<0.5.0,>=0.1.0->spacy<3.8.0,>=3.7.0->es-core-news-sm==3.7.0) (1.16.0)\n",
      "Requirement already satisfied: mdurl~=0.1 in /Users/nikodyulger/Documents/GitHub/CIDAEN/lago-de-recetas/.venv/lib/python3.12/site-packages (from markdown-it-py>=2.2.0->rich>=10.11.0->typer<1.0.0,>=0.3.0->spacy<3.8.0,>=3.7.0->es-core-news-sm==3.7.0) (0.1.2)\n",
      "Installing collected packages: es-core-news-sm\n",
      "Successfully installed es-core-news-sm-3.7.0\n",
      "\n",
      "\u001b[1m[\u001b[0m\u001b[34;49mnotice\u001b[0m\u001b[1;39;49m]\u001b[0m\u001b[39;49m A new release of pip is available: \u001b[0m\u001b[31;49m24.0\u001b[0m\u001b[39;49m -> \u001b[0m\u001b[32;49m24.1\u001b[0m\n",
      "\u001b[1m[\u001b[0m\u001b[34;49mnotice\u001b[0m\u001b[1;39;49m]\u001b[0m\u001b[39;49m To update, run: \u001b[0m\u001b[32;49mpip install --upgrade pip\u001b[0m\n",
      "\u001b[38;5;2m✔ Download and installation successful\u001b[0m\n",
      "You can now load the package via spacy.load('es_core_news_sm')\n"
     ]
    }
   ],
   "source": [
    "# !python -m spacy download es_core_news_sm"
   ]
  },
  {
   "cell_type": "code",
   "execution_count": 64,
   "metadata": {},
   "outputs": [],
   "source": [
    "import os\n",
    "import re\n",
    "import spacy\n",
    "import awswrangler as wr\n",
    "import pandas as pd"
   ]
  },
  {
   "cell_type": "markdown",
   "metadata": {},
   "source": [
    "## Carga de datos"
   ]
  },
  {
   "cell_type": "code",
   "execution_count": 32,
   "metadata": {},
   "outputs": [],
   "source": [
    "df_hogar_mania = wr.s3.read_parquet(path='s3://raw-recipe-data-bucket/hogar_mania')\n",
    "df_antena3 = wr.s3.read_parquet(path='s3://raw-recipe-data-bucket/antena3')\n",
    "df_saber_vivir = wr.s3.read_parquet(path='s3://raw-recipe-data-bucket/saber_vivir')\n",
    "df_el_mundo = wr.s3.read_parquet(path='s3://raw-recipe-data-bucket/el_mundo')"
   ]
  },
  {
   "cell_type": "markdown",
   "metadata": {},
   "source": [
    "### Hogar Mania"
   ]
  },
  {
   "cell_type": "markdown",
   "metadata": {},
   "source": [
    "Obtener categorias"
   ]
  },
  {
   "cell_type": "code",
   "execution_count": 33,
   "metadata": {},
   "outputs": [
    {
     "data": {
      "text/plain": [
       "<StringArray>\n",
       "[             'postres',           'aperitivos',   'ensaladas-verduras',\n",
       "     'arroces-cereales',        'pastas-pizzas',         'sopas-cremas',\n",
       "            'legumbres',               'carnes',    'pescados-mariscos',\n",
       "         'setas-hongos',               'huevos',               'salsas',\n",
       "            'desayunos',          'recetas-pan',              'bebidas',\n",
       "             'cocteles', 'cocina-internacional']\n",
       "Length: 17, dtype: string"
      ]
     },
     "execution_count": 33,
     "metadata": {},
     "output_type": "execute_result"
    }
   ],
   "source": [
    "categorias_hogar_mania = df_hogar_mania['categoria'].unique()\n",
    "categorias_hogar_mania"
   ]
  },
  {
   "cell_type": "markdown",
   "metadata": {},
   "source": [
    "Eliminar nulos"
   ]
  },
  {
   "cell_type": "code",
   "execution_count": 34,
   "metadata": {},
   "outputs": [
    {
     "data": {
      "text/plain": [
       "(7464, 5)"
      ]
     },
     "execution_count": 34,
     "metadata": {},
     "output_type": "execute_result"
    }
   ],
   "source": [
    "df_hogar_mania.shape"
   ]
  },
  {
   "cell_type": "code",
   "execution_count": 35,
   "metadata": {},
   "outputs": [],
   "source": [
    "df_hogar_mania.dropna(subset=[\"ingredientes\"], inplace=True)"
   ]
  },
  {
   "cell_type": "code",
   "execution_count": 36,
   "metadata": {},
   "outputs": [
    {
     "data": {
      "text/plain": [
       "(7228, 5)"
      ]
     },
     "execution_count": 36,
     "metadata": {},
     "output_type": "execute_result"
    }
   ],
   "source": [
    "df_hogar_mania.shape"
   ]
  },
  {
   "cell_type": "code",
   "execution_count": 37,
   "metadata": {},
   "outputs": [
    {
     "data": {
      "text/plain": [
       "(18, 6)"
      ]
     },
     "execution_count": 37,
     "metadata": {},
     "output_type": "execute_result"
    }
   ],
   "source": [
    "df_hogar_mania['total_ingredientes'] = df_hogar_mania['ingredientes'].apply(len)\n",
    "df_hogar_mania[df_hogar_mania['total_ingredientes'] == 0].shape"
   ]
  },
  {
   "cell_type": "code",
   "execution_count": 38,
   "metadata": {},
   "outputs": [],
   "source": [
    "df_hogar_mania = df_hogar_mania[df_hogar_mania['total_ingredientes'] != 0]"
   ]
  },
  {
   "cell_type": "code",
   "execution_count": 39,
   "metadata": {},
   "outputs": [
    {
     "data": {
      "text/plain": [
       "<StringArray>\n",
       "[             'postres',           'aperitivos',   'ensaladas-verduras',\n",
       "     'arroces-cereales',        'pastas-pizzas',         'sopas-cremas',\n",
       "            'legumbres',               'carnes',    'pescados-mariscos',\n",
       "               'huevos',            'desayunos',          'recetas-pan',\n",
       "              'bebidas',             'cocteles', 'cocina-internacional']\n",
       "Length: 15, dtype: string"
      ]
     },
     "execution_count": 39,
     "metadata": {},
     "output_type": "execute_result"
    }
   ],
   "source": [
    "df_hogar_mania[df_hogar_mania.duplicated(subset=['link'], keep=False)]['categoria'].unique()"
   ]
  },
  {
   "cell_type": "code",
   "execution_count": 40,
   "metadata": {},
   "outputs": [
    {
     "data": {
      "text/plain": [
       "link\n",
       "https://www.hogarmania.com//cocina/recetas/aperitivos/desayuno-real-cereal-37095.html                                        [aperitivos, desayunos]\n",
       "https://www.hogarmania.com//cocina/recetas/aperitivos/jocoque-10518.html                                          [aperitivos, cocina-internacional]\n",
       "https://www.hogarmania.com//cocina/recetas/aperitivos/molletes-mexicana-36967.html                                           [aperitivos, desayunos]\n",
       "https://www.hogarmania.com//cocina/recetas/aperitivos/zumo-papaya-naranja-pomelo-25672.html                                    [aperitivos, bebidas]\n",
       "https://www.hogarmania.com//cocina/recetas/arroces-cereales/arroz-colores-salsa-agridulce-asia-2684.html    [arroces-cereales, cocina-internacional]\n",
       "                                                                                                                              ...                   \n",
       "https://www.hogarmania.com//cocina/recetas/recetas-pan/bagels-rosquillas-18773.html                                         [desayunos, recetas-pan]\n",
       "https://www.hogarmania.com//cocina/recetas/recetas-pan/bollos-parker-house-parker-house-18807.html                          [desayunos, recetas-pan]\n",
       "https://www.hogarmania.com//cocina/recetas/recetas-pan/jamon-venezolano-38382.html                               [recetas-pan, cocina-internacional]\n",
       "https://www.hogarmania.com//cocina/recetas/sopas-cremas/sopa-rusa-repollo-2417.html                             [sopas-cremas, cocina-internacional]\n",
       "https://www.hogarmania.com//cocina/recetas/sopas-cremas/sopa-turca-1398.html                                    [sopas-cremas, cocina-internacional]\n",
       "Name: categoria, Length: 153, dtype: object"
      ]
     },
     "execution_count": 40,
     "metadata": {},
     "output_type": "execute_result"
    }
   ],
   "source": [
    "df_hogar_mania_double = df_hogar_mania[df_hogar_mania.duplicated(subset=['link'], keep=False)]\n",
    "df_hogar_mania_double.groupby(by='link')['categoria'].apply(list)"
   ]
  },
  {
   "cell_type": "code",
   "execution_count": 41,
   "metadata": {},
   "outputs": [],
   "source": [
    "df_hogar_mania.drop_duplicates(subset=['link'], keep='first', inplace=True)"
   ]
  },
  {
   "cell_type": "code",
   "execution_count": 42,
   "metadata": {},
   "outputs": [
    {
     "data": {
      "text/plain": [
       "(7056, 6)"
      ]
     },
     "execution_count": 42,
     "metadata": {},
     "output_type": "execute_result"
    }
   ],
   "source": [
    "df_hogar_mania.shape"
   ]
  },
  {
   "cell_type": "code",
   "execution_count": null,
   "metadata": {},
   "outputs": [],
   "source": [
    "def extract_words(text):\n",
    "    words = re.findall(r'\\b[a-zA-Z]+\\b', text)\n",
    "    return ' '.join(words)"
   ]
  },
  {
   "cell_type": "code",
   "execution_count": 60,
   "metadata": {},
   "outputs": [
    {
     "data": {
      "text/html": [
       "<div>\n",
       "<style scoped>\n",
       "    .dataframe tbody tr th:only-of-type {\n",
       "        vertical-align: middle;\n",
       "    }\n",
       "\n",
       "    .dataframe tbody tr th {\n",
       "        vertical-align: top;\n",
       "    }\n",
       "\n",
       "    .dataframe thead th {\n",
       "        text-align: right;\n",
       "    }\n",
       "</style>\n",
       "<table border=\"1\" class=\"dataframe\">\n",
       "  <thead>\n",
       "    <tr style=\"text-align: right;\">\n",
       "      <th></th>\n",
       "      <th>titulo</th>\n",
       "      <th>titulo_link</th>\n",
       "    </tr>\n",
       "  </thead>\n",
       "  <tbody>\n",
       "    <tr>\n",
       "      <th>0</th>\n",
       "      <td>Buñuelos de viento fáciles, la receta tradicio...</td>\n",
       "      <td>bunuelos</td>\n",
       "    </tr>\n",
       "    <tr>\n",
       "      <th>1</th>\n",
       "      <td>Corona de hojaldre de Navidad</td>\n",
       "      <td>corona navidad</td>\n",
       "    </tr>\n",
       "    <tr>\n",
       "      <th>2</th>\n",
       "      <td>Cafés de Navidad: Gingerbread Latte y Pumpkin ...</td>\n",
       "      <td>cafes navidad gingerbread pumpkin spice latte</td>\n",
       "    </tr>\n",
       "    <tr>\n",
       "      <th>4</th>\n",
       "      <td>Mazapanes de Navidad</td>\n",
       "      <td>mazapanes navidad</td>\n",
       "    </tr>\n",
       "    <tr>\n",
       "      <th>6</th>\n",
       "      <td>Churros en freidora de aire, ¡más fácil imposi...</td>\n",
       "      <td>churros freidora aire</td>\n",
       "    </tr>\n",
       "    <tr>\n",
       "      <th>...</th>\n",
       "      <td>...</td>\n",
       "      <td>...</td>\n",
       "    </tr>\n",
       "    <tr>\n",
       "      <th>7384</th>\n",
       "      <td>Tarta fría de limón de Eva Arguiñano, la más c...</td>\n",
       "      <td>tarta fria limon</td>\n",
       "    </tr>\n",
       "    <tr>\n",
       "      <th>7385</th>\n",
       "      <td>Receta de mochis japoneses caseros</td>\n",
       "      <td>receta mochis japoneses caseros</td>\n",
       "    </tr>\n",
       "    <tr>\n",
       "      <th>7386</th>\n",
       "      <td>Receta de helado de pistacho, paso a paso</td>\n",
       "      <td>helado pistacho casero</td>\n",
       "    </tr>\n",
       "    <tr>\n",
       "      <th>7387</th>\n",
       "      <td>Cómo hacer gachas dulces con los pasos de Karl...</td>\n",
       "      <td>gachas dulces</td>\n",
       "    </tr>\n",
       "    <tr>\n",
       "      <th>7388</th>\n",
       "      <td>¿Cómo hacer brochetas de chuches?</td>\n",
       "      <td>brocheta de chuches</td>\n",
       "    </tr>\n",
       "  </tbody>\n",
       "</table>\n",
       "<p>7056 rows × 2 columns</p>\n",
       "</div>"
      ],
      "text/plain": [
       "                                                 titulo  \\\n",
       "0     Buñuelos de viento fáciles, la receta tradicio...   \n",
       "1                         Corona de hojaldre de Navidad   \n",
       "2     Cafés de Navidad: Gingerbread Latte y Pumpkin ...   \n",
       "4                                  Mazapanes de Navidad   \n",
       "6     Churros en freidora de aire, ¡más fácil imposi...   \n",
       "...                                                 ...   \n",
       "7384  Tarta fría de limón de Eva Arguiñano, la más c...   \n",
       "7385                 Receta de mochis japoneses caseros   \n",
       "7386          Receta de helado de pistacho, paso a paso   \n",
       "7387  Cómo hacer gachas dulces con los pasos de Karl...   \n",
       "7388                  ¿Cómo hacer brochetas de chuches?   \n",
       "\n",
       "                                        titulo_link  \n",
       "0                                          bunuelos  \n",
       "1                                    corona navidad  \n",
       "2     cafes navidad gingerbread pumpkin spice latte  \n",
       "4                                 mazapanes navidad  \n",
       "6                             churros freidora aire  \n",
       "...                                             ...  \n",
       "7384                               tarta fria limon  \n",
       "7385                receta mochis japoneses caseros  \n",
       "7386                         helado pistacho casero  \n",
       "7387                                  gachas dulces  \n",
       "7388                            brocheta de chuches  \n",
       "\n",
       "[7056 rows x 2 columns]"
      ]
     },
     "execution_count": 60,
     "metadata": {},
     "output_type": "execute_result"
    }
   ],
   "source": [
    "df_hogar_mania['titulo_link'] = (\n",
    "    df_hogar_mania['link']\n",
    "    .apply(os.path.basename)\n",
    "    .apply(os.path.splitext)\n",
    "    .apply(lambda text: text[0])\n",
    "    .apply(extract_words)\n",
    ")\n",
    "df_hogar_mania[['titulo', 'titulo_link']]"
   ]
  },
  {
   "cell_type": "code",
   "execution_count": 65,
   "metadata": {},
   "outputs": [],
   "source": [
    "nlp = spacy.load('es_core_news_sm')"
   ]
  },
  {
   "cell_type": "code",
   "execution_count": 176,
   "metadata": {},
   "outputs": [],
   "source": [
    "def extract_ingredients(text):\n",
    "    doc = nlp(text.lower())\n",
    "    unnecessary_bow = [\n",
    "        \"gr\",\n",
    "        \"g\",\n",
    "        \"kg\",\n",
    "        \"ml\",\n",
    "        \"l\",\n",
    "        \"oz\",\n",
    "        \"lb\",\n",
    "        \"gr.\",\n",
    "        \"g.\",\n",
    "        \"kg.\",\n",
    "        \"ml.\",\n",
    "        \"l.\",\n",
    "        \"oz.\",\n",
    "        \"lb.\",\n",
    "        \"kilo\",\n",
    "        \"litro\",\n",
    "        \"gramo\",\n",
    "        \"vaso\",\n",
    "        \"taza\",\n",
    "        \"tazón\",\n",
    "        \"pizca\",\n",
    "        \"cucharada\",\n",
    "        \"cucharadas\",\n",
    "        \"cucharadita\",\n",
    "        \"ralladura\",\n",
    "    ]\n",
    "    admitted_class_words = [\"NOUN\", \"PROPN\", \"PRON\", \"ADJ\"]\n",
    "    filtered_tokens = [\n",
    "        token.text\n",
    "        for token in doc\n",
    "        if not token.like_num\n",
    "        and not token.is_stop\n",
    "        and not token.is_punct\n",
    "        and token.pos_ in admitted_class_words\n",
    "        and token.text not in unnecessary_bow\n",
    "    ]\n",
    "    return \" \".join(filtered_tokens)"
   ]
  },
  {
   "cell_type": "code",
   "execution_count": 177,
   "metadata": {},
   "outputs": [
    {
     "data": {
      "text/plain": [
       "0       [harina, mantequilla, agua, azúcar, huevos, li...\n",
       "1       [láminas hojaldre, chocolate negro, mantequill...\n",
       "2       [azúcar moreno suave, jengibre molido, nuez mo...\n",
       "4       [almendra molida, leche condensada, limón, , a...\n",
       "6       [churros congelados, aceite oliva girasol, azú...\n",
       "                              ...                        \n",
       "7384                      [galletas, mantequilla fundida]\n",
       "7385    [harina arroz glutinoso, agua, azúcar recetas ...\n",
       "7386    [g. pasta pistachos comercial casera, g. pista...\n",
       "7387    [leche, harina, azúcar, semillas anís, , limón...\n",
       "7388    [variedad chuches gusto botes kilo euros, palo...\n",
       "Name: ingredientes, Length: 7056, dtype: object"
      ]
     },
     "execution_count": 177,
     "metadata": {},
     "output_type": "execute_result"
    }
   ],
   "source": [
    "df_hogar_mania['ingredientes_limpios'] = df_hogar_mania['ingredientes'].apply(lambda ingrs: [extract_ingredients(ingr) for ingr in ingrs])"
   ]
  },
  {
   "cell_type": "code",
   "execution_count": null,
   "metadata": {},
   "outputs": [],
   "source": []
  }
 ],
 "metadata": {
  "kernelspec": {
   "display_name": ".venv",
   "language": "python",
   "name": "python3"
  },
  "language_info": {
   "codemirror_mode": {
    "name": "ipython",
    "version": 3
   },
   "file_extension": ".py",
   "mimetype": "text/x-python",
   "name": "python",
   "nbconvert_exporter": "python",
   "pygments_lexer": "ipython3",
   "version": "3.12.3"
  }
 },
 "nbformat": 4,
 "nbformat_minor": 2
}
