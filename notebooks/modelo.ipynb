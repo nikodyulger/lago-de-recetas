{
 "cells": [
  {
   "cell_type": "code",
   "execution_count": 54,
   "id": "53c52811-f6d1-4a69-8ede-a42d2431f341",
   "metadata": {
    "tags": []
   },
   "outputs": [],
   "source": [
    "import awswrangler as wr\n",
    "import numpy as np\n",
    "import joblib\n",
    "import tempfile\n",
    "import boto3\n",
    "import json\n",
    "\n",
    "from sklearn.metrics import balanced_accuracy_score\n",
    "from sklearn.model_selection import train_test_split, GridSearchCV\n",
    "from sklearn.preprocessing import LabelEncoder\n",
    "from sklearn.pipeline import Pipeline\n",
    "from sklearn.feature_extraction.text import TfidfVectorizer\n",
    "from sklearn.naive_bayes import MultinomialNB\n",
    "from sklearn.linear_model import SGDClassifier, LogisticRegression\n",
    "from sklearn.utils.class_weight import compute_class_weight\n"
   ]
  },
  {
   "cell_type": "code",
   "execution_count": 52,
   "id": "738efed6",
   "metadata": {
    "tags": []
   },
   "outputs": [],
   "source": [
    "import sagemaker\n",
    "from sagemaker import get_execution_role\n",
    "from sagemaker.sklearn.estimator import SKLearn\n",
    "\n",
    "sagemaker_session = sagemaker.Session()\n",
    "role = get_execution_role() #'sagemaker_execution_role'\n",
    "aws_region = sagemaker_session.boto_session.region_name"
   ]
  },
  {
   "cell_type": "code",
   "execution_count": 6,
   "id": "2a6d47f7",
   "metadata": {
    "tags": []
   },
   "outputs": [],
   "source": [
    "seed = 42"
   ]
  },
  {
   "cell_type": "markdown",
   "id": "e3fa3b95-02cd-4cfa-893c-ce54fb3cf2e3",
   "metadata": {},
   "source": [
    "## Carga de datos"
   ]
  },
  {
   "cell_type": "code",
   "execution_count": 7,
   "id": "7b276598-5bb0-43a5-9dcd-90ad08e6ccc3",
   "metadata": {
    "tags": []
   },
   "outputs": [
    {
     "data": {
      "text/html": [
       "<div>\n",
       "<style scoped>\n",
       "    .dataframe tbody tr th:only-of-type {\n",
       "        vertical-align: middle;\n",
       "    }\n",
       "\n",
       "    .dataframe tbody tr th {\n",
       "        vertical-align: top;\n",
       "    }\n",
       "\n",
       "    .dataframe thead th {\n",
       "        text-align: right;\n",
       "    }\n",
       "</style>\n",
       "<table border=\"1\" class=\"dataframe\">\n",
       "  <thead>\n",
       "    <tr style=\"text-align: right;\">\n",
       "      <th></th>\n",
       "      <th>titulo</th>\n",
       "      <th>categoria</th>\n",
       "      <th>ingredientes</th>\n",
       "      <th>elaboracion</th>\n",
       "      <th>link</th>\n",
       "      <th>total_ingredientes</th>\n",
       "      <th>titulo_link</th>\n",
       "      <th>ingredientes_limpios</th>\n",
       "    </tr>\n",
       "  </thead>\n",
       "  <tbody>\n",
       "    <tr>\n",
       "      <th>0</th>\n",
       "      <td>Buñuelos de viento fáciles, la receta tradicio...</td>\n",
       "      <td>postres</td>\n",
       "      <td>['125 gr de harina' '30 gr de mantequilla' '1/...</td>\n",
       "      <td>Otoño no es solo época de calabazas y castañas...</td>\n",
       "      <td>https://www.hogarmania.com//cocina/recetas/pos...</td>\n",
       "      <td>9.0</td>\n",
       "      <td>bunuelos</td>\n",
       "      <td>harina mantequilla agua azúcar huevos limón sa...</td>\n",
       "    </tr>\n",
       "    <tr>\n",
       "      <th>1</th>\n",
       "      <td>Corona de hojaldre de Navidad</td>\n",
       "      <td>postres</td>\n",
       "      <td>['2 láminas de hojaldre rectangular ' '150 g d...</td>\n",
       "      <td>Los polvorones, los turrones, los mazapanes o ...</td>\n",
       "      <td>https://www.hogarmania.com//cocina/recetas/pos...</td>\n",
       "      <td>7.0</td>\n",
       "      <td>corona navidad</td>\n",
       "      <td>láminas hojaldre chocolate negro mantequilla g...</td>\n",
       "    </tr>\n",
       "    <tr>\n",
       "      <th>2</th>\n",
       "      <td>Cafés de Navidad: Gingerbread Latte y Pumpkin ...</td>\n",
       "      <td>postres</td>\n",
       "      <td>['2 cucharadas de azúcar moreno suave'\\n '1/2 ...</td>\n",
       "      <td>La temporada de invierno, junto a la época nav...</td>\n",
       "      <td>https://www.hogarmania.com//cocina/recetas/pos...</td>\n",
       "      <td>8.0</td>\n",
       "      <td>cafes navidad gingerbread pumpkin spice latte</td>\n",
       "      <td>azúcar moreno suave jengibre molido nuez mosca...</td>\n",
       "    </tr>\n",
       "    <tr>\n",
       "      <th>3</th>\n",
       "      <td>Mazapanes de Navidad</td>\n",
       "      <td>postres</td>\n",
       "      <td>['300 gr. de almendra molida ' '370 gr. de lec...</td>\n",
       "      <td>Mezcla en un bol la almendra molida con la lec...</td>\n",
       "      <td>https://www.hogarmania.com//cocina/recetas/pos...</td>\n",
       "      <td>7.0</td>\n",
       "      <td>mazapanes navidad</td>\n",
       "      <td>almendra molida leche condensada limón agua ac...</td>\n",
       "    </tr>\n",
       "    <tr>\n",
       "      <th>4</th>\n",
       "      <td>Churros en freidora de aire, ¡más fácil imposi...</td>\n",
       "      <td>postres</td>\n",
       "      <td>['Churros congelados' 'Aceite de oliva o giras...</td>\n",
       "      <td>Comienza por precalentar la freidora de aire. ...</td>\n",
       "      <td>https://www.hogarmania.com//cocina/recetas/pos...</td>\n",
       "      <td>3.0</td>\n",
       "      <td>churros freidora aire</td>\n",
       "      <td>churros congelados aceite oliva girasol azúcar</td>\n",
       "    </tr>\n",
       "  </tbody>\n",
       "</table>\n",
       "</div>"
      ],
      "text/plain": [
       "                                              titulo categoria  \\\n",
       "0  Buñuelos de viento fáciles, la receta tradicio...   postres   \n",
       "1                      Corona de hojaldre de Navidad   postres   \n",
       "2  Cafés de Navidad: Gingerbread Latte y Pumpkin ...   postres   \n",
       "3                               Mazapanes de Navidad   postres   \n",
       "4  Churros en freidora de aire, ¡más fácil imposi...   postres   \n",
       "\n",
       "                                        ingredientes  \\\n",
       "0  ['125 gr de harina' '30 gr de mantequilla' '1/...   \n",
       "1  ['2 láminas de hojaldre rectangular ' '150 g d...   \n",
       "2  ['2 cucharadas de azúcar moreno suave'\\n '1/2 ...   \n",
       "3  ['300 gr. de almendra molida ' '370 gr. de lec...   \n",
       "4  ['Churros congelados' 'Aceite de oliva o giras...   \n",
       "\n",
       "                                         elaboracion  \\\n",
       "0  Otoño no es solo época de calabazas y castañas...   \n",
       "1  Los polvorones, los turrones, los mazapanes o ...   \n",
       "2  La temporada de invierno, junto a la época nav...   \n",
       "3  Mezcla en un bol la almendra molida con la lec...   \n",
       "4  Comienza por precalentar la freidora de aire. ...   \n",
       "\n",
       "                                                link  total_ingredientes  \\\n",
       "0  https://www.hogarmania.com//cocina/recetas/pos...                 9.0   \n",
       "1  https://www.hogarmania.com//cocina/recetas/pos...                 7.0   \n",
       "2  https://www.hogarmania.com//cocina/recetas/pos...                 8.0   \n",
       "3  https://www.hogarmania.com//cocina/recetas/pos...                 7.0   \n",
       "4  https://www.hogarmania.com//cocina/recetas/pos...                 3.0   \n",
       "\n",
       "                                     titulo_link  \\\n",
       "0                                       bunuelos   \n",
       "1                                 corona navidad   \n",
       "2  cafes navidad gingerbread pumpkin spice latte   \n",
       "3                              mazapanes navidad   \n",
       "4                          churros freidora aire   \n",
       "\n",
       "                                ingredientes_limpios  \n",
       "0  harina mantequilla agua azúcar huevos limón sa...  \n",
       "1  láminas hojaldre chocolate negro mantequilla g...  \n",
       "2  azúcar moreno suave jengibre molido nuez mosca...  \n",
       "3  almendra molida leche condensada limón agua ac...  \n",
       "4     churros congelados aceite oliva girasol azúcar  "
      ]
     },
     "execution_count": 7,
     "metadata": {},
     "output_type": "execute_result"
    }
   ],
   "source": [
    "df_recipe_data = wr.s3.read_csv(path=\"s3://recipes-data-models-sagemaker-bucket/data/cleaned_recipes.csv\")\n",
    "df_recipe_data.head(5)"
   ]
  },
  {
   "cell_type": "markdown",
   "id": "db08e6ac",
   "metadata": {},
   "source": [
    "## Preprocesamiento de datos"
   ]
  },
  {
   "cell_type": "code",
   "execution_count": 8,
   "id": "b2bada96",
   "metadata": {
    "tags": []
   },
   "outputs": [],
   "source": [
    "label_encoder = LabelEncoder()\n",
    "df_recipe_data['encoded_categoria'] = label_encoder.fit_transform(df_recipe_data['categoria'])"
   ]
  },
  {
   "cell_type": "code",
   "execution_count": 9,
   "id": "785b6c8f",
   "metadata": {
    "tags": []
   },
   "outputs": [
    {
     "data": {
      "text/plain": [
       "{'arroces': 0,\n",
       " 'carnes': 1,\n",
       " 'ensaladas': 2,\n",
       " 'entrantes': 3,\n",
       " 'huevos': 4,\n",
       " 'pastas-pizzas': 5,\n",
       " 'pescados-mariscos': 6,\n",
       " 'postres': 7,\n",
       " 'segundos-platos': 8,\n",
       " 'sopas-cremas': 9}"
      ]
     },
     "execution_count": 9,
     "metadata": {},
     "output_type": "execute_result"
    }
   ],
   "source": [
    "dict(zip(label_encoder.classes_, label_encoder.transform(label_encoder.classes_)))"
   ]
  },
  {
   "cell_type": "code",
   "execution_count": 10,
   "id": "b5de7cf4",
   "metadata": {
    "tags": []
   },
   "outputs": [],
   "source": [
    "def store_model(model, bucket_name, key):\n",
    "    s3_client = boto3.client('s3')\n",
    "    with tempfile.TemporaryFile() as fp:\n",
    "        joblib.dump(model, fp)\n",
    "        fp.seek(0)\n",
    "        s3_client.put_object(Body=fp.read(), Bucket=bucket_name, Key=key)"
   ]
  },
  {
   "cell_type": "code",
   "execution_count": 11,
   "id": "0456cf24",
   "metadata": {
    "tags": []
   },
   "outputs": [],
   "source": [
    "bucket_name = \"recipes-data-models-sagemaker-bucket\"\n",
    "key = \"models/label_encoder.joblib\"\n",
    "store_model(label_encoder, bucket_name, key)"
   ]
  },
  {
   "cell_type": "code",
   "execution_count": 12,
   "id": "4799412b",
   "metadata": {
    "tags": []
   },
   "outputs": [],
   "source": [
    "df = df_recipe_data[['encoded_categoria', 'ingredientes_limpios']] # class label, feature => order of columns required for already built in sagemaker models\n",
    "train_data, test_data = train_test_split(df, test_size=0.3, shuffle=True, stratify=df['encoded_categoria'], random_state=seed)"
   ]
  },
  {
   "cell_type": "code",
   "execution_count": 13,
   "id": "e5af1389",
   "metadata": {
    "tags": []
   },
   "outputs": [
    {
     "data": {
      "text/plain": [
       "{'paths': ['s3://recipes-data-models-sagemaker-bucket/data/test_data.csv'],\n",
       " 'partitions_values': {}}"
      ]
     },
     "execution_count": 13,
     "metadata": {},
     "output_type": "execute_result"
    }
   ],
   "source": [
    "wr.s3.to_csv(\n",
    "    df=train_data,\n",
    "    path=\"s3://recipes-data-models-sagemaker-bucket/data/train_data.csv\",\n",
    "    index=False\n",
    ")\n",
    "wr.s3.to_csv(\n",
    "    df=test_data,\n",
    "    path=\"s3://recipes-data-models-sagemaker-bucket/data/test_data.csv\",\n",
    "    index=False\n",
    ")"
   ]
  },
  {
   "cell_type": "code",
   "execution_count": 73,
   "id": "e13814a4-7ff7-4148-aee6-43dd9690777c",
   "metadata": {
    "tags": []
   },
   "outputs": [
    {
     "data": {
      "text/plain": [
       "{'paths': ['s3://recipes-data-models-sagemaker-bucket/data/jumpstart/data.csv'],\n",
       " 'partitions_values': {}}"
      ]
     },
     "execution_count": 73,
     "metadata": {},
     "output_type": "execute_result"
    }
   ],
   "source": [
    "wr.s3.to_csv(\n",
    "    df=train_data,\n",
    "    path=\"s3://recipes-data-models-sagemaker-bucket/data/jumpstart/data.csv\",\n",
    "    index=False,\n",
    "    header=False\n",
    ")"
   ]
  },
  {
   "cell_type": "markdown",
   "id": "a283271e",
   "metadata": {},
   "source": [
    "## Modelo propio"
   ]
  },
  {
   "cell_type": "code",
   "execution_count": 14,
   "id": "40089d82",
   "metadata": {
    "tags": []
   },
   "outputs": [],
   "source": [
    "X_train, y_train = train_data['ingredientes_limpios'], train_data['encoded_categoria']\n",
    "X_test, y_test = test_data['ingredientes_limpios'], test_data['encoded_categoria']"
   ]
  },
  {
   "cell_type": "code",
   "execution_count": 28,
   "id": "94719c4b",
   "metadata": {
    "tags": []
   },
   "outputs": [
    {
     "data": {
      "text/plain": [
       "{0: 2.40817843866171,\n",
       " 1: 0.5618386816999132,\n",
       " 2: 0.4845175766641735,\n",
       " 3: 1.6195,\n",
       " 4: 2.904932735426009,\n",
       " 5: 1.7895027624309392,\n",
       " 6: 0.6246865959498553,\n",
       " 7: 0.5932234432234432,\n",
       " 8: 2.024375,\n",
       " 9: 2.2729824561403507}"
      ]
     },
     "execution_count": 28,
     "metadata": {},
     "output_type": "execute_result"
    }
   ],
   "source": [
    "class_weights = compute_class_weight(class_weight=\"balanced\", classes=np.unique(y_train), y=y_train)\n",
    "class_weights_dict = dict(zip(np.unique(y_train), class_weights))\n",
    "class_weights_dict"
   ]
  },
  {
   "cell_type": "markdown",
   "id": "e4321a3f-43b7-4d10-a88e-1f60a2103ff7",
   "metadata": {},
   "source": [
    "### Naive Bayes"
   ]
  },
  {
   "cell_type": "code",
   "execution_count": 23,
   "id": "bcf62bcd-8c68-4b68-8f1c-9d0cf5842bde",
   "metadata": {
    "tags": []
   },
   "outputs": [
    {
     "name": "stdout",
     "output_type": "stream",
     "text": [
      "Mejor score:  0.5133797838594976\n",
      "Mejor configuración de parámetros:  {'clf__alpha': 0.01}\n"
     ]
    }
   ],
   "source": [
    "nb_model = Pipeline([(\"tfidf\", TfidfVectorizer()), (\"clf\", MultinomialNB())])\n",
    "\n",
    "parameters = {\n",
    "    \"clf__alpha\": [0.1, 1e-2, 1e-3, 1e-5]\n",
    "}\n",
    "nb_gs = GridSearchCV(nb_model, parameters, cv=5, scoring='balanced_accuracy', refit=True)\n",
    "\n",
    "nb_gs.fit(X_train, y_train)\n",
    "\n",
    "print(\"Mejor score: \", nb_gs.best_score_)\n",
    "print(\"Mejor configuración de parámetros: \", nb_gs.best_params_)"
   ]
  },
  {
   "cell_type": "markdown",
   "id": "5e225ff2-c0e6-46d0-bd87-e7fd26ce3fd6",
   "metadata": {},
   "source": [
    "### Logistic Regression"
   ]
  },
  {
   "cell_type": "code",
   "execution_count": 31,
   "id": "19750015-0bf7-42a7-b381-17b35a0a48b9",
   "metadata": {
    "tags": []
   },
   "outputs": [
    {
     "name": "stdout",
     "output_type": "stream",
     "text": [
      "Mejor score:  0.6480098242418407\n",
      "Mejor configuración de parámetros:  {'clf__C': 1, 'clf__class_weight': {0: 2.40817843866171, 1: 0.5618386816999132, 2: 0.4845175766641735, 3: 1.6195, 4: 2.904932735426009, 5: 1.7895027624309392, 6: 0.6246865959498553, 7: 0.5932234432234432, 8: 2.024375, 9: 2.2729824561403507}, 'clf__max_iter': 100}\n"
     ]
    }
   ],
   "source": [
    "log_model = Pipeline([(\"tfidf\", TfidfVectorizer()), (\"clf\", LogisticRegression())])\n",
    "\n",
    "parameters = {\n",
    "        \"clf__max_iter\": [100, 200],\n",
    "        \"clf__C\": [3, 1, 0.5, 0.3, 0.1],\n",
    "        \"clf__class_weight\": [class_weights_dict]\n",
    "}\n",
    "\n",
    "log_gs = GridSearchCV(log_model, parameters, cv=5, scoring='balanced_accuracy', refit=True)\n",
    "\n",
    "log_gs.fit(X_train, y_train)\n",
    "\n",
    "print(\"Mejor score: \", log_gs.best_score_)\n",
    "print(\"Mejor configuración de parámetros: \", log_gs.best_params_)"
   ]
  },
  {
   "cell_type": "markdown",
   "id": "d80474cc-01d4-4dc0-88de-c892a95be368",
   "metadata": {},
   "source": [
    "### Supported Vector Machine"
   ]
  },
  {
   "cell_type": "code",
   "execution_count": 50,
   "id": "07e0d0cc-bfb8-495a-9ae5-c3ffa0d8ffe4",
   "metadata": {
    "tags": []
   },
   "outputs": [
    {
     "name": "stdout",
     "output_type": "stream",
     "text": [
      "Mejor score:  0.6457667297211529\n",
      "Mejor configuración de parámetros:  {'clf__alpha': 0.0001, 'clf__class_weight': {0: 2.40817843866171, 1: 0.5618386816999132, 2: 0.4845175766641735, 3: 1.6195, 4: 2.904932735426009, 5: 1.7895027624309392, 6: 0.6246865959498553, 7: 0.5932234432234432, 8: 2.024375, 9: 2.2729824561403507}, 'clf__max_iter': 2000, 'clf__tol': 0.001}\n"
     ]
    }
   ],
   "source": [
    "sgd_model = Pipeline([(\"tfidf\", TfidfVectorizer()), (\"clf\", SGDClassifier())])\n",
    "\n",
    "parameters = {\n",
    "        \"clf__max_iter\": [1000, 2000, 3000],\n",
    "        \"clf__tol\": [1e-3, 1e-4],\n",
    "        \"clf__alpha\": [1e-3, 1e-4, 1e-5],\n",
    "        \"clf__class_weight\": [class_weights_dict]\n",
    "    }\n",
    "\n",
    "sgd_gs = GridSearchCV(sgd_model, parameters, cv=10, scoring='balanced_accuracy', refit=True)\n",
    "\n",
    "sgd_gs.fit(X_train, y_train)\n",
    "\n",
    "print(\"Mejor score: \", sgd_gs.best_score_)\n",
    "print(\"Mejor configuración de parámetros: \", sgd_gs.best_params_)"
   ]
  },
  {
   "cell_type": "markdown",
   "id": "0b138f96",
   "metadata": {},
   "source": [
    "## Estimador"
   ]
  },
  {
   "cell_type": "code",
   "execution_count": 56,
   "id": "34dd1118",
   "metadata": {
    "tags": []
   },
   "outputs": [],
   "source": [
    "model_id = \"tensorflow-tc-bert-en-uncased-L-12-H-768-A-12-2\""
   ]
  },
  {
   "cell_type": "code",
   "execution_count": 58,
   "id": "6c6d3d20-87e8-4746-a393-464f5a18fb03",
   "metadata": {
    "tags": []
   },
   "outputs": [
    {
     "data": {
      "text/markdown": [
       "#### Select a JumpStart pre-trained model from the dropdown below"
      ],
      "text/plain": [
       "<IPython.core.display.Markdown object>"
      ]
     },
     "metadata": {},
     "output_type": "display_data"
    },
    {
     "data": {
      "application/vnd.jupyter.widget-view+json": {
       "model_id": "fc66106e674a4de7ba2dfa8ee09c9a8d",
       "version_major": 2,
       "version_minor": 0
      },
      "text/plain": [
       "Dropdown(description='JumpStart Text Classification Models:', index=24, layout=Layout(width='max-content'), op…"
      ]
     },
     "metadata": {},
     "output_type": "display_data"
    }
   ],
   "source": [
    "import IPython\n",
    "from ipywidgets import Dropdown\n",
    "\n",
    "# download JumpStart model_manifest file.\n",
    "boto3.client(\"s3\").download_file(\n",
    "    f\"jumpstart-cache-prod-{aws_region}\", \"models_manifest.json\", \"models_manifest.json\"\n",
    ")\n",
    "with open(\"models_manifest.json\", \"rb\") as json_file:\n",
    "    model_list = json.load(json_file)\n",
    "\n",
    "# filter-out all the Text Classification models from the manifest list.\n",
    "tc_models_all_versions, tc_models = [\n",
    "    model[\"model_id\"] for model in model_list if \"-tc-\" in model[\"model_id\"]\n",
    "], []\n",
    "[tc_models.append(model) for model in tc_models_all_versions if model not in tc_models]\n",
    "\n",
    "# display the model-ids in a dropdown, for user to select a model.\n",
    "dropdown = Dropdown(\n",
    "    value=model_id,\n",
    "    options=tc_models,\n",
    "    description=\"JumpStart Text Classification Models:\",\n",
    "    style={\"description_width\": \"initial\"},\n",
    "    layout={\"width\": \"max-content\"},\n",
    ")\n",
    "display(IPython.display.Markdown(\"#### Select a JumpStart pre-trained model from the dropdown below\"))\n",
    "display(dropdown)"
   ]
  },
  {
   "cell_type": "code",
   "execution_count": null,
   "id": "1ca659c4-e0bd-4bdf-bf9f-60f24253c277",
   "metadata": {},
   "outputs": [],
   "source": [
    "model_id = \"tensorflow-tc-bert-en-uncased-L-12-H-768-A-12-2\"\n",
    "model_version = \"3.0.0\"\n",
    "\n",
    "# Retrieve the Docker image\n",
    "train_image_uri = image_uris.retrieve(model_id=model_id,model_version=model_version,image_scope=\"training\",instance_type=training_instance_type,region=None,framework=None)\n",
    "\n",
    "# Retrieve the training script\n",
    "train_source_uri = script_uris.retrieve(model_id=model_id, model_version=model_version, script_scope=\"training\")\n",
    "\n",
    "# Retrieve the pretrained model tarball for transfer learning\n",
    "train_model_uri = model_uris.retrieve(model_id=model_id, model_version=model_version, model_scope=\"training\")"
   ]
  },
  {
   "cell_type": "code",
   "execution_count": 74,
   "id": "28a37808-4363-4456-bd95-a2e17d9ef443",
   "metadata": {
    "tags": []
   },
   "outputs": [
    {
     "name": "stderr",
     "output_type": "stream",
     "text": [
      "No instance type selected for training job. Defaulting to ml.p3.2xlarge.\n",
      "INFO:sagemaker.jumpstart:No instance type selected for training job. Defaulting to ml.p3.2xlarge.\n"
     ]
    }
   ],
   "source": [
    "from sagemaker.jumpstart.estimator import JumpStartEstimator\n",
    "\n",
    "s3_output_model_path = \"s3://recipes-data-models-sagemaker-bucket/model/jumpstart/output\"\n",
    "s3_training_dataset_path = \"s3://recipes-data-models-sagemaker-bucket/data/jumpstart/\"\n",
    "\n",
    "estimator = JumpStartEstimator(\n",
    "    model_id=model_id,\n",
    "    model_version='3.0.0',\n",
    "    #image_uri=train_image_uri,\n",
    "    #source_dir=train_source_uri,\n",
    "    #model_uri=train_model_uri,\n",
    "    #instance_type='ml.g4dn.xlarge', #ml.p3.2xlarge\n",
    "    instance_count=1,\n",
    "    role=role,\n",
    "    base_job_name=\"tensorflow-bert\",\n",
    "    hyperparameters={\"epochs\": \"1\", \"batch_size\": \"64\"},\n",
    "    output_path=s3_output_model_path\n",
    ")"
   ]
  },
  {
   "cell_type": "code",
   "execution_count": null,
   "id": "44fc0c20-c232-4878-a362-0ef6623ee3df",
   "metadata": {
    "tags": []
   },
   "outputs": [
    {
     "name": "stderr",
     "output_type": "stream",
     "text": [
      "INFO:sagemaker:Creating training-job with name: tf-tc-bert-en-uncased-l-12-h-768-a-12-2-2024-06-30-19-34-54-781\n"
     ]
    },
    {
     "name": "stdout",
     "output_type": "stream",
     "text": [
      "2024-06-30 19:34:54 Starting - Starting the training job...\n",
      "2024-06-30 19:35:25 Pending - Preparing the instances for training......\n",
      "2024-06-30 19:36:20 Downloading - Downloading the training image.............\n",
      "2024-06-30 19:42:55 Uploading - Uploading generated training model\n",
      "2024-06-30 19:42:55 Completed - Training job completed\n",
      "Training seconds: 414\n",
      "Billable seconds: 414\n"
     ]
    }
   ],
   "source": [
    "estimator.fit({\"training\": s3_training_dataset_path}, logs=True) # Note that the file should not have any header."
   ]
  },
  {
   "cell_type": "code",
   "execution_count": null,
   "id": "307d1a22-c7b1-40a0-941e-008b506f0695",
   "metadata": {},
   "outputs": [],
   "source": []
  }
 ],
 "metadata": {
  "kernelspec": {
   "display_name": "conda_python3",
   "language": "python",
   "name": "conda_python3"
  },
  "language_info": {
   "codemirror_mode": {
    "name": "ipython",
    "version": 3
   },
   "file_extension": ".py",
   "mimetype": "text/x-python",
   "name": "python",
   "nbconvert_exporter": "python",
   "pygments_lexer": "ipython3",
   "version": "3.10.14"
  }
 },
 "nbformat": 4,
 "nbformat_minor": 5
}
