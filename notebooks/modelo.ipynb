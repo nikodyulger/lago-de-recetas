{
 "cells": [
  {
   "cell_type": "code",
   "execution_count": 1,
   "id": "53c52811-f6d1-4a69-8ede-a42d2431f341",
   "metadata": {
    "tags": []
   },
   "outputs": [],
   "source": [
    "import awswrangler as wr\n",
    "import pandas as pd\n",
    "import numpy as np\n",
    "import joblib\n",
    "import tempfile\n",
    "import boto3\n",
    "import json\n",
    "import tarfile\n",
    "\n",
    "from sklearn.metrics import balanced_accuracy_score\n",
    "from sklearn.model_selection import train_test_split, GridSearchCV\n",
    "from sklearn.preprocessing import LabelEncoder\n",
    "from sklearn.pipeline import Pipeline\n",
    "from sklearn.feature_extraction.text import TfidfVectorizer\n",
    "from sklearn.naive_bayes import MultinomialNB\n",
    "from sklearn.linear_model import SGDClassifier, LogisticRegression\n",
    "from sklearn.utils.class_weight import compute_class_weight"
   ]
  },
  {
   "cell_type": "code",
   "execution_count": 17,
   "id": "738efed6",
   "metadata": {
    "tags": []
   },
   "outputs": [],
   "source": [
    "import sagemaker\n",
    "from sagemaker import get_execution_role\n",
    "from sagemaker.sklearn.estimator import SKLearn\n",
    "\n",
    "bucket = \"recipes-data-models-sagemaker-bucket\"\n",
    "sagemaker_session = sagemaker.Session(default_bucket = bucket)\n",
    "role = get_execution_role() #'sagemaker_execution_role'\n",
    "aws_region = sagemaker_session.boto_session.region_name"
   ]
  },
  {
   "cell_type": "code",
   "execution_count": 2,
   "id": "2a6d47f7",
   "metadata": {
    "tags": []
   },
   "outputs": [],
   "source": [
    "seed = 42"
   ]
  },
  {
   "cell_type": "markdown",
   "id": "e3fa3b95-02cd-4cfa-893c-ce54fb3cf2e3",
   "metadata": {},
   "source": [
    "## Carga de datos"
   ]
  },
  {
   "cell_type": "code",
   "execution_count": 3,
   "id": "7b276598-5bb0-43a5-9dcd-90ad08e6ccc3",
   "metadata": {
    "tags": []
   },
   "outputs": [
    {
     "data": {
      "text/html": [
       "<div>\n",
       "<style scoped>\n",
       "    .dataframe tbody tr th:only-of-type {\n",
       "        vertical-align: middle;\n",
       "    }\n",
       "\n",
       "    .dataframe tbody tr th {\n",
       "        vertical-align: top;\n",
       "    }\n",
       "\n",
       "    .dataframe thead th {\n",
       "        text-align: right;\n",
       "    }\n",
       "</style>\n",
       "<table border=\"1\" class=\"dataframe\">\n",
       "  <thead>\n",
       "    <tr style=\"text-align: right;\">\n",
       "      <th></th>\n",
       "      <th>titulo</th>\n",
       "      <th>categoria</th>\n",
       "      <th>ingredientes</th>\n",
       "      <th>elaboracion</th>\n",
       "      <th>link</th>\n",
       "      <th>total_ingredientes</th>\n",
       "      <th>titulo_link</th>\n",
       "      <th>ingredientes_limpios</th>\n",
       "    </tr>\n",
       "  </thead>\n",
       "  <tbody>\n",
       "    <tr>\n",
       "      <th>0</th>\n",
       "      <td>Buñuelos de viento fáciles, la receta tradicio...</td>\n",
       "      <td>postres</td>\n",
       "      <td>['125 gr de harina' '30 gr de mantequilla' '1/...</td>\n",
       "      <td>Otoño no es solo época de calabazas y castañas...</td>\n",
       "      <td>https://www.hogarmania.com//cocina/recetas/pos...</td>\n",
       "      <td>9.0</td>\n",
       "      <td>bunuelos</td>\n",
       "      <td>harina mantequilla agua azúcar huevos limón sa...</td>\n",
       "    </tr>\n",
       "    <tr>\n",
       "      <th>1</th>\n",
       "      <td>Corona de hojaldre de Navidad</td>\n",
       "      <td>postres</td>\n",
       "      <td>['2 láminas de hojaldre rectangular ' '150 g d...</td>\n",
       "      <td>Los polvorones, los turrones, los mazapanes o ...</td>\n",
       "      <td>https://www.hogarmania.com//cocina/recetas/pos...</td>\n",
       "      <td>7.0</td>\n",
       "      <td>corona navidad</td>\n",
       "      <td>láminas hojaldre chocolate negro mantequilla g...</td>\n",
       "    </tr>\n",
       "    <tr>\n",
       "      <th>2</th>\n",
       "      <td>Cafés de Navidad: Gingerbread Latte y Pumpkin ...</td>\n",
       "      <td>postres</td>\n",
       "      <td>['2 cucharadas de azúcar moreno suave'\\n '1/2 ...</td>\n",
       "      <td>La temporada de invierno, junto a la época nav...</td>\n",
       "      <td>https://www.hogarmania.com//cocina/recetas/pos...</td>\n",
       "      <td>8.0</td>\n",
       "      <td>cafes navidad gingerbread pumpkin spice latte</td>\n",
       "      <td>azúcar moreno suave jengibre molido nuez mosca...</td>\n",
       "    </tr>\n",
       "    <tr>\n",
       "      <th>3</th>\n",
       "      <td>Mazapanes de Navidad</td>\n",
       "      <td>postres</td>\n",
       "      <td>['300 gr. de almendra molida ' '370 gr. de lec...</td>\n",
       "      <td>Mezcla en un bol la almendra molida con la lec...</td>\n",
       "      <td>https://www.hogarmania.com//cocina/recetas/pos...</td>\n",
       "      <td>7.0</td>\n",
       "      <td>mazapanes navidad</td>\n",
       "      <td>almendra molida leche condensada limón agua ac...</td>\n",
       "    </tr>\n",
       "    <tr>\n",
       "      <th>4</th>\n",
       "      <td>Churros en freidora de aire, ¡más fácil imposi...</td>\n",
       "      <td>postres</td>\n",
       "      <td>['Churros congelados' 'Aceite de oliva o giras...</td>\n",
       "      <td>Comienza por precalentar la freidora de aire. ...</td>\n",
       "      <td>https://www.hogarmania.com//cocina/recetas/pos...</td>\n",
       "      <td>3.0</td>\n",
       "      <td>churros freidora aire</td>\n",
       "      <td>churros congelados aceite oliva girasol azúcar</td>\n",
       "    </tr>\n",
       "  </tbody>\n",
       "</table>\n",
       "</div>"
      ],
      "text/plain": [
       "                                              titulo categoria  \\\n",
       "0  Buñuelos de viento fáciles, la receta tradicio...   postres   \n",
       "1                      Corona de hojaldre de Navidad   postres   \n",
       "2  Cafés de Navidad: Gingerbread Latte y Pumpkin ...   postres   \n",
       "3                               Mazapanes de Navidad   postres   \n",
       "4  Churros en freidora de aire, ¡más fácil imposi...   postres   \n",
       "\n",
       "                                        ingredientes  \\\n",
       "0  ['125 gr de harina' '30 gr de mantequilla' '1/...   \n",
       "1  ['2 láminas de hojaldre rectangular ' '150 g d...   \n",
       "2  ['2 cucharadas de azúcar moreno suave'\\n '1/2 ...   \n",
       "3  ['300 gr. de almendra molida ' '370 gr. de lec...   \n",
       "4  ['Churros congelados' 'Aceite de oliva o giras...   \n",
       "\n",
       "                                         elaboracion  \\\n",
       "0  Otoño no es solo época de calabazas y castañas...   \n",
       "1  Los polvorones, los turrones, los mazapanes o ...   \n",
       "2  La temporada de invierno, junto a la época nav...   \n",
       "3  Mezcla en un bol la almendra molida con la lec...   \n",
       "4  Comienza por precalentar la freidora de aire. ...   \n",
       "\n",
       "                                                link  total_ingredientes  \\\n",
       "0  https://www.hogarmania.com//cocina/recetas/pos...                 9.0   \n",
       "1  https://www.hogarmania.com//cocina/recetas/pos...                 7.0   \n",
       "2  https://www.hogarmania.com//cocina/recetas/pos...                 8.0   \n",
       "3  https://www.hogarmania.com//cocina/recetas/pos...                 7.0   \n",
       "4  https://www.hogarmania.com//cocina/recetas/pos...                 3.0   \n",
       "\n",
       "                                     titulo_link  \\\n",
       "0                                       bunuelos   \n",
       "1                                 corona navidad   \n",
       "2  cafes navidad gingerbread pumpkin spice latte   \n",
       "3                              mazapanes navidad   \n",
       "4                          churros freidora aire   \n",
       "\n",
       "                                ingredientes_limpios  \n",
       "0  harina mantequilla agua azúcar huevos limón sa...  \n",
       "1  láminas hojaldre chocolate negro mantequilla g...  \n",
       "2  azúcar moreno suave jengibre molido nuez mosca...  \n",
       "3  almendra molida leche condensada limón agua ac...  \n",
       "4     churros congelados aceite oliva girasol azúcar  "
      ]
     },
     "execution_count": 3,
     "metadata": {},
     "output_type": "execute_result"
    }
   ],
   "source": [
    "df_recipe_data = wr.s3.read_csv(path=\"s3://recipes-data-models-sagemaker-bucket/data/cleaned_recipes.csv\")\n",
    "df_recipe_data.head(5)"
   ]
  },
  {
   "cell_type": "markdown",
   "id": "db08e6ac",
   "metadata": {},
   "source": [
    "## Preprocesamiento de datos"
   ]
  },
  {
   "cell_type": "code",
   "execution_count": 4,
   "id": "b2bada96",
   "metadata": {
    "tags": []
   },
   "outputs": [],
   "source": [
    "label_encoder = LabelEncoder()\n",
    "df_recipe_data['encoded_categoria'] = label_encoder.fit_transform(df_recipe_data['categoria'])"
   ]
  },
  {
   "cell_type": "code",
   "execution_count": 5,
   "id": "785b6c8f",
   "metadata": {
    "tags": []
   },
   "outputs": [
    {
     "data": {
      "text/plain": [
       "{'arroces': 0,\n",
       " 'carnes': 1,\n",
       " 'ensaladas': 2,\n",
       " 'entrantes': 3,\n",
       " 'huevos': 4,\n",
       " 'pastas-pizzas': 5,\n",
       " 'pescados-mariscos': 6,\n",
       " 'postres': 7,\n",
       " 'segundos-platos': 8,\n",
       " 'sopas-cremas': 9}"
      ]
     },
     "execution_count": 5,
     "metadata": {},
     "output_type": "execute_result"
    }
   ],
   "source": [
    "dict(zip(label_encoder.classes_, label_encoder.transform(label_encoder.classes_)))"
   ]
  },
  {
   "cell_type": "code",
   "execution_count": 24,
   "id": "0456cf24",
   "metadata": {
    "tags": []
   },
   "outputs": [],
   "source": [
    "s3_client = boto3.client(\"s3\")\n",
    "with tempfile.TemporaryFile() as fp:\n",
    "    joblib.dump(label_encoder, fp)\n",
    "    fp.seek(0)\n",
    "    s3_client.put_object(Body=fp.read(), Bucket=bucket, Key=\"models/label_encoder.joblib\")"
   ]
  },
  {
   "cell_type": "code",
   "execution_count": 25,
   "id": "4799412b",
   "metadata": {
    "tags": []
   },
   "outputs": [],
   "source": [
    "df = df_recipe_data[['encoded_categoria', 'ingredientes_limpios']]\n",
    "train_data, test_data = train_test_split(df, test_size=0.3, shuffle=True, stratify=df['encoded_categoria'], random_state=seed)"
   ]
  },
  {
   "cell_type": "code",
   "execution_count": 26,
   "id": "516ea601-bedc-413b-a714-a610618bfd23",
   "metadata": {
    "tags": []
   },
   "outputs": [],
   "source": [
    "train_data.to_csv(\"train.csv\", index=False)\n",
    "test_data.to_csv(\"test.csv\", index=False)"
   ]
  },
  {
   "cell_type": "code",
   "execution_count": 27,
   "id": "8b17e3e4-b6b6-4242-9203-e1d6b18b5575",
   "metadata": {
    "tags": []
   },
   "outputs": [],
   "source": [
    "train_data_path = sagemaker_session.upload_data(\"train.csv\", key_prefix=\"data\")\n",
    "test_data_path = sagemaker_session.upload_data(\"test.csv\", key_prefix=\"data\")"
   ]
  },
  {
   "cell_type": "markdown",
   "id": "a283271e",
   "metadata": {},
   "source": [
    "## Modelo propio"
   ]
  },
  {
   "cell_type": "code",
   "execution_count": 28,
   "id": "40089d82",
   "metadata": {
    "tags": []
   },
   "outputs": [],
   "source": [
    "X_train, y_train = train_data['ingredientes_limpios'], train_data['encoded_categoria']\n",
    "X_test, y_test = test_data['ingredientes_limpios'], test_data['encoded_categoria']"
   ]
  },
  {
   "cell_type": "code",
   "execution_count": 29,
   "id": "94719c4b",
   "metadata": {
    "tags": []
   },
   "outputs": [
    {
     "data": {
      "text/plain": [
       "{0: 2.40817843866171,\n",
       " 1: 0.5618386816999132,\n",
       " 2: 0.4845175766641735,\n",
       " 3: 1.6195,\n",
       " 4: 2.904932735426009,\n",
       " 5: 1.7895027624309392,\n",
       " 6: 0.6246865959498553,\n",
       " 7: 0.5932234432234432,\n",
       " 8: 2.024375,\n",
       " 9: 2.2729824561403507}"
      ]
     },
     "execution_count": 29,
     "metadata": {},
     "output_type": "execute_result"
    }
   ],
   "source": [
    "class_weights = compute_class_weight(class_weight=\"balanced\", classes=np.unique(y_train), y=y_train)\n",
    "class_weights_dict = dict(zip(np.unique(y_train), class_weights))\n",
    "class_weights_dict"
   ]
  },
  {
   "cell_type": "markdown",
   "id": "e4321a3f-43b7-4d10-a88e-1f60a2103ff7",
   "metadata": {},
   "source": [
    "### Naive Bayes"
   ]
  },
  {
   "cell_type": "code",
   "execution_count": 30,
   "id": "bcf62bcd-8c68-4b68-8f1c-9d0cf5842bde",
   "metadata": {
    "tags": []
   },
   "outputs": [
    {
     "name": "stdout",
     "output_type": "stream",
     "text": [
      "Mejor score:  0.5133797838594976\n",
      "Mejor configuración de parámetros:  {'clf__alpha': 0.01}\n"
     ]
    }
   ],
   "source": [
    "nb_model = Pipeline([(\"tfidf\", TfidfVectorizer()), (\"clf\", MultinomialNB())])\n",
    "\n",
    "parameters = {\n",
    "    \"clf__alpha\": [0.1, 1e-2, 1e-3, 1e-5]\n",
    "}\n",
    "nb_gs = GridSearchCV(nb_model, parameters, cv=5, scoring='balanced_accuracy', refit=True)\n",
    "\n",
    "nb_gs.fit(X_train, y_train)\n",
    "\n",
    "print(\"Mejor score: \", nb_gs.best_score_)\n",
    "print(\"Mejor configuración de parámetros: \", nb_gs.best_params_)"
   ]
  },
  {
   "cell_type": "markdown",
   "id": "5e225ff2-c0e6-46d0-bd87-e7fd26ce3fd6",
   "metadata": {},
   "source": [
    "### Logistic Regression"
   ]
  },
  {
   "cell_type": "code",
   "execution_count": 31,
   "id": "19750015-0bf7-42a7-b381-17b35a0a48b9",
   "metadata": {
    "tags": []
   },
   "outputs": [
    {
     "name": "stdout",
     "output_type": "stream",
     "text": [
      "Mejor score:  0.6480098242418407\n",
      "Mejor configuración de parámetros:  {'clf__C': 1, 'clf__class_weight': {0: 2.40817843866171, 1: 0.5618386816999132, 2: 0.4845175766641735, 3: 1.6195, 4: 2.904932735426009, 5: 1.7895027624309392, 6: 0.6246865959498553, 7: 0.5932234432234432, 8: 2.024375, 9: 2.2729824561403507}, 'clf__max_iter': 100}\n"
     ]
    }
   ],
   "source": [
    "log_model = Pipeline([(\"tfidf\", TfidfVectorizer()), (\"clf\", LogisticRegression())])\n",
    "\n",
    "parameters = {\n",
    "        \"clf__max_iter\": [100, 200],\n",
    "        \"clf__C\": [3, 1, 0.5, 0.3, 0.1],\n",
    "        \"clf__class_weight\": [class_weights_dict]\n",
    "}\n",
    "\n",
    "log_gs = GridSearchCV(log_model, parameters, cv=5, scoring='balanced_accuracy', refit=True)\n",
    "\n",
    "log_gs.fit(X_train, y_train)\n",
    "\n",
    "print(\"Mejor score: \", log_gs.best_score_)\n",
    "print(\"Mejor configuración de parámetros: \", log_gs.best_params_)"
   ]
  },
  {
   "cell_type": "markdown",
   "id": "5213a8c9-d8f0-41b2-8304-48c99d0e5f27",
   "metadata": {},
   "source": [
    "### Support Vector Machine"
   ]
  },
  {
   "cell_type": "code",
   "execution_count": 32,
   "id": "07e0d0cc-bfb8-495a-9ae5-c3ffa0d8ffe4",
   "metadata": {
    "tags": []
   },
   "outputs": [
    {
     "name": "stdout",
     "output_type": "stream",
     "text": [
      "Mejor score:  0.639340583963979\n",
      "Mejor configuración de parámetros:  {'clf__alpha': 0.0001, 'clf__class_weight': {0: 2.40817843866171, 1: 0.5618386816999132, 2: 0.4845175766641735, 3: 1.6195, 4: 2.904932735426009, 5: 1.7895027624309392, 6: 0.6246865959498553, 7: 0.5932234432234432, 8: 2.024375, 9: 2.2729824561403507}, 'clf__max_iter': 2000, 'clf__tol': 0.001}\n"
     ]
    }
   ],
   "source": [
    "sgd_model = Pipeline([(\"tfidf\", TfidfVectorizer()), (\"clf\", SGDClassifier())])\n",
    "\n",
    "parameters = {\n",
    "        \"clf__max_iter\": [1000, 2000],\n",
    "        \"clf__tol\": [1e-3, 1e-4],\n",
    "        \"clf__alpha\": [1e-3, 1e-4, 1e-5],\n",
    "        \"clf__class_weight\": [class_weights_dict]\n",
    "    }\n",
    "\n",
    "sgd_gs = GridSearchCV(sgd_model, parameters, cv=5, scoring='balanced_accuracy', refit=True)\n",
    "\n",
    "sgd_gs.fit(X_train, y_train)\n",
    "\n",
    "print(\"Mejor score: \", sgd_gs.best_score_)\n",
    "print(\"Mejor configuración de parámetros: \", sgd_gs.best_params_)"
   ]
  },
  {
   "cell_type": "markdown",
   "id": "8deffca5-68d7-470c-8304-eca7c6ace4c2",
   "metadata": {},
   "source": [
    "## Evaluación y almacenamiento"
   ]
  },
  {
   "cell_type": "code",
   "execution_count": 34,
   "id": "f792909f-5b79-4b40-9717-c834a186039d",
   "metadata": {
    "tags": []
   },
   "outputs": [
    {
     "data": {
      "text/plain": [
       "0.6664616104995379"
      ]
     },
     "execution_count": 34,
     "metadata": {},
     "output_type": "execute_result"
    }
   ],
   "source": [
    "y_test_pred = log_gs.predict(X_test)\n",
    "balanced_accuracy_score(y_test, y_test_pred)"
   ]
  },
  {
   "cell_type": "code",
   "execution_count": 79,
   "id": "30f6303f-1814-49ec-a187-53ffabfdca0d",
   "metadata": {
    "tags": []
   },
   "outputs": [],
   "source": [
    "model_filename = \"models/model.joblib\"\n",
    "encoder_filename = \"models/label_encoder.joblib\"\n",
    "tar_filename = \"models/model.tar.gz\"\n",
    "\n",
    "joblib.dump(log_gs, model_filename)\n",
    "joblib.dump(label_encoder, encoder_filename)\n",
    "\n",
    "with tarfile.open(tar_filename, 'w:gz') as tar:\n",
    "    tar.add(model_filename, arcname=model_filename)\n",
    "    tar.add(encoder_filename, arcname=encoder_filename)"
   ]
  },
  {
   "cell_type": "code",
   "execution_count": null,
   "id": "c8f51bdc-c5f0-48bb-a114-62774945b4ca",
   "metadata": {},
   "outputs": [],
   "source": [
    "#!tar -czf model.tar.gz model.joblib label_encoder.joblib"
   ]
  },
  {
   "cell_type": "code",
   "execution_count": 78,
   "id": "a1e15d6e-7e37-4443-8177-119d15ac8e12",
   "metadata": {
    "tags": []
   },
   "outputs": [
    {
     "data": {
      "text/plain": [
       "'s3://recipes-data-models-sagemaker-bucket/models/model.tar.gz'"
      ]
     },
     "execution_count": 78,
     "metadata": {},
     "output_type": "execute_result"
    }
   ],
   "source": [
    "sagemaker_session.upload_data(\"models/model.joblib\", key_prefix=\"models\")\n",
    "sagemaker_session.upload_data(\"models/model.tar.gz\", key_prefix=\"models\")"
   ]
  },
  {
   "cell_type": "markdown",
   "id": "0b138f96",
   "metadata": {},
   "source": [
    "## Endpoint"
   ]
  },
  {
   "cell_type": "code",
   "execution_count": 13,
   "id": "eb261690-a360-4ead-a813-8941498b8ac0",
   "metadata": {
    "tags": []
   },
   "outputs": [],
   "source": [
    "import boto3\n",
    "import json\n",
    "runtime = boto3.client(service_name=\"sagemaker-runtime\")\n",
    "\n",
    "payload = {\n",
    "    \"ingredientes\": 'tomate pepino aceituna'\n",
    "}\n",
    "response = runtime.invoke_endpoint(\n",
    "    EndpointName=\"custom-model-endpoint\",\n",
    "    Body=json.dumps(payload),\n",
    "    ContentType=\"application/json\",\n",
    ")"
   ]
  },
  {
   "cell_type": "code",
   "execution_count": 14,
   "id": "ba814e53-9246-4b8b-b49c-da0338b93f9e",
   "metadata": {
    "tags": []
   },
   "outputs": [
    {
     "data": {
      "text/plain": [
       "{'predictions': [2]}"
      ]
     },
     "execution_count": 14,
     "metadata": {},
     "output_type": "execute_result"
    }
   ],
   "source": [
    "json.loads(response.get(\"Body\").next().decode())"
   ]
  }
 ],
 "metadata": {
  "kernelspec": {
   "display_name": ".venv",
   "language": "python",
   "name": "python3"
  },
  "language_info": {
   "codemirror_mode": {
    "name": "ipython",
    "version": 3
   },
   "file_extension": ".py",
   "mimetype": "text/x-python",
   "name": "python",
   "nbconvert_exporter": "python",
   "pygments_lexer": "ipython3",
   "version": "3.12.3"
  }
 },
 "nbformat": 4,
 "nbformat_minor": 5
}
